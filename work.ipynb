{
 "cells": [
  {
   "cell_type": "code",
   "execution_count": 2,
   "metadata": {},
   "outputs": [],
   "source": [
    "from LyndonWords import *\n",
    "import itertools\n",
    "C6s = [genTypeCAffine(i,6) for i in itertools.permutations([0,1,2,3,4,5,6])]"
   ]
  },
  {
   "cell_type": "code",
   "execution_count": null,
   "metadata": {},
   "outputs": [],
   "source": [
    "for C6 in C6s:\n",
    "    deltaWords = C6.getWords(C6.delta)\n",
    "    monotoneIncreasing = [i[0] for i in C6.checkMonotonicity(\"Increasing\")]\n",
    "    for i in monotoneIncreasing:\n",
    "        flag = False\n",
    "        for j in deltaWords:\n",
    "            if(str(i).startswith(str(j))):\n",
    "                flag = True\n",
    "                break\n",
    "        if(flag):\n",
    "            continue\n",
    "        print(str(i))"
   ]
  }
 ],
 "metadata": {
  "kernelspec": {
   "display_name": "Python 3",
   "language": "python",
   "name": "python3"
  },
  "language_info": {
   "codemirror_mode": {
    "name": "ipython",
    "version": 3
   },
   "file_extension": ".py",
   "mimetype": "text/x-python",
   "name": "python",
   "nbconvert_exporter": "python",
   "pygments_lexer": "ipython3",
   "version": "3.11.0"
  }
 },
 "nbformat": 4,
 "nbformat_minor": 2
}
