{
 "cells": [
  {
   "cell_type": "markdown",
   "metadata": {},
   "source": [
    "## Functions"
   ]
  },
  {
   "cell_type": "code",
   "execution_count": 1,
   "metadata": {},
   "outputs": [],
   "source": [
    "import LyndonWords\n",
    "import importlib\n",
    "import AnalysisFuncs\n",
    "importlib.reload(LyndonWords)\n",
    "importlib.reload(AnalysisFuncs)\n",
    "from AnalysisFuncs import *\n",
    "from LyndonWords import *\n",
    "import itertools\n",
    "from functools import partial\n",
    "import multiprocessing as mp\n",
    "from tqdm.notebook import tqdm\n",
    "import math\n",
    "import numpy as np\n",
    "def gen_permutations(type,n,start=[],end=[]):\n",
    "    potential = list(range(n+1))\n",
    "    for i in start:\n",
    "        potential.remove(i)\n",
    "    for i in end:\n",
    "        potential.remove(i)\n",
    "    for perm in itertools.permutations(np.array(potential)):\n",
    "        yield rootSystem(start + list(perm) + end,type)"
   ]
  },
  {
   "cell_type": "markdown",
   "metadata": {},
   "source": [
    "### Printing and Exporting"
   ]
  },
  {
   "cell_type": "code",
   "execution_count": 2,
   "metadata": {},
   "outputs": [],
   "source": [
    "def print_by_length(rootSystem:rootSystem):\n",
    "    len = 0\n",
    "    for k in range(rootSystem.k + 1):\n",
    "        for i in rootSystem.baseWeights:\n",
    "            comb = i + rootSystem.delta * k\n",
    "            if(sum(comb) != len):\n",
    "                len = sum(comb)\n",
    "                print(len)\n",
    "            for i in rootSystem.SL(comb):\n",
    "                print(\" \"+str(i))"
   ]
  },
  {
   "cell_type": "code",
   "execution_count": 3,
   "metadata": {},
   "outputs": [],
   "source": [
    "def print_by_base_word(rootSystem:rootSystem,comb):\n",
    "    k=0\n",
    "    is_imaginary = rootSystem.is_imaginary(comb)\n",
    "    for i in rootSystem.get_chain(comb):\n",
    "        if(is_imaginary and k % rootSystem.n == 0):\n",
    "            print(k //rootSystem.n)\n",
    "        if(not is_imaginary):\n",
    "            print(k)\n",
    "        print(\" \" + str(i))\n",
    "        k+=1"
   ]
  },
  {
   "cell_type": "code",
   "execution_count": 4,
   "metadata": {},
   "outputs": [],
   "source": [
    "def export_by_length(rootsys:rootSystem,quoteMarks=False):\n",
    "    file = open(\"out.txt\",'w')\n",
    "    file.write(str(rootsys.ordering)+\"\\n\")\n",
    "    for k in range(rootsys.k + 1):\n",
    "        for i in rootsys.baseWeights:\n",
    "            comb = i + rootsys.delta * k\n",
    "            for i in rootsys.SL(comb):\n",
    "                if(quoteMarks):\n",
    "                    file.write(f\"'{str(i)}',\")\n",
    "                else:\n",
    "                    file.write(str(i) + '\\n')\n",
    "    file.close()"
   ]
  },
  {
   "cell_type": "markdown",
   "metadata": {},
   "source": [
    "### Delta Pattern Detection"
   ]
  },
  {
   "cell_type": "code",
   "execution_count": 5,
   "metadata": {},
   "outputs": [],
   "source": [
    "def write_delta_types_to_file(rootSystems,file=\"out.txt\",total=0,notOnlyAllStandard=True,k=2):\n",
    "    fileobj = open(file,'w')\n",
    "    fileobj.write(\"imaginary index, splitting type, inserted imaginary index, left standard, right standard, rotation index,bracketing\\n\")\n",
    "    deltaTypesCol:deltaTypesCollection\n",
    "    first:rootSystem\n",
    "    if(total == 0):\n",
    "        first = next(rootSystems)\n",
    "        total = math.factorial(first.n+1)-1\n",
    "        deltaTypesCol = generate_delta_types(first)\n",
    "        if(notOnlyAllStandard):\n",
    "            if(deltaTypesCol.not_all_standard()):\n",
    "                fileobj.write(deltaTypesCol.to_csv())\n",
    "    with mp.Pool() as p:\n",
    "        for deltaTypesCol in tqdm(p.imap_unordered(generate_delta_types,rootSystems,k),total=total):\n",
    "            if(notOnlyAllStandard):\n",
    "                if(not deltaTypesCol.not_all_standard()):\n",
    "                    continue\n",
    "            fileobj.write(deltaTypesCol.to_csv())\n",
    "    fileobj.close()"
   ]
  },
  {
   "cell_type": "code",
   "execution_count": 6,
   "metadata": {},
   "outputs": [],
   "source": [
    "def check_standard_fac_same_parrallel(rootSystems,total=0,k=2):\n",
    "    results = []\n",
    "    if(total == 0):\n",
    "        first = next(rootSystems)\n",
    "        total = math.factorial(first.n+1)-1\n",
    "        result = check_standard_fac_same(first)\n",
    "        if(result != True):\n",
    "            yield result\n",
    "    with mp.Pool() as p:\n",
    "        for result in tqdm(p.imap_unordered(partial(check_standard_fac_same,k=k),rootSystems,chunksize=5),total=total):\n",
    "            if(result != True):\n",
    "                yield result\n",
    "    return results"
   ]
  },
  {
   "cell_type": "markdown",
   "metadata": {},
   "source": [
    "### Imaginary Words Stuff"
   ]
  },
  {
   "cell_type": "code",
   "execution_count": 7,
   "metadata": {},
   "outputs": [],
   "source": [
    "def check_h_deltas_repeat(perms):\n",
    "    excepts = []\n",
    "    i:rootSystem\n",
    "    for i in perms:\n",
    "        hs = [j.hs for j in i.get_chain(i.delta)]\n",
    "        bases = hs[i.n:2*i.n]\n",
    "        for offset in range(0,i.n):\n",
    "            for k in range(2,len(hs)//i.n):\n",
    "                if(np.any(bases[offset] != hs[offset + k*i.n])):\n",
    "                    excepts.append((str(i.ordering),f\"SL_{offset+1}({k}\\delta)\"))\n",
    "    return excepts"
   ]
  },
  {
   "cell_type": "code",
   "execution_count": 8,
   "metadata": {},
   "outputs": [],
   "source": [
    "def check_one_smallest_last(perms):\n",
    "    rootsys:rootSystem\n",
    "    for rootsys in perms:\n",
    "        if(rootsys.delta[rootsys.ordering[0].rootIndex] == 1):\n",
    "            if(rootsys.SL(rootsys.delta)[0][-1].rootIndex != rootsys.ordering[1].rootIndex):\n",
    "                yield (str(rootsys.ordering),rootsys.SL(rootsys.delta)[0].noCommas(),rootsys.ordering[1].rootIndex)"
   ]
  },
  {
   "cell_type": "markdown",
   "metadata": {},
   "source": [
    "### Rootsystem equivalences"
   ]
  },
  {
   "cell_type": "code",
   "execution_count": 9,
   "metadata": {},
   "outputs": [],
   "source": [
    "def compare_rootsystems(r1,r2):\n",
    "    words = list(r1.weightToWordDictionary.values())\n",
    "    for i in words:\n",
    "        for j in range(len(i)):\n",
    "            if(str(i[j]) != str(r2.SL(i[j].weights)[j])):\n",
    "                yield (i[j].weights,str(i[j]),str(r2.SL(i[j].weights)[j]))"
   ]
  },
  {
   "cell_type": "code",
   "execution_count": 10,
   "metadata": {},
   "outputs": [],
   "source": [
    "def generate_equivalences(permutations):\n",
    "    equivalences = np.arange(len(permutations))\n",
    "    for i in range(len(permutations)):\n",
    "        for j in range(0,i):\n",
    "            if(equivalences[j] != j):\n",
    "                continue\n",
    "            flag = False\n",
    "            for k in compare_rootsystems(permutations[i],permutations[j]):\n",
    "                flag =True\n",
    "                break\n",
    "            if(not flag):\n",
    "                yield (permutations[i].ordering,permutations[j].ordering)"
   ]
  },
  {
   "cell_type": "markdown",
   "metadata": {},
   "source": [
    "### Periodicity"
   ]
  },
  {
   "cell_type": "code",
   "execution_count": 11,
   "metadata": {},
   "outputs": [],
   "source": [
    "def get_max_periodicity(rootSystems,total=0):\n",
    "    max = 0\n",
    "    maxOrdering = \"\"\n",
    "    maxRoot = []\n",
    "    with mp.Pool() as p:\n",
    "        for result in tqdm(p.imap_unordered(max_periodicity_rootSystem,rootSystems),total=total):\n",
    "            if(result.periodicity > max):\n",
    "                max = result.periodicity\n",
    "                maxOrdering = result.ordering\n",
    "                maxRoot= result.maxRoot\n",
    "    return (max,maxOrdering,maxRoot)"
   ]
  },
  {
   "cell_type": "code",
   "execution_count": 12,
   "metadata": {},
   "outputs": [],
   "source": [
    "def verify_periodicity_perms(perms,total=1):\n",
    "    with mp.Pool() as p:\n",
    "        for result in tqdm(p.imap_unordered(verify_periodicity,perms),total=total):\n",
    "            if not result:\n",
    "                print(\"Exception\")"
   ]
  },
  {
   "cell_type": "code",
   "execution_count": 13,
   "metadata": {},
   "outputs": [],
   "source": [
    "def check_basic_periodicity_perms(perms,total,k=1):\n",
    "    with mp.Pool() as p:\n",
    "        for result in tqdm(p.imap_unordered(partial(check_basic_periodicity,k=k),perms),total=total):\n",
    "            if(result is not None):\n",
    "                yield result"
   ]
  },
  {
   "cell_type": "markdown",
   "metadata": {},
   "source": [
    "### Convexity"
   ]
  },
  {
   "cell_type": "code",
   "execution_count": 14,
   "metadata": {},
   "outputs": [],
   "source": [
    "def check_convexity_perms(perms,total=0,k=5,word_convexity=False):\n",
    "    with mp.Pool() as p:\n",
    "        for result in tqdm(p.imap_unordered(partial(convexity_from_perm,k=k,word_convexity=word_convexity),perms),total=total):\n",
    "            if(result is not None):\n",
    "                yield result"
   ]
  },
  {
   "cell_type": "code",
   "execution_count": 15,
   "metadata": {},
   "outputs": [],
   "source": [
    "def check_min_right_factor_gamma_im(rootsys:rootSystem,n=5):\n",
    "    for delta_val in range(n):\n",
    "        for base_weight in rootsys.baseWeights[:-1]:\n",
    "            if(delta_val == 0 and sum(base_weight) == 1):\n",
    "                continue\n",
    "            w = rootsys.SL(base_weight + rootsys.delta * delta_val)[0]\n",
    "            rightstand = rootsys.standfac(w)[1]\n",
    "            min_right = rootsys.get_min_right_factor(w.weights)\n",
    "            if sum(rightstand.weights - min_right.weights) == 0:\n",
    "                continue\n",
    "            if(rootsys.is_imaginary_height(sum(rightstand.weights - min_right.weights))):\n",
    "                print(f\"{str(rootsys.ordering)}: {base_weight}: {delta_val}: {rightstand.weights}: {min_right.weights}\")"
   ]
  },
  {
   "cell_type": "code",
   "execution_count": 16,
   "metadata": {},
   "outputs": [],
   "source": [
    "def check_equiv_of_ell_on_standard_fac(rootsys:rootSystem):\n",
    "    rootsys.generate_up_to_delta(1)\n",
    "    for w in rootsys.baseWeights[:-1]:\n",
    "        ell = rootsys.max_im_word(w)\n",
    "        standw = rootsys.standfac(ell)[0].weights        \n",
    "        standhs = (standw - (rootsys.delta *standw[0]))\n",
    "        standhs = -standhs[1:]\n",
    "        if(not rootsys.split_e_bracket(standhs,rootsys.SL(w)[0])):\n",
    "            print(f\"Exception: {rootsys.ordering}, {ell.no_commas()}\")"
   ]
  },
  {
   "cell_type": "code",
   "execution_count": 17,
   "metadata": {},
   "outputs": [],
   "source": [
    "def check_intersection_im(rootsys:rootSystem,alpha):\n",
    "    for d in rootsys.get_decompositions(alpha):\n",
    "        if(rootsys.is_imaginary_height(sum(d[0]))\n",
    "           or rootsys.is_imaginary_height(sum(d[1]))):\n",
    "            continue\n",
    "        s1 = rootsys.get_imaginary_convex_set(d[0])\n",
    "        s2 = rootsys.get_imaginary_convex_set(d[1])\n",
    "        flag = False\n",
    "        for s in s1:\n",
    "            for p in s2:\n",
    "                if s ==p:\n",
    "                    flag = True\n",
    "                    break\n",
    "            if(flag):\n",
    "                break\n",
    "        if(not flag):\n",
    "            print(d[0])\n",
    "            print(d[1])\n",
    "            print(*[i.no_commas() for i in s1])\n",
    "            print(*[i.no_commas() for i in s2])"
   ]
  },
  {
   "cell_type": "code",
   "execution_count": 18,
   "metadata": {},
   "outputs": [],
   "source": [
    "def check_chain_bound_by_m(rootsys:rootSystem,weight,k=1):\n",
    "    rootsys.generate_up_to_delta(k)\n",
    "    chain = rootsys.get_chain(weight)\n",
    "    convexset  = rootsys.get_imaginary_convex_set(weight)\n",
    "    minconvex = convexset[-1]\n",
    "    maxconvex = convexset[0]\n",
    "    for i in chain:\n",
    "        if(maxconvex < i):\n",
    "            return True\n",
    "        if minconvex < i:\n",
    "            return False\n",
    "    return True\n",
    "    "
   ]
  },
  {
   "cell_type": "code",
   "execution_count": 19,
   "metadata": {},
   "outputs": [],
   "source": [
    "def check_chain_bound_rootsys(rootsys:rootSystem,genheight=3,k=1):\n",
    "    rootsys.generate_up_to_delta(genheight)\n",
    "    for i in rootsys.baseWeights[:-1]:\n",
    "        if(not check_chain_bound_by_m(rootsys,i,k)):\n",
    "            yield i"
   ]
  },
  {
   "cell_type": "markdown",
   "metadata": {},
   "source": [
    "## Type A"
   ]
  },
  {
   "cell_type": "code",
   "execution_count": 64,
   "metadata": {},
   "outputs": [],
   "source": [
    "n=6\n",
    "Aperms = gen_permutations('A',n)"
   ]
  },
  {
   "cell_type": "code",
   "execution_count": 65,
   "metadata": {},
   "outputs": [
    {
     "data": {
      "application/vnd.jupyter.widget-view+json": {
       "model_id": "edf3cc758a6c4532a3e56eb126fb0601",
       "version_major": 2,
       "version_minor": 0
      },
      "text/plain": [
       "  0%|          | 0/5040 [00:00<?, ?it/s]"
      ]
     },
     "metadata": {},
     "output_type": "display_data"
    }
   ],
   "source": [
    "verify_periodicity_perms(Aperms,math.factorial(n+1))"
   ]
  },
  {
   "cell_type": "code",
   "execution_count": 30,
   "metadata": {},
   "outputs": [
    {
     "data": {
      "application/vnd.jupyter.widget-view+json": {
       "model_id": "2e740c4d8884429580fe607cb3c44859",
       "version_major": 2,
       "version_minor": 0
      },
      "text/plain": [
       "  0%|          | 0/24 [00:00<?, ?it/s]"
      ]
     },
     "metadata": {},
     "output_type": "display_data"
    }
   ],
   "source": [
    "for A in tqdm(Aperms,total=math.factorial(n+1)):\n",
    "    A.verify_periodicity()"
   ]
  },
  {
   "cell_type": "code",
   "execution_count": 25,
   "metadata": {},
   "outputs": [
    {
     "data": {
      "application/vnd.jupyter.widget-view+json": {
       "model_id": "80691097eee14e84b3468bdaa68dd808",
       "version_major": 2,
       "version_minor": 0
      },
      "text/plain": [
       "  0%|          | 0/720 [00:00<?, ?it/s]"
      ]
     },
     "metadata": {},
     "output_type": "display_data"
    }
   ],
   "source": [
    "write_delta_types_to_file(Aperms,\"ADeltaTypes.csv\",math.factorial(n+1))"
   ]
  },
  {
   "cell_type": "code",
   "execution_count": 28,
   "metadata": {},
   "outputs": [
    {
     "data": {
      "application/vnd.jupyter.widget-view+json": {
       "model_id": "9fb358d88dcb46d29d1801f21ded684b",
       "version_major": 2,
       "version_minor": 0
      },
      "text/plain": [
       "0it [00:00, ?it/s]"
      ]
     },
     "metadata": {},
     "output_type": "display_data"
    },
    {
     "data": {
      "text/plain": [
       "(3, '0<2<1<3<5<4', array([0, 1, 1, 1, 0, 0]))"
      ]
     },
     "execution_count": 28,
     "metadata": {},
     "output_type": "execute_result"
    }
   ],
   "source": [
    "get_max_periodicity(Aperms)"
   ]
  },
  {
   "cell_type": "markdown",
   "metadata": {},
   "source": [
    "## Type C"
   ]
  },
  {
   "cell_type": "code",
   "execution_count": 27,
   "metadata": {},
   "outputs": [],
   "source": [
    "n=2\n",
    "Cperms = gen_permutations('C',n)"
   ]
  },
  {
   "cell_type": "code",
   "execution_count": 28,
   "metadata": {},
   "outputs": [
    {
     "data": {
      "application/vnd.jupyter.widget-view+json": {
       "model_id": "1b91f18412414d5ebc72e23cf83f1176",
       "version_major": 2,
       "version_minor": 0
      },
      "text/plain": [
       "  0%|          | 0/6 [00:00<?, ?it/s]"
      ]
     },
     "metadata": {},
     "output_type": "display_data"
    }
   ],
   "source": [
    "verify_periodicity_perms(Cperms,math.factorial(n+1))"
   ]
  },
  {
   "cell_type": "code",
   "execution_count": null,
   "metadata": {},
   "outputs": [],
   "source": [
    "for i in check_delta_type_prediction_perms(Cperms):\n",
    "    print(i)"
   ]
  },
  {
   "cell_type": "code",
   "execution_count": 281,
   "metadata": {},
   "outputs": [
    {
     "name": "stdout",
     "output_type": "stream",
     "text": [
      "[1,0,2] 1\n"
     ]
    },
    {
     "data": {
      "text/plain": [
       "<AnalysisFuncs.deltaTypesCollection at 0x22d3d4d7f10>"
      ]
     },
     "execution_count": 281,
     "metadata": {},
     "output_type": "execute_result"
    }
   ],
   "source": [
    "generate_delta_types(rootSystem([0,1,2,3,4,5,6],'C'))"
   ]
  },
  {
   "cell_type": "code",
   "execution_count": 29,
   "metadata": {},
   "outputs": [
    {
     "data": {
      "application/vnd.jupyter.widget-view+json": {
       "model_id": "bab7cebfdbbd4221aafa738cebc226d8",
       "version_major": 2,
       "version_minor": 0
      },
      "text/plain": [
       "  0%|          | 0/5 [00:00<?, ?it/s]"
      ]
     },
     "metadata": {},
     "output_type": "display_data"
    },
    {
     "data": {
      "application/vnd.jupyter.widget-view+json": {
       "model_id": "0ae27f8785734874acd069d670cfa3c1",
       "version_major": 2,
       "version_minor": 0
      },
      "text/plain": [
       "  0%|          | 0/23 [00:00<?, ?it/s]"
      ]
     },
     "metadata": {},
     "output_type": "display_data"
    },
    {
     "data": {
      "application/vnd.jupyter.widget-view+json": {
       "model_id": "893e35511a324a19a1d34988087d0be7",
       "version_major": 2,
       "version_minor": 0
      },
      "text/plain": [
       "  0%|          | 0/119 [00:00<?, ?it/s]"
      ]
     },
     "metadata": {},
     "output_type": "display_data"
    },
    {
     "data": {
      "application/vnd.jupyter.widget-view+json": {
       "model_id": "9552dc298351428cb3b6cd5b9eab77d4",
       "version_major": 2,
       "version_minor": 0
      },
      "text/plain": [
       "  0%|          | 0/719 [00:00<?, ?it/s]"
      ]
     },
     "metadata": {},
     "output_type": "display_data"
    },
    {
     "data": {
      "application/vnd.jupyter.widget-view+json": {
       "model_id": "37bf94620f684087bf6802b77ed2c26d",
       "version_major": 2,
       "version_minor": 0
      },
      "text/plain": [
       "  0%|          | 0/5039 [00:00<?, ?it/s]"
      ]
     },
     "metadata": {},
     "output_type": "display_data"
    },
    {
     "data": {
      "application/vnd.jupyter.widget-view+json": {
       "model_id": "12e388d8c9b24f139bfed39c50c17e4c",
       "version_major": 2,
       "version_minor": 0
      },
      "text/plain": [
       "  0%|          | 0/40319 [00:00<?, ?it/s]"
      ]
     },
     "metadata": {},
     "output_type": "display_data"
    },
    {
     "ename": "KeyboardInterrupt",
     "evalue": "",
     "output_type": "error",
     "traceback": [
      "\u001b[1;31m---------------------------------------------------------------------------\u001b[0m",
      "\u001b[1;31mIndexError\u001b[0m                                Traceback (most recent call last)",
      "File \u001b[1;32mc:\\Users\\Corbe\\AppData\\Local\\Programs\\Python\\Python311\\Lib\\multiprocessing\\pool.py:856\u001b[0m, in \u001b[0;36mIMapIterator.next\u001b[1;34m(self, timeout)\u001b[0m\n\u001b[0;32m    855\u001b[0m \u001b[38;5;28;01mtry\u001b[39;00m:\n\u001b[1;32m--> 856\u001b[0m     item \u001b[38;5;241m=\u001b[39m \u001b[38;5;28mself\u001b[39m\u001b[38;5;241m.\u001b[39m_items\u001b[38;5;241m.\u001b[39mpopleft()\n\u001b[0;32m    857\u001b[0m \u001b[38;5;28;01mexcept\u001b[39;00m \u001b[38;5;167;01mIndexError\u001b[39;00m:\n",
      "\u001b[1;31mIndexError\u001b[0m: pop from an empty deque",
      "\nDuring handling of the above exception, another exception occurred:\n",
      "\u001b[1;31mKeyboardInterrupt\u001b[0m                         Traceback (most recent call last)",
      "Cell \u001b[1;32mIn[29], line 3\u001b[0m\n\u001b[0;32m      1\u001b[0m \u001b[38;5;28;01mfor\u001b[39;00m n \u001b[38;5;129;01min\u001b[39;00m \u001b[38;5;28mrange\u001b[39m(\u001b[38;5;241m2\u001b[39m,\u001b[38;5;241m8\u001b[39m):\n\u001b[0;32m      2\u001b[0m     Cperms \u001b[38;5;241m=\u001b[39m gen_permutations(\u001b[38;5;124m'\u001b[39m\u001b[38;5;124mC\u001b[39m\u001b[38;5;124m'\u001b[39m,n)\n\u001b[1;32m----> 3\u001b[0m     \u001b[43mwrite_delta_types_to_file\u001b[49m\u001b[43m(\u001b[49m\u001b[43mCperms\u001b[49m\u001b[43m,\u001b[49m\u001b[38;5;124;43mf\u001b[39;49m\u001b[38;5;124;43m\"\u001b[39;49m\u001b[38;5;124;43mC\u001b[39;49m\u001b[38;5;132;43;01m{\u001b[39;49;00m\u001b[43mn\u001b[49m\u001b[38;5;132;43;01m}\u001b[39;49;00m\u001b[38;5;124;43mImWords.csv\u001b[39;49m\u001b[38;5;124;43m\"\u001b[39;49m\u001b[43m)\u001b[49m\n",
      "Cell \u001b[1;32mIn[5], line 14\u001b[0m, in \u001b[0;36mwrite_delta_types_to_file\u001b[1;34m(rootSystems, file, total, notOnlyAllStandard, k)\u001b[0m\n\u001b[0;32m     12\u001b[0m             fileobj\u001b[38;5;241m.\u001b[39mwrite(deltaTypesCol\u001b[38;5;241m.\u001b[39mto_csv())\n\u001b[0;32m     13\u001b[0m \u001b[38;5;28;01mwith\u001b[39;00m mp\u001b[38;5;241m.\u001b[39mPool() \u001b[38;5;28;01mas\u001b[39;00m p:\n\u001b[1;32m---> 14\u001b[0m \u001b[43m    \u001b[49m\u001b[38;5;28;43;01mfor\u001b[39;49;00m\u001b[43m \u001b[49m\u001b[43mdeltaTypesCol\u001b[49m\u001b[43m \u001b[49m\u001b[38;5;129;43;01min\u001b[39;49;00m\u001b[43m \u001b[49m\u001b[43mtqdm\u001b[49m\u001b[43m(\u001b[49m\u001b[43mp\u001b[49m\u001b[38;5;241;43m.\u001b[39;49m\u001b[43mimap_unordered\u001b[49m\u001b[43m(\u001b[49m\u001b[43mgenerate_delta_types\u001b[49m\u001b[43m,\u001b[49m\u001b[43mrootSystems\u001b[49m\u001b[43m,\u001b[49m\u001b[43mk\u001b[49m\u001b[43m)\u001b[49m\u001b[43m,\u001b[49m\u001b[43mtotal\u001b[49m\u001b[38;5;241;43m=\u001b[39;49m\u001b[43mtotal\u001b[49m\u001b[43m)\u001b[49m\u001b[43m:\u001b[49m\n\u001b[0;32m     15\u001b[0m \u001b[43m        \u001b[49m\u001b[38;5;28;43;01mif\u001b[39;49;00m\u001b[43m(\u001b[49m\u001b[43mnotOnlyAllStandard\u001b[49m\u001b[43m)\u001b[49m\u001b[43m:\u001b[49m\n\u001b[0;32m     16\u001b[0m \u001b[43m            \u001b[49m\u001b[38;5;28;43;01mif\u001b[39;49;00m\u001b[43m(\u001b[49m\u001b[38;5;129;43;01mnot\u001b[39;49;00m\u001b[43m \u001b[49m\u001b[43mdeltaTypesCol\u001b[49m\u001b[38;5;241;43m.\u001b[39;49m\u001b[43mnot_all_standard\u001b[49m\u001b[43m(\u001b[49m\u001b[43m)\u001b[49m\u001b[43m)\u001b[49m\u001b[43m:\u001b[49m\n",
      "File \u001b[1;32mc:\\Users\\Corbe\\AppData\\Local\\Programs\\Python\\Python311\\Lib\\site-packages\\tqdm\\notebook.py:250\u001b[0m, in \u001b[0;36mtqdm_notebook.__iter__\u001b[1;34m(self)\u001b[0m\n\u001b[0;32m    248\u001b[0m \u001b[38;5;28;01mtry\u001b[39;00m:\n\u001b[0;32m    249\u001b[0m     it \u001b[38;5;241m=\u001b[39m \u001b[38;5;28msuper\u001b[39m()\u001b[38;5;241m.\u001b[39m\u001b[38;5;21m__iter__\u001b[39m()\n\u001b[1;32m--> 250\u001b[0m \u001b[43m    \u001b[49m\u001b[38;5;28;43;01mfor\u001b[39;49;00m\u001b[43m \u001b[49m\u001b[43mobj\u001b[49m\u001b[43m \u001b[49m\u001b[38;5;129;43;01min\u001b[39;49;00m\u001b[43m \u001b[49m\u001b[43mit\u001b[49m\u001b[43m:\u001b[49m\n\u001b[0;32m    251\u001b[0m \u001b[43m        \u001b[49m\u001b[38;5;66;43;03m# return super(tqdm...) will not catch exception\u001b[39;49;00m\n\u001b[0;32m    252\u001b[0m \u001b[43m        \u001b[49m\u001b[38;5;28;43;01myield\u001b[39;49;00m\u001b[43m \u001b[49m\u001b[43mobj\u001b[49m\n\u001b[0;32m    253\u001b[0m \u001b[38;5;66;03m# NB: except ... [ as ...] breaks IPython async KeyboardInterrupt\u001b[39;00m\n",
      "File \u001b[1;32mc:\\Users\\Corbe\\AppData\\Local\\Programs\\Python\\Python311\\Lib\\site-packages\\tqdm\\std.py:1181\u001b[0m, in \u001b[0;36mtqdm.__iter__\u001b[1;34m(self)\u001b[0m\n\u001b[0;32m   1178\u001b[0m time \u001b[38;5;241m=\u001b[39m \u001b[38;5;28mself\u001b[39m\u001b[38;5;241m.\u001b[39m_time\n\u001b[0;32m   1180\u001b[0m \u001b[38;5;28;01mtry\u001b[39;00m:\n\u001b[1;32m-> 1181\u001b[0m \u001b[43m    \u001b[49m\u001b[38;5;28;43;01mfor\u001b[39;49;00m\u001b[43m \u001b[49m\u001b[43mobj\u001b[49m\u001b[43m \u001b[49m\u001b[38;5;129;43;01min\u001b[39;49;00m\u001b[43m \u001b[49m\u001b[43miterable\u001b[49m\u001b[43m:\u001b[49m\n\u001b[0;32m   1182\u001b[0m \u001b[43m        \u001b[49m\u001b[38;5;28;43;01myield\u001b[39;49;00m\u001b[43m \u001b[49m\u001b[43mobj\u001b[49m\n\u001b[0;32m   1183\u001b[0m \u001b[43m        \u001b[49m\u001b[38;5;66;43;03m# Update and possibly print the progressbar.\u001b[39;49;00m\n\u001b[0;32m   1184\u001b[0m \u001b[43m        \u001b[49m\u001b[38;5;66;43;03m# Note: does not call self.update(1) for speed optimisation.\u001b[39;49;00m\n",
      "File \u001b[1;32mc:\\Users\\Corbe\\AppData\\Local\\Programs\\Python\\Python311\\Lib\\multiprocessing\\pool.py:451\u001b[0m, in \u001b[0;36m<genexpr>\u001b[1;34m(.0)\u001b[0m\n\u001b[0;32m    443\u001b[0m result \u001b[38;5;241m=\u001b[39m IMapUnorderedIterator(\u001b[38;5;28mself\u001b[39m)\n\u001b[0;32m    444\u001b[0m \u001b[38;5;28mself\u001b[39m\u001b[38;5;241m.\u001b[39m_taskqueue\u001b[38;5;241m.\u001b[39mput(\n\u001b[0;32m    445\u001b[0m     (\n\u001b[0;32m    446\u001b[0m         \u001b[38;5;28mself\u001b[39m\u001b[38;5;241m.\u001b[39m_guarded_task_generation(result\u001b[38;5;241m.\u001b[39m_job,\n\u001b[1;32m   (...)\u001b[0m\n\u001b[0;32m    449\u001b[0m         result\u001b[38;5;241m.\u001b[39m_set_length\n\u001b[0;32m    450\u001b[0m     ))\n\u001b[1;32m--> 451\u001b[0m \u001b[38;5;28;01mreturn\u001b[39;00m \u001b[43m(\u001b[49m\u001b[43mitem\u001b[49m\u001b[43m \u001b[49m\u001b[38;5;28;43;01mfor\u001b[39;49;00m\u001b[43m \u001b[49m\u001b[43mchunk\u001b[49m\u001b[43m \u001b[49m\u001b[38;5;129;43;01min\u001b[39;49;00m\u001b[43m \u001b[49m\u001b[43mresult\u001b[49m\u001b[43m \u001b[49m\u001b[38;5;28;43;01mfor\u001b[39;49;00m\u001b[43m \u001b[49m\u001b[43mitem\u001b[49m\u001b[43m \u001b[49m\u001b[38;5;129;43;01min\u001b[39;49;00m\u001b[43m \u001b[49m\u001b[43mchunk\u001b[49m\u001b[43m)\u001b[49m\n",
      "File \u001b[1;32mc:\\Users\\Corbe\\AppData\\Local\\Programs\\Python\\Python311\\Lib\\multiprocessing\\pool.py:861\u001b[0m, in \u001b[0;36mIMapIterator.next\u001b[1;34m(self, timeout)\u001b[0m\n\u001b[0;32m    859\u001b[0m     \u001b[38;5;28mself\u001b[39m\u001b[38;5;241m.\u001b[39m_pool \u001b[38;5;241m=\u001b[39m \u001b[38;5;28;01mNone\u001b[39;00m\n\u001b[0;32m    860\u001b[0m     \u001b[38;5;28;01mraise\u001b[39;00m \u001b[38;5;167;01mStopIteration\u001b[39;00m \u001b[38;5;28;01mfrom\u001b[39;00m \u001b[38;5;28;01mNone\u001b[39;00m\n\u001b[1;32m--> 861\u001b[0m \u001b[38;5;28;43mself\u001b[39;49m\u001b[38;5;241;43m.\u001b[39;49m\u001b[43m_cond\u001b[49m\u001b[38;5;241;43m.\u001b[39;49m\u001b[43mwait\u001b[49m\u001b[43m(\u001b[49m\u001b[43mtimeout\u001b[49m\u001b[43m)\u001b[49m\n\u001b[0;32m    862\u001b[0m \u001b[38;5;28;01mtry\u001b[39;00m:\n\u001b[0;32m    863\u001b[0m     item \u001b[38;5;241m=\u001b[39m \u001b[38;5;28mself\u001b[39m\u001b[38;5;241m.\u001b[39m_items\u001b[38;5;241m.\u001b[39mpopleft()\n",
      "File \u001b[1;32mc:\\Users\\Corbe\\AppData\\Local\\Programs\\Python\\Python311\\Lib\\threading.py:320\u001b[0m, in \u001b[0;36mCondition.wait\u001b[1;34m(self, timeout)\u001b[0m\n\u001b[0;32m    318\u001b[0m \u001b[38;5;28;01mtry\u001b[39;00m:    \u001b[38;5;66;03m# restore state no matter what (e.g., KeyboardInterrupt)\u001b[39;00m\n\u001b[0;32m    319\u001b[0m     \u001b[38;5;28;01mif\u001b[39;00m timeout \u001b[38;5;129;01mis\u001b[39;00m \u001b[38;5;28;01mNone\u001b[39;00m:\n\u001b[1;32m--> 320\u001b[0m         \u001b[43mwaiter\u001b[49m\u001b[38;5;241;43m.\u001b[39;49m\u001b[43macquire\u001b[49m\u001b[43m(\u001b[49m\u001b[43m)\u001b[49m\n\u001b[0;32m    321\u001b[0m         gotit \u001b[38;5;241m=\u001b[39m \u001b[38;5;28;01mTrue\u001b[39;00m\n\u001b[0;32m    322\u001b[0m     \u001b[38;5;28;01melse\u001b[39;00m:\n",
      "\u001b[1;31mKeyboardInterrupt\u001b[0m: "
     ]
    }
   ],
   "source": [
    "for n in range(2,6):\n",
    "    Cperms = gen_permutations('C',n)\n",
    "    write_delta_types_to_file(Cperms,f\"C{n}ImWords.csv\")"
   ]
  },
  {
   "cell_type": "code",
   "execution_count": null,
   "metadata": {},
   "outputs": [],
   "source": [
    "for i in generate_equivalences(Cperms):\n",
    "    print(f\"{i[0]} = {i[1]}\")"
   ]
  },
  {
   "cell_type": "code",
   "execution_count": null,
   "metadata": {},
   "outputs": [
    {
     "data": {
      "text/plain": [
       "(5, '0<3<1<4<2', array([0, 0, 2, 2, 1]))"
      ]
     },
     "execution_count": 79,
     "metadata": {},
     "output_type": "execute_result"
    }
   ],
   "source": [
    "get_max_periodicity(Cperms)"
   ]
  },
  {
   "cell_type": "markdown",
   "metadata": {},
   "source": [
    "## Type G"
   ]
  },
  {
   "cell_type": "code",
   "execution_count": 341,
   "metadata": {},
   "outputs": [
    {
     "data": {
      "text/plain": [
       "{(0, 1, 0): 1,\n",
       " (0, 0, 1): 1,\n",
       " (1, 0, 0): 3,\n",
       " (0, 1, 1): 2,\n",
       " (1, 1, 0): 3,\n",
       " (0, 1, 2): 3,\n",
       " (1, 1, 1): 2,\n",
       " (0, 1, 3): 4,\n",
       " (1, 1, 2): 1,\n",
       " (0, 2, 3): 5,\n",
       " (1, 1, 3): 1,\n",
       " (1, 2, 2): 1}"
      ]
     },
     "execution_count": 341,
     "metadata": {},
     "output_type": "execute_result"
    }
   ],
   "source": [
    "G2 = rootSystem([0,1,2],'G')\n",
    "G2.conj_periodicity()"
   ]
  },
  {
   "cell_type": "code",
   "execution_count": 171,
   "metadata": {},
   "outputs": [
    {
     "data": {
      "text/plain": [
       "3"
      ]
     },
     "execution_count": 171,
     "metadata": {},
     "output_type": "execute_result"
    }
   ],
   "source": [
    "G2.get_periodicity([1,0,0])"
   ]
  },
  {
   "cell_type": "code",
   "execution_count": 415,
   "metadata": {},
   "outputs": [],
   "source": [
    "n=2\n",
    "G2perms = gen_permutations('G',n)"
   ]
  },
  {
   "cell_type": "code",
   "execution_count": 416,
   "metadata": {},
   "outputs": [],
   "source": [
    "for G2 in G2perms:\n",
    "    G2.verify_periodicity()"
   ]
  },
  {
   "cell_type": "code",
   "execution_count": null,
   "metadata": {},
   "outputs": [],
   "source": [
    "for i in check_periodicity_conj_perms(G2perms):\n",
    "    print(i)"
   ]
  },
  {
   "cell_type": "code",
   "execution_count": null,
   "metadata": {},
   "outputs": [
    {
     "data": {
      "text/plain": [
       "(5, '1<0<2', array([1, 1, 3]))"
      ]
     },
     "execution_count": 19,
     "metadata": {},
     "output_type": "execute_result"
    }
   ],
   "source": [
    "get_max_periodicity(G2perms)"
   ]
  },
  {
   "cell_type": "code",
   "execution_count": null,
   "metadata": {},
   "outputs": [],
   "source": [
    "for i in check_delta_type_prediction_perms(G2perms):\n",
    "    print(i)"
   ]
  },
  {
   "cell_type": "code",
   "execution_count": 27,
   "metadata": {},
   "outputs": [
    {
     "data": {
      "application/vnd.jupyter.widget-view+json": {
       "model_id": "6a85df1d97584157a1cb39c495dae8c5",
       "version_major": 2,
       "version_minor": 0
      },
      "text/plain": [
       "  0%|          | 0/5 [00:00<?, ?it/s]"
      ]
     },
     "metadata": {},
     "output_type": "display_data"
    }
   ],
   "source": [
    "write_delta_types_to_file(G2perms,\"GDeltaTypes.csv\")"
   ]
  },
  {
   "cell_type": "code",
   "execution_count": 226,
   "metadata": {},
   "outputs": [
    {
     "data": {
      "application/vnd.jupyter.widget-view+json": {
       "model_id": "e77ca50d29a648d1994d44281b5567a9",
       "version_major": 2,
       "version_minor": 0
      },
      "text/plain": [
       "  0%|          | 0/6 [00:00<?, ?it/s]"
      ]
     },
     "metadata": {},
     "output_type": "display_data"
    }
   ],
   "source": [
    "for i in check_convexity_perms(G2perms,math.factorial(n+1),k=10,word_convexity=True):\n",
    "    print(i)"
   ]
  },
  {
   "cell_type": "markdown",
   "metadata": {},
   "source": [
    "## Type B"
   ]
  },
  {
   "cell_type": "code",
   "execution_count": 57,
   "metadata": {},
   "outputs": [],
   "source": [
    "n=6\n",
    "Bperms = gen_permutations('B',n)"
   ]
  },
  {
   "cell_type": "code",
   "execution_count": 58,
   "metadata": {},
   "outputs": [
    {
     "data": {
      "application/vnd.jupyter.widget-view+json": {
       "model_id": "7a580ab7f202447cae83b6be12f08cf7",
       "version_major": 2,
       "version_minor": 0
      },
      "text/plain": [
       "  0%|          | 0/5040 [00:00<?, ?it/s]"
      ]
     },
     "metadata": {},
     "output_type": "display_data"
    }
   ],
   "source": [
    "verify_periodicity_perms(Bperms,math.factorial(n+1))"
   ]
  },
  {
   "cell_type": "code",
   "execution_count": null,
   "metadata": {},
   "outputs": [],
   "source": [
    "for i in check_delta_type_prediction_perms(Bperms):\n",
    "    print(i)"
   ]
  },
  {
   "cell_type": "code",
   "execution_count": 31,
   "metadata": {},
   "outputs": [
    {
     "data": {
      "application/vnd.jupyter.widget-view+json": {
       "model_id": "f35ee9072bf94882b889ebd8f0b71867",
       "version_major": 2,
       "version_minor": 0
      },
      "text/plain": [
       "  0%|          | 0/5 [00:00<?, ?it/s]"
      ]
     },
     "metadata": {},
     "output_type": "display_data"
    },
    {
     "data": {
      "application/vnd.jupyter.widget-view+json": {
       "model_id": "5826c067f4504cc9a02e9641012efd56",
       "version_major": 2,
       "version_minor": 0
      },
      "text/plain": [
       "  0%|          | 0/23 [00:00<?, ?it/s]"
      ]
     },
     "metadata": {},
     "output_type": "display_data"
    },
    {
     "data": {
      "application/vnd.jupyter.widget-view+json": {
       "model_id": "5224a964db9d4d7f8922bdb9f43583bd",
       "version_major": 2,
       "version_minor": 0
      },
      "text/plain": [
       "  0%|          | 0/119 [00:00<?, ?it/s]"
      ]
     },
     "metadata": {},
     "output_type": "display_data"
    },
    {
     "data": {
      "application/vnd.jupyter.widget-view+json": {
       "model_id": "5ce385eb3b6e46588beee9dfc81edac6",
       "version_major": 2,
       "version_minor": 0
      },
      "text/plain": [
       "  0%|          | 0/719 [00:00<?, ?it/s]"
      ]
     },
     "metadata": {},
     "output_type": "display_data"
    },
    {
     "data": {
      "application/vnd.jupyter.widget-view+json": {
       "model_id": "bdb359952e594813b5945a704761234f",
       "version_major": 2,
       "version_minor": 0
      },
      "text/plain": [
       "  0%|          | 0/5039 [00:00<?, ?it/s]"
      ]
     },
     "metadata": {},
     "output_type": "display_data"
    }
   ],
   "source": [
    "for n in range(2,7):\n",
    "    Bperms = gen_permutations('B',n)\n",
    "    write_delta_types_to_file(Bperms,f\"B{n}ImWords.csv\")"
   ]
  },
  {
   "cell_type": "code",
   "execution_count": 31,
   "metadata": {},
   "outputs": [
    {
     "data": {
      "application/vnd.jupyter.widget-view+json": {
       "model_id": "d99c27a742904937823f3c667823b3fc",
       "version_major": 2,
       "version_minor": 0
      },
      "text/plain": [
       "  0%|          | 0/5039 [00:00<?, ?it/s]"
      ]
     },
     "metadata": {},
     "output_type": "display_data"
    }
   ],
   "source": [
    "write_delta_types_to_file(Bperms,\"BDeltaTypes.csv\")"
   ]
  },
  {
   "cell_type": "code",
   "execution_count": null,
   "metadata": {},
   "outputs": [],
   "source": [
    "for i in generate_equivalences(Bperms):\n",
    "    print(f\"{i[0]} = {i[1]}\")"
   ]
  },
  {
   "cell_type": "markdown",
   "metadata": {},
   "source": [
    "## Type D"
   ]
  },
  {
   "cell_type": "code",
   "execution_count": 61,
   "metadata": {},
   "outputs": [],
   "source": [
    "n=6\n",
    "Dperms = gen_permutations('D',n)"
   ]
  },
  {
   "cell_type": "code",
   "execution_count": 62,
   "metadata": {},
   "outputs": [
    {
     "data": {
      "application/vnd.jupyter.widget-view+json": {
       "model_id": "3241deb865b44a688f6afd8e7b64b3a5",
       "version_major": 2,
       "version_minor": 0
      },
      "text/plain": [
       "  0%|          | 0/5040 [00:00<?, ?it/s]"
      ]
     },
     "metadata": {},
     "output_type": "display_data"
    }
   ],
   "source": [
    "verify_periodicity_perms(Dperms,math.factorial(n+1))"
   ]
  },
  {
   "cell_type": "code",
   "execution_count": 60,
   "metadata": {},
   "outputs": [
    {
     "data": {
      "application/vnd.jupyter.widget-view+json": {
       "model_id": "ac7bb859f9254bf994a6a7371663a3a4",
       "version_major": 2,
       "version_minor": 0
      },
      "text/plain": [
       "  0%|          | 0/5040 [00:00<?, ?it/s]"
      ]
     },
     "metadata": {},
     "output_type": "display_data"
    }
   ],
   "source": [
    "for D in tqdm(Dperms,total=math.factorial(n+1)):\n",
    "    D.verify_periodicity()"
   ]
  },
  {
   "cell_type": "code",
   "execution_count": null,
   "metadata": {},
   "outputs": [],
   "source": [
    "for i in check_delta_type_prediction_perms(Dperms):\n",
    "    print(i)"
   ]
  },
  {
   "cell_type": "code",
   "execution_count": 34,
   "metadata": {},
   "outputs": [
    {
     "data": {
      "application/vnd.jupyter.widget-view+json": {
       "model_id": "1035cca178154c099bf091e9c0df3a08",
       "version_major": 2,
       "version_minor": 0
      },
      "text/plain": [
       "  0%|          | 0/23 [00:00<?, ?it/s]"
      ]
     },
     "metadata": {},
     "output_type": "display_data"
    },
    {
     "data": {
      "application/vnd.jupyter.widget-view+json": {
       "model_id": "83cb01076bac4815bca18a2310e0dfb2",
       "version_major": 2,
       "version_minor": 0
      },
      "text/plain": [
       "  0%|          | 0/119 [00:00<?, ?it/s]"
      ]
     },
     "metadata": {},
     "output_type": "display_data"
    },
    {
     "data": {
      "application/vnd.jupyter.widget-view+json": {
       "model_id": "f5bfe003570d4123bfd29ef8d0161a7b",
       "version_major": 2,
       "version_minor": 0
      },
      "text/plain": [
       "  0%|          | 0/719 [00:00<?, ?it/s]"
      ]
     },
     "metadata": {},
     "output_type": "display_data"
    },
    {
     "data": {
      "application/vnd.jupyter.widget-view+json": {
       "model_id": "154a29ed50514a9ab9037eb4ae781adb",
       "version_major": 2,
       "version_minor": 0
      },
      "text/plain": [
       "  0%|          | 0/5039 [00:00<?, ?it/s]"
      ]
     },
     "metadata": {},
     "output_type": "display_data"
    }
   ],
   "source": [
    "for n in range(3,7):\n",
    "    Dperms = gen_permutations('D',n)\n",
    "    write_delta_types_to_file(Dperms,f\"D{n}ImWords.csv\")"
   ]
  },
  {
   "cell_type": "code",
   "execution_count": 33,
   "metadata": {},
   "outputs": [
    {
     "data": {
      "application/vnd.jupyter.widget-view+json": {
       "model_id": "0179fa61f5484701a61dfdf3b7be52b6",
       "version_major": 2,
       "version_minor": 0
      },
      "text/plain": [
       "  0%|          | 0/5039 [00:00<?, ?it/s]"
      ]
     },
     "metadata": {},
     "output_type": "display_data"
    }
   ],
   "source": [
    "write_delta_types_to_file(Dperms,\"DDeltaTypes.csv\")"
   ]
  },
  {
   "cell_type": "code",
   "execution_count": null,
   "metadata": {},
   "outputs": [],
   "source": [
    "for i in generate_equivalences(Dperms):\n",
    "    print(f\"{i[0]} = {i[1]}\")"
   ]
  },
  {
   "cell_type": "markdown",
   "metadata": {},
   "source": [
    "## Type E"
   ]
  },
  {
   "cell_type": "code",
   "execution_count": 25,
   "metadata": {},
   "outputs": [],
   "source": [
    "n=7\n",
    "Eperms = gen_permutations('E',n)"
   ]
  },
  {
   "cell_type": "code",
   "execution_count": 40,
   "metadata": {},
   "outputs": [
    {
     "data": {
      "application/vnd.jupyter.widget-view+json": {
       "model_id": "8c0e1c82aff745c7afc0e812ab85e2e6",
       "version_major": 2,
       "version_minor": 0
      },
      "text/plain": [
       "  0%|          | 0/5040 [00:00<?, ?it/s]"
      ]
     },
     "metadata": {},
     "output_type": "display_data"
    }
   ],
   "source": [
    "verify_periodicity_perms(Eperms,total=math.factorial(n+1))"
   ]
  },
  {
   "cell_type": "code",
   "execution_count": 26,
   "metadata": {},
   "outputs": [
    {
     "data": {
      "application/vnd.jupyter.widget-view+json": {
       "model_id": "ef894bbc7360497d9172fbf8542c8fbc",
       "version_major": 2,
       "version_minor": 0
      },
      "text/plain": [
       "  0%|          | 0/40319 [00:00<?, ?it/s]"
      ]
     },
     "metadata": {},
     "output_type": "display_data"
    }
   ],
   "source": [
    "write_delta_types_to_file(Eperms,\"E7DeltaTypes.csv\")"
   ]
  },
  {
   "cell_type": "code",
   "execution_count": null,
   "metadata": {},
   "outputs": [
    {
     "name": "stdout",
     "output_type": "stream",
     "text": [
      "0<1<2<4<5<6<3 = 0<1<2<4<5<3<6\n",
      "0<1<2<5<4<6<3 = 0<1<2<5<4<3<6\n",
      "0<1<3<4<5<6<2 = 0<1<3<4<5<2<6\n",
      "0<1<3<5<4<6<2 = 0<1<3<5<4<2<6\n",
      "0<1<4<2<5<6<3 = 0<1<4<2<5<3<6\n",
      "0<1<4<3<5<6<2 = 0<1<4<3<5<2<6\n",
      "0<1<4<5<2<6<3 = 0<1<4<5<2<3<6\n",
      "0<1<4<5<3<6<2 = 0<1<4<5<3<2<6\n",
      "0<1<4<5<6<2<3 = 0<1<4<5<2<3<6\n",
      "0<1<4<5<6<2<3 = 0<1<4<5<2<6<3\n",
      "0<1<4<5<6<3<2 = 0<1<4<5<3<2<6\n",
      "0<1<4<5<6<3<2 = 0<1<4<5<3<6<2\n",
      "0<1<5<2<4<6<3 = 0<1<5<2<4<3<6\n",
      "0<1<5<3<4<6<2 = 0<1<5<3<4<2<6\n",
      "0<1<5<4<2<6<3 = 0<1<5<4<2<3<6\n",
      "0<1<5<4<3<6<2 = 0<1<5<4<3<2<6\n",
      "0<1<5<4<6<2<3 = 0<1<5<4<2<3<6\n",
      "0<1<5<4<6<2<3 = 0<1<5<4<2<6<3\n",
      "0<1<5<4<6<3<2 = 0<1<5<4<3<2<6\n",
      "0<1<5<4<6<3<2 = 0<1<5<4<3<6<2\n",
      "0<2<1<4<5<6<3 = 0<2<1<4<5<3<6\n",
      "0<2<1<5<4<6<3 = 0<2<1<5<4<3<6\n",
      "0<2<3<4<5<1<6 = 0<2<3<4<1<5<6\n",
      "0<2<3<4<5<6<1 = 0<2<3<4<1<5<6\n",
      "0<2<3<4<5<6<1 = 0<2<3<4<5<1<6\n",
      "0<2<3<4<6<1<5 = 0<2<3<4<1<6<5\n",
      "0<2<3<4<6<5<1 = 0<2<3<4<1<6<5\n",
      "0<2<3<4<6<5<1 = 0<2<3<4<6<1<5\n",
      "0<2<3<5<4<6<1 = 0<2<3<5<4<1<6\n",
      "0<2<3<5<6<1<4 = 0<2<3<5<1<6<4\n",
      "0<2<3<6<4<5<1 = 0<2<3<6<4<1<5\n",
      "0<2<4<1<5<6<3 = 0<2<4<1<5<3<6\n",
      "0<2<4<3<5<1<6 = 0<2<4<3<1<5<6\n",
      "0<2<4<3<5<6<1 = 0<2<4<3<1<5<6\n",
      "0<2<4<3<5<6<1 = 0<2<4<3<5<1<6\n",
      "0<2<4<3<6<1<5 = 0<2<4<3<1<6<5\n",
      "0<2<4<3<6<5<1 = 0<2<4<3<1<6<5\n",
      "0<2<4<3<6<5<1 = 0<2<4<3<6<1<5\n",
      "0<2<4<5<1<6<3 = 0<2<4<5<1<3<6\n",
      "0<2<4<5<3<6<1 = 0<2<4<5<3<1<6\n",
      "0<2<4<5<6<1<3 = 0<2<4<5<1<3<6\n",
      "0<2<4<5<6<1<3 = 0<2<4<5<1<6<3\n",
      "0<2<4<5<6<3<1 = 0<2<4<5<3<1<6\n",
      "0<2<4<5<6<3<1 = 0<2<4<5<3<6<1\n",
      "0<2<4<6<3<5<1 = 0<2<4<6<3<1<5\n",
      "0<2<5<1<4<6<3 = 0<2<5<1<4<3<6\n",
      "0<2<5<3<4<6<1 = 0<2<5<3<4<1<6\n",
      "0<2<5<3<6<1<4 = 0<2<5<3<1<6<4\n",
      "0<2<5<4<1<6<3 = 0<2<5<4<1<3<6\n",
      "0<2<5<4<3<6<1 = 0<2<5<4<3<1<6\n",
      "0<2<5<4<6<1<3 = 0<2<5<4<1<3<6\n",
      "0<2<5<4<6<1<3 = 0<2<5<4<1<6<3\n",
      "0<2<5<4<6<3<1 = 0<2<5<4<3<1<6\n",
      "0<2<5<4<6<3<1 = 0<2<5<4<3<6<1\n",
      "0<2<6<3<4<5<1 = 0<2<6<3<4<1<5\n",
      "0<2<6<4<3<5<1 = 0<2<6<4<3<1<5\n",
      "0<3<1<4<5<6<2 = 0<3<1<4<5<2<6\n",
      "0<3<1<5<4<6<2 = 0<3<1<5<4<2<6\n",
      "0<3<2<4<5<1<6 = 0<3<2<4<1<5<6\n",
      "0<3<2<4<5<6<1 = 0<3<2<4<1<5<6\n",
      "0<3<2<4<5<6<1 = 0<3<2<4<5<1<6\n",
      "0<3<2<4<6<1<5 = 0<3<2<4<1<6<5\n",
      "0<3<2<4<6<5<1 = 0<3<2<4<1<6<5\n",
      "0<3<2<4<6<5<1 = 0<3<2<4<6<1<5\n",
      "0<3<2<5<4<6<1 = 0<3<2<5<4<1<6\n",
      "0<3<2<5<6<1<4 = 0<3<2<5<1<6<4\n",
      "0<3<2<6<4<5<1 = 0<3<2<6<4<1<5\n",
      "0<3<4<1<5<6<2 = 0<3<4<1<5<2<6\n",
      "0<3<4<2<1<5<6 = 0<3<4<1<2<5<6\n",
      "0<3<4<2<1<6<5 = 0<3<4<1<2<6<5\n",
      "0<3<4<2<5<1<6 = 0<3<4<1<2<5<6\n",
      "0<3<4<2<5<1<6 = 0<3<4<2<1<5<6\n",
      "0<3<4<2<5<6<1 = 0<3<4<1<2<5<6\n",
      "0<3<4<2<5<6<1 = 0<3<4<2<1<5<6\n",
      "0<3<4<2<5<6<1 = 0<3<4<2<5<1<6\n",
      "0<3<4<2<6<1<5 = 0<3<4<1<2<6<5\n",
      "0<3<4<2<6<1<5 = 0<3<4<2<1<6<5\n",
      "0<3<4<2<6<5<1 = 0<3<4<1<2<6<5\n",
      "0<3<4<2<6<5<1 = 0<3<4<2<1<6<5\n",
      "0<3<4<2<6<5<1 = 0<3<4<2<6<1<5\n",
      "0<3<4<5<1<2<6 = 0<3<4<1<5<2<6\n",
      "0<3<4<5<1<2<6 = 0<3<4<1<5<6<2\n",
      "0<3<4<5<1<6<2 = 0<3<4<1<5<2<6\n",
      "0<3<4<5<1<6<2 = 0<3<4<1<5<6<2\n",
      "0<3<4<5<1<6<2 = 0<3<4<5<1<2<6\n",
      "0<3<4<5<2<1<6 = 0<3<4<1<5<2<6\n",
      "0<3<4<5<2<1<6 = 0<3<4<1<5<6<2\n",
      "0<3<4<5<2<1<6 = 0<3<4<5<1<2<6\n",
      "0<3<4<5<2<1<6 = 0<3<4<5<1<6<2\n",
      "0<3<4<5<2<6<1 = 0<3<4<1<5<2<6\n",
      "0<3<4<5<2<6<1 = 0<3<4<1<5<6<2\n",
      "0<3<4<5<2<6<1 = 0<3<4<5<1<2<6\n",
      "0<3<4<5<2<6<1 = 0<3<4<5<1<6<2\n",
      "0<3<4<5<2<6<1 = 0<3<4<5<2<1<6\n",
      "0<3<4<5<6<1<2 = 0<3<4<1<5<2<6\n",
      "0<3<4<5<6<1<2 = 0<3<4<1<5<6<2\n",
      "0<3<4<5<6<1<2 = 0<3<4<5<1<2<6\n",
      "0<3<4<5<6<1<2 = 0<3<4<5<1<6<2\n",
      "0<3<4<5<6<1<2 = 0<3<4<5<2<1<6\n",
      "0<3<4<5<6<1<2 = 0<3<4<5<2<6<1\n",
      "0<3<4<5<6<2<1 = 0<3<4<1<5<2<6\n",
      "0<3<4<5<6<2<1 = 0<3<4<1<5<6<2\n",
      "0<3<4<5<6<2<1 = 0<3<4<5<1<2<6\n",
      "0<3<4<5<6<2<1 = 0<3<4<5<1<6<2\n",
      "0<3<4<5<6<2<1 = 0<3<4<5<2<1<6\n",
      "0<3<4<5<6<2<1 = 0<3<4<5<2<6<1\n",
      "0<3<4<5<6<2<1 = 0<3<4<5<6<1<2\n",
      "0<3<4<6<1<2<5 = 0<3<4<1<6<2<5\n",
      "0<3<4<6<1<5<2 = 0<3<4<1<6<5<2\n",
      "0<3<4<6<2<1<5 = 0<3<4<1<6<2<5\n",
      "0<3<4<6<2<1<5 = 0<3<4<6<1<2<5\n",
      "0<3<4<6<2<5<1 = 0<3<4<1<6<2<5\n",
      "0<3<4<6<2<5<1 = 0<3<4<6<1<2<5\n",
      "0<3<4<6<2<5<1 = 0<3<4<6<2<1<5\n",
      "0<3<4<6<5<1<2 = 0<3<4<1<6<5<2\n",
      "0<3<4<6<5<1<2 = 0<3<4<6<1<5<2\n",
      "0<3<4<6<5<2<1 = 0<3<4<1<6<5<2\n",
      "0<3<4<6<5<2<1 = 0<3<4<6<1<5<2\n",
      "0<3<4<6<5<2<1 = 0<3<4<6<5<1<2\n",
      "0<3<5<1<4<6<2 = 0<3<5<1<4<2<6\n",
      "0<3<5<2<4<6<1 = 0<3<5<2<4<1<6\n",
      "0<3<5<2<6<1<4 = 0<3<5<2<1<6<4\n",
      "0<3<5<4<1<6<2 = 0<3<5<4<1<2<6\n",
      "0<3<5<4<2<1<6 = 0<3<5<4<1<2<6\n",
      "0<3<5<4<2<1<6 = 0<3<5<4<1<6<2\n",
      "0<3<5<4<2<6<1 = 0<3<5<4<1<2<6\n",
      "0<3<5<4<2<6<1 = 0<3<5<4<1<6<2\n",
      "0<3<5<4<2<6<1 = 0<3<5<4<2<1<6\n",
      "0<3<5<4<6<1<2 = 0<3<5<4<1<2<6\n",
      "0<3<5<4<6<1<2 = 0<3<5<4<1<6<2\n",
      "0<3<5<4<6<1<2 = 0<3<5<4<2<1<6\n",
      "0<3<5<4<6<1<2 = 0<3<5<4<2<6<1\n",
      "0<3<5<4<6<2<1 = 0<3<5<4<1<2<6\n",
      "0<3<5<4<6<2<1 = 0<3<5<4<1<6<2\n",
      "0<3<5<4<6<2<1 = 0<3<5<4<2<1<6\n",
      "0<3<5<4<6<2<1 = 0<3<5<4<2<6<1\n",
      "0<3<5<4<6<2<1 = 0<3<5<4<6<1<2\n",
      "0<3<5<6<1<2<4 = 0<3<5<1<6<2<4\n",
      "0<3<5<6<1<4<2 = 0<3<5<1<6<4<2\n",
      "0<3<5<6<4<2<1 = 0<3<5<6<4<1<2\n",
      "0<3<6<2<4<5<1 = 0<3<6<2<4<1<5\n",
      "0<3<6<4<2<1<5 = 0<3<6<4<1<2<5\n",
      "0<3<6<4<2<5<1 = 0<3<6<4<1<2<5\n",
      "0<3<6<4<2<5<1 = 0<3<6<4<2<1<5\n",
      "0<3<6<4<5<1<2 = 0<3<6<4<1<5<2\n",
      "0<3<6<4<5<2<1 = 0<3<6<4<1<5<2\n",
      "0<3<6<4<5<2<1 = 0<3<6<4<5<1<2\n",
      "0<3<6<5<4<2<1 = 0<3<6<5<4<1<2\n",
      "0<4<1<2<5<6<3 = 0<4<1<2<5<3<6\n",
      "0<4<1<3<5<6<2 = 0<4<1<3<5<2<6\n",
      "0<4<1<5<2<6<3 = 0<4<1<5<2<3<6\n",
      "0<4<1<5<3<6<2 = 0<4<1<5<3<2<6\n",
      "0<4<1<5<6<2<3 = 0<4<1<5<2<3<6\n",
      "0<4<1<5<6<2<3 = 0<4<1<5<2<6<3\n",
      "0<4<1<5<6<3<2 = 0<4<1<5<3<2<6\n",
      "0<4<1<5<6<3<2 = 0<4<1<5<3<6<2\n",
      "0<4<2<1<5<6<3 = 0<4<2<1<5<3<6\n",
      "0<4<2<3<5<1<6 = 0<4<2<3<1<5<6\n",
      "0<4<2<3<5<6<1 = 0<4<2<3<1<5<6\n",
      "0<4<2<3<5<6<1 = 0<4<2<3<5<1<6\n",
      "0<4<2<3<6<1<5 = 0<4<2<3<1<6<5\n",
      "0<4<2<3<6<5<1 = 0<4<2<3<1<6<5\n",
      "0<4<2<3<6<5<1 = 0<4<2<3<6<1<5\n",
      "0<4<2<5<1<6<3 = 0<4<2<5<1<3<6\n",
      "0<4<2<5<3<6<1 = 0<4<2<5<3<1<6\n",
      "0<4<2<5<6<1<3 = 0<4<2<5<1<3<6\n",
      "0<4<2<5<6<1<3 = 0<4<2<5<1<6<3\n",
      "0<4<2<5<6<3<1 = 0<4<2<5<3<1<6\n",
      "0<4<2<5<6<3<1 = 0<4<2<5<3<6<1\n",
      "0<4<2<6<3<5<1 = 0<4<2<6<3<1<5\n",
      "0<4<3<1<5<6<2 = 0<4<3<1<5<2<6\n",
      "0<4<3<2<1<5<6 = 0<4<3<1<2<5<6\n",
      "0<4<3<2<1<6<5 = 0<4<3<1<2<6<5\n",
      "0<4<3<2<5<1<6 = 0<4<3<1<2<5<6\n",
      "0<4<3<2<5<1<6 = 0<4<3<2<1<5<6\n",
      "0<4<3<2<5<6<1 = 0<4<3<1<2<5<6\n",
      "0<4<3<2<5<6<1 = 0<4<3<2<1<5<6\n",
      "0<4<3<2<5<6<1 = 0<4<3<2<5<1<6\n",
      "0<4<3<2<6<1<5 = 0<4<3<1<2<6<5\n",
      "0<4<3<2<6<1<5 = 0<4<3<2<1<6<5\n",
      "0<4<3<2<6<5<1 = 0<4<3<1<2<6<5\n",
      "0<4<3<2<6<5<1 = 0<4<3<2<1<6<5\n",
      "0<4<3<2<6<5<1 = 0<4<3<2<6<1<5\n",
      "0<4<3<5<1<2<6 = 0<4<3<1<5<2<6\n",
      "0<4<3<5<1<2<6 = 0<4<3<1<5<6<2\n",
      "0<4<3<5<1<6<2 = 0<4<3<1<5<2<6\n",
      "0<4<3<5<1<6<2 = 0<4<3<1<5<6<2\n",
      "0<4<3<5<1<6<2 = 0<4<3<5<1<2<6\n",
      "0<4<3<5<2<1<6 = 0<4<3<1<5<2<6\n",
      "0<4<3<5<2<1<6 = 0<4<3<1<5<6<2\n",
      "0<4<3<5<2<1<6 = 0<4<3<5<1<2<6\n",
      "0<4<3<5<2<1<6 = 0<4<3<5<1<6<2\n",
      "0<4<3<5<2<6<1 = 0<4<3<1<5<2<6\n",
      "0<4<3<5<2<6<1 = 0<4<3<1<5<6<2\n",
      "0<4<3<5<2<6<1 = 0<4<3<5<1<2<6\n",
      "0<4<3<5<2<6<1 = 0<4<3<5<1<6<2\n",
      "0<4<3<5<2<6<1 = 0<4<3<5<2<1<6\n",
      "0<4<3<5<6<1<2 = 0<4<3<1<5<2<6\n",
      "0<4<3<5<6<1<2 = 0<4<3<1<5<6<2\n",
      "0<4<3<5<6<1<2 = 0<4<3<5<1<2<6\n",
      "0<4<3<5<6<1<2 = 0<4<3<5<1<6<2\n",
      "0<4<3<5<6<1<2 = 0<4<3<5<2<1<6\n",
      "0<4<3<5<6<1<2 = 0<4<3<5<2<6<1\n",
      "0<4<3<5<6<2<1 = 0<4<3<1<5<2<6\n",
      "0<4<3<5<6<2<1 = 0<4<3<1<5<6<2\n",
      "0<4<3<5<6<2<1 = 0<4<3<5<1<2<6\n",
      "0<4<3<5<6<2<1 = 0<4<3<5<1<6<2\n",
      "0<4<3<5<6<2<1 = 0<4<3<5<2<1<6\n",
      "0<4<3<5<6<2<1 = 0<4<3<5<2<6<1\n",
      "0<4<3<5<6<2<1 = 0<4<3<5<6<1<2\n",
      "0<4<3<6<1<2<5 = 0<4<3<1<6<2<5\n",
      "0<4<3<6<1<5<2 = 0<4<3<1<6<5<2\n",
      "0<4<3<6<2<1<5 = 0<4<3<1<6<2<5\n",
      "0<4<3<6<2<1<5 = 0<4<3<6<1<2<5\n",
      "0<4<3<6<2<5<1 = 0<4<3<1<6<2<5\n",
      "0<4<3<6<2<5<1 = 0<4<3<6<1<2<5\n",
      "0<4<3<6<2<5<1 = 0<4<3<6<2<1<5\n",
      "0<4<3<6<5<1<2 = 0<4<3<1<6<5<2\n",
      "0<4<3<6<5<1<2 = 0<4<3<6<1<5<2\n",
      "0<4<3<6<5<2<1 = 0<4<3<1<6<5<2\n",
      "0<4<3<6<5<2<1 = 0<4<3<6<1<5<2\n",
      "0<4<3<6<5<2<1 = 0<4<3<6<5<1<2\n",
      "0<4<5<1<2<6<3 = 0<4<5<1<2<3<6\n",
      "0<4<5<1<3<6<2 = 0<4<5<1<3<2<6\n",
      "0<4<5<1<6<2<3 = 0<4<5<1<2<3<6\n",
      "0<4<5<1<6<2<3 = 0<4<5<1<2<6<3\n",
      "0<4<5<1<6<3<2 = 0<4<5<1<3<2<6\n",
      "0<4<5<1<6<3<2 = 0<4<5<1<3<6<2\n",
      "0<4<5<2<1<6<3 = 0<4<5<2<1<3<6\n",
      "0<4<5<2<3<6<1 = 0<4<5<2<3<1<6\n",
      "0<4<5<2<6<1<3 = 0<4<5<2<1<3<6\n",
      "0<4<5<2<6<1<3 = 0<4<5<2<1<6<3\n",
      "0<4<5<2<6<3<1 = 0<4<5<2<3<1<6\n",
      "0<4<5<2<6<3<1 = 0<4<5<2<3<6<1\n",
      "0<4<5<3<1<6<2 = 0<4<5<3<1<2<6\n",
      "0<4<5<3<2<1<6 = 0<4<5<3<1<2<6\n",
      "0<4<5<3<2<1<6 = 0<4<5<3<1<6<2\n",
      "0<4<5<3<2<6<1 = 0<4<5<3<1<2<6\n",
      "0<4<5<3<2<6<1 = 0<4<5<3<1<6<2\n",
      "0<4<5<3<2<6<1 = 0<4<5<3<2<1<6\n",
      "0<4<5<3<6<1<2 = 0<4<5<3<1<2<6\n",
      "0<4<5<3<6<1<2 = 0<4<5<3<1<6<2\n",
      "0<4<5<3<6<1<2 = 0<4<5<3<2<1<6\n",
      "0<4<5<3<6<1<2 = 0<4<5<3<2<6<1\n",
      "0<4<5<3<6<2<1 = 0<4<5<3<1<2<6\n",
      "0<4<5<3<6<2<1 = 0<4<5<3<1<6<2\n",
      "0<4<5<3<6<2<1 = 0<4<5<3<2<1<6\n",
      "0<4<5<3<6<2<1 = 0<4<5<3<2<6<1\n",
      "0<4<5<3<6<2<1 = 0<4<5<3<6<1<2\n",
      "0<4<5<6<1<2<3 = 0<4<5<1<2<3<6\n",
      "0<4<5<6<1<2<3 = 0<4<5<1<2<6<3\n",
      "0<4<5<6<1<2<3 = 0<4<5<1<6<2<3\n",
      "0<4<5<6<1<3<2 = 0<4<5<1<3<2<6\n",
      "0<4<5<6<1<3<2 = 0<4<5<1<3<6<2\n",
      "0<4<5<6<1<3<2 = 0<4<5<1<6<3<2\n",
      "0<4<5<6<2<1<3 = 0<4<5<2<1<3<6\n",
      "0<4<5<6<2<1<3 = 0<4<5<2<1<6<3\n",
      "0<4<5<6<2<1<3 = 0<4<5<2<6<1<3\n",
      "0<4<5<6<2<3<1 = 0<4<5<2<3<1<6\n",
      "0<4<5<6<2<3<1 = 0<4<5<2<3<6<1\n",
      "0<4<5<6<2<3<1 = 0<4<5<2<6<3<1\n",
      "0<4<5<6<3<1<2 = 0<4<5<3<1<2<6\n",
      "0<4<5<6<3<1<2 = 0<4<5<3<1<6<2\n",
      "0<4<5<6<3<1<2 = 0<4<5<3<2<1<6\n",
      "0<4<5<6<3<1<2 = 0<4<5<3<2<6<1\n",
      "0<4<5<6<3<1<2 = 0<4<5<3<6<1<2\n",
      "0<4<5<6<3<1<2 = 0<4<5<3<6<2<1\n",
      "0<4<5<6<3<2<1 = 0<4<5<3<1<2<6\n",
      "0<4<5<6<3<2<1 = 0<4<5<3<1<6<2\n",
      "0<4<5<6<3<2<1 = 0<4<5<3<2<1<6\n",
      "0<4<5<6<3<2<1 = 0<4<5<3<2<6<1\n",
      "0<4<5<6<3<2<1 = 0<4<5<3<6<1<2\n",
      "0<4<5<6<3<2<1 = 0<4<5<3<6<2<1\n",
      "0<4<5<6<3<2<1 = 0<4<5<6<3<1<2\n",
      "0<4<6<2<3<5<1 = 0<4<6<2<3<1<5\n",
      "0<4<6<3<2<1<5 = 0<4<6<3<1<2<5\n",
      "0<4<6<3<2<5<1 = 0<4<6<3<1<2<5\n",
      "0<4<6<3<2<5<1 = 0<4<6<3<2<1<5\n",
      "0<4<6<3<5<1<2 = 0<4<6<3<1<5<2\n",
      "0<4<6<3<5<2<1 = 0<4<6<3<1<5<2\n",
      "0<4<6<3<5<2<1 = 0<4<6<3<5<1<2\n",
      "0<4<6<5<3<2<1 = 0<4<6<5<3<1<2\n",
      "0<5<1<2<4<6<3 = 0<5<1<2<4<3<6\n",
      "0<5<1<3<4<6<2 = 0<5<1<3<4<2<6\n",
      "0<5<1<4<2<6<3 = 0<5<1<4<2<3<6\n",
      "0<5<1<4<3<6<2 = 0<5<1<4<3<2<6\n",
      "0<5<1<4<6<2<3 = 0<5<1<4<2<3<6\n",
      "0<5<1<4<6<2<3 = 0<5<1<4<2<6<3\n",
      "0<5<1<4<6<3<2 = 0<5<1<4<3<2<6\n",
      "0<5<1<4<6<3<2 = 0<5<1<4<3<6<2\n",
      "0<5<2<1<4<6<3 = 0<5<2<1<4<3<6\n",
      "0<5<2<3<4<6<1 = 0<5<2<3<4<1<6\n",
      "0<5<2<3<6<1<4 = 0<5<2<3<1<6<4\n",
      "0<5<2<4<1<6<3 = 0<5<2<4<1<3<6\n",
      "0<5<2<4<3<6<1 = 0<5<2<4<3<1<6\n",
      "0<5<2<4<6<1<3 = 0<5<2<4<1<3<6\n",
      "0<5<2<4<6<1<3 = 0<5<2<4<1<6<3\n",
      "0<5<2<4<6<3<1 = 0<5<2<4<3<1<6\n",
      "0<5<2<4<6<3<1 = 0<5<2<4<3<6<1\n",
      "0<5<3<1<4<6<2 = 0<5<3<1<4<2<6\n",
      "0<5<3<2<4<6<1 = 0<5<3<2<4<1<6\n",
      "0<5<3<2<6<1<4 = 0<5<3<2<1<6<4\n",
      "0<5<3<4<1<6<2 = 0<5<3<4<1<2<6\n",
      "0<5<3<4<2<1<6 = 0<5<3<4<1<2<6\n",
      "0<5<3<4<2<1<6 = 0<5<3<4<1<6<2\n",
      "0<5<3<4<2<6<1 = 0<5<3<4<1<2<6\n",
      "0<5<3<4<2<6<1 = 0<5<3<4<1<6<2\n",
      "0<5<3<4<2<6<1 = 0<5<3<4<2<1<6\n",
      "0<5<3<4<6<1<2 = 0<5<3<4<1<2<6\n",
      "0<5<3<4<6<1<2 = 0<5<3<4<1<6<2\n",
      "0<5<3<4<6<1<2 = 0<5<3<4<2<1<6\n",
      "0<5<3<4<6<1<2 = 0<5<3<4<2<6<1\n",
      "0<5<3<4<6<2<1 = 0<5<3<4<1<2<6\n",
      "0<5<3<4<6<2<1 = 0<5<3<4<1<6<2\n",
      "0<5<3<4<6<2<1 = 0<5<3<4<2<1<6\n",
      "0<5<3<4<6<2<1 = 0<5<3<4<2<6<1\n",
      "0<5<3<4<6<2<1 = 0<5<3<4<6<1<2\n",
      "0<5<3<6<1<2<4 = 0<5<3<1<6<2<4\n",
      "0<5<3<6<1<4<2 = 0<5<3<1<6<4<2\n",
      "0<5<3<6<4<2<1 = 0<5<3<6<4<1<2\n",
      "0<5<4<1<2<6<3 = 0<5<4<1<2<3<6\n",
      "0<5<4<1<3<6<2 = 0<5<4<1<3<2<6\n",
      "0<5<4<1<6<2<3 = 0<5<4<1<2<3<6\n",
      "0<5<4<1<6<2<3 = 0<5<4<1<2<6<3\n",
      "0<5<4<1<6<3<2 = 0<5<4<1<3<2<6\n",
      "0<5<4<1<6<3<2 = 0<5<4<1<3<6<2\n",
      "0<5<4<2<1<6<3 = 0<5<4<2<1<3<6\n",
      "0<5<4<2<3<6<1 = 0<5<4<2<3<1<6\n",
      "0<5<4<2<6<1<3 = 0<5<4<2<1<3<6\n",
      "0<5<4<2<6<1<3 = 0<5<4<2<1<6<3\n",
      "0<5<4<2<6<3<1 = 0<5<4<2<3<1<6\n",
      "0<5<4<2<6<3<1 = 0<5<4<2<3<6<1\n",
      "0<5<4<3<1<6<2 = 0<5<4<3<1<2<6\n",
      "0<5<4<3<2<1<6 = 0<5<4<3<1<2<6\n",
      "0<5<4<3<2<1<6 = 0<5<4<3<1<6<2\n",
      "0<5<4<3<2<6<1 = 0<5<4<3<1<2<6\n",
      "0<5<4<3<2<6<1 = 0<5<4<3<1<6<2\n",
      "0<5<4<3<2<6<1 = 0<5<4<3<2<1<6\n",
      "0<5<4<3<6<1<2 = 0<5<4<3<1<2<6\n",
      "0<5<4<3<6<1<2 = 0<5<4<3<1<6<2\n",
      "0<5<4<3<6<1<2 = 0<5<4<3<2<1<6\n",
      "0<5<4<3<6<1<2 = 0<5<4<3<2<6<1\n",
      "0<5<4<3<6<2<1 = 0<5<4<3<1<2<6\n",
      "0<5<4<3<6<2<1 = 0<5<4<3<1<6<2\n",
      "0<5<4<3<6<2<1 = 0<5<4<3<2<1<6\n",
      "0<5<4<3<6<2<1 = 0<5<4<3<2<6<1\n",
      "0<5<4<3<6<2<1 = 0<5<4<3<6<1<2\n",
      "0<5<4<6<1<2<3 = 0<5<4<1<2<3<6\n",
      "0<5<4<6<1<2<3 = 0<5<4<1<2<6<3\n",
      "0<5<4<6<1<2<3 = 0<5<4<1<6<2<3\n",
      "0<5<4<6<1<3<2 = 0<5<4<1<3<2<6\n",
      "0<5<4<6<1<3<2 = 0<5<4<1<3<6<2\n",
      "0<5<4<6<1<3<2 = 0<5<4<1<6<3<2\n",
      "0<5<4<6<2<1<3 = 0<5<4<2<1<3<6\n",
      "0<5<4<6<2<1<3 = 0<5<4<2<1<6<3\n",
      "0<5<4<6<2<1<3 = 0<5<4<2<6<1<3\n",
      "0<5<4<6<2<3<1 = 0<5<4<2<3<1<6\n",
      "0<5<4<6<2<3<1 = 0<5<4<2<3<6<1\n",
      "0<5<4<6<2<3<1 = 0<5<4<2<6<3<1\n",
      "0<5<4<6<3<1<2 = 0<5<4<3<1<2<6\n",
      "0<5<4<6<3<1<2 = 0<5<4<3<1<6<2\n",
      "0<5<4<6<3<1<2 = 0<5<4<3<2<1<6\n",
      "0<5<4<6<3<1<2 = 0<5<4<3<2<6<1\n",
      "0<5<4<6<3<1<2 = 0<5<4<3<6<1<2\n",
      "0<5<4<6<3<1<2 = 0<5<4<3<6<2<1\n",
      "0<5<4<6<3<2<1 = 0<5<4<3<1<2<6\n",
      "0<5<4<6<3<2<1 = 0<5<4<3<1<6<2\n",
      "0<5<4<6<3<2<1 = 0<5<4<3<2<1<6\n",
      "0<5<4<6<3<2<1 = 0<5<4<3<2<6<1\n",
      "0<5<4<6<3<2<1 = 0<5<4<3<6<1<2\n",
      "0<5<4<6<3<2<1 = 0<5<4<3<6<2<1\n",
      "0<5<4<6<3<2<1 = 0<5<4<6<3<1<2\n",
      "0<5<6<3<4<2<1 = 0<5<6<3<4<1<2\n",
      "0<5<6<4<3<2<1 = 0<5<6<4<3<1<2\n",
      "0<6<2<3<4<5<1 = 0<6<2<3<4<1<5\n",
      "0<6<2<4<3<5<1 = 0<6<2<4<3<1<5\n",
      "0<6<3<2<4<5<1 = 0<6<3<2<4<1<5\n",
      "0<6<3<4<2<1<5 = 0<6<3<4<1<2<5\n",
      "0<6<3<4<2<5<1 = 0<6<3<4<1<2<5\n",
      "0<6<3<4<2<5<1 = 0<6<3<4<2<1<5\n",
      "0<6<3<4<5<1<2 = 0<6<3<4<1<5<2\n",
      "0<6<3<4<5<2<1 = 0<6<3<4<1<5<2\n",
      "0<6<3<4<5<2<1 = 0<6<3<4<5<1<2\n",
      "0<6<3<5<4<2<1 = 0<6<3<5<4<1<2\n",
      "0<6<4<2<3<5<1 = 0<6<4<2<3<1<5\n",
      "0<6<4<3<2<1<5 = 0<6<4<3<1<2<5\n",
      "0<6<4<3<2<5<1 = 0<6<4<3<1<2<5\n",
      "0<6<4<3<2<5<1 = 0<6<4<3<2<1<5\n",
      "0<6<4<3<5<1<2 = 0<6<4<3<1<5<2\n",
      "0<6<4<3<5<2<1 = 0<6<4<3<1<5<2\n",
      "0<6<4<3<5<2<1 = 0<6<4<3<5<1<2\n",
      "0<6<4<5<3<2<1 = 0<6<4<5<3<1<2\n",
      "0<6<5<3<4<2<1 = 0<6<5<3<4<1<2\n",
      "0<6<5<4<3<2<1 = 0<6<5<4<3<1<2\n",
      "1<0<2<4<5<6<3 = 1<0<2<4<5<3<6\n",
      "1<0<2<5<4<6<3 = 1<0<2<5<4<3<6\n",
      "1<0<3<4<5<6<2 = 1<0<3<4<5<2<6\n",
      "1<0<3<5<4<6<2 = 1<0<3<5<4<2<6\n",
      "1<0<4<2<5<6<3 = 1<0<4<2<5<3<6\n",
      "1<0<4<3<5<6<2 = 1<0<4<3<5<2<6\n",
      "1<0<4<5<2<6<3 = 1<0<4<5<2<3<6\n",
      "1<0<4<5<3<6<2 = 1<0<4<5<3<2<6\n",
      "1<0<4<5<6<2<3 = 1<0<4<5<2<3<6\n",
      "1<0<4<5<6<2<3 = 1<0<4<5<2<6<3\n",
      "1<0<4<5<6<3<2 = 1<0<4<5<3<2<6\n",
      "1<0<4<5<6<3<2 = 1<0<4<5<3<6<2\n",
      "1<0<5<2<4<6<3 = 1<0<5<2<4<3<6\n",
      "1<0<5<3<4<6<2 = 1<0<5<3<4<2<6\n",
      "1<0<5<4<2<6<3 = 1<0<5<4<2<3<6\n",
      "1<0<5<4<3<6<2 = 1<0<5<4<3<2<6\n",
      "1<0<5<4<6<2<3 = 1<0<5<4<2<3<6\n",
      "1<0<5<4<6<2<3 = 1<0<5<4<2<6<3\n",
      "1<0<5<4<6<3<2 = 1<0<5<4<3<2<6\n",
      "1<0<5<4<6<3<2 = 1<0<5<4<3<6<2\n",
      "1<2<0<4<5<6<3 = 1<2<0<4<5<3<6\n",
      "1<2<0<5<4<6<3 = 1<2<0<5<4<3<6\n",
      "1<2<3<4<5<0<6 = 1<2<3<4<0<5<6\n",
      "1<2<3<4<5<6<0 = 1<2<3<4<0<5<6\n",
      "1<2<3<4<5<6<0 = 1<2<3<4<5<0<6\n",
      "1<2<3<4<6<0<5 = 1<2<3<4<0<6<5\n",
      "1<2<3<4<6<5<0 = 1<2<3<4<0<6<5\n",
      "1<2<3<4<6<5<0 = 1<2<3<4<6<0<5\n",
      "1<2<3<5<4<6<0 = 1<2<3<5<4<0<6\n",
      "1<2<3<5<6<0<4 = 1<2<3<5<0<6<4\n",
      "1<2<3<6<4<5<0 = 1<2<3<6<4<0<5\n",
      "1<2<4<0<5<6<3 = 1<2<4<0<5<3<6\n",
      "1<2<4<3<0<5<6 = 1<2<4<0<3<5<6\n",
      "1<2<4<3<0<6<5 = 1<2<4<0<3<6<5\n",
      "1<2<4<3<5<0<6 = 1<2<4<0<3<5<6\n",
      "1<2<4<3<5<0<6 = 1<2<4<3<0<5<6\n",
      "1<2<4<3<5<6<0 = 1<2<4<0<3<5<6\n",
      "1<2<4<3<5<6<0 = 1<2<4<3<0<5<6\n",
      "1<2<4<3<5<6<0 = 1<2<4<3<5<0<6\n",
      "1<2<4<3<6<0<5 = 1<2<4<0<3<6<5\n",
      "1<2<4<3<6<0<5 = 1<2<4<3<0<6<5\n",
      "1<2<4<3<6<5<0 = 1<2<4<0<3<6<5\n",
      "1<2<4<3<6<5<0 = 1<2<4<3<0<6<5\n",
      "1<2<4<3<6<5<0 = 1<2<4<3<6<0<5\n",
      "1<2<4<5<0<3<6 = 1<2<4<0<5<3<6\n",
      "1<2<4<5<0<3<6 = 1<2<4<0<5<6<3\n",
      "1<2<4<5<0<6<3 = 1<2<4<0<5<3<6\n",
      "1<2<4<5<0<6<3 = 1<2<4<0<5<6<3\n",
      "1<2<4<5<0<6<3 = 1<2<4<5<0<3<6\n",
      "1<2<4<5<3<0<6 = 1<2<4<0<5<3<6\n",
      "1<2<4<5<3<0<6 = 1<2<4<0<5<6<3\n",
      "1<2<4<5<3<0<6 = 1<2<4<5<0<3<6\n",
      "1<2<4<5<3<0<6 = 1<2<4<5<0<6<3\n",
      "1<2<4<5<3<6<0 = 1<2<4<0<5<3<6\n",
      "1<2<4<5<3<6<0 = 1<2<4<0<5<6<3\n",
      "1<2<4<5<3<6<0 = 1<2<4<5<0<3<6\n",
      "1<2<4<5<3<6<0 = 1<2<4<5<0<6<3\n",
      "1<2<4<5<3<6<0 = 1<2<4<5<3<0<6\n",
      "1<2<4<5<6<0<3 = 1<2<4<0<5<3<6\n",
      "1<2<4<5<6<0<3 = 1<2<4<0<5<6<3\n",
      "1<2<4<5<6<0<3 = 1<2<4<5<0<3<6\n",
      "1<2<4<5<6<0<3 = 1<2<4<5<0<6<3\n",
      "1<2<4<5<6<0<3 = 1<2<4<5<3<0<6\n",
      "1<2<4<5<6<0<3 = 1<2<4<5<3<6<0\n",
      "1<2<4<5<6<3<0 = 1<2<4<0<5<3<6\n",
      "1<2<4<5<6<3<0 = 1<2<4<0<5<6<3\n",
      "1<2<4<5<6<3<0 = 1<2<4<5<0<3<6\n",
      "1<2<4<5<6<3<0 = 1<2<4<5<0<6<3\n",
      "1<2<4<5<6<3<0 = 1<2<4<5<3<0<6\n",
      "1<2<4<5<6<3<0 = 1<2<4<5<3<6<0\n",
      "1<2<4<5<6<3<0 = 1<2<4<5<6<0<3\n",
      "1<2<4<6<0<3<5 = 1<2<4<0<6<3<5\n",
      "1<2<4<6<0<5<3 = 1<2<4<0<6<5<3\n",
      "1<2<4<6<3<0<5 = 1<2<4<0<6<3<5\n",
      "1<2<4<6<3<0<5 = 1<2<4<6<0<3<5\n",
      "1<2<4<6<3<5<0 = 1<2<4<0<6<3<5\n",
      "1<2<4<6<3<5<0 = 1<2<4<6<0<3<5\n",
      "1<2<4<6<3<5<0 = 1<2<4<6<3<0<5\n",
      "1<2<4<6<5<0<3 = 1<2<4<0<6<5<3\n",
      "1<2<4<6<5<0<3 = 1<2<4<6<0<5<3\n",
      "1<2<4<6<5<3<0 = 1<2<4<0<6<5<3\n",
      "1<2<4<6<5<3<0 = 1<2<4<6<0<5<3\n",
      "1<2<4<6<5<3<0 = 1<2<4<6<5<0<3\n",
      "1<2<5<0<4<6<3 = 1<2<5<0<4<3<6\n",
      "1<2<5<3<4<6<0 = 1<2<5<3<4<0<6\n",
      "1<2<5<3<6<0<4 = 1<2<5<3<0<6<4\n",
      "1<2<5<4<0<6<3 = 1<2<5<4<0<3<6\n",
      "1<2<5<4<3<0<6 = 1<2<5<4<0<3<6\n",
      "1<2<5<4<3<0<6 = 1<2<5<4<0<6<3\n",
      "1<2<5<4<3<6<0 = 1<2<5<4<0<3<6\n",
      "1<2<5<4<3<6<0 = 1<2<5<4<0<6<3\n",
      "1<2<5<4<3<6<0 = 1<2<5<4<3<0<6\n",
      "1<2<5<4<6<0<3 = 1<2<5<4<0<3<6\n",
      "1<2<5<4<6<0<3 = 1<2<5<4<0<6<3\n",
      "1<2<5<4<6<0<3 = 1<2<5<4<3<0<6\n",
      "1<2<5<4<6<0<3 = 1<2<5<4<3<6<0\n",
      "1<2<5<4<6<3<0 = 1<2<5<4<0<3<6\n",
      "1<2<5<4<6<3<0 = 1<2<5<4<0<6<3\n",
      "1<2<5<4<6<3<0 = 1<2<5<4<3<0<6\n",
      "1<2<5<4<6<3<0 = 1<2<5<4<3<6<0\n",
      "1<2<5<4<6<3<0 = 1<2<5<4<6<0<3\n",
      "1<2<5<6<0<3<4 = 1<2<5<0<6<3<4\n",
      "1<2<5<6<0<4<3 = 1<2<5<0<6<4<3\n",
      "1<2<5<6<4<3<0 = 1<2<5<6<4<0<3\n",
      "1<2<6<3<4<5<0 = 1<2<6<3<4<0<5\n",
      "1<2<6<4<3<0<5 = 1<2<6<4<0<3<5\n",
      "1<2<6<4<3<5<0 = 1<2<6<4<0<3<5\n",
      "1<2<6<4<3<5<0 = 1<2<6<4<3<0<5\n",
      "1<2<6<4<5<0<3 = 1<2<6<4<0<5<3\n",
      "1<2<6<4<5<3<0 = 1<2<6<4<0<5<3\n",
      "1<2<6<4<5<3<0 = 1<2<6<4<5<0<3\n",
      "1<2<6<5<4<3<0 = 1<2<6<5<4<0<3\n",
      "1<3<0<4<5<6<2 = 1<3<0<4<5<2<6\n",
      "1<3<0<5<4<6<2 = 1<3<0<5<4<2<6\n",
      "1<3<2<4<5<0<6 = 1<3<2<4<0<5<6\n",
      "1<3<2<4<5<6<0 = 1<3<2<4<0<5<6\n",
      "1<3<2<4<5<6<0 = 1<3<2<4<5<0<6\n",
      "1<3<2<4<6<0<5 = 1<3<2<4<0<6<5\n",
      "1<3<2<4<6<5<0 = 1<3<2<4<0<6<5\n",
      "1<3<2<4<6<5<0 = 1<3<2<4<6<0<5\n",
      "1<3<2<5<4<6<0 = 1<3<2<5<4<0<6\n",
      "1<3<2<5<6<0<4 = 1<3<2<5<0<6<4\n",
      "1<3<2<6<4<5<0 = 1<3<2<6<4<0<5\n",
      "1<3<4<0<5<6<2 = 1<3<4<0<5<2<6\n",
      "1<3<4<2<5<0<6 = 1<3<4<2<0<5<6\n",
      "1<3<4<2<5<6<0 = 1<3<4<2<0<5<6\n",
      "1<3<4<2<5<6<0 = 1<3<4<2<5<0<6\n",
      "1<3<4<2<6<0<5 = 1<3<4<2<0<6<5\n",
      "1<3<4<2<6<5<0 = 1<3<4<2<0<6<5\n",
      "1<3<4<2<6<5<0 = 1<3<4<2<6<0<5\n",
      "1<3<4<5<0<6<2 = 1<3<4<5<0<2<6\n",
      "1<3<4<5<2<6<0 = 1<3<4<5<2<0<6\n",
      "1<3<4<5<6<0<2 = 1<3<4<5<0<2<6\n",
      "1<3<4<5<6<0<2 = 1<3<4<5<0<6<2\n",
      "1<3<4<5<6<2<0 = 1<3<4<5<2<0<6\n",
      "1<3<4<5<6<2<0 = 1<3<4<5<2<6<0\n",
      "1<3<4<6<2<5<0 = 1<3<4<6<2<0<5\n",
      "1<3<5<0<4<6<2 = 1<3<5<0<4<2<6\n",
      "1<3<5<2<4<6<0 = 1<3<5<2<4<0<6\n",
      "1<3<5<2<6<0<4 = 1<3<5<2<0<6<4\n",
      "1<3<5<4<0<6<2 = 1<3<5<4<0<2<6\n",
      "1<3<5<4<2<6<0 = 1<3<5<4<2<0<6\n",
      "1<3<5<4<6<0<2 = 1<3<5<4<0<2<6\n",
      "1<3<5<4<6<0<2 = 1<3<5<4<0<6<2\n",
      "1<3<5<4<6<2<0 = 1<3<5<4<2<0<6\n",
      "1<3<5<4<6<2<0 = 1<3<5<4<2<6<0\n",
      "1<3<6<2<4<5<0 = 1<3<6<2<4<0<5\n",
      "1<3<6<4<2<5<0 = 1<3<6<4<2<0<5\n",
      "1<4<0<2<5<6<3 = 1<4<0<2<5<3<6\n",
      "1<4<0<3<5<6<2 = 1<4<0<3<5<2<6\n",
      "1<4<0<5<2<6<3 = 1<4<0<5<2<3<6\n",
      "1<4<0<5<3<6<2 = 1<4<0<5<3<2<6\n",
      "1<4<0<5<6<2<3 = 1<4<0<5<2<3<6\n",
      "1<4<0<5<6<2<3 = 1<4<0<5<2<6<3\n",
      "1<4<0<5<6<3<2 = 1<4<0<5<3<2<6\n",
      "1<4<0<5<6<3<2 = 1<4<0<5<3<6<2\n",
      "1<4<2<0<5<6<3 = 1<4<2<0<5<3<6\n",
      "1<4<2<3<0<5<6 = 1<4<2<0<3<5<6\n",
      "1<4<2<3<0<6<5 = 1<4<2<0<3<6<5\n",
      "1<4<2<3<5<0<6 = 1<4<2<0<3<5<6\n",
      "1<4<2<3<5<0<6 = 1<4<2<3<0<5<6\n",
      "1<4<2<3<5<6<0 = 1<4<2<0<3<5<6\n",
      "1<4<2<3<5<6<0 = 1<4<2<3<0<5<6\n",
      "1<4<2<3<5<6<0 = 1<4<2<3<5<0<6\n",
      "1<4<2<3<6<0<5 = 1<4<2<0<3<6<5\n",
      "1<4<2<3<6<0<5 = 1<4<2<3<0<6<5\n",
      "1<4<2<3<6<5<0 = 1<4<2<0<3<6<5\n",
      "1<4<2<3<6<5<0 = 1<4<2<3<0<6<5\n",
      "1<4<2<3<6<5<0 = 1<4<2<3<6<0<5\n",
      "1<4<2<5<0<3<6 = 1<4<2<0<5<3<6\n",
      "1<4<2<5<0<3<6 = 1<4<2<0<5<6<3\n",
      "1<4<2<5<0<6<3 = 1<4<2<0<5<3<6\n",
      "1<4<2<5<0<6<3 = 1<4<2<0<5<6<3\n",
      "1<4<2<5<0<6<3 = 1<4<2<5<0<3<6\n",
      "1<4<2<5<3<0<6 = 1<4<2<0<5<3<6\n",
      "1<4<2<5<3<0<6 = 1<4<2<0<5<6<3\n",
      "1<4<2<5<3<0<6 = 1<4<2<5<0<3<6\n",
      "1<4<2<5<3<0<6 = 1<4<2<5<0<6<3\n",
      "1<4<2<5<3<6<0 = 1<4<2<0<5<3<6\n",
      "1<4<2<5<3<6<0 = 1<4<2<0<5<6<3\n",
      "1<4<2<5<3<6<0 = 1<4<2<5<0<3<6\n",
      "1<4<2<5<3<6<0 = 1<4<2<5<0<6<3\n",
      "1<4<2<5<3<6<0 = 1<4<2<5<3<0<6\n",
      "1<4<2<5<6<0<3 = 1<4<2<0<5<3<6\n",
      "1<4<2<5<6<0<3 = 1<4<2<0<5<6<3\n",
      "1<4<2<5<6<0<3 = 1<4<2<5<0<3<6\n",
      "1<4<2<5<6<0<3 = 1<4<2<5<0<6<3\n",
      "1<4<2<5<6<0<3 = 1<4<2<5<3<0<6\n",
      "1<4<2<5<6<0<3 = 1<4<2<5<3<6<0\n",
      "1<4<2<5<6<3<0 = 1<4<2<0<5<3<6\n",
      "1<4<2<5<6<3<0 = 1<4<2<0<5<6<3\n",
      "1<4<2<5<6<3<0 = 1<4<2<5<0<3<6\n",
      "1<4<2<5<6<3<0 = 1<4<2<5<0<6<3\n",
      "1<4<2<5<6<3<0 = 1<4<2<5<3<0<6\n",
      "1<4<2<5<6<3<0 = 1<4<2<5<3<6<0\n",
      "1<4<2<5<6<3<0 = 1<4<2<5<6<0<3\n",
      "1<4<2<6<0<3<5 = 1<4<2<0<6<3<5\n",
      "1<4<2<6<0<5<3 = 1<4<2<0<6<5<3\n",
      "1<4<2<6<3<0<5 = 1<4<2<0<6<3<5\n",
      "1<4<2<6<3<0<5 = 1<4<2<6<0<3<5\n",
      "1<4<2<6<3<5<0 = 1<4<2<0<6<3<5\n",
      "1<4<2<6<3<5<0 = 1<4<2<6<0<3<5\n",
      "1<4<2<6<3<5<0 = 1<4<2<6<3<0<5\n",
      "1<4<2<6<5<0<3 = 1<4<2<0<6<5<3\n",
      "1<4<2<6<5<0<3 = 1<4<2<6<0<5<3\n",
      "1<4<2<6<5<3<0 = 1<4<2<0<6<5<3\n",
      "1<4<2<6<5<3<0 = 1<4<2<6<0<5<3\n",
      "1<4<2<6<5<3<0 = 1<4<2<6<5<0<3\n",
      "1<4<3<0<5<6<2 = 1<4<3<0<5<2<6\n",
      "1<4<3<2<5<0<6 = 1<4<3<2<0<5<6\n",
      "1<4<3<2<5<6<0 = 1<4<3<2<0<5<6\n",
      "1<4<3<2<5<6<0 = 1<4<3<2<5<0<6\n",
      "1<4<3<2<6<0<5 = 1<4<3<2<0<6<5\n",
      "1<4<3<2<6<5<0 = 1<4<3<2<0<6<5\n",
      "1<4<3<2<6<5<0 = 1<4<3<2<6<0<5\n",
      "1<4<3<5<0<6<2 = 1<4<3<5<0<2<6\n",
      "1<4<3<5<2<6<0 = 1<4<3<5<2<0<6\n",
      "1<4<3<5<6<0<2 = 1<4<3<5<0<2<6\n",
      "1<4<3<5<6<0<2 = 1<4<3<5<0<6<2\n",
      "1<4<3<5<6<2<0 = 1<4<3<5<2<0<6\n",
      "1<4<3<5<6<2<0 = 1<4<3<5<2<6<0\n",
      "1<4<3<6<2<5<0 = 1<4<3<6<2<0<5\n",
      "1<4<5<0<2<6<3 = 1<4<5<0<2<3<6\n",
      "1<4<5<0<3<6<2 = 1<4<5<0<3<2<6\n",
      "1<4<5<0<6<2<3 = 1<4<5<0<2<3<6\n",
      "1<4<5<0<6<2<3 = 1<4<5<0<2<6<3\n",
      "1<4<5<0<6<3<2 = 1<4<5<0<3<2<6\n",
      "1<4<5<0<6<3<2 = 1<4<5<0<3<6<2\n",
      "1<4<5<2<0<6<3 = 1<4<5<2<0<3<6\n",
      "1<4<5<2<3<0<6 = 1<4<5<2<0<3<6\n",
      "1<4<5<2<3<0<6 = 1<4<5<2<0<6<3\n",
      "1<4<5<2<3<6<0 = 1<4<5<2<0<3<6\n",
      "1<4<5<2<3<6<0 = 1<4<5<2<0<6<3\n",
      "1<4<5<2<3<6<0 = 1<4<5<2<3<0<6\n",
      "1<4<5<2<6<0<3 = 1<4<5<2<0<3<6\n",
      "1<4<5<2<6<0<3 = 1<4<5<2<0<6<3\n",
      "1<4<5<2<6<0<3 = 1<4<5<2<3<0<6\n",
      "1<4<5<2<6<0<3 = 1<4<5<2<3<6<0\n",
      "1<4<5<2<6<3<0 = 1<4<5<2<0<3<6\n",
      "1<4<5<2<6<3<0 = 1<4<5<2<0<6<3\n",
      "1<4<5<2<6<3<0 = 1<4<5<2<3<0<6\n",
      "1<4<5<2<6<3<0 = 1<4<5<2<3<6<0\n",
      "1<4<5<2<6<3<0 = 1<4<5<2<6<0<3\n",
      "1<4<5<3<0<6<2 = 1<4<5<3<0<2<6\n",
      "1<4<5<3<2<6<0 = 1<4<5<3<2<0<6\n",
      "1<4<5<3<6<0<2 = 1<4<5<3<0<2<6\n",
      "1<4<5<3<6<0<2 = 1<4<5<3<0<6<2\n",
      "1<4<5<3<6<2<0 = 1<4<5<3<2<0<6\n",
      "1<4<5<3<6<2<0 = 1<4<5<3<2<6<0\n",
      "1<4<5<6<0<2<3 = 1<4<5<0<2<3<6\n",
      "1<4<5<6<0<2<3 = 1<4<5<0<2<6<3\n",
      "1<4<5<6<0<2<3 = 1<4<5<0<6<2<3\n",
      "1<4<5<6<0<3<2 = 1<4<5<0<3<2<6\n",
      "1<4<5<6<0<3<2 = 1<4<5<0<3<6<2\n",
      "1<4<5<6<0<3<2 = 1<4<5<0<6<3<2\n",
      "1<4<5<6<2<0<3 = 1<4<5<2<0<3<6\n",
      "1<4<5<6<2<0<3 = 1<4<5<2<0<6<3\n",
      "1<4<5<6<2<0<3 = 1<4<5<2<3<0<6\n",
      "1<4<5<6<2<0<3 = 1<4<5<2<3<6<0\n",
      "1<4<5<6<2<0<3 = 1<4<5<2<6<0<3\n",
      "1<4<5<6<2<0<3 = 1<4<5<2<6<3<0\n",
      "1<4<5<6<2<3<0 = 1<4<5<2<0<3<6\n",
      "1<4<5<6<2<3<0 = 1<4<5<2<0<6<3\n",
      "1<4<5<6<2<3<0 = 1<4<5<2<3<0<6\n",
      "1<4<5<6<2<3<0 = 1<4<5<2<3<6<0\n",
      "1<4<5<6<2<3<0 = 1<4<5<2<6<0<3\n",
      "1<4<5<6<2<3<0 = 1<4<5<2<6<3<0\n",
      "1<4<5<6<2<3<0 = 1<4<5<6<2<0<3\n",
      "1<4<5<6<3<0<2 = 1<4<5<3<0<2<6\n",
      "1<4<5<6<3<0<2 = 1<4<5<3<0<6<2\n",
      "1<4<5<6<3<0<2 = 1<4<5<3<6<0<2\n",
      "1<4<5<6<3<2<0 = 1<4<5<3<2<0<6\n",
      "1<4<5<6<3<2<0 = 1<4<5<3<2<6<0\n",
      "1<4<5<6<3<2<0 = 1<4<5<3<6<2<0\n",
      "1<4<6<2<3<0<5 = 1<4<6<2<0<3<5\n",
      "1<4<6<2<3<5<0 = 1<4<6<2<0<3<5\n",
      "1<4<6<2<3<5<0 = 1<4<6<2<3<0<5\n",
      "1<4<6<2<5<0<3 = 1<4<6<2<0<5<3\n",
      "1<4<6<2<5<3<0 = 1<4<6<2<0<5<3\n",
      "1<4<6<2<5<3<0 = 1<4<6<2<5<0<3\n",
      "1<4<6<3<2<5<0 = 1<4<6<3<2<0<5\n",
      "1<4<6<5<2<3<0 = 1<4<6<5<2<0<3\n",
      "1<5<0<2<4<6<3 = 1<5<0<2<4<3<6\n",
      "1<5<0<3<4<6<2 = 1<5<0<3<4<2<6\n",
      "1<5<0<4<2<6<3 = 1<5<0<4<2<3<6\n",
      "1<5<0<4<3<6<2 = 1<5<0<4<3<2<6\n",
      "1<5<0<4<6<2<3 = 1<5<0<4<2<3<6\n",
      "1<5<0<4<6<2<3 = 1<5<0<4<2<6<3\n",
      "1<5<0<4<6<3<2 = 1<5<0<4<3<2<6\n",
      "1<5<0<4<6<3<2 = 1<5<0<4<3<6<2\n",
      "1<5<2<0<4<6<3 = 1<5<2<0<4<3<6\n",
      "1<5<2<3<4<6<0 = 1<5<2<3<4<0<6\n",
      "1<5<2<3<6<0<4 = 1<5<2<3<0<6<4\n",
      "1<5<2<4<0<6<3 = 1<5<2<4<0<3<6\n",
      "1<5<2<4<3<0<6 = 1<5<2<4<0<3<6\n",
      "1<5<2<4<3<0<6 = 1<5<2<4<0<6<3\n",
      "1<5<2<4<3<6<0 = 1<5<2<4<0<3<6\n",
      "1<5<2<4<3<6<0 = 1<5<2<4<0<6<3\n",
      "1<5<2<4<3<6<0 = 1<5<2<4<3<0<6\n",
      "1<5<2<4<6<0<3 = 1<5<2<4<0<3<6\n",
      "1<5<2<4<6<0<3 = 1<5<2<4<0<6<3\n",
      "1<5<2<4<6<0<3 = 1<5<2<4<3<0<6\n",
      "1<5<2<4<6<0<3 = 1<5<2<4<3<6<0\n",
      "1<5<2<4<6<3<0 = 1<5<2<4<0<3<6\n",
      "1<5<2<4<6<3<0 = 1<5<2<4<0<6<3\n",
      "1<5<2<4<6<3<0 = 1<5<2<4<3<0<6\n",
      "1<5<2<4<6<3<0 = 1<5<2<4<3<6<0\n",
      "1<5<2<4<6<3<0 = 1<5<2<4<6<0<3\n",
      "1<5<2<6<0<3<4 = 1<5<2<0<6<3<4\n",
      "1<5<2<6<0<4<3 = 1<5<2<0<6<4<3\n",
      "1<5<2<6<4<3<0 = 1<5<2<6<4<0<3\n",
      "1<5<3<0<4<6<2 = 1<5<3<0<4<2<6\n",
      "1<5<3<2<4<6<0 = 1<5<3<2<4<0<6\n",
      "1<5<3<2<6<0<4 = 1<5<3<2<0<6<4\n",
      "1<5<3<4<0<6<2 = 1<5<3<4<0<2<6\n",
      "1<5<3<4<2<6<0 = 1<5<3<4<2<0<6\n",
      "1<5<3<4<6<0<2 = 1<5<3<4<0<2<6\n",
      "1<5<3<4<6<0<2 = 1<5<3<4<0<6<2\n",
      "1<5<3<4<6<2<0 = 1<5<3<4<2<0<6\n",
      "1<5<3<4<6<2<0 = 1<5<3<4<2<6<0\n",
      "1<5<4<0<2<6<3 = 1<5<4<0<2<3<6\n",
      "1<5<4<0<3<6<2 = 1<5<4<0<3<2<6\n",
      "1<5<4<0<6<2<3 = 1<5<4<0<2<3<6\n",
      "1<5<4<0<6<2<3 = 1<5<4<0<2<6<3\n",
      "1<5<4<0<6<3<2 = 1<5<4<0<3<2<6\n",
      "1<5<4<0<6<3<2 = 1<5<4<0<3<6<2\n",
      "1<5<4<2<0<6<3 = 1<5<4<2<0<3<6\n",
      "1<5<4<2<3<0<6 = 1<5<4<2<0<3<6\n",
      "1<5<4<2<3<0<6 = 1<5<4<2<0<6<3\n",
      "1<5<4<2<3<6<0 = 1<5<4<2<0<3<6\n",
      "1<5<4<2<3<6<0 = 1<5<4<2<0<6<3\n",
      "1<5<4<2<3<6<0 = 1<5<4<2<3<0<6\n",
      "1<5<4<2<6<0<3 = 1<5<4<2<0<3<6\n",
      "1<5<4<2<6<0<3 = 1<5<4<2<0<6<3\n",
      "1<5<4<2<6<0<3 = 1<5<4<2<3<0<6\n",
      "1<5<4<2<6<0<3 = 1<5<4<2<3<6<0\n",
      "1<5<4<2<6<3<0 = 1<5<4<2<0<3<6\n",
      "1<5<4<2<6<3<0 = 1<5<4<2<0<6<3\n",
      "1<5<4<2<6<3<0 = 1<5<4<2<3<0<6\n",
      "1<5<4<2<6<3<0 = 1<5<4<2<3<6<0\n",
      "1<5<4<2<6<3<0 = 1<5<4<2<6<0<3\n",
      "1<5<4<3<0<6<2 = 1<5<4<3<0<2<6\n",
      "1<5<4<3<2<6<0 = 1<5<4<3<2<0<6\n",
      "1<5<4<3<6<0<2 = 1<5<4<3<0<2<6\n",
      "1<5<4<3<6<0<2 = 1<5<4<3<0<6<2\n",
      "1<5<4<3<6<2<0 = 1<5<4<3<2<0<6\n",
      "1<5<4<3<6<2<0 = 1<5<4<3<2<6<0\n",
      "1<5<4<6<0<2<3 = 1<5<4<0<2<3<6\n",
      "1<5<4<6<0<2<3 = 1<5<4<0<2<6<3\n",
      "1<5<4<6<0<2<3 = 1<5<4<0<6<2<3\n",
      "1<5<4<6<0<3<2 = 1<5<4<0<3<2<6\n",
      "1<5<4<6<0<3<2 = 1<5<4<0<3<6<2\n",
      "1<5<4<6<0<3<2 = 1<5<4<0<6<3<2\n",
      "1<5<4<6<2<0<3 = 1<5<4<2<0<3<6\n",
      "1<5<4<6<2<0<3 = 1<5<4<2<0<6<3\n",
      "1<5<4<6<2<0<3 = 1<5<4<2<3<0<6\n",
      "1<5<4<6<2<0<3 = 1<5<4<2<3<6<0\n",
      "1<5<4<6<2<0<3 = 1<5<4<2<6<0<3\n",
      "1<5<4<6<2<0<3 = 1<5<4<2<6<3<0\n",
      "1<5<4<6<2<3<0 = 1<5<4<2<0<3<6\n",
      "1<5<4<6<2<3<0 = 1<5<4<2<0<6<3\n",
      "1<5<4<6<2<3<0 = 1<5<4<2<3<0<6\n",
      "1<5<4<6<2<3<0 = 1<5<4<2<3<6<0\n",
      "1<5<4<6<2<3<0 = 1<5<4<2<6<0<3\n",
      "1<5<4<6<2<3<0 = 1<5<4<2<6<3<0\n",
      "1<5<4<6<2<3<0 = 1<5<4<6<2<0<3\n",
      "1<5<4<6<3<0<2 = 1<5<4<3<0<2<6\n",
      "1<5<4<6<3<0<2 = 1<5<4<3<0<6<2\n",
      "1<5<4<6<3<0<2 = 1<5<4<3<6<0<2\n",
      "1<5<4<6<3<2<0 = 1<5<4<3<2<0<6\n",
      "1<5<4<6<3<2<0 = 1<5<4<3<2<6<0\n",
      "1<5<4<6<3<2<0 = 1<5<4<3<6<2<0\n",
      "1<5<6<2<4<3<0 = 1<5<6<2<4<0<3\n",
      "1<5<6<4<2<3<0 = 1<5<6<4<2<0<3\n",
      "1<6<2<3<4<5<0 = 1<6<2<3<4<0<5\n",
      "1<6<2<4<3<0<5 = 1<6<2<4<0<3<5\n",
      "1<6<2<4<3<5<0 = 1<6<2<4<0<3<5\n",
      "1<6<2<4<3<5<0 = 1<6<2<4<3<0<5\n",
      "1<6<2<4<5<0<3 = 1<6<2<4<0<5<3\n",
      "1<6<2<4<5<3<0 = 1<6<2<4<0<5<3\n",
      "1<6<2<4<5<3<0 = 1<6<2<4<5<0<3\n",
      "1<6<2<5<4<3<0 = 1<6<2<5<4<0<3\n",
      "1<6<3<2<4<5<0 = 1<6<3<2<4<0<5\n",
      "1<6<3<4<2<5<0 = 1<6<3<4<2<0<5\n",
      "1<6<4<2<3<0<5 = 1<6<4<2<0<3<5\n",
      "1<6<4<2<3<5<0 = 1<6<4<2<0<3<5\n",
      "1<6<4<2<3<5<0 = 1<6<4<2<3<0<5\n",
      "1<6<4<2<5<0<3 = 1<6<4<2<0<5<3\n",
      "1<6<4<2<5<3<0 = 1<6<4<2<0<5<3\n",
      "1<6<4<2<5<3<0 = 1<6<4<2<5<0<3\n",
      "1<6<4<3<2<5<0 = 1<6<4<3<2<0<5\n",
      "1<6<4<5<2<3<0 = 1<6<4<5<2<0<3\n",
      "1<6<5<2<4<3<0 = 1<6<5<2<4<0<3\n",
      "1<6<5<4<2<3<0 = 1<6<5<4<2<0<3\n",
      "2<0<1<4<5<6<3 = 2<0<1<4<5<3<6\n",
      "2<0<1<5<4<6<3 = 2<0<1<5<4<3<6\n",
      "2<0<3<4<5<1<6 = 2<0<3<4<1<5<6\n",
      "2<0<3<4<5<6<1 = 2<0<3<4<1<5<6\n",
      "2<0<3<4<5<6<1 = 2<0<3<4<5<1<6\n",
      "2<0<3<4<6<1<5 = 2<0<3<4<1<6<5\n",
      "2<0<3<4<6<5<1 = 2<0<3<4<1<6<5\n",
      "2<0<3<4<6<5<1 = 2<0<3<4<6<1<5\n",
      "2<0<3<5<4<6<1 = 2<0<3<5<4<1<6\n",
      "2<0<3<5<6<1<4 = 2<0<3<5<1<6<4\n",
      "2<0<3<6<4<5<1 = 2<0<3<6<4<1<5\n",
      "2<0<4<1<5<6<3 = 2<0<4<1<5<3<6\n",
      "2<0<4<3<5<1<6 = 2<0<4<3<1<5<6\n",
      "2<0<4<3<5<6<1 = 2<0<4<3<1<5<6\n",
      "2<0<4<3<5<6<1 = 2<0<4<3<5<1<6\n",
      "2<0<4<3<6<1<5 = 2<0<4<3<1<6<5\n",
      "2<0<4<3<6<5<1 = 2<0<4<3<1<6<5\n",
      "2<0<4<3<6<5<1 = 2<0<4<3<6<1<5\n",
      "2<0<4<5<1<6<3 = 2<0<4<5<1<3<6\n",
      "2<0<4<5<3<6<1 = 2<0<4<5<3<1<6\n",
      "2<0<4<5<6<1<3 = 2<0<4<5<1<3<6\n",
      "2<0<4<5<6<1<3 = 2<0<4<5<1<6<3\n",
      "2<0<4<5<6<3<1 = 2<0<4<5<3<1<6\n",
      "2<0<4<5<6<3<1 = 2<0<4<5<3<6<1\n",
      "2<0<4<6<3<5<1 = 2<0<4<6<3<1<5\n",
      "2<0<5<1<4<6<3 = 2<0<5<1<4<3<6\n",
      "2<0<5<3<4<6<1 = 2<0<5<3<4<1<6\n",
      "2<0<5<3<6<1<4 = 2<0<5<3<1<6<4\n",
      "2<0<5<4<1<6<3 = 2<0<5<4<1<3<6\n",
      "2<0<5<4<3<6<1 = 2<0<5<4<3<1<6\n",
      "2<0<5<4<6<1<3 = 2<0<5<4<1<3<6\n",
      "2<0<5<4<6<1<3 = 2<0<5<4<1<6<3\n",
      "2<0<5<4<6<3<1 = 2<0<5<4<3<1<6\n",
      "2<0<5<4<6<3<1 = 2<0<5<4<3<6<1\n",
      "2<0<6<3<4<5<1 = 2<0<6<3<4<1<5\n",
      "2<0<6<4<3<5<1 = 2<0<6<4<3<1<5\n",
      "2<1<0<4<5<6<3 = 2<1<0<4<5<3<6\n",
      "2<1<0<5<4<6<3 = 2<1<0<5<4<3<6\n",
      "2<1<3<4<5<0<6 = 2<1<3<4<0<5<6\n",
      "2<1<3<4<5<6<0 = 2<1<3<4<0<5<6\n",
      "2<1<3<4<5<6<0 = 2<1<3<4<5<0<6\n",
      "2<1<3<4<6<0<5 = 2<1<3<4<0<6<5\n",
      "2<1<3<4<6<5<0 = 2<1<3<4<0<6<5\n",
      "2<1<3<4<6<5<0 = 2<1<3<4<6<0<5\n",
      "2<1<3<5<4<6<0 = 2<1<3<5<4<0<6\n",
      "2<1<3<5<6<0<4 = 2<1<3<5<0<6<4\n",
      "2<1<3<6<4<5<0 = 2<1<3<6<4<0<5\n",
      "2<1<4<0<5<6<3 = 2<1<4<0<5<3<6\n",
      "2<1<4<3<0<5<6 = 2<1<4<0<3<5<6\n",
      "2<1<4<3<0<6<5 = 2<1<4<0<3<6<5\n",
      "2<1<4<3<5<0<6 = 2<1<4<0<3<5<6\n",
      "2<1<4<3<5<0<6 = 2<1<4<3<0<5<6\n",
      "2<1<4<3<5<6<0 = 2<1<4<0<3<5<6\n",
      "2<1<4<3<5<6<0 = 2<1<4<3<0<5<6\n",
      "2<1<4<3<5<6<0 = 2<1<4<3<5<0<6\n",
      "2<1<4<3<6<0<5 = 2<1<4<0<3<6<5\n",
      "2<1<4<3<6<0<5 = 2<1<4<3<0<6<5\n",
      "2<1<4<3<6<5<0 = 2<1<4<0<3<6<5\n",
      "2<1<4<3<6<5<0 = 2<1<4<3<0<6<5\n",
      "2<1<4<3<6<5<0 = 2<1<4<3<6<0<5\n",
      "2<1<4<5<0<3<6 = 2<1<4<0<5<3<6\n",
      "2<1<4<5<0<3<6 = 2<1<4<0<5<6<3\n",
      "2<1<4<5<0<6<3 = 2<1<4<0<5<3<6\n",
      "2<1<4<5<0<6<3 = 2<1<4<0<5<6<3\n",
      "2<1<4<5<0<6<3 = 2<1<4<5<0<3<6\n",
      "2<1<4<5<3<0<6 = 2<1<4<0<5<3<6\n",
      "2<1<4<5<3<0<6 = 2<1<4<0<5<6<3\n",
      "2<1<4<5<3<0<6 = 2<1<4<5<0<3<6\n",
      "2<1<4<5<3<0<6 = 2<1<4<5<0<6<3\n",
      "2<1<4<5<3<6<0 = 2<1<4<0<5<3<6\n",
      "2<1<4<5<3<6<0 = 2<1<4<0<5<6<3\n",
      "2<1<4<5<3<6<0 = 2<1<4<5<0<3<6\n",
      "2<1<4<5<3<6<0 = 2<1<4<5<0<6<3\n",
      "2<1<4<5<3<6<0 = 2<1<4<5<3<0<6\n",
      "2<1<4<5<6<0<3 = 2<1<4<0<5<3<6\n",
      "2<1<4<5<6<0<3 = 2<1<4<0<5<6<3\n",
      "2<1<4<5<6<0<3 = 2<1<4<5<0<3<6\n",
      "2<1<4<5<6<0<3 = 2<1<4<5<0<6<3\n",
      "2<1<4<5<6<0<3 = 2<1<4<5<3<0<6\n",
      "2<1<4<5<6<0<3 = 2<1<4<5<3<6<0\n",
      "2<1<4<5<6<3<0 = 2<1<4<0<5<3<6\n",
      "2<1<4<5<6<3<0 = 2<1<4<0<5<6<3\n",
      "2<1<4<5<6<3<0 = 2<1<4<5<0<3<6\n",
      "2<1<4<5<6<3<0 = 2<1<4<5<0<6<3\n",
      "2<1<4<5<6<3<0 = 2<1<4<5<3<0<6\n",
      "2<1<4<5<6<3<0 = 2<1<4<5<3<6<0\n",
      "2<1<4<5<6<3<0 = 2<1<4<5<6<0<3\n",
      "2<1<4<6<0<3<5 = 2<1<4<0<6<3<5\n",
      "2<1<4<6<0<5<3 = 2<1<4<0<6<5<3\n",
      "2<1<4<6<3<0<5 = 2<1<4<0<6<3<5\n",
      "2<1<4<6<3<0<5 = 2<1<4<6<0<3<5\n",
      "2<1<4<6<3<5<0 = 2<1<4<0<6<3<5\n",
      "2<1<4<6<3<5<0 = 2<1<4<6<0<3<5\n",
      "2<1<4<6<3<5<0 = 2<1<4<6<3<0<5\n",
      "2<1<4<6<5<0<3 = 2<1<4<0<6<5<3\n",
      "2<1<4<6<5<0<3 = 2<1<4<6<0<5<3\n",
      "2<1<4<6<5<3<0 = 2<1<4<0<6<5<3\n",
      "2<1<4<6<5<3<0 = 2<1<4<6<0<5<3\n",
      "2<1<4<6<5<3<0 = 2<1<4<6<5<0<3\n",
      "2<1<5<0<4<6<3 = 2<1<5<0<4<3<6\n",
      "2<1<5<3<4<6<0 = 2<1<5<3<4<0<6\n",
      "2<1<5<3<6<0<4 = 2<1<5<3<0<6<4\n",
      "2<1<5<4<0<6<3 = 2<1<5<4<0<3<6\n",
      "2<1<5<4<3<0<6 = 2<1<5<4<0<3<6\n",
      "2<1<5<4<3<0<6 = 2<1<5<4<0<6<3\n",
      "2<1<5<4<3<6<0 = 2<1<5<4<0<3<6\n",
      "2<1<5<4<3<6<0 = 2<1<5<4<0<6<3\n",
      "2<1<5<4<3<6<0 = 2<1<5<4<3<0<6\n",
      "2<1<5<4<6<0<3 = 2<1<5<4<0<3<6\n",
      "2<1<5<4<6<0<3 = 2<1<5<4<0<6<3\n",
      "2<1<5<4<6<0<3 = 2<1<5<4<3<0<6\n",
      "2<1<5<4<6<0<3 = 2<1<5<4<3<6<0\n",
      "2<1<5<4<6<3<0 = 2<1<5<4<0<3<6\n",
      "2<1<5<4<6<3<0 = 2<1<5<4<0<6<3\n",
      "2<1<5<4<6<3<0 = 2<1<5<4<3<0<6\n",
      "2<1<5<4<6<3<0 = 2<1<5<4<3<6<0\n",
      "2<1<5<4<6<3<0 = 2<1<5<4<6<0<3\n",
      "2<1<5<6<0<3<4 = 2<1<5<0<6<3<4\n",
      "2<1<5<6<0<4<3 = 2<1<5<0<6<4<3\n",
      "2<1<5<6<4<3<0 = 2<1<5<6<4<0<3\n",
      "2<1<6<3<4<5<0 = 2<1<6<3<4<0<5\n"
     ]
    },
    {
     "ename": "KeyboardInterrupt",
     "evalue": "",
     "output_type": "error",
     "traceback": [
      "\u001b[1;31m---------------------------------------------------------------------------\u001b[0m",
      "\u001b[1;31mKeyboardInterrupt\u001b[0m                         Traceback (most recent call last)",
      "Cell \u001b[1;32mIn[46], line 1\u001b[0m\n\u001b[1;32m----> 1\u001b[0m \u001b[38;5;28;43;01mfor\u001b[39;49;00m\u001b[43m \u001b[49m\u001b[43mi\u001b[49m\u001b[43m \u001b[49m\u001b[38;5;129;43;01min\u001b[39;49;00m\u001b[43m \u001b[49m\u001b[43mgenerateEquivalence\u001b[49m\u001b[43m(\u001b[49m\u001b[43mEperms\u001b[49m\u001b[43m)\u001b[49m\u001b[43m:\u001b[49m\n\u001b[0;32m      2\u001b[0m \u001b[43m    \u001b[49m\u001b[38;5;28;43mprint\u001b[39;49m\u001b[43m(\u001b[49m\u001b[38;5;124;43mf\u001b[39;49m\u001b[38;5;124;43m\"\u001b[39;49m\u001b[38;5;132;43;01m{\u001b[39;49;00m\u001b[43mi\u001b[49m\u001b[43m[\u001b[49m\u001b[38;5;241;43m0\u001b[39;49m\u001b[43m]\u001b[49m\u001b[38;5;132;43;01m}\u001b[39;49;00m\u001b[38;5;124;43m = \u001b[39;49m\u001b[38;5;132;43;01m{\u001b[39;49;00m\u001b[43mi\u001b[49m\u001b[43m[\u001b[49m\u001b[38;5;241;43m1\u001b[39;49m\u001b[43m]\u001b[49m\u001b[38;5;132;43;01m}\u001b[39;49;00m\u001b[38;5;124;43m\"\u001b[39;49m\u001b[43m)\u001b[49m\n",
      "Cell \u001b[1;32mIn[31], line 8\u001b[0m, in \u001b[0;36mgenerateEquivalence\u001b[1;34m(permutations)\u001b[0m\n\u001b[0;32m      6\u001b[0m     \u001b[38;5;28;01mcontinue\u001b[39;00m\n\u001b[0;32m      7\u001b[0m flag \u001b[38;5;241m=\u001b[39m \u001b[38;5;28;01mFalse\u001b[39;00m\n\u001b[1;32m----> 8\u001b[0m \u001b[43m\u001b[49m\u001b[38;5;28;43;01mfor\u001b[39;49;00m\u001b[43m \u001b[49m\u001b[43mk\u001b[49m\u001b[43m \u001b[49m\u001b[38;5;129;43;01min\u001b[39;49;00m\u001b[43m \u001b[49m\u001b[43mcompareRootSystems\u001b[49m\u001b[43m(\u001b[49m\u001b[43mpermutations\u001b[49m\u001b[43m[\u001b[49m\u001b[43mi\u001b[49m\u001b[43m]\u001b[49m\u001b[43m,\u001b[49m\u001b[43mpermutations\u001b[49m\u001b[43m[\u001b[49m\u001b[43mj\u001b[49m\u001b[43m]\u001b[49m\u001b[43m)\u001b[49m\u001b[43m:\u001b[49m\n\u001b[0;32m      9\u001b[0m \u001b[43m    \u001b[49m\u001b[43mflag\u001b[49m\u001b[43m \u001b[49m\u001b[38;5;241;43m=\u001b[39;49m\u001b[38;5;28;43;01mTrue\u001b[39;49;00m\n\u001b[0;32m     10\u001b[0m \u001b[43m    \u001b[49m\u001b[38;5;28;43;01mbreak\u001b[39;49;00m\n",
      "Cell \u001b[1;32mIn[30], line 4\u001b[0m, in \u001b[0;36mcompareRootSystems\u001b[1;34m(r1, r2)\u001b[0m\n\u001b[0;32m      2\u001b[0m words \u001b[38;5;241m=\u001b[39m \u001b[38;5;28mlist\u001b[39m(r1\u001b[38;5;241m.\u001b[39mweightToWordDictionary\u001b[38;5;241m.\u001b[39mvalues())\n\u001b[0;32m      3\u001b[0m \u001b[38;5;28;01mfor\u001b[39;00m i \u001b[38;5;129;01min\u001b[39;00m words:\n\u001b[1;32m----> 4\u001b[0m     \u001b[38;5;28;01mfor\u001b[39;00m j \u001b[38;5;129;01min\u001b[39;00m \u001b[38;5;28mrange\u001b[39m(\u001b[38;5;28mlen\u001b[39m(i)):\n\u001b[0;32m      5\u001b[0m         \u001b[38;5;28;01mif\u001b[39;00m(\u001b[38;5;28mstr\u001b[39m(i[j]) \u001b[38;5;241m!=\u001b[39m \u001b[38;5;28mstr\u001b[39m(r2\u001b[38;5;241m.\u001b[39mgetWords(i[j]\u001b[38;5;241m.\u001b[39mweights)[j])):\n\u001b[0;32m      6\u001b[0m             \u001b[38;5;28;01myield\u001b[39;00m (i[j]\u001b[38;5;241m.\u001b[39mweights,\u001b[38;5;28mstr\u001b[39m(i[j]),\u001b[38;5;28mstr\u001b[39m(r2\u001b[38;5;241m.\u001b[39mgetWords(i[j]\u001b[38;5;241m.\u001b[39mweights)[j]))\n",
      "\u001b[1;31mKeyboardInterrupt\u001b[0m: "
     ]
    }
   ],
   "source": [
    "for i in generate_equivalences(Eperms):\n",
    "    print(f\"{i[0]} = {i[1]}\")"
   ]
  },
  {
   "cell_type": "code",
   "execution_count": null,
   "metadata": {},
   "outputs": [
    {
     "data": {
      "application/vnd.jupyter.widget-view+json": {
       "model_id": "801c14fcbc3440d4be077c3eeac5676c",
       "version_major": 2,
       "version_minor": 0
      },
      "text/plain": [
       "  0%|          | 0/5040 [00:00<?, ?it/s]"
      ]
     },
     "metadata": {},
     "output_type": "display_data"
    },
    {
     "data": {
      "text/plain": [
       "(10, '2<0<1<4<6<5<3', array([1, 0, 1, 1, 1, 1, 0]))"
      ]
     },
     "execution_count": 19,
     "metadata": {},
     "output_type": "execute_result"
    }
   ],
   "source": [
    "get_max_periodicity(Eperms)"
   ]
  },
  {
   "cell_type": "markdown",
   "metadata": {},
   "source": [
    "## Type F"
   ]
  },
  {
   "cell_type": "code",
   "execution_count": 20,
   "metadata": {},
   "outputs": [],
   "source": [
    "n=4\n",
    "Fperms = gen_permutations('F',4)"
   ]
  },
  {
   "cell_type": "code",
   "execution_count": 446,
   "metadata": {},
   "outputs": [
    {
     "data": {
      "application/vnd.jupyter.widget-view+json": {
       "model_id": "6f6a8b585c8f4626bceef61156e74d7a",
       "version_major": 2,
       "version_minor": 0
      },
      "text/plain": [
       "  0%|          | 0/120 [00:00<?, ?it/s]"
      ]
     },
     "metadata": {},
     "output_type": "display_data"
    }
   ],
   "source": [
    "for F4 in tqdm(Fperms,total=math.factorial(n+1)):\n",
    "    F4.verify_periodicity()"
   ]
  },
  {
   "cell_type": "code",
   "execution_count": 168,
   "metadata": {},
   "outputs": [
    {
     "data": {
      "application/vnd.jupyter.widget-view+json": {
       "model_id": "3c64095c167c454087d8a6a2862ab5c7",
       "version_major": 2,
       "version_minor": 0
      },
      "text/plain": [
       "  0%|          | 0/119 [00:00<?, ?it/s]"
      ]
     },
     "metadata": {},
     "output_type": "display_data"
    },
    {
     "data": {
      "text/plain": [
       "[]"
      ]
     },
     "execution_count": 168,
     "metadata": {},
     "output_type": "execute_result"
    }
   ],
   "source": [
    "check_standard_fac_same_parrallel(Fperms,k=3)"
   ]
  },
  {
   "cell_type": "code",
   "execution_count": null,
   "metadata": {},
   "outputs": [],
   "source": [
    "for i in check_delta_type_prediction_perms(Fperms):\n",
    "    print(i)"
   ]
  },
  {
   "cell_type": "code",
   "execution_count": 21,
   "metadata": {},
   "outputs": [
    {
     "data": {
      "application/vnd.jupyter.widget-view+json": {
       "model_id": "cf798c6d699b4756b2843da0008e38a8",
       "version_major": 2,
       "version_minor": 0
      },
      "text/plain": [
       "  0%|          | 0/120 [00:00<?, ?it/s]"
      ]
     },
     "metadata": {},
     "output_type": "display_data"
    }
   ],
   "source": [
    "write_delta_types_to_file(Fperms,\"FDeltaTypes.csv\",k=2,total=math.factorial(n+1))"
   ]
  },
  {
   "cell_type": "code",
   "execution_count": 112,
   "metadata": {},
   "outputs": [
    {
     "data": {
      "application/vnd.jupyter.widget-view+json": {
       "model_id": "d75265393b2e4f54814b04bb2ba27ac5",
       "version_major": 2,
       "version_minor": 0
      },
      "text/plain": [
       "  0%|          | 0/120 [00:00<?, ?it/s]"
      ]
     },
     "metadata": {},
     "output_type": "display_data"
    },
    {
     "data": {
      "text/plain": [
       "(0, '', [])"
      ]
     },
     "execution_count": 112,
     "metadata": {},
     "output_type": "execute_result"
    }
   ],
   "source": [
    "get_max_periodicity(Fperms,math.factorial(5))"
   ]
  },
  {
   "cell_type": "code",
   "execution_count": null,
   "metadata": {},
   "outputs": [],
   "source": [
    "for i in generate_equivalences(Fperms):\n",
    "    print(f\"{i[0]} = {i[1]}\")"
   ]
  }
 ],
 "metadata": {
  "kernelspec": {
   "display_name": "Python 3",
   "language": "python",
   "name": "python3"
  },
  "language_info": {
   "codemirror_mode": {
    "name": "ipython",
    "version": 3
   },
   "file_extension": ".py",
   "mimetype": "text/x-python",
   "name": "python",
   "nbconvert_exporter": "python",
   "pygments_lexer": "ipython3",
   "version": "3.11.0"
  }
 },
 "nbformat": 4,
 "nbformat_minor": 2
}
