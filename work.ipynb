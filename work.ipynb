{
 "cells": [
  {
   "cell_type": "markdown",
   "metadata": {},
   "source": [
    "## Functions"
   ]
  },
  {
   "cell_type": "code",
   "execution_count": 30,
   "metadata": {},
   "outputs": [],
   "source": [
    "import LyndonWords\n",
    "import importlib\n",
    "import AnalysisFuncs\n",
    "importlib.reload(LyndonWords)\n",
    "importlib.reload(AnalysisFuncs)\n",
    "from AnalysisFuncs import *\n",
    "from LyndonWords import *\n",
    "import itertools\n",
    "from functools import partial\n",
    "import multiprocessing as mp\n",
    "from tqdm.notebook import tqdm\n",
    "import math\n",
    "import numpy as np\n",
    "def gen_permutations(type,n):\n",
    "    for perm in itertools.permutations(np.array(range(n+1))):\n",
    "        yield rootSystem(perm,type)"
   ]
  },
  {
   "cell_type": "markdown",
   "metadata": {},
   "source": [
    "### Monotonicity Stuff"
   ]
  },
  {
   "cell_type": "code",
   "execution_count": null,
   "metadata": {},
   "outputs": [],
   "source": [
    "def monotonicity_conj_perms(rootSystems,total=0,k=3):\n",
    "    with mp.Pool() as p:\n",
    "        for result in tqdm(p.imap_unordered(partial(monotonicity_conj,k=k),rootSystems),total=total):\n",
    "            if(not result.truthValue):\n",
    "                yield result        \n",
    "#TODO: Updated bases on new claim on monotonicity\n",
    "def check_monotone_increasing_imp_cond(rootSystemPermutations):\n",
    "    rootsys:rootSystem\n",
    "    for rootsys in rootSystemPermutations:\n",
    "        returnArr = []\n",
    "        deltaWords = rootsys.SL(rootsys.delta)\n",
    "        temp = rootsys.check_monotonicity(\"Increasing\")\n",
    "        monotoneIncreasing = [rootsys.SL(i[0] + rootsys.delta)[0] for i in temp]\n",
    "        for i in monotoneIncreasing:\n",
    "            flag = False\n",
    "            for j in deltaWords:\n",
    "                if(not str(i).startswith(str(j)) and (i.weights - rootsys.delta)[rootsys.ordering[0].rootIndex] > 0):\n",
    "                    flag = True\n",
    "                    break\n",
    "            if(flag):\n",
    "                continue\n",
    "            returnArr.append((str(rootsys.ordering),(i.weights - rootsys.delta)))\n",
    "    return returnArr"
   ]
  },
  {
   "cell_type": "code",
   "execution_count": null,
   "metadata": {},
   "outputs": [],
   "source": [
    "def check_cond_imp_monotone_increasing(rootSystemPermutations):\n",
    "    returnArr = []\n",
    "    rootsys:rootSystem\n",
    "    for rootsys in rootSystemPermutations:\n",
    "        deltaWords = rootsys.SL(rootsys.delta)\n",
    "        deltaArrays = [i.string for i in deltaWords]\n",
    "        for base in rootsys.baseWeights[:-1]:\n",
    "            secondWord = rootsys.SL(base + rootsys.delta)[0]\n",
    "            if(base[rootsys.ordering[0].rootIndex] == 0):\n",
    "                continue\n",
    "            deltaStart = False\n",
    "            for i in deltaArrays:\n",
    "                if(np.all(secondWord[:rootsys.deltaHeight] == i)):\n",
    "                    deltaStart = True\n",
    "                    break\n",
    "            if deltaStart:\n",
    "                continue\n",
    "            if(rootsys.get_monotonicity(base) != 1):\n",
    "                returnArr.append((str(rootsys.ordering),str(rootsys.SL(base)[0])))\n",
    "    return returnArr"
   ]
  },
  {
   "cell_type": "markdown",
   "metadata": {},
   "source": [
    "### Printing and Exporting"
   ]
  },
  {
   "cell_type": "code",
   "execution_count": null,
   "metadata": {},
   "outputs": [],
   "source": [
    "def print_by_length(rootSystem:rootSystem):\n",
    "    len = 0\n",
    "    for k in range(rootSystem.k + 1):\n",
    "        for i in rootSystem.baseWeights:\n",
    "            comb = i + rootSystem.delta * k\n",
    "            if(sum(comb) != len):\n",
    "                len = sum(comb)\n",
    "                print(len)\n",
    "            for i in rootSystem.SL(comb):\n",
    "                print(\" \"+str(i))"
   ]
  },
  {
   "cell_type": "code",
   "execution_count": 34,
   "metadata": {},
   "outputs": [],
   "source": [
    "def print_by_base_word(rootSystem:rootSystem,comb):\n",
    "    k=0\n",
    "    is_imaginary = rootSystem.is_imaginary(comb)\n",
    "    for i in rootSystem.get_chain(comb):\n",
    "        if(is_imaginary and k % rootSystem.n == 0):\n",
    "            print(k //rootSystem.n)\n",
    "        if(not is_imaginary):\n",
    "            print(k)\n",
    "        print(\" \" + str(i))\n",
    "        k+=1"
   ]
  },
  {
   "cell_type": "code",
   "execution_count": null,
   "metadata": {},
   "outputs": [],
   "source": [
    "def export_by_length(rootsys:rootSystem,quoteMarks=False):\n",
    "    file = open(\"out.txt\",'w')\n",
    "    file.write(str(rootsys.ordering)+\"\\n\")\n",
    "    for k in range(rootsys.k + 1):\n",
    "        for i in rootsys.baseWeights:\n",
    "            comb = i + rootsys.delta * k\n",
    "            for i in rootsys.SL(comb):\n",
    "                if(quoteMarks):\n",
    "                    file.write(f\"'{str(i)}',\")\n",
    "                else:\n",
    "                    file.write(str(i) + '\\n')\n",
    "    file.close()"
   ]
  },
  {
   "cell_type": "markdown",
   "metadata": {},
   "source": [
    "### Delta Pattern Detection"
   ]
  },
  {
   "cell_type": "code",
   "execution_count": 36,
   "metadata": {},
   "outputs": [],
   "source": [
    "def write_delta_types_to_file(rootSystems,file=\"out.txt\",total=0,notOnlyAllStandard=True):\n",
    "    fileobj = open(file,'w')\n",
    "    fileobj.write(\"imaginary index, bracketing, splitting type, inserted imaginary index, left factor, right factor\\n\")\n",
    "    deltaTypesCol:deltaTypesCollection\n",
    "    first:rootSystem\n",
    "    if(total == 0):\n",
    "        first = next(rootSystems)\n",
    "        total = math.factorial(first.n+1)-1\n",
    "        deltaTypesCol = generate_delta_types(first)\n",
    "        if(notOnlyAllStandard):\n",
    "            if(deltaTypesCol.not_all_standard()):\n",
    "                fileobj.write(deltaTypesCol.to_csv())\n",
    "    with mp.Pool() as p:\n",
    "        for deltaTypesCol in tqdm(p.imap_unordered(generate_delta_types,rootSystems),total=total):\n",
    "            if(notOnlyAllStandard):\n",
    "                if(not deltaTypesCol.not_all_standard()):\n",
    "                    continue\n",
    "            fileobj.write(deltaTypesCol.to_csv())\n",
    "    fileobj.close()"
   ]
  },
  {
   "cell_type": "code",
   "execution_count": 37,
   "metadata": {},
   "outputs": [],
   "source": [
    "def check_standard_fac_same_parrallel(rootSystems,total=0,k=2):\n",
    "    results = []\n",
    "    if(total == 0):\n",
    "        first = next(rootSystems)\n",
    "        total = math.factorial(first.n+1)-1\n",
    "        result = check_standard_fac_same(first)\n",
    "        if(result != True):\n",
    "            yield result\n",
    "    with mp.Pool() as p:\n",
    "        for result in tqdm(p.imap_unordered(partial(check_standard_fac_same,k=k),rootSystems,chunksize=5),total=total):\n",
    "            if(result != True):\n",
    "                yield result\n",
    "    return results"
   ]
  },
  {
   "cell_type": "markdown",
   "metadata": {},
   "source": [
    "### Imaginary Words Stuff"
   ]
  },
  {
   "cell_type": "code",
   "execution_count": 38,
   "metadata": {},
   "outputs": [],
   "source": [
    "def check_h_deltas_repeat(perms):\n",
    "    excepts = []\n",
    "    i:rootSystem\n",
    "    for i in perms:\n",
    "        hs = [j.hs for j in i.get_chain(i.delta)]\n",
    "        bases = hs[i.n:2*i.n]\n",
    "        for offset in range(0,i.n):\n",
    "            for k in range(2,len(hs)//i.n):\n",
    "                if(np.any(bases[offset] != hs[offset + k*i.n])):\n",
    "                    excepts.append((str(i.ordering),f\"SL_{offset+1}({k}\\delta)\"))\n",
    "    return excepts"
   ]
  },
  {
   "cell_type": "code",
   "execution_count": null,
   "metadata": {},
   "outputs": [],
   "source": [
    "def check_one_smallest_last(perms):\n",
    "    rootsys:rootSystem\n",
    "    for rootsys in perms:\n",
    "        if(rootsys.delta[rootsys.ordering[0].rootIndex] == 1):\n",
    "            if(rootsys.SL(rootsys.delta)[0][-1].rootIndex != rootsys.ordering[1].rootIndex):\n",
    "                yield (str(rootsys.ordering),rootsys.SL(rootsys.delta)[0].noCommas(),rootsys.ordering[1].rootIndex)"
   ]
  },
  {
   "cell_type": "markdown",
   "metadata": {},
   "source": [
    "### Rootsystem equivalences"
   ]
  },
  {
   "cell_type": "code",
   "execution_count": null,
   "metadata": {},
   "outputs": [],
   "source": [
    "def compare_rootsystems(r1,r2):\n",
    "    words = list(r1.weightToWordDictionary.values())\n",
    "    for i in words:\n",
    "        for j in range(len(i)):\n",
    "            if(str(i[j]) != str(r2.SL(i[j].weights)[j])):\n",
    "                yield (i[j].weights,str(i[j]),str(r2.SL(i[j].weights)[j]))"
   ]
  },
  {
   "cell_type": "code",
   "execution_count": 41,
   "metadata": {},
   "outputs": [],
   "source": [
    "def generate_equivalences(permutations):\n",
    "    equivalences = np.arange(len(permutations))\n",
    "    for i in range(len(permutations)):\n",
    "        for j in range(0,i):\n",
    "            if(equivalences[j] != j):\n",
    "                continue\n",
    "            flag = False\n",
    "            for k in compare_rootsystems(permutations[i],permutations[j]):\n",
    "                flag =True\n",
    "                break\n",
    "            if(not flag):\n",
    "                yield (permutations[i].ordering,permutations[j].ordering)"
   ]
  },
  {
   "cell_type": "markdown",
   "metadata": {},
   "source": [
    "### Periodicity"
   ]
  },
  {
   "cell_type": "code",
   "execution_count": 42,
   "metadata": {},
   "outputs": [],
   "source": [
    "def get_max_periodicity(rootSystems,total=0):\n",
    "    max = 0\n",
    "    maxOrdering = \"\"\n",
    "    maxRoot = []\n",
    "    with mp.Pool() as p:\n",
    "        for result in tqdm(p.imap_unordered(max_periodicity_rootSystem,rootSystems),total=total):\n",
    "            if(result.periodicity > max):\n",
    "                max = result.periodicity\n",
    "                maxOrdering = result.ordering\n",
    "                maxRoot= result.maxRoot\n",
    "    return (max,maxOrdering,maxRoot)"
   ]
  },
  {
   "cell_type": "code",
   "execution_count": 43,
   "metadata": {},
   "outputs": [],
   "source": [
    "def periodicity_conj(rootsys:rootSystem,deltas, weights) -> int:\n",
    "    if(weights[rootsys.ordering[0].rootIndex] != 0):\n",
    "        return 1\n",
    "    for d in deltas:\n",
    "        hs = rootsys.cartan_matrix @ d.hs\n",
    "        f = False   \n",
    "        for v in range(len(weights)):\n",
    "            if(v == 0 and weights[v] > 0):\n",
    "                if(np.dot(rootsys.delta[1:],hs) != 0):\n",
    "                    f=True\n",
    "                    break\n",
    "            else:\n",
    "                if(weights[v] > 0 and hs[v-1] != 0):\n",
    "                    f=True\n",
    "                    break\n",
    "        if(f):\n",
    "            break\n",
    "    s = 0\n",
    "    for v in range(len(weights)):\n",
    "            if(v == 0 and weights[v] > 0):\n",
    "                if(np.dot(rootsys.delta[1:],hs) != 0):\n",
    "                    s+=1\n",
    "            else:\n",
    "                if(weights[v] > 0 and hs[v-1] != 0):\n",
    "                    s+=weights[v]\n",
    "    return s"
   ]
  },
  {
   "cell_type": "code",
   "execution_count": null,
   "metadata": {},
   "outputs": [],
   "source": [
    "def periodicity_conj_root(rootsys:rootSystem, weights) :\n",
    "    return periodicity_conj(rootsys,rootsys.SL(rootsys.delta),weights)"
   ]
  },
  {
   "cell_type": "code",
   "execution_count": 45,
   "metadata": {},
   "outputs": [],
   "source": [
    "def check_periodicity_conj_rootsystem(rootsys:rootSystem):\n",
    "    if(rootsys.delta[rootsys.ordering[0].rootIndex] == 1):\n",
    "        for l in rootsys.baseWeights[:-1]:\n",
    "            if(l[rootsys.ordering[0].rootIndex] == 0):\n",
    "                period = rootsys.get_periodicity(l)\n",
    "                conjperiod = periodicity_conj_root(rootsys,l)\n",
    "                if(period != conjperiod):\n",
    "                    yield (str(rootsys.ordering),l,period,conjperiod)"
   ]
  },
  {
   "cell_type": "code",
   "execution_count": 46,
   "metadata": {},
   "outputs": [],
   "source": [
    "def check_periodicity_conj_perms(perms):\n",
    "    for p in perms:\n",
    "        yield check_periodicity_conj_rootsystem(p)"
   ]
  },
  {
   "cell_type": "code",
   "execution_count": 47,
   "metadata": {},
   "outputs": [],
   "source": [
    "def check_basic_periodicity_perms(perms,total,k=1):\n",
    "    with mp.Pool() as p:\n",
    "        for result in tqdm(p.imap_unordered(partial(check_basic_periodicity,k=k),perms),total=total):\n",
    "            if(result is not None):\n",
    "                yield result"
   ]
  },
  {
   "cell_type": "markdown",
   "metadata": {},
   "source": [
    "### Critical Roots"
   ]
  },
  {
   "cell_type": "code",
   "execution_count": 48,
   "metadata": {},
   "outputs": [],
   "source": [
    "def check_lca_critical_roots_perms(perms,total=0,k=5):\n",
    "    with mp.Pool() as p:\n",
    "        for result in tqdm(p.imap_unordered(partial(lca_on_critical_roots,k=k),perms),total=total):\n",
    "            if result is not None:\n",
    "                yield result"
   ]
  },
  {
   "cell_type": "markdown",
   "metadata": {},
   "source": [
    "### Convexity"
   ]
  },
  {
   "cell_type": "code",
   "execution_count": 49,
   "metadata": {},
   "outputs": [],
   "source": [
    "def check_convexity_perms(perms,total=0,k=5,word_convexity=False):\n",
    "    with mp.Pool() as p:\n",
    "        for result in tqdm(p.imap_unordered(partial(convexity_from_perm,k=k,word_convexity=word_convexity),perms),total=total):\n",
    "            if(result is not None):\n",
    "                yield result"
   ]
  },
  {
   "cell_type": "code",
   "execution_count": null,
   "metadata": {},
   "outputs": [],
   "source": [
    "def check_min_right_factor_gamma_im(rootsys:rootSystem,n=5):\n",
    "    for delta_val in range(n):\n",
    "        for base_weight in rootsys.baseWeights[:-1]:\n",
    "            if(delta_val == 0 and sum(base_weight) == 1):\n",
    "                continue\n",
    "            w = rootsys.SL(base_weight + rootsys.delta * delta_val)[0]\n",
    "            rightstand = rootsys.standfac(w)[1]\n",
    "            min_right = rootsys.get_min_right_factor(w.weights)\n",
    "            if sum(rightstand.weights - min_right.weights) == 0:\n",
    "                continue\n",
    "            if(rootsys.is_imaginary_height(sum(rightstand.weights - min_right.weights))):\n",
    "                print(f\"{str(rootsys.ordering)}: {base_weight}: {delta_val}: {rightstand.weights}: {min_right.weights}\")"
   ]
  },
  {
   "cell_type": "code",
   "execution_count": null,
   "metadata": {},
   "outputs": [],
   "source": [
    "def check_equiv_of_ell_on_standard_fac(rootsys:rootSystem):\n",
    "    rootsys.generate_up_to_delta(1)\n",
    "    for w in rootsys.baseWeights[:-1]:\n",
    "        ell = rootsys.max_im_word(w)\n",
    "        standw = rootsys.standfac(ell)[0].weights        \n",
    "        standhs = (standw - (rootsys.delta *standw[0]))\n",
    "        standhs = -standhs[1:]\n",
    "        if(not rootsys.split_e_bracket(standhs,rootsys.SL(w)[0])):\n",
    "            print(f\"Exception: {rootsys.ordering}, {ell.no_commas()}\")"
   ]
  },
  {
   "cell_type": "code",
   "execution_count": 52,
   "metadata": {},
   "outputs": [],
   "source": [
    "def check_intersection_im(rootsys:rootSystem,alpha):\n",
    "    for d in rootsys.get_decompositions(alpha):\n",
    "        if(rootsys.is_imaginary_height(sum(d[0]))\n",
    "           or rootsys.is_imaginary_height(sum(d[1]))):\n",
    "            continue\n",
    "        s1 = rootsys.get_imaginary_convex_set(d[0])\n",
    "        s2 = rootsys.get_imaginary_convex_set(d[1])\n",
    "        flag = False\n",
    "        for s in s1:\n",
    "            for p in s2:\n",
    "                if s ==p:\n",
    "                    flag = True\n",
    "                    break\n",
    "            if(flag):\n",
    "                break\n",
    "        if(not flag):\n",
    "            print(d[0])\n",
    "            print(d[1])\n",
    "            print(*[i.no_commas() for i in s1])\n",
    "            print(*[i.no_commas() for i in s2])"
   ]
  },
  {
   "cell_type": "code",
   "execution_count": 53,
   "metadata": {},
   "outputs": [],
   "source": [
    "def check_chain_bound_by_m(rootsys:rootSystem,weight,k=1):\n",
    "    rootsys.generate_up_to_delta(k)\n",
    "    chain = rootsys.get_chain(weight)\n",
    "    convexset  = rootsys.get_imaginary_convex_set(weight)\n",
    "    minconvex = convexset[-1]\n",
    "    maxconvex = convexset[0]\n",
    "    for i in chain:\n",
    "        if(maxconvex < i):\n",
    "            return True\n",
    "        if minconvex < i:\n",
    "            return False\n",
    "    return True\n",
    "    "
   ]
  },
  {
   "cell_type": "code",
   "execution_count": 54,
   "metadata": {},
   "outputs": [],
   "source": [
    "def check_chain_bound_rootsys(rootsys:rootSystem,genheight=3,k=1):\n",
    "    rootsys.generate_up_to_delta(genheight)\n",
    "    for i in rootsys.baseWeights[:-1]:\n",
    "        if(not check_chain_bound_by_m(rootsys,i,k)):\n",
    "            yield i"
   ]
  },
  {
   "cell_type": "markdown",
   "metadata": {},
   "source": [
    "## Type A"
   ]
  },
  {
   "cell_type": "code",
   "execution_count": 46,
   "metadata": {},
   "outputs": [],
   "source": [
    "n=5\n",
    "Aperms = list(gen_permutations('A',n))"
   ]
  },
  {
   "cell_type": "code",
   "execution_count": 137,
   "metadata": {},
   "outputs": [
    {
     "data": {
      "text/plain": [
       "1"
      ]
     },
     "execution_count": 137,
     "metadata": {},
     "output_type": "execute_result"
    }
   ],
   "source": [
    "periodicity_conj_root(rootSystem([0,1,2,3,4],'A'),[0,0,1,0,0])"
   ]
  },
  {
   "cell_type": "code",
   "execution_count": null,
   "metadata": {},
   "outputs": [],
   "source": [
    "for i in check_delta_type_prediction_perms(Aperms):\n",
    "    print(i)"
   ]
  },
  {
   "cell_type": "code",
   "execution_count": null,
   "metadata": {},
   "outputs": [],
   "source": [
    "write_delta_types_to_file(Aperms,\"ADeltaTypes.csv\")"
   ]
  },
  {
   "cell_type": "code",
   "execution_count": null,
   "metadata": {},
   "outputs": [
    {
     "data": {
      "application/vnd.jupyter.widget-view+json": {
       "model_id": "7864fcb9ab5141db9dc044d79b507edb",
       "version_major": 2,
       "version_minor": 0
      },
      "text/plain": [
       "0it [00:00, ?it/s]"
      ]
     },
     "metadata": {},
     "output_type": "display_data"
    },
    {
     "ename": "KeyboardInterrupt",
     "evalue": "",
     "output_type": "error",
     "traceback": [
      "\u001b[1;31m---------------------------------------------------------------------------\u001b[0m",
      "\u001b[1;31mIndexError\u001b[0m                                Traceback (most recent call last)",
      "File \u001b[1;32mc:\\Users\\Corbe\\AppData\\Local\\Programs\\Python\\Python311\\Lib\\multiprocessing\\pool.py:856\u001b[0m, in \u001b[0;36mIMapIterator.next\u001b[1;34m(self, timeout)\u001b[0m\n\u001b[0;32m    855\u001b[0m \u001b[38;5;28;01mtry\u001b[39;00m:\n\u001b[1;32m--> 856\u001b[0m     item \u001b[38;5;241m=\u001b[39m \u001b[38;5;28mself\u001b[39m\u001b[38;5;241m.\u001b[39m_items\u001b[38;5;241m.\u001b[39mpopleft()\n\u001b[0;32m    857\u001b[0m \u001b[38;5;28;01mexcept\u001b[39;00m \u001b[38;5;167;01mIndexError\u001b[39;00m:\n",
      "\u001b[1;31mIndexError\u001b[0m: pop from an empty deque",
      "\nDuring handling of the above exception, another exception occurred:\n",
      "\u001b[1;31mKeyboardInterrupt\u001b[0m                         Traceback (most recent call last)",
      "Cell \u001b[1;32mIn[24], line 1\u001b[0m\n\u001b[1;32m----> 1\u001b[0m \u001b[43mget_max_periodicity\u001b[49m\u001b[43m(\u001b[49m\u001b[43mAperms\u001b[49m\u001b[43m)\u001b[49m\n",
      "Cell \u001b[1;32mIn[14], line 7\u001b[0m, in \u001b[0;36mget_max_periodicity\u001b[1;34m(rootSystems, total)\u001b[0m\n\u001b[0;32m      5\u001b[0m rootsys:rootSystem\n\u001b[0;32m      6\u001b[0m \u001b[38;5;28;01mwith\u001b[39;00m mp\u001b[38;5;241m.\u001b[39mPool() \u001b[38;5;28;01mas\u001b[39;00m p:\n\u001b[1;32m----> 7\u001b[0m \u001b[43m    \u001b[49m\u001b[38;5;28;43;01mfor\u001b[39;49;00m\u001b[43m \u001b[49m\u001b[43mresult\u001b[49m\u001b[43m \u001b[49m\u001b[38;5;129;43;01min\u001b[39;49;00m\u001b[43m \u001b[49m\u001b[43mtqdm\u001b[49m\u001b[43m(\u001b[49m\u001b[43mp\u001b[49m\u001b[38;5;241;43m.\u001b[39;49m\u001b[43mimap_unordered\u001b[49m\u001b[43m(\u001b[49m\u001b[43mmax_periodicity_rootSystem\u001b[49m\u001b[43m,\u001b[49m\u001b[43mrootSystems\u001b[49m\u001b[43m)\u001b[49m\u001b[43m,\u001b[49m\u001b[43mtotal\u001b[49m\u001b[38;5;241;43m=\u001b[39;49m\u001b[43mtotal\u001b[49m\u001b[43m)\u001b[49m\u001b[43m:\u001b[49m\n\u001b[0;32m      8\u001b[0m \u001b[43m        \u001b[49m\u001b[38;5;28;43;01mif\u001b[39;49;00m\u001b[43m(\u001b[49m\u001b[43mresult\u001b[49m\u001b[38;5;241;43m.\u001b[39;49m\u001b[43mperiodicity\u001b[49m\u001b[43m \u001b[49m\u001b[38;5;241;43m>\u001b[39;49m\u001b[43m \u001b[49m\u001b[38;5;28;43mmax\u001b[39;49m\u001b[43m)\u001b[49m\u001b[43m:\u001b[49m\n\u001b[0;32m      9\u001b[0m \u001b[43m            \u001b[49m\u001b[38;5;28;43mmax\u001b[39;49m\u001b[43m \u001b[49m\u001b[38;5;241;43m=\u001b[39;49m\u001b[43m \u001b[49m\u001b[43mresult\u001b[49m\u001b[38;5;241;43m.\u001b[39;49m\u001b[43mperiodicity\u001b[49m\n",
      "File \u001b[1;32mc:\\Users\\Corbe\\AppData\\Local\\Programs\\Python\\Python311\\Lib\\site-packages\\tqdm\\notebook.py:250\u001b[0m, in \u001b[0;36mtqdm_notebook.__iter__\u001b[1;34m(self)\u001b[0m\n\u001b[0;32m    248\u001b[0m \u001b[38;5;28;01mtry\u001b[39;00m:\n\u001b[0;32m    249\u001b[0m     it \u001b[38;5;241m=\u001b[39m \u001b[38;5;28msuper\u001b[39m()\u001b[38;5;241m.\u001b[39m\u001b[38;5;21m__iter__\u001b[39m()\n\u001b[1;32m--> 250\u001b[0m \u001b[43m    \u001b[49m\u001b[38;5;28;43;01mfor\u001b[39;49;00m\u001b[43m \u001b[49m\u001b[43mobj\u001b[49m\u001b[43m \u001b[49m\u001b[38;5;129;43;01min\u001b[39;49;00m\u001b[43m \u001b[49m\u001b[43mit\u001b[49m\u001b[43m:\u001b[49m\n\u001b[0;32m    251\u001b[0m \u001b[43m        \u001b[49m\u001b[38;5;66;43;03m# return super(tqdm...) will not catch exception\u001b[39;49;00m\n\u001b[0;32m    252\u001b[0m \u001b[43m        \u001b[49m\u001b[38;5;28;43;01myield\u001b[39;49;00m\u001b[43m \u001b[49m\u001b[43mobj\u001b[49m\n\u001b[0;32m    253\u001b[0m \u001b[38;5;66;03m# NB: except ... [ as ...] breaks IPython async KeyboardInterrupt\u001b[39;00m\n",
      "File \u001b[1;32mc:\\Users\\Corbe\\AppData\\Local\\Programs\\Python\\Python311\\Lib\\site-packages\\tqdm\\std.py:1181\u001b[0m, in \u001b[0;36mtqdm.__iter__\u001b[1;34m(self)\u001b[0m\n\u001b[0;32m   1178\u001b[0m time \u001b[38;5;241m=\u001b[39m \u001b[38;5;28mself\u001b[39m\u001b[38;5;241m.\u001b[39m_time\n\u001b[0;32m   1180\u001b[0m \u001b[38;5;28;01mtry\u001b[39;00m:\n\u001b[1;32m-> 1181\u001b[0m \u001b[43m    \u001b[49m\u001b[38;5;28;43;01mfor\u001b[39;49;00m\u001b[43m \u001b[49m\u001b[43mobj\u001b[49m\u001b[43m \u001b[49m\u001b[38;5;129;43;01min\u001b[39;49;00m\u001b[43m \u001b[49m\u001b[43miterable\u001b[49m\u001b[43m:\u001b[49m\n\u001b[0;32m   1182\u001b[0m \u001b[43m        \u001b[49m\u001b[38;5;28;43;01myield\u001b[39;49;00m\u001b[43m \u001b[49m\u001b[43mobj\u001b[49m\n\u001b[0;32m   1183\u001b[0m \u001b[43m        \u001b[49m\u001b[38;5;66;43;03m# Update and possibly print the progressbar.\u001b[39;49;00m\n\u001b[0;32m   1184\u001b[0m \u001b[43m        \u001b[49m\u001b[38;5;66;43;03m# Note: does not call self.update(1) for speed optimisation.\u001b[39;49;00m\n",
      "File \u001b[1;32mc:\\Users\\Corbe\\AppData\\Local\\Programs\\Python\\Python311\\Lib\\multiprocessing\\pool.py:861\u001b[0m, in \u001b[0;36mIMapIterator.next\u001b[1;34m(self, timeout)\u001b[0m\n\u001b[0;32m    859\u001b[0m     \u001b[38;5;28mself\u001b[39m\u001b[38;5;241m.\u001b[39m_pool \u001b[38;5;241m=\u001b[39m \u001b[38;5;28;01mNone\u001b[39;00m\n\u001b[0;32m    860\u001b[0m     \u001b[38;5;28;01mraise\u001b[39;00m \u001b[38;5;167;01mStopIteration\u001b[39;00m \u001b[38;5;28;01mfrom\u001b[39;00m \u001b[38;5;28;01mNone\u001b[39;00m\n\u001b[1;32m--> 861\u001b[0m \u001b[38;5;28;43mself\u001b[39;49m\u001b[38;5;241;43m.\u001b[39;49m\u001b[43m_cond\u001b[49m\u001b[38;5;241;43m.\u001b[39;49m\u001b[43mwait\u001b[49m\u001b[43m(\u001b[49m\u001b[43mtimeout\u001b[49m\u001b[43m)\u001b[49m\n\u001b[0;32m    862\u001b[0m \u001b[38;5;28;01mtry\u001b[39;00m:\n\u001b[0;32m    863\u001b[0m     item \u001b[38;5;241m=\u001b[39m \u001b[38;5;28mself\u001b[39m\u001b[38;5;241m.\u001b[39m_items\u001b[38;5;241m.\u001b[39mpopleft()\n",
      "File \u001b[1;32mc:\\Users\\Corbe\\AppData\\Local\\Programs\\Python\\Python311\\Lib\\threading.py:320\u001b[0m, in \u001b[0;36mCondition.wait\u001b[1;34m(self, timeout)\u001b[0m\n\u001b[0;32m    318\u001b[0m \u001b[38;5;28;01mtry\u001b[39;00m:    \u001b[38;5;66;03m# restore state no matter what (e.g., KeyboardInterrupt)\u001b[39;00m\n\u001b[0;32m    319\u001b[0m     \u001b[38;5;28;01mif\u001b[39;00m timeout \u001b[38;5;129;01mis\u001b[39;00m \u001b[38;5;28;01mNone\u001b[39;00m:\n\u001b[1;32m--> 320\u001b[0m         \u001b[43mwaiter\u001b[49m\u001b[38;5;241;43m.\u001b[39;49m\u001b[43macquire\u001b[49m\u001b[43m(\u001b[49m\u001b[43m)\u001b[49m\n\u001b[0;32m    321\u001b[0m         gotit \u001b[38;5;241m=\u001b[39m \u001b[38;5;28;01mTrue\u001b[39;00m\n\u001b[0;32m    322\u001b[0m     \u001b[38;5;28;01melse\u001b[39;00m:\n",
      "\u001b[1;31mKeyboardInterrupt\u001b[0m: "
     ]
    }
   ],
   "source": [
    "get_max_periodicity(Aperms)"
   ]
  },
  {
   "cell_type": "markdown",
   "metadata": {},
   "source": [
    "## Type C"
   ]
  },
  {
   "cell_type": "code",
   "execution_count": 251,
   "metadata": {},
   "outputs": [],
   "source": [
    "Cperms = gen_permutations('C',6)"
   ]
  },
  {
   "cell_type": "code",
   "execution_count": null,
   "metadata": {},
   "outputs": [],
   "source": [
    "for i in check_periodicity_conj_perms(Cperms):\n",
    "    print(i)"
   ]
  },
  {
   "cell_type": "code",
   "execution_count": null,
   "metadata": {},
   "outputs": [],
   "source": [
    "for i in check_delta_type_prediction_perms(Cperms):\n",
    "    print(i)"
   ]
  },
  {
   "cell_type": "code",
   "execution_count": 281,
   "metadata": {},
   "outputs": [
    {
     "name": "stdout",
     "output_type": "stream",
     "text": [
      "[1,0,2] 1\n"
     ]
    },
    {
     "data": {
      "text/plain": [
       "<AnalysisFuncs.deltaTypesCollection at 0x22d3d4d7f10>"
      ]
     },
     "execution_count": 281,
     "metadata": {},
     "output_type": "execute_result"
    }
   ],
   "source": [
    "generate_delta_types(rootSystem([0,1,2,3,4,5,6],'C'))"
   ]
  },
  {
   "cell_type": "code",
   "execution_count": 307,
   "metadata": {},
   "outputs": [
    {
     "data": {
      "application/vnd.jupyter.widget-view+json": {
       "model_id": "df25f0c101df4bcdab06279241f80545",
       "version_major": 2,
       "version_minor": 0
      },
      "text/plain": [
       "  0%|          | 0/5039 [00:00<?, ?it/s]"
      ]
     },
     "metadata": {},
     "output_type": "display_data"
    }
   ],
   "source": [
    "write_delta_types_to_file(Cperms,\"CDeltaTypes.csv\")"
   ]
  },
  {
   "cell_type": "code",
   "execution_count": null,
   "metadata": {},
   "outputs": [],
   "source": [
    "check_cond_imp_monotone_increasing(Cperms)"
   ]
  },
  {
   "cell_type": "code",
   "execution_count": null,
   "metadata": {},
   "outputs": [
    {
     "data": {
      "text/plain": [
       "[]"
      ]
     },
     "execution_count": 25,
     "metadata": {},
     "output_type": "execute_result"
    }
   ],
   "source": [
    "check_h_deltas_repeat(Cperms)"
   ]
  },
  {
   "cell_type": "code",
   "execution_count": null,
   "metadata": {},
   "outputs": [],
   "source": [
    "for i in generate_equivalences(Cperms):\n",
    "    print(f\"{i[0]} = {i[1]}\")"
   ]
  },
  {
   "cell_type": "code",
   "execution_count": null,
   "metadata": {},
   "outputs": [
    {
     "data": {
      "text/plain": [
       "(5, '0<3<1<4<2', array([0, 0, 2, 2, 1]))"
      ]
     },
     "execution_count": 79,
     "metadata": {},
     "output_type": "execute_result"
    }
   ],
   "source": [
    "get_max_periodicity(Cperms)"
   ]
  },
  {
   "cell_type": "markdown",
   "metadata": {},
   "source": [
    "## Type G"
   ]
  },
  {
   "cell_type": "code",
   "execution_count": 271,
   "metadata": {},
   "outputs": [],
   "source": [
    "n=2\n",
    "G2perms = gen_permutations('G',n)"
   ]
  },
  {
   "cell_type": "code",
   "execution_count": 352,
   "metadata": {},
   "outputs": [
    {
     "data": {
      "application/vnd.jupyter.widget-view+json": {
       "model_id": "ddfe956e44c5458aa6c134e65e4e9323",
       "version_major": 2,
       "version_minor": 0
      },
      "text/plain": [
       "  0%|          | 0/6 [00:00<?, ?it/s]"
      ]
     },
     "metadata": {},
     "output_type": "display_data"
    },
    {
     "name": "stdout",
     "output_type": "stream",
     "text": [
      "('1<0<2', '120122122', '121220', '122')\n",
      "('0<1<2', '01222012221', '012212', '01222')\n",
      "('0<2<1', '01222012212', '01222', '012221')\n",
      "('1<2<0', '1222122210', '122102', '1222')\n",
      "('2<1<0', '2210221021', '221210', '2210')\n",
      "('2<0<1', '2210221021', '221210', '2210')\n"
     ]
    }
   ],
   "source": [
    "for i in check_lca_critical_roots_perms(G2perms,math.factorial(n+1),k=10):\n",
    "    print(i)"
   ]
  },
  {
   "cell_type": "code",
   "execution_count": 166,
   "metadata": {},
   "outputs": [
    {
     "data": {
      "application/vnd.jupyter.widget-view+json": {
       "model_id": "7e05de8693e445c2bdc4691cbe8465bd",
       "version_major": 2,
       "version_minor": 0
      },
      "text/plain": [
       "  0%|          | 0/5 [00:00<?, ?it/s]"
      ]
     },
     "metadata": {},
     "output_type": "display_data"
    },
    {
     "data": {
      "text/plain": [
       "[]"
      ]
     },
     "execution_count": 166,
     "metadata": {},
     "output_type": "execute_result"
    }
   ],
   "source": [
    "check_standard_fac_same_parrallel(G2perms,k=3)"
   ]
  },
  {
   "cell_type": "code",
   "execution_count": null,
   "metadata": {},
   "outputs": [],
   "source": [
    "for i in check_periodicity_conj_perms(G2perms):\n",
    "    print(i)"
   ]
  },
  {
   "cell_type": "code",
   "execution_count": null,
   "metadata": {},
   "outputs": [
    {
     "data": {
      "text/plain": [
       "(5, '1<0<2', array([1, 1, 3]))"
      ]
     },
     "execution_count": 19,
     "metadata": {},
     "output_type": "execute_result"
    }
   ],
   "source": [
    "get_max_periodicity(G2perms)"
   ]
  },
  {
   "cell_type": "code",
   "execution_count": null,
   "metadata": {},
   "outputs": [],
   "source": [
    "for i in check_delta_type_prediction_perms(G2perms):\n",
    "    print(i)"
   ]
  },
  {
   "cell_type": "code",
   "execution_count": 272,
   "metadata": {},
   "outputs": [
    {
     "data": {
      "application/vnd.jupyter.widget-view+json": {
       "model_id": "a9c20decbebd44fb8a8d6595f68858cc",
       "version_major": 2,
       "version_minor": 0
      },
      "text/plain": [
       "  0%|          | 0/5 [00:00<?, ?it/s]"
      ]
     },
     "metadata": {},
     "output_type": "display_data"
    }
   ],
   "source": [
    "write_delta_types_to_file(G2perms,\"GDeltaTypes.csv\")"
   ]
  },
  {
   "cell_type": "code",
   "execution_count": null,
   "metadata": {},
   "outputs": [
    {
     "data": {
      "text/plain": [
       "[('1<0<2', '1,2,2,2'), ('1<0<2', '1,2,2,2,0')]"
      ]
     },
     "execution_count": 144,
     "metadata": {},
     "output_type": "execute_result"
    }
   ],
   "source": [
    "check_cond_imp_monotone_increasing(G2perms)"
   ]
  },
  {
   "cell_type": "code",
   "execution_count": null,
   "metadata": {},
   "outputs": [
    {
     "data": {
      "text/plain": [
       "[]"
      ]
     },
     "execution_count": 145,
     "metadata": {},
     "output_type": "execute_result"
    }
   ],
   "source": [
    "check_monotone_increasing_imp_cond(G2perms)"
   ]
  },
  {
   "cell_type": "code",
   "execution_count": 226,
   "metadata": {},
   "outputs": [
    {
     "data": {
      "application/vnd.jupyter.widget-view+json": {
       "model_id": "e77ca50d29a648d1994d44281b5567a9",
       "version_major": 2,
       "version_minor": 0
      },
      "text/plain": [
       "  0%|          | 0/6 [00:00<?, ?it/s]"
      ]
     },
     "metadata": {},
     "output_type": "display_data"
    }
   ],
   "source": [
    "for i in check_convexity_perms(G2perms,math.factorial(n+1),k=10,word_convexity=True):\n",
    "    print(i)"
   ]
  },
  {
   "cell_type": "code",
   "execution_count": null,
   "metadata": {},
   "outputs": [
    {
     "data": {
      "text/plain": [
       "[]"
      ]
     },
     "execution_count": 148,
     "metadata": {},
     "output_type": "execute_result"
    }
   ],
   "source": [
    "check_h_deltas_repeat(G2perms)"
   ]
  },
  {
   "cell_type": "code",
   "execution_count": null,
   "metadata": {},
   "outputs": [],
   "source": [
    "for i in generate_equivalences(G2perms):\n",
    "    print(f\"{i[0]} = {i[1]}\")"
   ]
  },
  {
   "cell_type": "markdown",
   "metadata": {},
   "source": [
    "## Type B"
   ]
  },
  {
   "cell_type": "code",
   "execution_count": 273,
   "metadata": {},
   "outputs": [],
   "source": [
    "Bperms = gen_permutations('B',6)"
   ]
  },
  {
   "cell_type": "code",
   "execution_count": null,
   "metadata": {},
   "outputs": [],
   "source": [
    "for i in check_delta_type_prediction_perms(Bperms):\n",
    "    print(i)"
   ]
  },
  {
   "cell_type": "code",
   "execution_count": 274,
   "metadata": {},
   "outputs": [
    {
     "data": {
      "application/vnd.jupyter.widget-view+json": {
       "model_id": "26ae349335754ffbaef09b4bb1149162",
       "version_major": 2,
       "version_minor": 0
      },
      "text/plain": [
       "  0%|          | 0/5039 [00:00<?, ?it/s]"
      ]
     },
     "metadata": {},
     "output_type": "display_data"
    }
   ],
   "source": [
    "write_delta_types_to_file(Bperms,\"BDeltaTypes.csv\")"
   ]
  },
  {
   "cell_type": "code",
   "execution_count": null,
   "metadata": {},
   "outputs": [],
   "source": [
    "for i in Bperms:\n",
    "   ex = i.checkConvexity()\n",
    "   if(len(ex) != 0):\n",
    "       print(\"Convexity doesn't hold\")"
   ]
  },
  {
   "cell_type": "code",
   "execution_count": null,
   "metadata": {},
   "outputs": [
    {
     "data": {
      "text/plain": [
       "[]"
      ]
     },
     "execution_count": 118,
     "metadata": {},
     "output_type": "execute_result"
    }
   ],
   "source": [
    "check_h_deltas_repeat(Bperms)"
   ]
  },
  {
   "cell_type": "code",
   "execution_count": null,
   "metadata": {},
   "outputs": [],
   "source": [
    "for i in generate_equivalences(Bperms):\n",
    "    print(f\"{i[0]} = {i[1]}\")"
   ]
  },
  {
   "cell_type": "markdown",
   "metadata": {},
   "source": [
    "## Type D"
   ]
  },
  {
   "cell_type": "code",
   "execution_count": 275,
   "metadata": {},
   "outputs": [],
   "source": [
    "Dperms = gen_permutations('D',6)"
   ]
  },
  {
   "cell_type": "code",
   "execution_count": null,
   "metadata": {},
   "outputs": [],
   "source": [
    "for i in check_delta_type_prediction_perms(Dperms):\n",
    "    print(i)"
   ]
  },
  {
   "cell_type": "code",
   "execution_count": 276,
   "metadata": {},
   "outputs": [
    {
     "data": {
      "application/vnd.jupyter.widget-view+json": {
       "model_id": "94005f007a414738a049c94bda2efb18",
       "version_major": 2,
       "version_minor": 0
      },
      "text/plain": [
       "  0%|          | 0/5039 [00:00<?, ?it/s]"
      ]
     },
     "metadata": {},
     "output_type": "display_data"
    }
   ],
   "source": [
    "write_delta_types_to_file(Dperms,\"DDeltaTypes.csv\")"
   ]
  },
  {
   "cell_type": "code",
   "execution_count": null,
   "metadata": {},
   "outputs": [],
   "source": [
    "for i in Dperms:\n",
    "   ex = i.checkConvexity()\n",
    "   if(len(ex) != 0):\n",
    "       print(\"Convexity doesn't hold\")"
   ]
  },
  {
   "cell_type": "code",
   "execution_count": null,
   "metadata": {},
   "outputs": [
    {
     "data": {
      "text/plain": [
       "[]"
      ]
     },
     "execution_count": 134,
     "metadata": {},
     "output_type": "execute_result"
    }
   ],
   "source": [
    "check_h_deltas_repeat(Dperms)"
   ]
  },
  {
   "cell_type": "code",
   "execution_count": null,
   "metadata": {},
   "outputs": [],
   "source": [
    "for i in generate_equivalences(Dperms):\n",
    "    print(f\"{i[0]} = {i[1]}\")"
   ]
  },
  {
   "cell_type": "markdown",
   "metadata": {},
   "source": [
    "## Type E"
   ]
  },
  {
   "cell_type": "code",
   "execution_count": 180,
   "metadata": {},
   "outputs": [],
   "source": [
    "Eperms = gen_permutations('E',6)"
   ]
  },
  {
   "cell_type": "code",
   "execution_count": 150,
   "metadata": {},
   "outputs": [
    {
     "data": {
      "text/plain": [
       "True"
      ]
     },
     "execution_count": 150,
     "metadata": {},
     "output_type": "execute_result"
    }
   ],
   "source": [
    "E6 = rootSystem([4,2,1,5,3,6,0],'E')\n",
    "E6.generate_up_to_delta(4)\n",
    "standard_delta_pattern(E6,6)"
   ]
  },
  {
   "cell_type": "code",
   "execution_count": 181,
   "metadata": {},
   "outputs": [
    {
     "data": {
      "application/vnd.jupyter.widget-view+json": {
       "model_id": "e8d7304d8da94239b789319d949b0cd3",
       "version_major": 2,
       "version_minor": 0
      },
      "text/plain": [
       "  0%|          | 0/5039 [00:00<?, ?it/s]"
      ]
     },
     "metadata": {},
     "output_type": "display_data"
    }
   ],
   "source": [
    "write_delta_types_to_file(Eperms,'E6DeltaTypes.csv')"
   ]
  },
  {
   "cell_type": "code",
   "execution_count": null,
   "metadata": {},
   "outputs": [],
   "source": [
    "for i in check_periodicity_conj_perms(Eperms):\n",
    "    print(i)"
   ]
  },
  {
   "cell_type": "code",
   "execution_count": null,
   "metadata": {},
   "outputs": [],
   "source": [
    "for i in check_one_smallest_last(Eperms):\n",
    "    print(i)"
   ]
  },
  {
   "cell_type": "code",
   "execution_count": null,
   "metadata": {},
   "outputs": [
    {
     "data": {
      "application/vnd.jupyter.widget-view+json": {
       "model_id": "6930d7e0043e459781fcaca0e55dc8f5",
       "version_major": 2,
       "version_minor": 0
      },
      "text/plain": [
       "  0%|          | 0/5040 [00:00<?, ?it/s]"
      ]
     },
     "metadata": {},
     "output_type": "display_data"
    },
    {
     "ename": "KeyboardInterrupt",
     "evalue": "",
     "output_type": "error",
     "traceback": [
      "\u001b[1;31m---------------------------------------------------------------------------\u001b[0m",
      "\u001b[1;31mIndexError\u001b[0m                                Traceback (most recent call last)",
      "File \u001b[1;32mc:\\Users\\Corbe\\AppData\\Local\\Programs\\Python\\Python311\\Lib\\multiprocessing\\pool.py:856\u001b[0m, in \u001b[0;36mIMapIterator.next\u001b[1;34m(self, timeout)\u001b[0m\n\u001b[0;32m    855\u001b[0m \u001b[38;5;28;01mtry\u001b[39;00m:\n\u001b[1;32m--> 856\u001b[0m     item \u001b[38;5;241m=\u001b[39m \u001b[38;5;28;43mself\u001b[39;49m\u001b[38;5;241;43m.\u001b[39;49m\u001b[43m_items\u001b[49m\u001b[38;5;241;43m.\u001b[39;49m\u001b[43mpopleft\u001b[49m\u001b[43m(\u001b[49m\u001b[43m)\u001b[49m\n\u001b[0;32m    857\u001b[0m \u001b[38;5;28;01mexcept\u001b[39;00m \u001b[38;5;167;01mIndexError\u001b[39;00m:\n",
      "\u001b[1;31mIndexError\u001b[0m: pop from an empty deque",
      "\nDuring handling of the above exception, another exception occurred:\n",
      "\u001b[1;31mKeyboardInterrupt\u001b[0m                         Traceback (most recent call last)",
      "Cell \u001b[1;32mIn[393], line 1\u001b[0m\n\u001b[1;32m----> 1\u001b[0m \u001b[38;5;28;43;01mfor\u001b[39;49;00m\u001b[43m \u001b[49m\u001b[43mi\u001b[49m\u001b[43m \u001b[49m\u001b[38;5;129;43;01min\u001b[39;49;00m\u001b[43m \u001b[49m\u001b[43mcheckDeltaTypePrectionPerms\u001b[49m\u001b[43m(\u001b[49m\u001b[43mEperms\u001b[49m\u001b[43m)\u001b[49m\u001b[43m:\u001b[49m\n\u001b[0;32m      2\u001b[0m \u001b[43m    \u001b[49m\u001b[38;5;28;43mprint\u001b[39;49m\u001b[43m(\u001b[49m\u001b[43mi\u001b[49m\u001b[43m)\u001b[49m\n",
      "Cell \u001b[1;32mIn[386], line 56\u001b[0m, in \u001b[0;36mcheckDeltaTypePrectionPerms\u001b[1;34m(rootsystems, k)\u001b[0m\n\u001b[0;32m     54\u001b[0m \u001b[38;5;28;01mdef\u001b[39;00m \u001b[38;5;21mcheckDeltaTypePrectionPerms\u001b[39m(rootsystems,k\u001b[38;5;241m=\u001b[39m\u001b[38;5;241m2\u001b[39m):\n\u001b[0;32m     55\u001b[0m     exceptions \u001b[38;5;241m=\u001b[39m []\n\u001b[1;32m---> 56\u001b[0m \u001b[43m    \u001b[49m\u001b[38;5;28;43;01mfor\u001b[39;49;00m\u001b[43m \u001b[49m\u001b[43mrootsys\u001b[49m\u001b[43m \u001b[49m\u001b[38;5;129;43;01min\u001b[39;49;00m\u001b[43m \u001b[49m\u001b[43mrootsystems\u001b[49m\u001b[43m:\u001b[49m\n\u001b[0;32m     57\u001b[0m \u001b[43m        \u001b[49m\u001b[38;5;28;43;01mfor\u001b[39;49;00m\u001b[43m \u001b[49m\u001b[43mi\u001b[49m\u001b[43m \u001b[49m\u001b[38;5;129;43;01min\u001b[39;49;00m\u001b[43m \u001b[49m\u001b[43mcheckDeltaTypePrediction\u001b[49m\u001b[43m(\u001b[49m\u001b[43mrootsys\u001b[49m\u001b[43m,\u001b[49m\u001b[43mk\u001b[49m\u001b[43m)\u001b[49m\u001b[43m:\u001b[49m\n\u001b[0;32m     58\u001b[0m \u001b[43m            \u001b[49m\u001b[38;5;28;43;01myield\u001b[39;49;00m\u001b[43m \u001b[49m\u001b[43mi\u001b[49m\n",
      "Cell \u001b[1;32mIn[370], line 13\u001b[0m, in \u001b[0;36mgenPermutations\u001b[1;34m(type, n, k)\u001b[0m\n\u001b[0;32m     11\u001b[0m \u001b[38;5;28;01mdef\u001b[39;00m \u001b[38;5;21mgenPermutations\u001b[39m(\u001b[38;5;28mtype\u001b[39m,n,k):\n\u001b[0;32m     12\u001b[0m     \u001b[38;5;28;01mwith\u001b[39;00m mp\u001b[38;5;241m.\u001b[39mPool() \u001b[38;5;28;01mas\u001b[39;00m pool:\n\u001b[1;32m---> 13\u001b[0m \u001b[43m        \u001b[49m\u001b[38;5;28;43;01mfor\u001b[39;49;00m\u001b[43m \u001b[49m\u001b[43mi\u001b[49m\u001b[43m \u001b[49m\u001b[38;5;129;43;01min\u001b[39;49;00m\u001b[43m \u001b[49m\u001b[43mtqdm\u001b[49m\u001b[43m(\u001b[49m\u001b[43mpool\u001b[49m\u001b[38;5;241;43m.\u001b[39;49m\u001b[43mimap_unordered\u001b[49m\u001b[43m(\u001b[49m\u001b[43mpartial\u001b[49m\u001b[43m(\u001b[49m\u001b[43mrootSystem\u001b[49m\u001b[43m,\u001b[49m\u001b[38;5;28;43mtype\u001b[39;49m\u001b[38;5;241;43m=\u001b[39;49m\u001b[38;5;28;43mtype\u001b[39;49m\u001b[43m,\u001b[49m\u001b[43mk\u001b[49m\u001b[38;5;241;43m=\u001b[39;49m\u001b[43mk\u001b[49m\u001b[43m)\u001b[49m\u001b[43m,\u001b[49m\u001b[43mitertools\u001b[49m\u001b[38;5;241;43m.\u001b[39;49m\u001b[43mpermutations\u001b[49m\u001b[43m(\u001b[49m\u001b[43mnp\u001b[49m\u001b[38;5;241;43m.\u001b[39;49m\u001b[43marray\u001b[49m\u001b[43m(\u001b[49m\u001b[38;5;28;43mrange\u001b[39;49m\u001b[43m(\u001b[49m\u001b[43mn\u001b[49m\u001b[38;5;241;43m+\u001b[39;49m\u001b[38;5;241;43m1\u001b[39;49m\u001b[43m)\u001b[49m\u001b[43m)\u001b[49m\u001b[43m)\u001b[49m\u001b[43m)\u001b[49m\u001b[43m,\u001b[49m\u001b[43mtotal\u001b[49m\u001b[38;5;241;43m=\u001b[39;49m\u001b[43mmath\u001b[49m\u001b[38;5;241;43m.\u001b[39;49m\u001b[43mfactorial\u001b[49m\u001b[43m(\u001b[49m\u001b[43mn\u001b[49m\u001b[38;5;241;43m+\u001b[39;49m\u001b[38;5;241;43m1\u001b[39;49m\u001b[43m)\u001b[49m\u001b[43m)\u001b[49m\u001b[43m:\u001b[49m\n\u001b[0;32m     14\u001b[0m \u001b[43m            \u001b[49m\u001b[38;5;28;43;01myield\u001b[39;49;00m\u001b[43m \u001b[49m\u001b[43mi\u001b[49m\n",
      "File \u001b[1;32mc:\\Users\\Corbe\\AppData\\Local\\Programs\\Python\\Python311\\Lib\\site-packages\\tqdm\\notebook.py:250\u001b[0m, in \u001b[0;36mtqdm_notebook.__iter__\u001b[1;34m(self)\u001b[0m\n\u001b[0;32m    248\u001b[0m \u001b[38;5;28;01mtry\u001b[39;00m:\n\u001b[0;32m    249\u001b[0m     it \u001b[38;5;241m=\u001b[39m \u001b[38;5;28msuper\u001b[39m()\u001b[38;5;241m.\u001b[39m\u001b[38;5;21m__iter__\u001b[39m()\n\u001b[1;32m--> 250\u001b[0m \u001b[43m    \u001b[49m\u001b[38;5;28;43;01mfor\u001b[39;49;00m\u001b[43m \u001b[49m\u001b[43mobj\u001b[49m\u001b[43m \u001b[49m\u001b[38;5;129;43;01min\u001b[39;49;00m\u001b[43m \u001b[49m\u001b[43mit\u001b[49m\u001b[43m:\u001b[49m\n\u001b[0;32m    251\u001b[0m \u001b[43m        \u001b[49m\u001b[38;5;66;43;03m# return super(tqdm...) will not catch exception\u001b[39;49;00m\n\u001b[0;32m    252\u001b[0m \u001b[43m        \u001b[49m\u001b[38;5;28;43;01myield\u001b[39;49;00m\u001b[43m \u001b[49m\u001b[43mobj\u001b[49m\n\u001b[0;32m    253\u001b[0m \u001b[38;5;66;03m# NB: except ... [ as ...] breaks IPython async KeyboardInterrupt\u001b[39;00m\n",
      "File \u001b[1;32mc:\\Users\\Corbe\\AppData\\Local\\Programs\\Python\\Python311\\Lib\\site-packages\\tqdm\\std.py:1181\u001b[0m, in \u001b[0;36mtqdm.__iter__\u001b[1;34m(self)\u001b[0m\n\u001b[0;32m   1178\u001b[0m time \u001b[38;5;241m=\u001b[39m \u001b[38;5;28mself\u001b[39m\u001b[38;5;241m.\u001b[39m_time\n\u001b[0;32m   1180\u001b[0m \u001b[38;5;28;01mtry\u001b[39;00m:\n\u001b[1;32m-> 1181\u001b[0m \u001b[43m    \u001b[49m\u001b[38;5;28;43;01mfor\u001b[39;49;00m\u001b[43m \u001b[49m\u001b[43mobj\u001b[49m\u001b[43m \u001b[49m\u001b[38;5;129;43;01min\u001b[39;49;00m\u001b[43m \u001b[49m\u001b[43miterable\u001b[49m\u001b[43m:\u001b[49m\n\u001b[0;32m   1182\u001b[0m \u001b[43m        \u001b[49m\u001b[38;5;28;43;01myield\u001b[39;49;00m\u001b[43m \u001b[49m\u001b[43mobj\u001b[49m\n\u001b[0;32m   1183\u001b[0m \u001b[43m        \u001b[49m\u001b[38;5;66;43;03m# Update and possibly print the progressbar.\u001b[39;49;00m\n\u001b[0;32m   1184\u001b[0m \u001b[43m        \u001b[49m\u001b[38;5;66;43;03m# Note: does not call self.update(1) for speed optimisation.\u001b[39;49;00m\n",
      "File \u001b[1;32mc:\\Users\\Corbe\\AppData\\Local\\Programs\\Python\\Python311\\Lib\\multiprocessing\\pool.py:861\u001b[0m, in \u001b[0;36mIMapIterator.next\u001b[1;34m(self, timeout)\u001b[0m\n\u001b[0;32m    859\u001b[0m     \u001b[38;5;28mself\u001b[39m\u001b[38;5;241m.\u001b[39m_pool \u001b[38;5;241m=\u001b[39m \u001b[38;5;28;01mNone\u001b[39;00m\n\u001b[0;32m    860\u001b[0m     \u001b[38;5;28;01mraise\u001b[39;00m \u001b[38;5;167;01mStopIteration\u001b[39;00m \u001b[38;5;28;01mfrom\u001b[39;00m \u001b[38;5;28;01mNone\u001b[39;00m\n\u001b[1;32m--> 861\u001b[0m \u001b[38;5;28;43mself\u001b[39;49m\u001b[38;5;241;43m.\u001b[39;49m\u001b[43m_cond\u001b[49m\u001b[38;5;241;43m.\u001b[39;49m\u001b[43mwait\u001b[49m\u001b[43m(\u001b[49m\u001b[43mtimeout\u001b[49m\u001b[43m)\u001b[49m\n\u001b[0;32m    862\u001b[0m \u001b[38;5;28;01mtry\u001b[39;00m:\n\u001b[0;32m    863\u001b[0m     item \u001b[38;5;241m=\u001b[39m \u001b[38;5;28mself\u001b[39m\u001b[38;5;241m.\u001b[39m_items\u001b[38;5;241m.\u001b[39mpopleft()\n",
      "File \u001b[1;32mc:\\Users\\Corbe\\AppData\\Local\\Programs\\Python\\Python311\\Lib\\threading.py:320\u001b[0m, in \u001b[0;36mCondition.wait\u001b[1;34m(self, timeout)\u001b[0m\n\u001b[0;32m    318\u001b[0m \u001b[38;5;28;01mtry\u001b[39;00m:    \u001b[38;5;66;03m# restore state no matter what (e.g., KeyboardInterrupt)\u001b[39;00m\n\u001b[0;32m    319\u001b[0m     \u001b[38;5;28;01mif\u001b[39;00m timeout \u001b[38;5;129;01mis\u001b[39;00m \u001b[38;5;28;01mNone\u001b[39;00m:\n\u001b[1;32m--> 320\u001b[0m         \u001b[43mwaiter\u001b[49m\u001b[38;5;241;43m.\u001b[39;49m\u001b[43macquire\u001b[49m\u001b[43m(\u001b[49m\u001b[43m)\u001b[49m\n\u001b[0;32m    321\u001b[0m         gotit \u001b[38;5;241m=\u001b[39m \u001b[38;5;28;01mTrue\u001b[39;00m\n\u001b[0;32m    322\u001b[0m     \u001b[38;5;28;01melse\u001b[39;00m:\n",
      "\u001b[1;31mKeyboardInterrupt\u001b[0m: "
     ]
    }
   ],
   "source": [
    "for i in check_delta_type_prediction_perms(Eperms):\n",
    "    print(i)"
   ]
  },
  {
   "cell_type": "code",
   "execution_count": null,
   "metadata": {},
   "outputs": [
    {
     "data": {
      "application/vnd.jupyter.widget-view+json": {
       "model_id": "c801c9d28b4444a58245b8bc5f1231da",
       "version_major": 2,
       "version_minor": 0
      },
      "text/plain": [
       "  0%|          | 0/5040 [00:00<?, ?it/s]"
      ]
     },
     "metadata": {},
     "output_type": "display_data"
    },
    {
     "data": {
      "text/plain": [
       "[]"
      ]
     },
     "execution_count": 21,
     "metadata": {},
     "output_type": "execute_result"
    }
   ],
   "source": [
    "check_h_deltas_repeat(Eperms)"
   ]
  },
  {
   "cell_type": "code",
   "execution_count": null,
   "metadata": {},
   "outputs": [],
   "source": [
    "for i in Eperms:\n",
    "   ex = i.checkConvexity()\n",
    "   if(len(ex) != 0):\n",
    "       print(\"Convexity doesn't hold\")"
   ]
  },
  {
   "cell_type": "code",
   "execution_count": 28,
   "metadata": {},
   "outputs": [
    {
     "data": {
      "application/vnd.jupyter.widget-view+json": {
       "model_id": "b80ece9ae63a4c04ab984fcec1f5509d",
       "version_major": 2,
       "version_minor": 0
      },
      "text/plain": [
       "  0%|          | 0/40319 [00:00<?, ?it/s]"
      ]
     },
     "metadata": {},
     "output_type": "display_data"
    }
   ],
   "source": [
    "write_delta_types_to_file(Eperms,\"E7DeltaTypes.csv\")"
   ]
  },
  {
   "cell_type": "code",
   "execution_count": null,
   "metadata": {},
   "outputs": [
    {
     "name": "stdout",
     "output_type": "stream",
     "text": [
      "0<1<2<4<5<6<3 = 0<1<2<4<5<3<6\n",
      "0<1<2<5<4<6<3 = 0<1<2<5<4<3<6\n",
      "0<1<3<4<5<6<2 = 0<1<3<4<5<2<6\n",
      "0<1<3<5<4<6<2 = 0<1<3<5<4<2<6\n",
      "0<1<4<2<5<6<3 = 0<1<4<2<5<3<6\n",
      "0<1<4<3<5<6<2 = 0<1<4<3<5<2<6\n",
      "0<1<4<5<2<6<3 = 0<1<4<5<2<3<6\n",
      "0<1<4<5<3<6<2 = 0<1<4<5<3<2<6\n",
      "0<1<4<5<6<2<3 = 0<1<4<5<2<3<6\n",
      "0<1<4<5<6<2<3 = 0<1<4<5<2<6<3\n",
      "0<1<4<5<6<3<2 = 0<1<4<5<3<2<6\n",
      "0<1<4<5<6<3<2 = 0<1<4<5<3<6<2\n",
      "0<1<5<2<4<6<3 = 0<1<5<2<4<3<6\n",
      "0<1<5<3<4<6<2 = 0<1<5<3<4<2<6\n",
      "0<1<5<4<2<6<3 = 0<1<5<4<2<3<6\n",
      "0<1<5<4<3<6<2 = 0<1<5<4<3<2<6\n",
      "0<1<5<4<6<2<3 = 0<1<5<4<2<3<6\n",
      "0<1<5<4<6<2<3 = 0<1<5<4<2<6<3\n",
      "0<1<5<4<6<3<2 = 0<1<5<4<3<2<6\n",
      "0<1<5<4<6<3<2 = 0<1<5<4<3<6<2\n",
      "0<2<1<4<5<6<3 = 0<2<1<4<5<3<6\n",
      "0<2<1<5<4<6<3 = 0<2<1<5<4<3<6\n",
      "0<2<3<4<5<1<6 = 0<2<3<4<1<5<6\n",
      "0<2<3<4<5<6<1 = 0<2<3<4<1<5<6\n",
      "0<2<3<4<5<6<1 = 0<2<3<4<5<1<6\n",
      "0<2<3<4<6<1<5 = 0<2<3<4<1<6<5\n",
      "0<2<3<4<6<5<1 = 0<2<3<4<1<6<5\n",
      "0<2<3<4<6<5<1 = 0<2<3<4<6<1<5\n",
      "0<2<3<5<4<6<1 = 0<2<3<5<4<1<6\n",
      "0<2<3<5<6<1<4 = 0<2<3<5<1<6<4\n",
      "0<2<3<6<4<5<1 = 0<2<3<6<4<1<5\n",
      "0<2<4<1<5<6<3 = 0<2<4<1<5<3<6\n",
      "0<2<4<3<5<1<6 = 0<2<4<3<1<5<6\n",
      "0<2<4<3<5<6<1 = 0<2<4<3<1<5<6\n",
      "0<2<4<3<5<6<1 = 0<2<4<3<5<1<6\n",
      "0<2<4<3<6<1<5 = 0<2<4<3<1<6<5\n",
      "0<2<4<3<6<5<1 = 0<2<4<3<1<6<5\n",
      "0<2<4<3<6<5<1 = 0<2<4<3<6<1<5\n",
      "0<2<4<5<1<6<3 = 0<2<4<5<1<3<6\n",
      "0<2<4<5<3<6<1 = 0<2<4<5<3<1<6\n",
      "0<2<4<5<6<1<3 = 0<2<4<5<1<3<6\n",
      "0<2<4<5<6<1<3 = 0<2<4<5<1<6<3\n",
      "0<2<4<5<6<3<1 = 0<2<4<5<3<1<6\n",
      "0<2<4<5<6<3<1 = 0<2<4<5<3<6<1\n",
      "0<2<4<6<3<5<1 = 0<2<4<6<3<1<5\n",
      "0<2<5<1<4<6<3 = 0<2<5<1<4<3<6\n",
      "0<2<5<3<4<6<1 = 0<2<5<3<4<1<6\n",
      "0<2<5<3<6<1<4 = 0<2<5<3<1<6<4\n",
      "0<2<5<4<1<6<3 = 0<2<5<4<1<3<6\n",
      "0<2<5<4<3<6<1 = 0<2<5<4<3<1<6\n",
      "0<2<5<4<6<1<3 = 0<2<5<4<1<3<6\n",
      "0<2<5<4<6<1<3 = 0<2<5<4<1<6<3\n",
      "0<2<5<4<6<3<1 = 0<2<5<4<3<1<6\n",
      "0<2<5<4<6<3<1 = 0<2<5<4<3<6<1\n",
      "0<2<6<3<4<5<1 = 0<2<6<3<4<1<5\n",
      "0<2<6<4<3<5<1 = 0<2<6<4<3<1<5\n",
      "0<3<1<4<5<6<2 = 0<3<1<4<5<2<6\n",
      "0<3<1<5<4<6<2 = 0<3<1<5<4<2<6\n",
      "0<3<2<4<5<1<6 = 0<3<2<4<1<5<6\n",
      "0<3<2<4<5<6<1 = 0<3<2<4<1<5<6\n",
      "0<3<2<4<5<6<1 = 0<3<2<4<5<1<6\n",
      "0<3<2<4<6<1<5 = 0<3<2<4<1<6<5\n",
      "0<3<2<4<6<5<1 = 0<3<2<4<1<6<5\n",
      "0<3<2<4<6<5<1 = 0<3<2<4<6<1<5\n",
      "0<3<2<5<4<6<1 = 0<3<2<5<4<1<6\n",
      "0<3<2<5<6<1<4 = 0<3<2<5<1<6<4\n",
      "0<3<2<6<4<5<1 = 0<3<2<6<4<1<5\n",
      "0<3<4<1<5<6<2 = 0<3<4<1<5<2<6\n",
      "0<3<4<2<1<5<6 = 0<3<4<1<2<5<6\n",
      "0<3<4<2<1<6<5 = 0<3<4<1<2<6<5\n",
      "0<3<4<2<5<1<6 = 0<3<4<1<2<5<6\n",
      "0<3<4<2<5<1<6 = 0<3<4<2<1<5<6\n",
      "0<3<4<2<5<6<1 = 0<3<4<1<2<5<6\n",
      "0<3<4<2<5<6<1 = 0<3<4<2<1<5<6\n",
      "0<3<4<2<5<6<1 = 0<3<4<2<5<1<6\n",
      "0<3<4<2<6<1<5 = 0<3<4<1<2<6<5\n",
      "0<3<4<2<6<1<5 = 0<3<4<2<1<6<5\n",
      "0<3<4<2<6<5<1 = 0<3<4<1<2<6<5\n",
      "0<3<4<2<6<5<1 = 0<3<4<2<1<6<5\n",
      "0<3<4<2<6<5<1 = 0<3<4<2<6<1<5\n",
      "0<3<4<5<1<2<6 = 0<3<4<1<5<2<6\n",
      "0<3<4<5<1<2<6 = 0<3<4<1<5<6<2\n",
      "0<3<4<5<1<6<2 = 0<3<4<1<5<2<6\n",
      "0<3<4<5<1<6<2 = 0<3<4<1<5<6<2\n",
      "0<3<4<5<1<6<2 = 0<3<4<5<1<2<6\n",
      "0<3<4<5<2<1<6 = 0<3<4<1<5<2<6\n",
      "0<3<4<5<2<1<6 = 0<3<4<1<5<6<2\n",
      "0<3<4<5<2<1<6 = 0<3<4<5<1<2<6\n",
      "0<3<4<5<2<1<6 = 0<3<4<5<1<6<2\n",
      "0<3<4<5<2<6<1 = 0<3<4<1<5<2<6\n",
      "0<3<4<5<2<6<1 = 0<3<4<1<5<6<2\n",
      "0<3<4<5<2<6<1 = 0<3<4<5<1<2<6\n",
      "0<3<4<5<2<6<1 = 0<3<4<5<1<6<2\n",
      "0<3<4<5<2<6<1 = 0<3<4<5<2<1<6\n",
      "0<3<4<5<6<1<2 = 0<3<4<1<5<2<6\n",
      "0<3<4<5<6<1<2 = 0<3<4<1<5<6<2\n",
      "0<3<4<5<6<1<2 = 0<3<4<5<1<2<6\n",
      "0<3<4<5<6<1<2 = 0<3<4<5<1<6<2\n",
      "0<3<4<5<6<1<2 = 0<3<4<5<2<1<6\n",
      "0<3<4<5<6<1<2 = 0<3<4<5<2<6<1\n",
      "0<3<4<5<6<2<1 = 0<3<4<1<5<2<6\n",
      "0<3<4<5<6<2<1 = 0<3<4<1<5<6<2\n",
      "0<3<4<5<6<2<1 = 0<3<4<5<1<2<6\n",
      "0<3<4<5<6<2<1 = 0<3<4<5<1<6<2\n",
      "0<3<4<5<6<2<1 = 0<3<4<5<2<1<6\n",
      "0<3<4<5<6<2<1 = 0<3<4<5<2<6<1\n",
      "0<3<4<5<6<2<1 = 0<3<4<5<6<1<2\n",
      "0<3<4<6<1<2<5 = 0<3<4<1<6<2<5\n",
      "0<3<4<6<1<5<2 = 0<3<4<1<6<5<2\n",
      "0<3<4<6<2<1<5 = 0<3<4<1<6<2<5\n",
      "0<3<4<6<2<1<5 = 0<3<4<6<1<2<5\n",
      "0<3<4<6<2<5<1 = 0<3<4<1<6<2<5\n",
      "0<3<4<6<2<5<1 = 0<3<4<6<1<2<5\n",
      "0<3<4<6<2<5<1 = 0<3<4<6<2<1<5\n",
      "0<3<4<6<5<1<2 = 0<3<4<1<6<5<2\n",
      "0<3<4<6<5<1<2 = 0<3<4<6<1<5<2\n",
      "0<3<4<6<5<2<1 = 0<3<4<1<6<5<2\n",
      "0<3<4<6<5<2<1 = 0<3<4<6<1<5<2\n",
      "0<3<4<6<5<2<1 = 0<3<4<6<5<1<2\n",
      "0<3<5<1<4<6<2 = 0<3<5<1<4<2<6\n",
      "0<3<5<2<4<6<1 = 0<3<5<2<4<1<6\n",
      "0<3<5<2<6<1<4 = 0<3<5<2<1<6<4\n",
      "0<3<5<4<1<6<2 = 0<3<5<4<1<2<6\n",
      "0<3<5<4<2<1<6 = 0<3<5<4<1<2<6\n",
      "0<3<5<4<2<1<6 = 0<3<5<4<1<6<2\n",
      "0<3<5<4<2<6<1 = 0<3<5<4<1<2<6\n",
      "0<3<5<4<2<6<1 = 0<3<5<4<1<6<2\n",
      "0<3<5<4<2<6<1 = 0<3<5<4<2<1<6\n",
      "0<3<5<4<6<1<2 = 0<3<5<4<1<2<6\n",
      "0<3<5<4<6<1<2 = 0<3<5<4<1<6<2\n",
      "0<3<5<4<6<1<2 = 0<3<5<4<2<1<6\n",
      "0<3<5<4<6<1<2 = 0<3<5<4<2<6<1\n",
      "0<3<5<4<6<2<1 = 0<3<5<4<1<2<6\n",
      "0<3<5<4<6<2<1 = 0<3<5<4<1<6<2\n",
      "0<3<5<4<6<2<1 = 0<3<5<4<2<1<6\n",
      "0<3<5<4<6<2<1 = 0<3<5<4<2<6<1\n",
      "0<3<5<4<6<2<1 = 0<3<5<4<6<1<2\n",
      "0<3<5<6<1<2<4 = 0<3<5<1<6<2<4\n",
      "0<3<5<6<1<4<2 = 0<3<5<1<6<4<2\n",
      "0<3<5<6<4<2<1 = 0<3<5<6<4<1<2\n",
      "0<3<6<2<4<5<1 = 0<3<6<2<4<1<5\n",
      "0<3<6<4<2<1<5 = 0<3<6<4<1<2<5\n",
      "0<3<6<4<2<5<1 = 0<3<6<4<1<2<5\n",
      "0<3<6<4<2<5<1 = 0<3<6<4<2<1<5\n",
      "0<3<6<4<5<1<2 = 0<3<6<4<1<5<2\n",
      "0<3<6<4<5<2<1 = 0<3<6<4<1<5<2\n",
      "0<3<6<4<5<2<1 = 0<3<6<4<5<1<2\n",
      "0<3<6<5<4<2<1 = 0<3<6<5<4<1<2\n",
      "0<4<1<2<5<6<3 = 0<4<1<2<5<3<6\n",
      "0<4<1<3<5<6<2 = 0<4<1<3<5<2<6\n",
      "0<4<1<5<2<6<3 = 0<4<1<5<2<3<6\n",
      "0<4<1<5<3<6<2 = 0<4<1<5<3<2<6\n",
      "0<4<1<5<6<2<3 = 0<4<1<5<2<3<6\n",
      "0<4<1<5<6<2<3 = 0<4<1<5<2<6<3\n",
      "0<4<1<5<6<3<2 = 0<4<1<5<3<2<6\n",
      "0<4<1<5<6<3<2 = 0<4<1<5<3<6<2\n",
      "0<4<2<1<5<6<3 = 0<4<2<1<5<3<6\n",
      "0<4<2<3<5<1<6 = 0<4<2<3<1<5<6\n",
      "0<4<2<3<5<6<1 = 0<4<2<3<1<5<6\n",
      "0<4<2<3<5<6<1 = 0<4<2<3<5<1<6\n",
      "0<4<2<3<6<1<5 = 0<4<2<3<1<6<5\n",
      "0<4<2<3<6<5<1 = 0<4<2<3<1<6<5\n",
      "0<4<2<3<6<5<1 = 0<4<2<3<6<1<5\n",
      "0<4<2<5<1<6<3 = 0<4<2<5<1<3<6\n",
      "0<4<2<5<3<6<1 = 0<4<2<5<3<1<6\n",
      "0<4<2<5<6<1<3 = 0<4<2<5<1<3<6\n",
      "0<4<2<5<6<1<3 = 0<4<2<5<1<6<3\n",
      "0<4<2<5<6<3<1 = 0<4<2<5<3<1<6\n",
      "0<4<2<5<6<3<1 = 0<4<2<5<3<6<1\n",
      "0<4<2<6<3<5<1 = 0<4<2<6<3<1<5\n",
      "0<4<3<1<5<6<2 = 0<4<3<1<5<2<6\n",
      "0<4<3<2<1<5<6 = 0<4<3<1<2<5<6\n",
      "0<4<3<2<1<6<5 = 0<4<3<1<2<6<5\n",
      "0<4<3<2<5<1<6 = 0<4<3<1<2<5<6\n",
      "0<4<3<2<5<1<6 = 0<4<3<2<1<5<6\n",
      "0<4<3<2<5<6<1 = 0<4<3<1<2<5<6\n",
      "0<4<3<2<5<6<1 = 0<4<3<2<1<5<6\n",
      "0<4<3<2<5<6<1 = 0<4<3<2<5<1<6\n",
      "0<4<3<2<6<1<5 = 0<4<3<1<2<6<5\n",
      "0<4<3<2<6<1<5 = 0<4<3<2<1<6<5\n",
      "0<4<3<2<6<5<1 = 0<4<3<1<2<6<5\n",
      "0<4<3<2<6<5<1 = 0<4<3<2<1<6<5\n",
      "0<4<3<2<6<5<1 = 0<4<3<2<6<1<5\n",
      "0<4<3<5<1<2<6 = 0<4<3<1<5<2<6\n",
      "0<4<3<5<1<2<6 = 0<4<3<1<5<6<2\n",
      "0<4<3<5<1<6<2 = 0<4<3<1<5<2<6\n",
      "0<4<3<5<1<6<2 = 0<4<3<1<5<6<2\n",
      "0<4<3<5<1<6<2 = 0<4<3<5<1<2<6\n",
      "0<4<3<5<2<1<6 = 0<4<3<1<5<2<6\n",
      "0<4<3<5<2<1<6 = 0<4<3<1<5<6<2\n",
      "0<4<3<5<2<1<6 = 0<4<3<5<1<2<6\n",
      "0<4<3<5<2<1<6 = 0<4<3<5<1<6<2\n",
      "0<4<3<5<2<6<1 = 0<4<3<1<5<2<6\n",
      "0<4<3<5<2<6<1 = 0<4<3<1<5<6<2\n",
      "0<4<3<5<2<6<1 = 0<4<3<5<1<2<6\n",
      "0<4<3<5<2<6<1 = 0<4<3<5<1<6<2\n",
      "0<4<3<5<2<6<1 = 0<4<3<5<2<1<6\n",
      "0<4<3<5<6<1<2 = 0<4<3<1<5<2<6\n",
      "0<4<3<5<6<1<2 = 0<4<3<1<5<6<2\n",
      "0<4<3<5<6<1<2 = 0<4<3<5<1<2<6\n",
      "0<4<3<5<6<1<2 = 0<4<3<5<1<6<2\n",
      "0<4<3<5<6<1<2 = 0<4<3<5<2<1<6\n",
      "0<4<3<5<6<1<2 = 0<4<3<5<2<6<1\n",
      "0<4<3<5<6<2<1 = 0<4<3<1<5<2<6\n",
      "0<4<3<5<6<2<1 = 0<4<3<1<5<6<2\n",
      "0<4<3<5<6<2<1 = 0<4<3<5<1<2<6\n",
      "0<4<3<5<6<2<1 = 0<4<3<5<1<6<2\n",
      "0<4<3<5<6<2<1 = 0<4<3<5<2<1<6\n",
      "0<4<3<5<6<2<1 = 0<4<3<5<2<6<1\n",
      "0<4<3<5<6<2<1 = 0<4<3<5<6<1<2\n",
      "0<4<3<6<1<2<5 = 0<4<3<1<6<2<5\n",
      "0<4<3<6<1<5<2 = 0<4<3<1<6<5<2\n",
      "0<4<3<6<2<1<5 = 0<4<3<1<6<2<5\n",
      "0<4<3<6<2<1<5 = 0<4<3<6<1<2<5\n",
      "0<4<3<6<2<5<1 = 0<4<3<1<6<2<5\n",
      "0<4<3<6<2<5<1 = 0<4<3<6<1<2<5\n",
      "0<4<3<6<2<5<1 = 0<4<3<6<2<1<5\n",
      "0<4<3<6<5<1<2 = 0<4<3<1<6<5<2\n",
      "0<4<3<6<5<1<2 = 0<4<3<6<1<5<2\n",
      "0<4<3<6<5<2<1 = 0<4<3<1<6<5<2\n",
      "0<4<3<6<5<2<1 = 0<4<3<6<1<5<2\n",
      "0<4<3<6<5<2<1 = 0<4<3<6<5<1<2\n",
      "0<4<5<1<2<6<3 = 0<4<5<1<2<3<6\n",
      "0<4<5<1<3<6<2 = 0<4<5<1<3<2<6\n",
      "0<4<5<1<6<2<3 = 0<4<5<1<2<3<6\n",
      "0<4<5<1<6<2<3 = 0<4<5<1<2<6<3\n",
      "0<4<5<1<6<3<2 = 0<4<5<1<3<2<6\n",
      "0<4<5<1<6<3<2 = 0<4<5<1<3<6<2\n",
      "0<4<5<2<1<6<3 = 0<4<5<2<1<3<6\n",
      "0<4<5<2<3<6<1 = 0<4<5<2<3<1<6\n",
      "0<4<5<2<6<1<3 = 0<4<5<2<1<3<6\n",
      "0<4<5<2<6<1<3 = 0<4<5<2<1<6<3\n",
      "0<4<5<2<6<3<1 = 0<4<5<2<3<1<6\n",
      "0<4<5<2<6<3<1 = 0<4<5<2<3<6<1\n",
      "0<4<5<3<1<6<2 = 0<4<5<3<1<2<6\n",
      "0<4<5<3<2<1<6 = 0<4<5<3<1<2<6\n",
      "0<4<5<3<2<1<6 = 0<4<5<3<1<6<2\n",
      "0<4<5<3<2<6<1 = 0<4<5<3<1<2<6\n",
      "0<4<5<3<2<6<1 = 0<4<5<3<1<6<2\n",
      "0<4<5<3<2<6<1 = 0<4<5<3<2<1<6\n",
      "0<4<5<3<6<1<2 = 0<4<5<3<1<2<6\n",
      "0<4<5<3<6<1<2 = 0<4<5<3<1<6<2\n",
      "0<4<5<3<6<1<2 = 0<4<5<3<2<1<6\n",
      "0<4<5<3<6<1<2 = 0<4<5<3<2<6<1\n",
      "0<4<5<3<6<2<1 = 0<4<5<3<1<2<6\n",
      "0<4<5<3<6<2<1 = 0<4<5<3<1<6<2\n",
      "0<4<5<3<6<2<1 = 0<4<5<3<2<1<6\n",
      "0<4<5<3<6<2<1 = 0<4<5<3<2<6<1\n",
      "0<4<5<3<6<2<1 = 0<4<5<3<6<1<2\n",
      "0<4<5<6<1<2<3 = 0<4<5<1<2<3<6\n",
      "0<4<5<6<1<2<3 = 0<4<5<1<2<6<3\n",
      "0<4<5<6<1<2<3 = 0<4<5<1<6<2<3\n",
      "0<4<5<6<1<3<2 = 0<4<5<1<3<2<6\n",
      "0<4<5<6<1<3<2 = 0<4<5<1<3<6<2\n",
      "0<4<5<6<1<3<2 = 0<4<5<1<6<3<2\n",
      "0<4<5<6<2<1<3 = 0<4<5<2<1<3<6\n",
      "0<4<5<6<2<1<3 = 0<4<5<2<1<6<3\n",
      "0<4<5<6<2<1<3 = 0<4<5<2<6<1<3\n",
      "0<4<5<6<2<3<1 = 0<4<5<2<3<1<6\n",
      "0<4<5<6<2<3<1 = 0<4<5<2<3<6<1\n",
      "0<4<5<6<2<3<1 = 0<4<5<2<6<3<1\n",
      "0<4<5<6<3<1<2 = 0<4<5<3<1<2<6\n",
      "0<4<5<6<3<1<2 = 0<4<5<3<1<6<2\n",
      "0<4<5<6<3<1<2 = 0<4<5<3<2<1<6\n",
      "0<4<5<6<3<1<2 = 0<4<5<3<2<6<1\n",
      "0<4<5<6<3<1<2 = 0<4<5<3<6<1<2\n",
      "0<4<5<6<3<1<2 = 0<4<5<3<6<2<1\n",
      "0<4<5<6<3<2<1 = 0<4<5<3<1<2<6\n",
      "0<4<5<6<3<2<1 = 0<4<5<3<1<6<2\n",
      "0<4<5<6<3<2<1 = 0<4<5<3<2<1<6\n",
      "0<4<5<6<3<2<1 = 0<4<5<3<2<6<1\n",
      "0<4<5<6<3<2<1 = 0<4<5<3<6<1<2\n",
      "0<4<5<6<3<2<1 = 0<4<5<3<6<2<1\n",
      "0<4<5<6<3<2<1 = 0<4<5<6<3<1<2\n",
      "0<4<6<2<3<5<1 = 0<4<6<2<3<1<5\n",
      "0<4<6<3<2<1<5 = 0<4<6<3<1<2<5\n",
      "0<4<6<3<2<5<1 = 0<4<6<3<1<2<5\n",
      "0<4<6<3<2<5<1 = 0<4<6<3<2<1<5\n",
      "0<4<6<3<5<1<2 = 0<4<6<3<1<5<2\n",
      "0<4<6<3<5<2<1 = 0<4<6<3<1<5<2\n",
      "0<4<6<3<5<2<1 = 0<4<6<3<5<1<2\n",
      "0<4<6<5<3<2<1 = 0<4<6<5<3<1<2\n",
      "0<5<1<2<4<6<3 = 0<5<1<2<4<3<6\n",
      "0<5<1<3<4<6<2 = 0<5<1<3<4<2<6\n",
      "0<5<1<4<2<6<3 = 0<5<1<4<2<3<6\n",
      "0<5<1<4<3<6<2 = 0<5<1<4<3<2<6\n",
      "0<5<1<4<6<2<3 = 0<5<1<4<2<3<6\n",
      "0<5<1<4<6<2<3 = 0<5<1<4<2<6<3\n",
      "0<5<1<4<6<3<2 = 0<5<1<4<3<2<6\n",
      "0<5<1<4<6<3<2 = 0<5<1<4<3<6<2\n",
      "0<5<2<1<4<6<3 = 0<5<2<1<4<3<6\n",
      "0<5<2<3<4<6<1 = 0<5<2<3<4<1<6\n",
      "0<5<2<3<6<1<4 = 0<5<2<3<1<6<4\n",
      "0<5<2<4<1<6<3 = 0<5<2<4<1<3<6\n",
      "0<5<2<4<3<6<1 = 0<5<2<4<3<1<6\n",
      "0<5<2<4<6<1<3 = 0<5<2<4<1<3<6\n",
      "0<5<2<4<6<1<3 = 0<5<2<4<1<6<3\n",
      "0<5<2<4<6<3<1 = 0<5<2<4<3<1<6\n",
      "0<5<2<4<6<3<1 = 0<5<2<4<3<6<1\n",
      "0<5<3<1<4<6<2 = 0<5<3<1<4<2<6\n",
      "0<5<3<2<4<6<1 = 0<5<3<2<4<1<6\n",
      "0<5<3<2<6<1<4 = 0<5<3<2<1<6<4\n",
      "0<5<3<4<1<6<2 = 0<5<3<4<1<2<6\n",
      "0<5<3<4<2<1<6 = 0<5<3<4<1<2<6\n",
      "0<5<3<4<2<1<6 = 0<5<3<4<1<6<2\n",
      "0<5<3<4<2<6<1 = 0<5<3<4<1<2<6\n",
      "0<5<3<4<2<6<1 = 0<5<3<4<1<6<2\n",
      "0<5<3<4<2<6<1 = 0<5<3<4<2<1<6\n",
      "0<5<3<4<6<1<2 = 0<5<3<4<1<2<6\n",
      "0<5<3<4<6<1<2 = 0<5<3<4<1<6<2\n",
      "0<5<3<4<6<1<2 = 0<5<3<4<2<1<6\n",
      "0<5<3<4<6<1<2 = 0<5<3<4<2<6<1\n",
      "0<5<3<4<6<2<1 = 0<5<3<4<1<2<6\n",
      "0<5<3<4<6<2<1 = 0<5<3<4<1<6<2\n",
      "0<5<3<4<6<2<1 = 0<5<3<4<2<1<6\n",
      "0<5<3<4<6<2<1 = 0<5<3<4<2<6<1\n",
      "0<5<3<4<6<2<1 = 0<5<3<4<6<1<2\n",
      "0<5<3<6<1<2<4 = 0<5<3<1<6<2<4\n",
      "0<5<3<6<1<4<2 = 0<5<3<1<6<4<2\n",
      "0<5<3<6<4<2<1 = 0<5<3<6<4<1<2\n",
      "0<5<4<1<2<6<3 = 0<5<4<1<2<3<6\n",
      "0<5<4<1<3<6<2 = 0<5<4<1<3<2<6\n",
      "0<5<4<1<6<2<3 = 0<5<4<1<2<3<6\n",
      "0<5<4<1<6<2<3 = 0<5<4<1<2<6<3\n",
      "0<5<4<1<6<3<2 = 0<5<4<1<3<2<6\n",
      "0<5<4<1<6<3<2 = 0<5<4<1<3<6<2\n",
      "0<5<4<2<1<6<3 = 0<5<4<2<1<3<6\n",
      "0<5<4<2<3<6<1 = 0<5<4<2<3<1<6\n",
      "0<5<4<2<6<1<3 = 0<5<4<2<1<3<6\n",
      "0<5<4<2<6<1<3 = 0<5<4<2<1<6<3\n",
      "0<5<4<2<6<3<1 = 0<5<4<2<3<1<6\n",
      "0<5<4<2<6<3<1 = 0<5<4<2<3<6<1\n",
      "0<5<4<3<1<6<2 = 0<5<4<3<1<2<6\n",
      "0<5<4<3<2<1<6 = 0<5<4<3<1<2<6\n",
      "0<5<4<3<2<1<6 = 0<5<4<3<1<6<2\n",
      "0<5<4<3<2<6<1 = 0<5<4<3<1<2<6\n",
      "0<5<4<3<2<6<1 = 0<5<4<3<1<6<2\n",
      "0<5<4<3<2<6<1 = 0<5<4<3<2<1<6\n",
      "0<5<4<3<6<1<2 = 0<5<4<3<1<2<6\n",
      "0<5<4<3<6<1<2 = 0<5<4<3<1<6<2\n",
      "0<5<4<3<6<1<2 = 0<5<4<3<2<1<6\n",
      "0<5<4<3<6<1<2 = 0<5<4<3<2<6<1\n",
      "0<5<4<3<6<2<1 = 0<5<4<3<1<2<6\n",
      "0<5<4<3<6<2<1 = 0<5<4<3<1<6<2\n",
      "0<5<4<3<6<2<1 = 0<5<4<3<2<1<6\n",
      "0<5<4<3<6<2<1 = 0<5<4<3<2<6<1\n",
      "0<5<4<3<6<2<1 = 0<5<4<3<6<1<2\n",
      "0<5<4<6<1<2<3 = 0<5<4<1<2<3<6\n",
      "0<5<4<6<1<2<3 = 0<5<4<1<2<6<3\n",
      "0<5<4<6<1<2<3 = 0<5<4<1<6<2<3\n",
      "0<5<4<6<1<3<2 = 0<5<4<1<3<2<6\n",
      "0<5<4<6<1<3<2 = 0<5<4<1<3<6<2\n",
      "0<5<4<6<1<3<2 = 0<5<4<1<6<3<2\n",
      "0<5<4<6<2<1<3 = 0<5<4<2<1<3<6\n",
      "0<5<4<6<2<1<3 = 0<5<4<2<1<6<3\n",
      "0<5<4<6<2<1<3 = 0<5<4<2<6<1<3\n",
      "0<5<4<6<2<3<1 = 0<5<4<2<3<1<6\n",
      "0<5<4<6<2<3<1 = 0<5<4<2<3<6<1\n",
      "0<5<4<6<2<3<1 = 0<5<4<2<6<3<1\n",
      "0<5<4<6<3<1<2 = 0<5<4<3<1<2<6\n",
      "0<5<4<6<3<1<2 = 0<5<4<3<1<6<2\n",
      "0<5<4<6<3<1<2 = 0<5<4<3<2<1<6\n",
      "0<5<4<6<3<1<2 = 0<5<4<3<2<6<1\n",
      "0<5<4<6<3<1<2 = 0<5<4<3<6<1<2\n",
      "0<5<4<6<3<1<2 = 0<5<4<3<6<2<1\n",
      "0<5<4<6<3<2<1 = 0<5<4<3<1<2<6\n",
      "0<5<4<6<3<2<1 = 0<5<4<3<1<6<2\n",
      "0<5<4<6<3<2<1 = 0<5<4<3<2<1<6\n",
      "0<5<4<6<3<2<1 = 0<5<4<3<2<6<1\n",
      "0<5<4<6<3<2<1 = 0<5<4<3<6<1<2\n",
      "0<5<4<6<3<2<1 = 0<5<4<3<6<2<1\n",
      "0<5<4<6<3<2<1 = 0<5<4<6<3<1<2\n",
      "0<5<6<3<4<2<1 = 0<5<6<3<4<1<2\n",
      "0<5<6<4<3<2<1 = 0<5<6<4<3<1<2\n",
      "0<6<2<3<4<5<1 = 0<6<2<3<4<1<5\n",
      "0<6<2<4<3<5<1 = 0<6<2<4<3<1<5\n",
      "0<6<3<2<4<5<1 = 0<6<3<2<4<1<5\n",
      "0<6<3<4<2<1<5 = 0<6<3<4<1<2<5\n",
      "0<6<3<4<2<5<1 = 0<6<3<4<1<2<5\n",
      "0<6<3<4<2<5<1 = 0<6<3<4<2<1<5\n",
      "0<6<3<4<5<1<2 = 0<6<3<4<1<5<2\n",
      "0<6<3<4<5<2<1 = 0<6<3<4<1<5<2\n",
      "0<6<3<4<5<2<1 = 0<6<3<4<5<1<2\n",
      "0<6<3<5<4<2<1 = 0<6<3<5<4<1<2\n",
      "0<6<4<2<3<5<1 = 0<6<4<2<3<1<5\n",
      "0<6<4<3<2<1<5 = 0<6<4<3<1<2<5\n",
      "0<6<4<3<2<5<1 = 0<6<4<3<1<2<5\n",
      "0<6<4<3<2<5<1 = 0<6<4<3<2<1<5\n",
      "0<6<4<3<5<1<2 = 0<6<4<3<1<5<2\n",
      "0<6<4<3<5<2<1 = 0<6<4<3<1<5<2\n",
      "0<6<4<3<5<2<1 = 0<6<4<3<5<1<2\n",
      "0<6<4<5<3<2<1 = 0<6<4<5<3<1<2\n",
      "0<6<5<3<4<2<1 = 0<6<5<3<4<1<2\n",
      "0<6<5<4<3<2<1 = 0<6<5<4<3<1<2\n",
      "1<0<2<4<5<6<3 = 1<0<2<4<5<3<6\n",
      "1<0<2<5<4<6<3 = 1<0<2<5<4<3<6\n",
      "1<0<3<4<5<6<2 = 1<0<3<4<5<2<6\n",
      "1<0<3<5<4<6<2 = 1<0<3<5<4<2<6\n",
      "1<0<4<2<5<6<3 = 1<0<4<2<5<3<6\n",
      "1<0<4<3<5<6<2 = 1<0<4<3<5<2<6\n",
      "1<0<4<5<2<6<3 = 1<0<4<5<2<3<6\n",
      "1<0<4<5<3<6<2 = 1<0<4<5<3<2<6\n",
      "1<0<4<5<6<2<3 = 1<0<4<5<2<3<6\n",
      "1<0<4<5<6<2<3 = 1<0<4<5<2<6<3\n",
      "1<0<4<5<6<3<2 = 1<0<4<5<3<2<6\n",
      "1<0<4<5<6<3<2 = 1<0<4<5<3<6<2\n",
      "1<0<5<2<4<6<3 = 1<0<5<2<4<3<6\n",
      "1<0<5<3<4<6<2 = 1<0<5<3<4<2<6\n",
      "1<0<5<4<2<6<3 = 1<0<5<4<2<3<6\n",
      "1<0<5<4<3<6<2 = 1<0<5<4<3<2<6\n",
      "1<0<5<4<6<2<3 = 1<0<5<4<2<3<6\n",
      "1<0<5<4<6<2<3 = 1<0<5<4<2<6<3\n",
      "1<0<5<4<6<3<2 = 1<0<5<4<3<2<6\n",
      "1<0<5<4<6<3<2 = 1<0<5<4<3<6<2\n",
      "1<2<0<4<5<6<3 = 1<2<0<4<5<3<6\n",
      "1<2<0<5<4<6<3 = 1<2<0<5<4<3<6\n",
      "1<2<3<4<5<0<6 = 1<2<3<4<0<5<6\n",
      "1<2<3<4<5<6<0 = 1<2<3<4<0<5<6\n",
      "1<2<3<4<5<6<0 = 1<2<3<4<5<0<6\n",
      "1<2<3<4<6<0<5 = 1<2<3<4<0<6<5\n",
      "1<2<3<4<6<5<0 = 1<2<3<4<0<6<5\n",
      "1<2<3<4<6<5<0 = 1<2<3<4<6<0<5\n",
      "1<2<3<5<4<6<0 = 1<2<3<5<4<0<6\n",
      "1<2<3<5<6<0<4 = 1<2<3<5<0<6<4\n",
      "1<2<3<6<4<5<0 = 1<2<3<6<4<0<5\n",
      "1<2<4<0<5<6<3 = 1<2<4<0<5<3<6\n",
      "1<2<4<3<0<5<6 = 1<2<4<0<3<5<6\n",
      "1<2<4<3<0<6<5 = 1<2<4<0<3<6<5\n",
      "1<2<4<3<5<0<6 = 1<2<4<0<3<5<6\n",
      "1<2<4<3<5<0<6 = 1<2<4<3<0<5<6\n",
      "1<2<4<3<5<6<0 = 1<2<4<0<3<5<6\n",
      "1<2<4<3<5<6<0 = 1<2<4<3<0<5<6\n",
      "1<2<4<3<5<6<0 = 1<2<4<3<5<0<6\n",
      "1<2<4<3<6<0<5 = 1<2<4<0<3<6<5\n",
      "1<2<4<3<6<0<5 = 1<2<4<3<0<6<5\n",
      "1<2<4<3<6<5<0 = 1<2<4<0<3<6<5\n",
      "1<2<4<3<6<5<0 = 1<2<4<3<0<6<5\n",
      "1<2<4<3<6<5<0 = 1<2<4<3<6<0<5\n",
      "1<2<4<5<0<3<6 = 1<2<4<0<5<3<6\n",
      "1<2<4<5<0<3<6 = 1<2<4<0<5<6<3\n",
      "1<2<4<5<0<6<3 = 1<2<4<0<5<3<6\n",
      "1<2<4<5<0<6<3 = 1<2<4<0<5<6<3\n",
      "1<2<4<5<0<6<3 = 1<2<4<5<0<3<6\n",
      "1<2<4<5<3<0<6 = 1<2<4<0<5<3<6\n",
      "1<2<4<5<3<0<6 = 1<2<4<0<5<6<3\n",
      "1<2<4<5<3<0<6 = 1<2<4<5<0<3<6\n",
      "1<2<4<5<3<0<6 = 1<2<4<5<0<6<3\n",
      "1<2<4<5<3<6<0 = 1<2<4<0<5<3<6\n",
      "1<2<4<5<3<6<0 = 1<2<4<0<5<6<3\n",
      "1<2<4<5<3<6<0 = 1<2<4<5<0<3<6\n",
      "1<2<4<5<3<6<0 = 1<2<4<5<0<6<3\n",
      "1<2<4<5<3<6<0 = 1<2<4<5<3<0<6\n",
      "1<2<4<5<6<0<3 = 1<2<4<0<5<3<6\n",
      "1<2<4<5<6<0<3 = 1<2<4<0<5<6<3\n",
      "1<2<4<5<6<0<3 = 1<2<4<5<0<3<6\n",
      "1<2<4<5<6<0<3 = 1<2<4<5<0<6<3\n",
      "1<2<4<5<6<0<3 = 1<2<4<5<3<0<6\n",
      "1<2<4<5<6<0<3 = 1<2<4<5<3<6<0\n",
      "1<2<4<5<6<3<0 = 1<2<4<0<5<3<6\n",
      "1<2<4<5<6<3<0 = 1<2<4<0<5<6<3\n",
      "1<2<4<5<6<3<0 = 1<2<4<5<0<3<6\n",
      "1<2<4<5<6<3<0 = 1<2<4<5<0<6<3\n",
      "1<2<4<5<6<3<0 = 1<2<4<5<3<0<6\n",
      "1<2<4<5<6<3<0 = 1<2<4<5<3<6<0\n",
      "1<2<4<5<6<3<0 = 1<2<4<5<6<0<3\n",
      "1<2<4<6<0<3<5 = 1<2<4<0<6<3<5\n",
      "1<2<4<6<0<5<3 = 1<2<4<0<6<5<3\n",
      "1<2<4<6<3<0<5 = 1<2<4<0<6<3<5\n",
      "1<2<4<6<3<0<5 = 1<2<4<6<0<3<5\n",
      "1<2<4<6<3<5<0 = 1<2<4<0<6<3<5\n",
      "1<2<4<6<3<5<0 = 1<2<4<6<0<3<5\n",
      "1<2<4<6<3<5<0 = 1<2<4<6<3<0<5\n",
      "1<2<4<6<5<0<3 = 1<2<4<0<6<5<3\n",
      "1<2<4<6<5<0<3 = 1<2<4<6<0<5<3\n",
      "1<2<4<6<5<3<0 = 1<2<4<0<6<5<3\n",
      "1<2<4<6<5<3<0 = 1<2<4<6<0<5<3\n",
      "1<2<4<6<5<3<0 = 1<2<4<6<5<0<3\n",
      "1<2<5<0<4<6<3 = 1<2<5<0<4<3<6\n",
      "1<2<5<3<4<6<0 = 1<2<5<3<4<0<6\n",
      "1<2<5<3<6<0<4 = 1<2<5<3<0<6<4\n",
      "1<2<5<4<0<6<3 = 1<2<5<4<0<3<6\n",
      "1<2<5<4<3<0<6 = 1<2<5<4<0<3<6\n",
      "1<2<5<4<3<0<6 = 1<2<5<4<0<6<3\n",
      "1<2<5<4<3<6<0 = 1<2<5<4<0<3<6\n",
      "1<2<5<4<3<6<0 = 1<2<5<4<0<6<3\n",
      "1<2<5<4<3<6<0 = 1<2<5<4<3<0<6\n",
      "1<2<5<4<6<0<3 = 1<2<5<4<0<3<6\n",
      "1<2<5<4<6<0<3 = 1<2<5<4<0<6<3\n",
      "1<2<5<4<6<0<3 = 1<2<5<4<3<0<6\n",
      "1<2<5<4<6<0<3 = 1<2<5<4<3<6<0\n",
      "1<2<5<4<6<3<0 = 1<2<5<4<0<3<6\n",
      "1<2<5<4<6<3<0 = 1<2<5<4<0<6<3\n",
      "1<2<5<4<6<3<0 = 1<2<5<4<3<0<6\n",
      "1<2<5<4<6<3<0 = 1<2<5<4<3<6<0\n",
      "1<2<5<4<6<3<0 = 1<2<5<4<6<0<3\n",
      "1<2<5<6<0<3<4 = 1<2<5<0<6<3<4\n",
      "1<2<5<6<0<4<3 = 1<2<5<0<6<4<3\n",
      "1<2<5<6<4<3<0 = 1<2<5<6<4<0<3\n",
      "1<2<6<3<4<5<0 = 1<2<6<3<4<0<5\n",
      "1<2<6<4<3<0<5 = 1<2<6<4<0<3<5\n",
      "1<2<6<4<3<5<0 = 1<2<6<4<0<3<5\n",
      "1<2<6<4<3<5<0 = 1<2<6<4<3<0<5\n",
      "1<2<6<4<5<0<3 = 1<2<6<4<0<5<3\n",
      "1<2<6<4<5<3<0 = 1<2<6<4<0<5<3\n",
      "1<2<6<4<5<3<0 = 1<2<6<4<5<0<3\n",
      "1<2<6<5<4<3<0 = 1<2<6<5<4<0<3\n",
      "1<3<0<4<5<6<2 = 1<3<0<4<5<2<6\n",
      "1<3<0<5<4<6<2 = 1<3<0<5<4<2<6\n",
      "1<3<2<4<5<0<6 = 1<3<2<4<0<5<6\n",
      "1<3<2<4<5<6<0 = 1<3<2<4<0<5<6\n",
      "1<3<2<4<5<6<0 = 1<3<2<4<5<0<6\n",
      "1<3<2<4<6<0<5 = 1<3<2<4<0<6<5\n",
      "1<3<2<4<6<5<0 = 1<3<2<4<0<6<5\n",
      "1<3<2<4<6<5<0 = 1<3<2<4<6<0<5\n",
      "1<3<2<5<4<6<0 = 1<3<2<5<4<0<6\n",
      "1<3<2<5<6<0<4 = 1<3<2<5<0<6<4\n",
      "1<3<2<6<4<5<0 = 1<3<2<6<4<0<5\n",
      "1<3<4<0<5<6<2 = 1<3<4<0<5<2<6\n",
      "1<3<4<2<5<0<6 = 1<3<4<2<0<5<6\n",
      "1<3<4<2<5<6<0 = 1<3<4<2<0<5<6\n",
      "1<3<4<2<5<6<0 = 1<3<4<2<5<0<6\n",
      "1<3<4<2<6<0<5 = 1<3<4<2<0<6<5\n",
      "1<3<4<2<6<5<0 = 1<3<4<2<0<6<5\n",
      "1<3<4<2<6<5<0 = 1<3<4<2<6<0<5\n",
      "1<3<4<5<0<6<2 = 1<3<4<5<0<2<6\n",
      "1<3<4<5<2<6<0 = 1<3<4<5<2<0<6\n",
      "1<3<4<5<6<0<2 = 1<3<4<5<0<2<6\n",
      "1<3<4<5<6<0<2 = 1<3<4<5<0<6<2\n",
      "1<3<4<5<6<2<0 = 1<3<4<5<2<0<6\n",
      "1<3<4<5<6<2<0 = 1<3<4<5<2<6<0\n",
      "1<3<4<6<2<5<0 = 1<3<4<6<2<0<5\n",
      "1<3<5<0<4<6<2 = 1<3<5<0<4<2<6\n",
      "1<3<5<2<4<6<0 = 1<3<5<2<4<0<6\n",
      "1<3<5<2<6<0<4 = 1<3<5<2<0<6<4\n",
      "1<3<5<4<0<6<2 = 1<3<5<4<0<2<6\n",
      "1<3<5<4<2<6<0 = 1<3<5<4<2<0<6\n",
      "1<3<5<4<6<0<2 = 1<3<5<4<0<2<6\n",
      "1<3<5<4<6<0<2 = 1<3<5<4<0<6<2\n",
      "1<3<5<4<6<2<0 = 1<3<5<4<2<0<6\n",
      "1<3<5<4<6<2<0 = 1<3<5<4<2<6<0\n",
      "1<3<6<2<4<5<0 = 1<3<6<2<4<0<5\n",
      "1<3<6<4<2<5<0 = 1<3<6<4<2<0<5\n",
      "1<4<0<2<5<6<3 = 1<4<0<2<5<3<6\n",
      "1<4<0<3<5<6<2 = 1<4<0<3<5<2<6\n",
      "1<4<0<5<2<6<3 = 1<4<0<5<2<3<6\n",
      "1<4<0<5<3<6<2 = 1<4<0<5<3<2<6\n",
      "1<4<0<5<6<2<3 = 1<4<0<5<2<3<6\n",
      "1<4<0<5<6<2<3 = 1<4<0<5<2<6<3\n",
      "1<4<0<5<6<3<2 = 1<4<0<5<3<2<6\n",
      "1<4<0<5<6<3<2 = 1<4<0<5<3<6<2\n",
      "1<4<2<0<5<6<3 = 1<4<2<0<5<3<6\n",
      "1<4<2<3<0<5<6 = 1<4<2<0<3<5<6\n",
      "1<4<2<3<0<6<5 = 1<4<2<0<3<6<5\n",
      "1<4<2<3<5<0<6 = 1<4<2<0<3<5<6\n",
      "1<4<2<3<5<0<6 = 1<4<2<3<0<5<6\n",
      "1<4<2<3<5<6<0 = 1<4<2<0<3<5<6\n",
      "1<4<2<3<5<6<0 = 1<4<2<3<0<5<6\n",
      "1<4<2<3<5<6<0 = 1<4<2<3<5<0<6\n",
      "1<4<2<3<6<0<5 = 1<4<2<0<3<6<5\n",
      "1<4<2<3<6<0<5 = 1<4<2<3<0<6<5\n",
      "1<4<2<3<6<5<0 = 1<4<2<0<3<6<5\n",
      "1<4<2<3<6<5<0 = 1<4<2<3<0<6<5\n",
      "1<4<2<3<6<5<0 = 1<4<2<3<6<0<5\n",
      "1<4<2<5<0<3<6 = 1<4<2<0<5<3<6\n",
      "1<4<2<5<0<3<6 = 1<4<2<0<5<6<3\n",
      "1<4<2<5<0<6<3 = 1<4<2<0<5<3<6\n",
      "1<4<2<5<0<6<3 = 1<4<2<0<5<6<3\n",
      "1<4<2<5<0<6<3 = 1<4<2<5<0<3<6\n",
      "1<4<2<5<3<0<6 = 1<4<2<0<5<3<6\n",
      "1<4<2<5<3<0<6 = 1<4<2<0<5<6<3\n",
      "1<4<2<5<3<0<6 = 1<4<2<5<0<3<6\n",
      "1<4<2<5<3<0<6 = 1<4<2<5<0<6<3\n",
      "1<4<2<5<3<6<0 = 1<4<2<0<5<3<6\n",
      "1<4<2<5<3<6<0 = 1<4<2<0<5<6<3\n",
      "1<4<2<5<3<6<0 = 1<4<2<5<0<3<6\n",
      "1<4<2<5<3<6<0 = 1<4<2<5<0<6<3\n",
      "1<4<2<5<3<6<0 = 1<4<2<5<3<0<6\n",
      "1<4<2<5<6<0<3 = 1<4<2<0<5<3<6\n",
      "1<4<2<5<6<0<3 = 1<4<2<0<5<6<3\n",
      "1<4<2<5<6<0<3 = 1<4<2<5<0<3<6\n",
      "1<4<2<5<6<0<3 = 1<4<2<5<0<6<3\n",
      "1<4<2<5<6<0<3 = 1<4<2<5<3<0<6\n",
      "1<4<2<5<6<0<3 = 1<4<2<5<3<6<0\n",
      "1<4<2<5<6<3<0 = 1<4<2<0<5<3<6\n",
      "1<4<2<5<6<3<0 = 1<4<2<0<5<6<3\n",
      "1<4<2<5<6<3<0 = 1<4<2<5<0<3<6\n",
      "1<4<2<5<6<3<0 = 1<4<2<5<0<6<3\n",
      "1<4<2<5<6<3<0 = 1<4<2<5<3<0<6\n",
      "1<4<2<5<6<3<0 = 1<4<2<5<3<6<0\n",
      "1<4<2<5<6<3<0 = 1<4<2<5<6<0<3\n",
      "1<4<2<6<0<3<5 = 1<4<2<0<6<3<5\n",
      "1<4<2<6<0<5<3 = 1<4<2<0<6<5<3\n",
      "1<4<2<6<3<0<5 = 1<4<2<0<6<3<5\n",
      "1<4<2<6<3<0<5 = 1<4<2<6<0<3<5\n",
      "1<4<2<6<3<5<0 = 1<4<2<0<6<3<5\n",
      "1<4<2<6<3<5<0 = 1<4<2<6<0<3<5\n",
      "1<4<2<6<3<5<0 = 1<4<2<6<3<0<5\n",
      "1<4<2<6<5<0<3 = 1<4<2<0<6<5<3\n",
      "1<4<2<6<5<0<3 = 1<4<2<6<0<5<3\n",
      "1<4<2<6<5<3<0 = 1<4<2<0<6<5<3\n",
      "1<4<2<6<5<3<0 = 1<4<2<6<0<5<3\n",
      "1<4<2<6<5<3<0 = 1<4<2<6<5<0<3\n",
      "1<4<3<0<5<6<2 = 1<4<3<0<5<2<6\n",
      "1<4<3<2<5<0<6 = 1<4<3<2<0<5<6\n",
      "1<4<3<2<5<6<0 = 1<4<3<2<0<5<6\n",
      "1<4<3<2<5<6<0 = 1<4<3<2<5<0<6\n",
      "1<4<3<2<6<0<5 = 1<4<3<2<0<6<5\n",
      "1<4<3<2<6<5<0 = 1<4<3<2<0<6<5\n",
      "1<4<3<2<6<5<0 = 1<4<3<2<6<0<5\n",
      "1<4<3<5<0<6<2 = 1<4<3<5<0<2<6\n",
      "1<4<3<5<2<6<0 = 1<4<3<5<2<0<6\n",
      "1<4<3<5<6<0<2 = 1<4<3<5<0<2<6\n",
      "1<4<3<5<6<0<2 = 1<4<3<5<0<6<2\n",
      "1<4<3<5<6<2<0 = 1<4<3<5<2<0<6\n",
      "1<4<3<5<6<2<0 = 1<4<3<5<2<6<0\n",
      "1<4<3<6<2<5<0 = 1<4<3<6<2<0<5\n",
      "1<4<5<0<2<6<3 = 1<4<5<0<2<3<6\n",
      "1<4<5<0<3<6<2 = 1<4<5<0<3<2<6\n",
      "1<4<5<0<6<2<3 = 1<4<5<0<2<3<6\n",
      "1<4<5<0<6<2<3 = 1<4<5<0<2<6<3\n",
      "1<4<5<0<6<3<2 = 1<4<5<0<3<2<6\n",
      "1<4<5<0<6<3<2 = 1<4<5<0<3<6<2\n",
      "1<4<5<2<0<6<3 = 1<4<5<2<0<3<6\n",
      "1<4<5<2<3<0<6 = 1<4<5<2<0<3<6\n",
      "1<4<5<2<3<0<6 = 1<4<5<2<0<6<3\n",
      "1<4<5<2<3<6<0 = 1<4<5<2<0<3<6\n",
      "1<4<5<2<3<6<0 = 1<4<5<2<0<6<3\n",
      "1<4<5<2<3<6<0 = 1<4<5<2<3<0<6\n",
      "1<4<5<2<6<0<3 = 1<4<5<2<0<3<6\n",
      "1<4<5<2<6<0<3 = 1<4<5<2<0<6<3\n",
      "1<4<5<2<6<0<3 = 1<4<5<2<3<0<6\n",
      "1<4<5<2<6<0<3 = 1<4<5<2<3<6<0\n",
      "1<4<5<2<6<3<0 = 1<4<5<2<0<3<6\n",
      "1<4<5<2<6<3<0 = 1<4<5<2<0<6<3\n",
      "1<4<5<2<6<3<0 = 1<4<5<2<3<0<6\n",
      "1<4<5<2<6<3<0 = 1<4<5<2<3<6<0\n",
      "1<4<5<2<6<3<0 = 1<4<5<2<6<0<3\n",
      "1<4<5<3<0<6<2 = 1<4<5<3<0<2<6\n",
      "1<4<5<3<2<6<0 = 1<4<5<3<2<0<6\n",
      "1<4<5<3<6<0<2 = 1<4<5<3<0<2<6\n",
      "1<4<5<3<6<0<2 = 1<4<5<3<0<6<2\n",
      "1<4<5<3<6<2<0 = 1<4<5<3<2<0<6\n",
      "1<4<5<3<6<2<0 = 1<4<5<3<2<6<0\n",
      "1<4<5<6<0<2<3 = 1<4<5<0<2<3<6\n",
      "1<4<5<6<0<2<3 = 1<4<5<0<2<6<3\n",
      "1<4<5<6<0<2<3 = 1<4<5<0<6<2<3\n",
      "1<4<5<6<0<3<2 = 1<4<5<0<3<2<6\n",
      "1<4<5<6<0<3<2 = 1<4<5<0<3<6<2\n",
      "1<4<5<6<0<3<2 = 1<4<5<0<6<3<2\n",
      "1<4<5<6<2<0<3 = 1<4<5<2<0<3<6\n",
      "1<4<5<6<2<0<3 = 1<4<5<2<0<6<3\n",
      "1<4<5<6<2<0<3 = 1<4<5<2<3<0<6\n",
      "1<4<5<6<2<0<3 = 1<4<5<2<3<6<0\n",
      "1<4<5<6<2<0<3 = 1<4<5<2<6<0<3\n",
      "1<4<5<6<2<0<3 = 1<4<5<2<6<3<0\n",
      "1<4<5<6<2<3<0 = 1<4<5<2<0<3<6\n",
      "1<4<5<6<2<3<0 = 1<4<5<2<0<6<3\n",
      "1<4<5<6<2<3<0 = 1<4<5<2<3<0<6\n",
      "1<4<5<6<2<3<0 = 1<4<5<2<3<6<0\n",
      "1<4<5<6<2<3<0 = 1<4<5<2<6<0<3\n",
      "1<4<5<6<2<3<0 = 1<4<5<2<6<3<0\n",
      "1<4<5<6<2<3<0 = 1<4<5<6<2<0<3\n",
      "1<4<5<6<3<0<2 = 1<4<5<3<0<2<6\n",
      "1<4<5<6<3<0<2 = 1<4<5<3<0<6<2\n",
      "1<4<5<6<3<0<2 = 1<4<5<3<6<0<2\n",
      "1<4<5<6<3<2<0 = 1<4<5<3<2<0<6\n",
      "1<4<5<6<3<2<0 = 1<4<5<3<2<6<0\n",
      "1<4<5<6<3<2<0 = 1<4<5<3<6<2<0\n",
      "1<4<6<2<3<0<5 = 1<4<6<2<0<3<5\n",
      "1<4<6<2<3<5<0 = 1<4<6<2<0<3<5\n",
      "1<4<6<2<3<5<0 = 1<4<6<2<3<0<5\n",
      "1<4<6<2<5<0<3 = 1<4<6<2<0<5<3\n",
      "1<4<6<2<5<3<0 = 1<4<6<2<0<5<3\n",
      "1<4<6<2<5<3<0 = 1<4<6<2<5<0<3\n",
      "1<4<6<3<2<5<0 = 1<4<6<3<2<0<5\n",
      "1<4<6<5<2<3<0 = 1<4<6<5<2<0<3\n",
      "1<5<0<2<4<6<3 = 1<5<0<2<4<3<6\n",
      "1<5<0<3<4<6<2 = 1<5<0<3<4<2<6\n",
      "1<5<0<4<2<6<3 = 1<5<0<4<2<3<6\n",
      "1<5<0<4<3<6<2 = 1<5<0<4<3<2<6\n",
      "1<5<0<4<6<2<3 = 1<5<0<4<2<3<6\n",
      "1<5<0<4<6<2<3 = 1<5<0<4<2<6<3\n",
      "1<5<0<4<6<3<2 = 1<5<0<4<3<2<6\n",
      "1<5<0<4<6<3<2 = 1<5<0<4<3<6<2\n",
      "1<5<2<0<4<6<3 = 1<5<2<0<4<3<6\n",
      "1<5<2<3<4<6<0 = 1<5<2<3<4<0<6\n",
      "1<5<2<3<6<0<4 = 1<5<2<3<0<6<4\n",
      "1<5<2<4<0<6<3 = 1<5<2<4<0<3<6\n",
      "1<5<2<4<3<0<6 = 1<5<2<4<0<3<6\n",
      "1<5<2<4<3<0<6 = 1<5<2<4<0<6<3\n",
      "1<5<2<4<3<6<0 = 1<5<2<4<0<3<6\n",
      "1<5<2<4<3<6<0 = 1<5<2<4<0<6<3\n",
      "1<5<2<4<3<6<0 = 1<5<2<4<3<0<6\n",
      "1<5<2<4<6<0<3 = 1<5<2<4<0<3<6\n",
      "1<5<2<4<6<0<3 = 1<5<2<4<0<6<3\n",
      "1<5<2<4<6<0<3 = 1<5<2<4<3<0<6\n",
      "1<5<2<4<6<0<3 = 1<5<2<4<3<6<0\n",
      "1<5<2<4<6<3<0 = 1<5<2<4<0<3<6\n",
      "1<5<2<4<6<3<0 = 1<5<2<4<0<6<3\n",
      "1<5<2<4<6<3<0 = 1<5<2<4<3<0<6\n",
      "1<5<2<4<6<3<0 = 1<5<2<4<3<6<0\n",
      "1<5<2<4<6<3<0 = 1<5<2<4<6<0<3\n",
      "1<5<2<6<0<3<4 = 1<5<2<0<6<3<4\n",
      "1<5<2<6<0<4<3 = 1<5<2<0<6<4<3\n",
      "1<5<2<6<4<3<0 = 1<5<2<6<4<0<3\n",
      "1<5<3<0<4<6<2 = 1<5<3<0<4<2<6\n",
      "1<5<3<2<4<6<0 = 1<5<3<2<4<0<6\n",
      "1<5<3<2<6<0<4 = 1<5<3<2<0<6<4\n",
      "1<5<3<4<0<6<2 = 1<5<3<4<0<2<6\n",
      "1<5<3<4<2<6<0 = 1<5<3<4<2<0<6\n",
      "1<5<3<4<6<0<2 = 1<5<3<4<0<2<6\n",
      "1<5<3<4<6<0<2 = 1<5<3<4<0<6<2\n",
      "1<5<3<4<6<2<0 = 1<5<3<4<2<0<6\n",
      "1<5<3<4<6<2<0 = 1<5<3<4<2<6<0\n",
      "1<5<4<0<2<6<3 = 1<5<4<0<2<3<6\n",
      "1<5<4<0<3<6<2 = 1<5<4<0<3<2<6\n",
      "1<5<4<0<6<2<3 = 1<5<4<0<2<3<6\n",
      "1<5<4<0<6<2<3 = 1<5<4<0<2<6<3\n",
      "1<5<4<0<6<3<2 = 1<5<4<0<3<2<6\n",
      "1<5<4<0<6<3<2 = 1<5<4<0<3<6<2\n",
      "1<5<4<2<0<6<3 = 1<5<4<2<0<3<6\n",
      "1<5<4<2<3<0<6 = 1<5<4<2<0<3<6\n",
      "1<5<4<2<3<0<6 = 1<5<4<2<0<6<3\n",
      "1<5<4<2<3<6<0 = 1<5<4<2<0<3<6\n",
      "1<5<4<2<3<6<0 = 1<5<4<2<0<6<3\n",
      "1<5<4<2<3<6<0 = 1<5<4<2<3<0<6\n",
      "1<5<4<2<6<0<3 = 1<5<4<2<0<3<6\n",
      "1<5<4<2<6<0<3 = 1<5<4<2<0<6<3\n",
      "1<5<4<2<6<0<3 = 1<5<4<2<3<0<6\n",
      "1<5<4<2<6<0<3 = 1<5<4<2<3<6<0\n",
      "1<5<4<2<6<3<0 = 1<5<4<2<0<3<6\n",
      "1<5<4<2<6<3<0 = 1<5<4<2<0<6<3\n",
      "1<5<4<2<6<3<0 = 1<5<4<2<3<0<6\n",
      "1<5<4<2<6<3<0 = 1<5<4<2<3<6<0\n",
      "1<5<4<2<6<3<0 = 1<5<4<2<6<0<3\n",
      "1<5<4<3<0<6<2 = 1<5<4<3<0<2<6\n",
      "1<5<4<3<2<6<0 = 1<5<4<3<2<0<6\n",
      "1<5<4<3<6<0<2 = 1<5<4<3<0<2<6\n",
      "1<5<4<3<6<0<2 = 1<5<4<3<0<6<2\n",
      "1<5<4<3<6<2<0 = 1<5<4<3<2<0<6\n",
      "1<5<4<3<6<2<0 = 1<5<4<3<2<6<0\n",
      "1<5<4<6<0<2<3 = 1<5<4<0<2<3<6\n",
      "1<5<4<6<0<2<3 = 1<5<4<0<2<6<3\n",
      "1<5<4<6<0<2<3 = 1<5<4<0<6<2<3\n",
      "1<5<4<6<0<3<2 = 1<5<4<0<3<2<6\n",
      "1<5<4<6<0<3<2 = 1<5<4<0<3<6<2\n",
      "1<5<4<6<0<3<2 = 1<5<4<0<6<3<2\n",
      "1<5<4<6<2<0<3 = 1<5<4<2<0<3<6\n",
      "1<5<4<6<2<0<3 = 1<5<4<2<0<6<3\n",
      "1<5<4<6<2<0<3 = 1<5<4<2<3<0<6\n",
      "1<5<4<6<2<0<3 = 1<5<4<2<3<6<0\n",
      "1<5<4<6<2<0<3 = 1<5<4<2<6<0<3\n",
      "1<5<4<6<2<0<3 = 1<5<4<2<6<3<0\n",
      "1<5<4<6<2<3<0 = 1<5<4<2<0<3<6\n",
      "1<5<4<6<2<3<0 = 1<5<4<2<0<6<3\n",
      "1<5<4<6<2<3<0 = 1<5<4<2<3<0<6\n",
      "1<5<4<6<2<3<0 = 1<5<4<2<3<6<0\n",
      "1<5<4<6<2<3<0 = 1<5<4<2<6<0<3\n",
      "1<5<4<6<2<3<0 = 1<5<4<2<6<3<0\n",
      "1<5<4<6<2<3<0 = 1<5<4<6<2<0<3\n",
      "1<5<4<6<3<0<2 = 1<5<4<3<0<2<6\n",
      "1<5<4<6<3<0<2 = 1<5<4<3<0<6<2\n",
      "1<5<4<6<3<0<2 = 1<5<4<3<6<0<2\n",
      "1<5<4<6<3<2<0 = 1<5<4<3<2<0<6\n",
      "1<5<4<6<3<2<0 = 1<5<4<3<2<6<0\n",
      "1<5<4<6<3<2<0 = 1<5<4<3<6<2<0\n",
      "1<5<6<2<4<3<0 = 1<5<6<2<4<0<3\n",
      "1<5<6<4<2<3<0 = 1<5<6<4<2<0<3\n",
      "1<6<2<3<4<5<0 = 1<6<2<3<4<0<5\n",
      "1<6<2<4<3<0<5 = 1<6<2<4<0<3<5\n",
      "1<6<2<4<3<5<0 = 1<6<2<4<0<3<5\n",
      "1<6<2<4<3<5<0 = 1<6<2<4<3<0<5\n",
      "1<6<2<4<5<0<3 = 1<6<2<4<0<5<3\n",
      "1<6<2<4<5<3<0 = 1<6<2<4<0<5<3\n",
      "1<6<2<4<5<3<0 = 1<6<2<4<5<0<3\n",
      "1<6<2<5<4<3<0 = 1<6<2<5<4<0<3\n",
      "1<6<3<2<4<5<0 = 1<6<3<2<4<0<5\n",
      "1<6<3<4<2<5<0 = 1<6<3<4<2<0<5\n",
      "1<6<4<2<3<0<5 = 1<6<4<2<0<3<5\n",
      "1<6<4<2<3<5<0 = 1<6<4<2<0<3<5\n",
      "1<6<4<2<3<5<0 = 1<6<4<2<3<0<5\n",
      "1<6<4<2<5<0<3 = 1<6<4<2<0<5<3\n",
      "1<6<4<2<5<3<0 = 1<6<4<2<0<5<3\n",
      "1<6<4<2<5<3<0 = 1<6<4<2<5<0<3\n",
      "1<6<4<3<2<5<0 = 1<6<4<3<2<0<5\n",
      "1<6<4<5<2<3<0 = 1<6<4<5<2<0<3\n",
      "1<6<5<2<4<3<0 = 1<6<5<2<4<0<3\n",
      "1<6<5<4<2<3<0 = 1<6<5<4<2<0<3\n",
      "2<0<1<4<5<6<3 = 2<0<1<4<5<3<6\n",
      "2<0<1<5<4<6<3 = 2<0<1<5<4<3<6\n",
      "2<0<3<4<5<1<6 = 2<0<3<4<1<5<6\n",
      "2<0<3<4<5<6<1 = 2<0<3<4<1<5<6\n",
      "2<0<3<4<5<6<1 = 2<0<3<4<5<1<6\n",
      "2<0<3<4<6<1<5 = 2<0<3<4<1<6<5\n",
      "2<0<3<4<6<5<1 = 2<0<3<4<1<6<5\n",
      "2<0<3<4<6<5<1 = 2<0<3<4<6<1<5\n",
      "2<0<3<5<4<6<1 = 2<0<3<5<4<1<6\n",
      "2<0<3<5<6<1<4 = 2<0<3<5<1<6<4\n",
      "2<0<3<6<4<5<1 = 2<0<3<6<4<1<5\n",
      "2<0<4<1<5<6<3 = 2<0<4<1<5<3<6\n",
      "2<0<4<3<5<1<6 = 2<0<4<3<1<5<6\n",
      "2<0<4<3<5<6<1 = 2<0<4<3<1<5<6\n",
      "2<0<4<3<5<6<1 = 2<0<4<3<5<1<6\n",
      "2<0<4<3<6<1<5 = 2<0<4<3<1<6<5\n",
      "2<0<4<3<6<5<1 = 2<0<4<3<1<6<5\n",
      "2<0<4<3<6<5<1 = 2<0<4<3<6<1<5\n",
      "2<0<4<5<1<6<3 = 2<0<4<5<1<3<6\n",
      "2<0<4<5<3<6<1 = 2<0<4<5<3<1<6\n",
      "2<0<4<5<6<1<3 = 2<0<4<5<1<3<6\n",
      "2<0<4<5<6<1<3 = 2<0<4<5<1<6<3\n",
      "2<0<4<5<6<3<1 = 2<0<4<5<3<1<6\n",
      "2<0<4<5<6<3<1 = 2<0<4<5<3<6<1\n",
      "2<0<4<6<3<5<1 = 2<0<4<6<3<1<5\n",
      "2<0<5<1<4<6<3 = 2<0<5<1<4<3<6\n",
      "2<0<5<3<4<6<1 = 2<0<5<3<4<1<6\n",
      "2<0<5<3<6<1<4 = 2<0<5<3<1<6<4\n",
      "2<0<5<4<1<6<3 = 2<0<5<4<1<3<6\n",
      "2<0<5<4<3<6<1 = 2<0<5<4<3<1<6\n",
      "2<0<5<4<6<1<3 = 2<0<5<4<1<3<6\n",
      "2<0<5<4<6<1<3 = 2<0<5<4<1<6<3\n",
      "2<0<5<4<6<3<1 = 2<0<5<4<3<1<6\n",
      "2<0<5<4<6<3<1 = 2<0<5<4<3<6<1\n",
      "2<0<6<3<4<5<1 = 2<0<6<3<4<1<5\n",
      "2<0<6<4<3<5<1 = 2<0<6<4<3<1<5\n",
      "2<1<0<4<5<6<3 = 2<1<0<4<5<3<6\n",
      "2<1<0<5<4<6<3 = 2<1<0<5<4<3<6\n",
      "2<1<3<4<5<0<6 = 2<1<3<4<0<5<6\n",
      "2<1<3<4<5<6<0 = 2<1<3<4<0<5<6\n",
      "2<1<3<4<5<6<0 = 2<1<3<4<5<0<6\n",
      "2<1<3<4<6<0<5 = 2<1<3<4<0<6<5\n",
      "2<1<3<4<6<5<0 = 2<1<3<4<0<6<5\n",
      "2<1<3<4<6<5<0 = 2<1<3<4<6<0<5\n",
      "2<1<3<5<4<6<0 = 2<1<3<5<4<0<6\n",
      "2<1<3<5<6<0<4 = 2<1<3<5<0<6<4\n",
      "2<1<3<6<4<5<0 = 2<1<3<6<4<0<5\n",
      "2<1<4<0<5<6<3 = 2<1<4<0<5<3<6\n",
      "2<1<4<3<0<5<6 = 2<1<4<0<3<5<6\n",
      "2<1<4<3<0<6<5 = 2<1<4<0<3<6<5\n",
      "2<1<4<3<5<0<6 = 2<1<4<0<3<5<6\n",
      "2<1<4<3<5<0<6 = 2<1<4<3<0<5<6\n",
      "2<1<4<3<5<6<0 = 2<1<4<0<3<5<6\n",
      "2<1<4<3<5<6<0 = 2<1<4<3<0<5<6\n",
      "2<1<4<3<5<6<0 = 2<1<4<3<5<0<6\n",
      "2<1<4<3<6<0<5 = 2<1<4<0<3<6<5\n",
      "2<1<4<3<6<0<5 = 2<1<4<3<0<6<5\n",
      "2<1<4<3<6<5<0 = 2<1<4<0<3<6<5\n",
      "2<1<4<3<6<5<0 = 2<1<4<3<0<6<5\n",
      "2<1<4<3<6<5<0 = 2<1<4<3<6<0<5\n",
      "2<1<4<5<0<3<6 = 2<1<4<0<5<3<6\n",
      "2<1<4<5<0<3<6 = 2<1<4<0<5<6<3\n",
      "2<1<4<5<0<6<3 = 2<1<4<0<5<3<6\n",
      "2<1<4<5<0<6<3 = 2<1<4<0<5<6<3\n",
      "2<1<4<5<0<6<3 = 2<1<4<5<0<3<6\n",
      "2<1<4<5<3<0<6 = 2<1<4<0<5<3<6\n",
      "2<1<4<5<3<0<6 = 2<1<4<0<5<6<3\n",
      "2<1<4<5<3<0<6 = 2<1<4<5<0<3<6\n",
      "2<1<4<5<3<0<6 = 2<1<4<5<0<6<3\n",
      "2<1<4<5<3<6<0 = 2<1<4<0<5<3<6\n",
      "2<1<4<5<3<6<0 = 2<1<4<0<5<6<3\n",
      "2<1<4<5<3<6<0 = 2<1<4<5<0<3<6\n",
      "2<1<4<5<3<6<0 = 2<1<4<5<0<6<3\n",
      "2<1<4<5<3<6<0 = 2<1<4<5<3<0<6\n",
      "2<1<4<5<6<0<3 = 2<1<4<0<5<3<6\n",
      "2<1<4<5<6<0<3 = 2<1<4<0<5<6<3\n",
      "2<1<4<5<6<0<3 = 2<1<4<5<0<3<6\n",
      "2<1<4<5<6<0<3 = 2<1<4<5<0<6<3\n",
      "2<1<4<5<6<0<3 = 2<1<4<5<3<0<6\n",
      "2<1<4<5<6<0<3 = 2<1<4<5<3<6<0\n",
      "2<1<4<5<6<3<0 = 2<1<4<0<5<3<6\n",
      "2<1<4<5<6<3<0 = 2<1<4<0<5<6<3\n",
      "2<1<4<5<6<3<0 = 2<1<4<5<0<3<6\n",
      "2<1<4<5<6<3<0 = 2<1<4<5<0<6<3\n",
      "2<1<4<5<6<3<0 = 2<1<4<5<3<0<6\n",
      "2<1<4<5<6<3<0 = 2<1<4<5<3<6<0\n",
      "2<1<4<5<6<3<0 = 2<1<4<5<6<0<3\n",
      "2<1<4<6<0<3<5 = 2<1<4<0<6<3<5\n",
      "2<1<4<6<0<5<3 = 2<1<4<0<6<5<3\n",
      "2<1<4<6<3<0<5 = 2<1<4<0<6<3<5\n",
      "2<1<4<6<3<0<5 = 2<1<4<6<0<3<5\n",
      "2<1<4<6<3<5<0 = 2<1<4<0<6<3<5\n",
      "2<1<4<6<3<5<0 = 2<1<4<6<0<3<5\n",
      "2<1<4<6<3<5<0 = 2<1<4<6<3<0<5\n",
      "2<1<4<6<5<0<3 = 2<1<4<0<6<5<3\n",
      "2<1<4<6<5<0<3 = 2<1<4<6<0<5<3\n",
      "2<1<4<6<5<3<0 = 2<1<4<0<6<5<3\n",
      "2<1<4<6<5<3<0 = 2<1<4<6<0<5<3\n",
      "2<1<4<6<5<3<0 = 2<1<4<6<5<0<3\n",
      "2<1<5<0<4<6<3 = 2<1<5<0<4<3<6\n",
      "2<1<5<3<4<6<0 = 2<1<5<3<4<0<6\n",
      "2<1<5<3<6<0<4 = 2<1<5<3<0<6<4\n",
      "2<1<5<4<0<6<3 = 2<1<5<4<0<3<6\n",
      "2<1<5<4<3<0<6 = 2<1<5<4<0<3<6\n",
      "2<1<5<4<3<0<6 = 2<1<5<4<0<6<3\n",
      "2<1<5<4<3<6<0 = 2<1<5<4<0<3<6\n",
      "2<1<5<4<3<6<0 = 2<1<5<4<0<6<3\n",
      "2<1<5<4<3<6<0 = 2<1<5<4<3<0<6\n",
      "2<1<5<4<6<0<3 = 2<1<5<4<0<3<6\n",
      "2<1<5<4<6<0<3 = 2<1<5<4<0<6<3\n",
      "2<1<5<4<6<0<3 = 2<1<5<4<3<0<6\n",
      "2<1<5<4<6<0<3 = 2<1<5<4<3<6<0\n",
      "2<1<5<4<6<3<0 = 2<1<5<4<0<3<6\n",
      "2<1<5<4<6<3<0 = 2<1<5<4<0<6<3\n",
      "2<1<5<4<6<3<0 = 2<1<5<4<3<0<6\n",
      "2<1<5<4<6<3<0 = 2<1<5<4<3<6<0\n",
      "2<1<5<4<6<3<0 = 2<1<5<4<6<0<3\n",
      "2<1<5<6<0<3<4 = 2<1<5<0<6<3<4\n",
      "2<1<5<6<0<4<3 = 2<1<5<0<6<4<3\n",
      "2<1<5<6<4<3<0 = 2<1<5<6<4<0<3\n",
      "2<1<6<3<4<5<0 = 2<1<6<3<4<0<5\n"
     ]
    },
    {
     "ename": "KeyboardInterrupt",
     "evalue": "",
     "output_type": "error",
     "traceback": [
      "\u001b[1;31m---------------------------------------------------------------------------\u001b[0m",
      "\u001b[1;31mKeyboardInterrupt\u001b[0m                         Traceback (most recent call last)",
      "Cell \u001b[1;32mIn[46], line 1\u001b[0m\n\u001b[1;32m----> 1\u001b[0m \u001b[38;5;28;43;01mfor\u001b[39;49;00m\u001b[43m \u001b[49m\u001b[43mi\u001b[49m\u001b[43m \u001b[49m\u001b[38;5;129;43;01min\u001b[39;49;00m\u001b[43m \u001b[49m\u001b[43mgenerateEquivalence\u001b[49m\u001b[43m(\u001b[49m\u001b[43mEperms\u001b[49m\u001b[43m)\u001b[49m\u001b[43m:\u001b[49m\n\u001b[0;32m      2\u001b[0m \u001b[43m    \u001b[49m\u001b[38;5;28;43mprint\u001b[39;49m\u001b[43m(\u001b[49m\u001b[38;5;124;43mf\u001b[39;49m\u001b[38;5;124;43m\"\u001b[39;49m\u001b[38;5;132;43;01m{\u001b[39;49;00m\u001b[43mi\u001b[49m\u001b[43m[\u001b[49m\u001b[38;5;241;43m0\u001b[39;49m\u001b[43m]\u001b[49m\u001b[38;5;132;43;01m}\u001b[39;49;00m\u001b[38;5;124;43m = \u001b[39;49m\u001b[38;5;132;43;01m{\u001b[39;49;00m\u001b[43mi\u001b[49m\u001b[43m[\u001b[49m\u001b[38;5;241;43m1\u001b[39;49m\u001b[43m]\u001b[49m\u001b[38;5;132;43;01m}\u001b[39;49;00m\u001b[38;5;124;43m\"\u001b[39;49m\u001b[43m)\u001b[49m\n",
      "Cell \u001b[1;32mIn[31], line 8\u001b[0m, in \u001b[0;36mgenerateEquivalence\u001b[1;34m(permutations)\u001b[0m\n\u001b[0;32m      6\u001b[0m     \u001b[38;5;28;01mcontinue\u001b[39;00m\n\u001b[0;32m      7\u001b[0m flag \u001b[38;5;241m=\u001b[39m \u001b[38;5;28;01mFalse\u001b[39;00m\n\u001b[1;32m----> 8\u001b[0m \u001b[43m\u001b[49m\u001b[38;5;28;43;01mfor\u001b[39;49;00m\u001b[43m \u001b[49m\u001b[43mk\u001b[49m\u001b[43m \u001b[49m\u001b[38;5;129;43;01min\u001b[39;49;00m\u001b[43m \u001b[49m\u001b[43mcompareRootSystems\u001b[49m\u001b[43m(\u001b[49m\u001b[43mpermutations\u001b[49m\u001b[43m[\u001b[49m\u001b[43mi\u001b[49m\u001b[43m]\u001b[49m\u001b[43m,\u001b[49m\u001b[43mpermutations\u001b[49m\u001b[43m[\u001b[49m\u001b[43mj\u001b[49m\u001b[43m]\u001b[49m\u001b[43m)\u001b[49m\u001b[43m:\u001b[49m\n\u001b[0;32m      9\u001b[0m \u001b[43m    \u001b[49m\u001b[43mflag\u001b[49m\u001b[43m \u001b[49m\u001b[38;5;241;43m=\u001b[39;49m\u001b[38;5;28;43;01mTrue\u001b[39;49;00m\n\u001b[0;32m     10\u001b[0m \u001b[43m    \u001b[49m\u001b[38;5;28;43;01mbreak\u001b[39;49;00m\n",
      "Cell \u001b[1;32mIn[30], line 4\u001b[0m, in \u001b[0;36mcompareRootSystems\u001b[1;34m(r1, r2)\u001b[0m\n\u001b[0;32m      2\u001b[0m words \u001b[38;5;241m=\u001b[39m \u001b[38;5;28mlist\u001b[39m(r1\u001b[38;5;241m.\u001b[39mweightToWordDictionary\u001b[38;5;241m.\u001b[39mvalues())\n\u001b[0;32m      3\u001b[0m \u001b[38;5;28;01mfor\u001b[39;00m i \u001b[38;5;129;01min\u001b[39;00m words:\n\u001b[1;32m----> 4\u001b[0m     \u001b[38;5;28;01mfor\u001b[39;00m j \u001b[38;5;129;01min\u001b[39;00m \u001b[38;5;28mrange\u001b[39m(\u001b[38;5;28mlen\u001b[39m(i)):\n\u001b[0;32m      5\u001b[0m         \u001b[38;5;28;01mif\u001b[39;00m(\u001b[38;5;28mstr\u001b[39m(i[j]) \u001b[38;5;241m!=\u001b[39m \u001b[38;5;28mstr\u001b[39m(r2\u001b[38;5;241m.\u001b[39mgetWords(i[j]\u001b[38;5;241m.\u001b[39mweights)[j])):\n\u001b[0;32m      6\u001b[0m             \u001b[38;5;28;01myield\u001b[39;00m (i[j]\u001b[38;5;241m.\u001b[39mweights,\u001b[38;5;28mstr\u001b[39m(i[j]),\u001b[38;5;28mstr\u001b[39m(r2\u001b[38;5;241m.\u001b[39mgetWords(i[j]\u001b[38;5;241m.\u001b[39mweights)[j]))\n",
      "\u001b[1;31mKeyboardInterrupt\u001b[0m: "
     ]
    }
   ],
   "source": [
    "for i in generate_equivalences(Eperms):\n",
    "    print(f\"{i[0]} = {i[1]}\")"
   ]
  },
  {
   "cell_type": "code",
   "execution_count": null,
   "metadata": {},
   "outputs": [
    {
     "data": {
      "application/vnd.jupyter.widget-view+json": {
       "model_id": "801c14fcbc3440d4be077c3eeac5676c",
       "version_major": 2,
       "version_minor": 0
      },
      "text/plain": [
       "  0%|          | 0/5040 [00:00<?, ?it/s]"
      ]
     },
     "metadata": {},
     "output_type": "display_data"
    },
    {
     "data": {
      "text/plain": [
       "(10, '2<0<1<4<6<5<3', array([1, 0, 1, 1, 1, 1, 0]))"
      ]
     },
     "execution_count": 19,
     "metadata": {},
     "output_type": "execute_result"
    }
   ],
   "source": [
    "get_max_periodicity(Eperms)"
   ]
  },
  {
   "cell_type": "markdown",
   "metadata": {},
   "source": [
    "## Type F"
   ]
  },
  {
   "cell_type": "code",
   "execution_count": 182,
   "metadata": {},
   "outputs": [],
   "source": [
    "n=4\n",
    "Fperms = gen_permutations('F',4)"
   ]
  },
  {
   "cell_type": "code",
   "execution_count": 168,
   "metadata": {},
   "outputs": [
    {
     "data": {
      "application/vnd.jupyter.widget-view+json": {
       "model_id": "3c64095c167c454087d8a6a2862ab5c7",
       "version_major": 2,
       "version_minor": 0
      },
      "text/plain": [
       "  0%|          | 0/119 [00:00<?, ?it/s]"
      ]
     },
     "metadata": {},
     "output_type": "display_data"
    },
    {
     "data": {
      "text/plain": [
       "[]"
      ]
     },
     "execution_count": 168,
     "metadata": {},
     "output_type": "execute_result"
    }
   ],
   "source": [
    "check_standard_fac_same_parrallel(Fperms,k=3)"
   ]
  },
  {
   "cell_type": "code",
   "execution_count": null,
   "metadata": {},
   "outputs": [],
   "source": [
    "for i in check_periodicity_conj_perms(Fperms):\n",
    "    print(i)"
   ]
  },
  {
   "cell_type": "code",
   "execution_count": null,
   "metadata": {},
   "outputs": [],
   "source": [
    "for i in check_delta_type_prediction_perms(Fperms):\n",
    "    print(i)"
   ]
  },
  {
   "cell_type": "code",
   "execution_count": 183,
   "metadata": {},
   "outputs": [
    {
     "data": {
      "application/vnd.jupyter.widget-view+json": {
       "model_id": "fe37204e77204a1b852969bfad61e118",
       "version_major": 2,
       "version_minor": 0
      },
      "text/plain": [
       "  0%|          | 0/119 [00:00<?, ?it/s]"
      ]
     },
     "metadata": {},
     "output_type": "display_data"
    }
   ],
   "source": [
    "write_delta_types_to_file(Fperms,\"FDeltaTypes.csv\")"
   ]
  },
  {
   "cell_type": "code",
   "execution_count": 113,
   "metadata": {},
   "outputs": [
    {
     "data": {
      "application/vnd.jupyter.widget-view+json": {
       "model_id": "9022100bab274df3973735babe523501",
       "version_major": 2,
       "version_minor": 0
      },
      "text/plain": [
       "  0%|          | 0/120 [00:00<?, ?it/s]"
      ]
     },
     "metadata": {},
     "output_type": "display_data"
    }
   ],
   "source": [
    "for i in check_convexity_perms(Fperms,math.factorial(n+1),k=5,word_convexity=True):\n",
    "    print(i)"
   ]
  },
  {
   "cell_type": "code",
   "execution_count": null,
   "metadata": {},
   "outputs": [
    {
     "data": {
      "text/plain": [
       "[]"
      ]
     },
     "execution_count": 79,
     "metadata": {},
     "output_type": "execute_result"
    }
   ],
   "source": [
    "check_h_deltas_repeat(Fperms)"
   ]
  },
  {
   "cell_type": "code",
   "execution_count": 114,
   "metadata": {},
   "outputs": [
    {
     "data": {
      "application/vnd.jupyter.widget-view+json": {
       "model_id": "84cf86f78181496da2ddf38ff57642a4",
       "version_major": 2,
       "version_minor": 0
      },
      "text/plain": [
       "  0%|          | 0/120 [00:00<?, ?it/s]"
      ]
     },
     "metadata": {},
     "output_type": "display_data"
    },
    {
     "data": {
      "text/plain": [
       "(9, '0<2<3<1<4', array([0, 2, 3, 4, 2]))"
      ]
     },
     "execution_count": 114,
     "metadata": {},
     "output_type": "execute_result"
    }
   ],
   "source": [
    "get_max_periodicity(Fperms,math.factorial(5))"
   ]
  },
  {
   "cell_type": "code",
   "execution_count": null,
   "metadata": {},
   "outputs": [],
   "source": [
    "for i in generate_equivalences(Fperms):\n",
    "    print(f\"{i[0]} = {i[1]}\")"
   ]
  }
 ],
 "metadata": {
  "kernelspec": {
   "display_name": "Python 3",
   "language": "python",
   "name": "python3"
  },
  "language_info": {
   "codemirror_mode": {
    "name": "ipython",
    "version": 3
   },
   "file_extension": ".py",
   "mimetype": "text/x-python",
   "name": "python",
   "nbconvert_exporter": "python",
   "pygments_lexer": "ipython3",
   "version": "3.11.0"
  }
 },
 "nbformat": 4,
 "nbformat_minor": 2
}
