{
 "cells": [
  {
   "cell_type": "markdown",
   "metadata": {},
   "source": [
    "## Functions"
   ]
  },
  {
   "cell_type": "code",
   "execution_count": 15,
   "metadata": {},
   "outputs": [],
   "source": [
    "from LyndonWords import *\n",
    "import itertools\n",
    "import progressbar\n",
    "import math\n",
    "def genPermutations(type,n,k):\n",
    "    rootSystemPermutations = np.empty(math.factorial(n+1),dtype=object)\n",
    "    bar = progressbar.ProgressBar(maxval=math.factorial(n+1))\n",
    "    v = 0\n",
    "    for i in bar(itertools.permutations(list(range(n+1)))):\n",
    "        rootSystemPermutations[v] = rootSystem(i,type,k)\n",
    "        v+=1\n",
    "    return rootSystemPermutations"
   ]
  },
  {
   "cell_type": "code",
   "execution_count": 2,
   "metadata": {},
   "outputs": [],
   "source": [
    "def checkMonotoneIncreasingImpDeltaStart(rootSystemPermutations):\n",
    "    for rootsys in rootSystemPermutations:\n",
    "        returnArr = []\n",
    "        deltaWords = rootsys.getWords(rootsys.delta)\n",
    "        temp = rootsys.checkMonotonicity(\"Increasing\")\n",
    "        monotoneIncreasing = [i[0] for i in temp]\n",
    "        deltaArrays = [i.string for i in deltaWords]\n",
    "        for i in monotoneIncreasing:\n",
    "            flag = False\n",
    "            for j in deltaWords:\n",
    "                if(str(i).startswith(str(j))):\n",
    "                    flag = True\n",
    "                    break\n",
    "            if(flag):\n",
    "                continue\n",
    "            for j in rootsys.getAffineWords(i)[1:]:\n",
    "                if np.any(np.all(j[0:sum(rootsys.delta)] == deltaArrays)):\n",
    "                    returnArr.append((rootsys.ordering,j))\n",
    "    return returnArr"
   ]
  },
  {
   "cell_type": "code",
   "execution_count": 3,
   "metadata": {},
   "outputs": [],
   "source": [
    "def checkDeltaStartImpMonotoneIncreasing(rootSystemPermutations):\n",
    "    returnArr = []\n",
    "    for rootsys in rootSystemPermutations:\n",
    "        deltaWords = rootsys.getWords(rootsys.delta)\n",
    "        deltaArrays = [i.string for i in deltaWords]\n",
    "        for base in rootsys.baseWeights[:-1]:\n",
    "            secondWord = rootsys.getWords(base + rootsys.delta)[0]\n",
    "            flag = False\n",
    "            for i in deltaArrays:\n",
    "                if(np.all(secondWord[:rootsys.deltaWeight] == i)):\n",
    "                    flag = True\n",
    "                    break\n",
    "            if not flag:\n",
    "                continue\n",
    "            if(rootsys.getMonotonicity(base) != 1):\n",
    "                returnArr.append((str(rootsys.ordering),str(rootsys.getWords(base)[0])))\n",
    "    return returnArr"
   ]
  },
  {
   "cell_type": "code",
   "execution_count": 4,
   "metadata": {},
   "outputs": [],
   "source": [
    "def printByLength(rootSystem):\n",
    "    len = 0\n",
    "    for k in range(rootSystem.k + 1):\n",
    "        for i in rootSystem.baseWeights:\n",
    "            comb = i + rootSystem.delta * k\n",
    "            if(sum(comb) != len):\n",
    "                len = sum(comb)\n",
    "                print(len)\n",
    "            for i in rootSystem.getWords(comb):\n",
    "                print(\" \"+str(i))"
   ]
  },
  {
   "cell_type": "code",
   "execution_count": 5,
   "metadata": {},
   "outputs": [],
   "source": [
    "def printByBaseWord(rootSystem:rootSystem,comb):\n",
    "    k=0\n",
    "    for i in rootSystem.getAffineWords(comb):\n",
    "        if(k % rootSystem.n == 0):\n",
    "            print(k //rootSystem.n)\n",
    "        print(\" \" + str(i))\n",
    "        k+=1"
   ]
  },
  {
   "cell_type": "code",
   "execution_count": 6,
   "metadata": {},
   "outputs": [],
   "source": [
    "def exportByLength(rootSystem):\n",
    "    file = open(\"out.txt\",'w')\n",
    "    file.write(str(rootSystem.ordering)+\"\\n\")\n",
    "    for k in range(rootSystem.k + 1):\n",
    "        for i in rootSystem.baseWeights:\n",
    "            comb = i + rootSystem.delta * k\n",
    "            for i in rootSystem.getWords(comb):\n",
    "                file.write(str(i) + '\\n')\n",
    "    file.close()"
   ]
  },
  {
   "cell_type": "markdown",
   "metadata": {},
   "source": [
    "## Type C"
   ]
  },
  {
   "cell_type": "code",
   "execution_count": 35,
   "metadata": {},
   "outputs": [
    {
     "name": "stderr",
     "output_type": "stream",
     "text": [
      "  0% (0 of 120) |                        | Elapsed Time: 0:00:00 ETA:  --:--:--\n"
     ]
    },
    {
     "name": "stderr",
     "output_type": "stream",
     "text": [
      "  0% (1 of 120) |                        | Elapsed Time: 0:00:00 ETA:   0:00:19\n",
      "  1% (2 of 120) |                        | Elapsed Time: 0:00:00 ETA:   0:00:18\n",
      "  2% (3 of 120) |                        | Elapsed Time: 0:00:00 ETA:   0:00:17\n",
      "  3% (4 of 120) |                        | Elapsed Time: 0:00:00 ETA:   0:00:17\n",
      "  4% (5 of 120) |#                       | Elapsed Time: 0:00:00 ETA:   0:00:17\n",
      "  5% (6 of 120) |#                       | Elapsed Time: 0:00:00 ETA:   0:00:17\n",
      "  5% (7 of 120) |#                       | Elapsed Time: 0:00:01 ETA:   0:00:17\n",
      "  6% (8 of 120) |#                       | Elapsed Time: 0:00:01 ETA:   0:00:16\n",
      "  7% (9 of 120) |#                       | Elapsed Time: 0:00:01 ETA:   0:00:16\n",
      "  8% (10 of 120) |#                      | Elapsed Time: 0:00:01 ETA:   0:00:16\n",
      "  9% (11 of 120) |##                     | Elapsed Time: 0:00:01 ETA:   0:00:16\n",
      " 10% (12 of 120) |##                     | Elapsed Time: 0:00:01 ETA:   0:00:16\n",
      " 10% (13 of 120) |##                     | Elapsed Time: 0:00:01 ETA:   0:00:15\n",
      " 11% (14 of 120) |##                     | Elapsed Time: 0:00:02 ETA:   0:00:15\n",
      " 12% (15 of 120) |##                     | Elapsed Time: 0:00:02 ETA:   0:00:15\n",
      " 13% (16 of 120) |###                    | Elapsed Time: 0:00:02 ETA:   0:00:15\n",
      " 14% (17 of 120) |###                    | Elapsed Time: 0:00:02 ETA:   0:00:15\n",
      " 15% (18 of 120) |###                    | Elapsed Time: 0:00:02 ETA:   0:00:15\n",
      " 15% (19 of 120) |###                    | Elapsed Time: 0:00:02 ETA:   0:00:14\n",
      " 16% (20 of 120) |###                    | Elapsed Time: 0:00:02 ETA:   0:00:14\n",
      " 17% (21 of 120) |####                   | Elapsed Time: 0:00:03 ETA:   0:00:14\n",
      " 18% (22 of 120) |####                   | Elapsed Time: 0:00:03 ETA:   0:00:14\n",
      " 19% (23 of 120) |####                   | Elapsed Time: 0:00:03 ETA:   0:00:14\n",
      " 20% (24 of 120) |####                   | Elapsed Time: 0:00:03 ETA:   0:00:14\n",
      " 20% (25 of 120) |####                   | Elapsed Time: 0:00:03 ETA:   0:00:13\n",
      " 21% (26 of 120) |####                   | Elapsed Time: 0:00:03 ETA:   0:00:13\n",
      " 22% (27 of 120) |#####                  | Elapsed Time: 0:00:03 ETA:   0:00:13\n",
      " 23% (28 of 120) |#####                  | Elapsed Time: 0:00:04 ETA:   0:00:13\n",
      " 24% (29 of 120) |#####                  | Elapsed Time: 0:00:04 ETA:   0:00:13\n",
      " 25% (30 of 120) |#####                  | Elapsed Time: 0:00:04 ETA:   0:00:13\n",
      " 25% (31 of 120) |#####                  | Elapsed Time: 0:00:04 ETA:   0:00:13\n",
      " 26% (32 of 120) |######                 | Elapsed Time: 0:00:04 ETA:   0:00:12\n",
      " 27% (33 of 120) |######                 | Elapsed Time: 0:00:04 ETA:   0:00:12\n",
      " 28% (34 of 120) |######                 | Elapsed Time: 0:00:04 ETA:   0:00:12\n",
      " 29% (35 of 120) |######                 | Elapsed Time: 0:00:05 ETA:   0:00:12\n",
      " 30% (36 of 120) |######                 | Elapsed Time: 0:00:05 ETA:   0:00:12\n",
      " 30% (37 of 120) |#######                | Elapsed Time: 0:00:05 ETA:   0:00:12\n",
      " 31% (38 of 120) |#######                | Elapsed Time: 0:00:05 ETA:   0:00:12\n",
      " 32% (39 of 120) |#######                | Elapsed Time: 0:00:05 ETA:   0:00:11\n",
      " 33% (40 of 120) |#######                | Elapsed Time: 0:00:05 ETA:   0:00:11\n",
      " 34% (41 of 120) |#######                | Elapsed Time: 0:00:06 ETA:   0:00:11\n",
      " 35% (42 of 120) |########               | Elapsed Time: 0:00:06 ETA:   0:00:11\n",
      " 35% (43 of 120) |########               | Elapsed Time: 0:00:06 ETA:   0:00:11\n",
      " 36% (44 of 120) |########               | Elapsed Time: 0:00:06 ETA:   0:00:11\n",
      " 37% (45 of 120) |########               | Elapsed Time: 0:00:06 ETA:   0:00:10\n",
      " 38% (46 of 120) |########               | Elapsed Time: 0:00:06 ETA:   0:00:10\n",
      " 39% (47 of 120) |#########              | Elapsed Time: 0:00:06 ETA:   0:00:10\n",
      " 40% (48 of 120) |#########              | Elapsed Time: 0:00:07 ETA:   0:00:10\n",
      " 40% (49 of 120) |#########              | Elapsed Time: 0:00:07 ETA:   0:00:10\n",
      " 41% (50 of 120) |#########              | Elapsed Time: 0:00:07 ETA:   0:00:10\n",
      " 42% (51 of 120) |#########              | Elapsed Time: 0:00:07 ETA:   0:00:10\n",
      " 43% (52 of 120) |#########              | Elapsed Time: 0:00:07 ETA:   0:00:09\n",
      " 44% (53 of 120) |##########             | Elapsed Time: 0:00:07 ETA:   0:00:09\n",
      " 45% (54 of 120) |##########             | Elapsed Time: 0:00:07 ETA:   0:00:09\n",
      " 45% (55 of 120) |##########             | Elapsed Time: 0:00:08 ETA:   0:00:09\n",
      " 46% (56 of 120) |##########             | Elapsed Time: 0:00:08 ETA:   0:00:09\n",
      " 47% (57 of 120) |##########             | Elapsed Time: 0:00:08 ETA:   0:00:09\n",
      " 48% (58 of 120) |###########            | Elapsed Time: 0:00:08 ETA:   0:00:09\n",
      " 49% (59 of 120) |###########            | Elapsed Time: 0:00:08 ETA:   0:00:08\n",
      " 50% (60 of 120) |###########            | Elapsed Time: 0:00:08 ETA:   0:00:08\n",
      " 50% (61 of 120) |###########            | Elapsed Time: 0:00:08 ETA:   0:00:08\n",
      " 51% (62 of 120) |###########            | Elapsed Time: 0:00:09 ETA:   0:00:08\n",
      " 52% (63 of 120) |############           | Elapsed Time: 0:00:09 ETA:   0:00:08\n",
      " 53% (64 of 120) |############           | Elapsed Time: 0:00:09 ETA:   0:00:08\n",
      " 54% (65 of 120) |############           | Elapsed Time: 0:00:09 ETA:   0:00:07\n",
      " 55% (66 of 120) |############           | Elapsed Time: 0:00:09 ETA:   0:00:07\n",
      " 55% (67 of 120) |############           | Elapsed Time: 0:00:09 ETA:   0:00:07\n",
      " 56% (68 of 120) |#############          | Elapsed Time: 0:00:09 ETA:   0:00:07\n",
      " 57% (69 of 120) |#############          | Elapsed Time: 0:00:09 ETA:   0:00:07\n",
      " 58% (70 of 120) |#############          | Elapsed Time: 0:00:09 ETA:   0:00:07\n",
      " 60% (72 of 120) |#############          | Elapsed Time: 0:00:10 ETA:   0:00:06\n",
      " 60% (73 of 120) |#############          | Elapsed Time: 0:00:10 ETA:   0:00:06\n",
      " 62% (75 of 120) |##############         | Elapsed Time: 0:00:10 ETA:   0:00:06\n",
      " 63% (76 of 120) |##############         | Elapsed Time: 0:00:10 ETA:   0:00:06\n",
      " 65% (78 of 120) |##############         | Elapsed Time: 0:00:10 ETA:   0:00:05\n",
      " 65% (79 of 120) |###############        | Elapsed Time: 0:00:10 ETA:   0:00:05\n",
      " 67% (81 of 120) |###############        | Elapsed Time: 0:00:10 ETA:   0:00:05\n",
      " 69% (83 of 120) |###############        | Elapsed Time: 0:00:11 ETA:   0:00:04\n",
      " 70% (84 of 120) |################       | Elapsed Time: 0:00:11 ETA:   0:00:04\n",
      " 71% (86 of 120) |################       | Elapsed Time: 0:00:11 ETA:   0:00:04\n",
      " 72% (87 of 120) |################       | Elapsed Time: 0:00:11 ETA:   0:00:04\n",
      " 74% (89 of 120) |#################      | Elapsed Time: 0:00:11 ETA:   0:00:04\n",
      " 75% (90 of 120) |#################      | Elapsed Time: 0:00:11 ETA:   0:00:03\n",
      " 76% (92 of 120) |#################      | Elapsed Time: 0:00:11 ETA:   0:00:03\n",
      " 77% (93 of 120) |#################      | Elapsed Time: 0:00:11 ETA:   0:00:03\n",
      " 79% (95 of 120) |##################     | Elapsed Time: 0:00:12 ETA:   0:00:03\n",
      " 80% (96 of 120) |##################     | Elapsed Time: 0:00:12 ETA:   0:00:03\n",
      " 81% (98 of 120) |##################     | Elapsed Time: 0:00:12 ETA:   0:00:02\n",
      " 82% (99 of 120) |##################     | Elapsed Time: 0:00:12 ETA:   0:00:02\n",
      " 84% (101 of 120) |##################    | Elapsed Time: 0:00:12 ETA:   0:00:02\n",
      " 85% (102 of 120) |##################    | Elapsed Time: 0:00:12 ETA:   0:00:02\n",
      " 86% (104 of 120) |###################   | Elapsed Time: 0:00:12 ETA:   0:00:01\n",
      " 87% (105 of 120) |###################   | Elapsed Time: 0:00:13 ETA:   0:00:01\n",
      " 89% (107 of 120) |###################   | Elapsed Time: 0:00:13 ETA:   0:00:01\n",
      " 90% (108 of 120) |###################   | Elapsed Time: 0:00:13 ETA:   0:00:01\n",
      " 91% (110 of 120) |####################  | Elapsed Time: 0:00:13 ETA:   0:00:01\n",
      " 92% (111 of 120) |####################  | Elapsed Time: 0:00:13 ETA:   0:00:01\n",
      " 94% (113 of 120) |####################  | Elapsed Time: 0:00:13 ETA:   0:00:00\n",
      " 95% (114 of 120) |####################  | Elapsed Time: 0:00:13 ETA:   0:00:00\n",
      " 96% (116 of 120) |##################### | Elapsed Time: 0:00:13 ETA:   0:00:00\n",
      " 97% (117 of 120) |##################### | Elapsed Time: 0:00:14 ETA:   0:00:00\n",
      " 99% (119 of 120) |##################### | Elapsed Time: 0:00:14 ETA:   0:00:00\n",
      "100% (120 of 120) |######################| Elapsed Time: 0:00:14 Time:  0:00:14\n"
     ]
    }
   ],
   "source": [
    "rootSystemPermutations = genPermutations('C',4,3)"
   ]
  },
  {
   "cell_type": "code",
   "execution_count": 36,
   "metadata": {},
   "outputs": [],
   "source": [
    "exceptions = checkMonotoneIncreasingImpDeltaStart(rootSystemPermutations)\n",
    "if(len(exceptions) != 0):\n",
    "    print(\"Exception\")"
   ]
  },
  {
   "cell_type": "markdown",
   "metadata": {},
   "source": [
    "Above shows that monotone increasing implies it starts with a delta word"
   ]
  },
  {
   "cell_type": "code",
   "execution_count": 37,
   "metadata": {},
   "outputs": [
    {
     "data": {
      "text/plain": [
       "[]"
      ]
     },
     "execution_count": 37,
     "metadata": {},
     "output_type": "execute_result"
    }
   ],
   "source": [
    "checkDeltaStartImpMonotoneIncreasing(rootSystemPermutations)"
   ]
  },
  {
   "cell_type": "markdown",
   "metadata": {},
   "source": [
    "Implies that beginning with a k-delta word implies monotone increasing"
   ]
  },
  {
   "cell_type": "code",
   "execution_count": 38,
   "metadata": {},
   "outputs": [
    {
     "name": "stdout",
     "output_type": "stream",
     "text": [
      "\n",
      "1\n",
      " 0<1<2<3<4\n",
      " 0<1<2<4<3\n",
      " 0<1<3<2<4\n",
      " 0<1<3<4<2\n",
      " 0<1<4<2<3\n",
      " 0<1<4<3<2\n",
      " 0<2<1<3<4\n",
      " 0<2<1<4<3\n",
      " 0<2<3<1<4\n",
      " 0<2<3<4<1\n",
      " 0<2<4<1<3\n",
      " 0<2<4<3<1\n",
      " 0<3<1<2<4\n",
      " 0<3<1<4<2\n",
      " 0<3<2<1<4\n",
      " 0<3<2<4<1\n",
      " 0<3<4<1<2\n",
      " 0<3<4<2<1\n",
      " 0<4<1<2<3\n",
      " 0<4<1<3<2\n",
      " 0<4<2<1<3\n",
      " 0<4<2<3<1\n",
      " 0<4<3<1<2\n",
      " 0<4<3<2<1\n",
      " 4<0<1<2<3\n",
      " 4<0<1<3<2\n",
      " 4<0<2<1<3\n",
      " 4<0<2<3<1\n",
      " 4<0<3<1<2\n",
      " 4<0<3<2<1\n",
      " 4<1<0<2<3\n",
      " 4<1<0<3<2\n",
      " 4<1<2<0<3\n",
      " 4<1<2<3<0\n",
      " 4<1<3<0<2\n",
      " 4<1<3<2<0\n",
      " 4<2<0<1<3\n",
      " 4<2<0<3<1\n",
      " 4<2<1<0<3\n",
      " 4<2<1<3<0\n",
      " 4<2<3<0<1\n",
      " 4<2<3<1<0\n",
      " 4<3<0<1<2\n",
      " 4<3<0<2<1\n",
      " 4<3<1<0<2\n",
      " 4<3<1<2<0\n",
      " 4<3<2<0<1\n",
      " 4<3<2<1<0\n",
      " \n",
      "2\n",
      " 1<2<0<3<4\n",
      " 1<2<0<4<3\n",
      " 1<2<3<0<4\n",
      " 1<2<3<4<0\n",
      " 1<2<4<0<3\n",
      " 1<2<4<3<0\n",
      " 1<3<2<0<4\n",
      " 1<3<2<4<0\n",
      " 1<3<4<2<0\n",
      " 1<4<2<0<3\n",
      " 1<4<2<3<0\n",
      " 1<4<3<2<0\n",
      " 3<0<1<2<4\n",
      " 3<0<2<1<4\n",
      " 3<0<2<4<1\n",
      " 3<1<0<2<4\n",
      " 3<1<2<0<4\n",
      " 3<1<2<4<0\n",
      " 3<2<0<1<4\n",
      " 3<2<0<4<1\n",
      " 3<2<1<0<4\n",
      " 3<2<1<4<0\n",
      " 3<2<4<0<1\n",
      " 3<2<4<1<0\n",
      " \n",
      "3\n",
      " 1<3<0<2<4\n",
      " 1<3<0<4<2\n",
      " 1<3<4<0<2\n",
      " 1<4<3<0<2\n",
      " 2<0<1<3<4\n",
      " 2<0<1<4<3\n",
      " 2<1<0<3<4\n",
      " 2<1<0<4<3\n",
      " 2<1<3<0<4\n",
      " 2<1<3<4<0\n",
      " 2<1<4<0<3\n",
      " 2<1<4<3<0\n",
      " 2<3<0<1<4\n",
      " 2<3<0<4<1\n",
      " 2<3<1<0<4\n",
      " 2<3<1<4<0\n",
      " 2<3<4<0<1\n",
      " 2<3<4<1<0\n",
      " 2<4<3<0<1\n",
      " 2<4<3<1<0\n",
      " 3<0<1<4<2\n",
      " 3<1<0<4<2\n",
      " 3<1<4<0<2\n",
      " 3<1<4<2<0\n",
      " \n",
      "4\n",
      " 1<0<2<3<4\n",
      " 1<0<2<4<3\n",
      " 1<0<3<2<4\n",
      " 1<0<3<4<2\n",
      " 1<0<4<2<3\n",
      " 1<0<4<3<2\n",
      " 1<4<0<2<3\n",
      " 1<4<0<3<2\n",
      " 2<0<3<1<4\n",
      " 2<0<3<4<1\n",
      " 2<0<4<1<3\n",
      " 2<0<4<3<1\n",
      " 2<4<0<1<3\n",
      " 2<4<0<3<1\n",
      " 2<4<1<0<3\n",
      " 2<4<1<3<0\n",
      " 3<0<4<1<2\n",
      " 3<0<4<2<1\n",
      " 3<4<0<1<2\n",
      " 3<4<0<2<1\n",
      " 3<4<1<0<2\n",
      " 3<4<1<2<0\n",
      " 3<4<2<0<1\n",
      " 3<4<2<1<0\n",
      " \n",
      "5\n",
      " "
     ]
    }
   ],
   "source": [
    "arr = []\n",
    "for r in range(n):\n",
    "    arr.append([])\n",
    "for rootsys in rootSystemPermutations:\n",
    "    word = rootsys.getWords(2*rootsys.delta)[0]\n",
    "    for i in range(1,len(word)):\n",
    "        if(word[i] == rootsys.ordering[0]):\n",
    "            arr[rootsys.deltaWeight-i-1].append(rootsys.ordering)\n",
    "            break\n",
    "for i in range(len(arr)):\n",
    "    print(\"\")\n",
    "    print(i+1,end='\\n ')\n",
    "    for j in arr[i]:\n",
    "        print(str(j),end='\\n ')\n"
   ]
  },
  {
   "cell_type": "markdown",
   "metadata": {},
   "source": [
    "Starts with 0< n, n< 0: 1\n",
    "\n",
    "i< i+1: i+1\n",
    "\n",
    "i< i-1: n-(i-1)\n",
    "\n",
    "The prefix of SL_1(\\delta) up to and including the smallest letter gets appended to the word similarly to in the standard order for SL_1(k\\delta).\n",
    "\n",
    "SL_i(k\\delta) works exactly the same as in SL_i(k\\delta) for the standard order, except the word ends with whatever SL(\\delta) cuts off instead of just {r-1}"
   ]
  },
  {
   "cell_type": "markdown",
   "metadata": {},
   "source": [
    "## Type G"
   ]
  },
  {
   "cell_type": "code",
   "execution_count": 22,
   "metadata": {},
   "outputs": [
    {
     "name": "stderr",
     "output_type": "stream",
     "text": [
      "  0% (0 of 6) |                          | Elapsed Time: 0:00:00 ETA:  --:--:--\n",
      " 16% (1 of 6) |####                      | Elapsed Time: 0:00:00 ETA:   0:00:00\n",
      " 33% (2 of 6) |########                  | Elapsed Time: 0:00:00 ETA:   0:00:00\n",
      " 50% (3 of 6) |#############             | Elapsed Time: 0:00:00 ETA:   0:00:00\n",
      " 66% (4 of 6) |#################         | Elapsed Time: 0:00:00 ETA:   0:00:00\n",
      " 83% (5 of 6) |#####################     | Elapsed Time: 0:00:00 ETA:   0:00:00\n",
      "100% (6 of 6) |##########################| Elapsed Time: 0:00:01 Time:  0:00:01\n"
     ]
    }
   ],
   "source": [
    "G2perms = genPermutations('G',2,5)"
   ]
  },
  {
   "cell_type": "code",
   "execution_count": 23,
   "metadata": {},
   "outputs": [
    {
     "data": {
      "text/plain": [
       "[]"
      ]
     },
     "execution_count": 23,
     "metadata": {},
     "output_type": "execute_result"
    }
   ],
   "source": [
    "checkDeltaStartImpMonotoneIncreasing(G2perms)"
   ]
  },
  {
   "cell_type": "code",
   "execution_count": 24,
   "metadata": {},
   "outputs": [
    {
     "data": {
      "text/plain": [
       "[]"
      ]
     },
     "execution_count": 24,
     "metadata": {},
     "output_type": "execute_result"
    }
   ],
   "source": [
    "checkMonotoneIncreasingImpDeltaStart(G2perms)"
   ]
  },
  {
   "cell_type": "code",
   "execution_count": 25,
   "metadata": {},
   "outputs": [],
   "source": [
    "for i in G2perms:\n",
    "   ex = i.checkConvexity()\n",
    "   if(len(ex) != 0):\n",
    "       print(\"Convexity doesn't hold\")"
   ]
  },
  {
   "cell_type": "code",
   "execution_count": 43,
   "metadata": {},
   "outputs": [
    {
     "name": "stdout",
     "output_type": "stream",
     "text": [
      "2<0<1\n",
      "0\n",
      " 2,2,1,0,2,1\n",
      " 2,2,1,2,1,0\n",
      "1\n",
      " 2,2,1,0,2,2,1,0,2,1,2,1\n",
      " 2,2,1,2,1,2,2,1,0,2,1,0\n",
      "2\n",
      " 2,2,1,0,2,2,1,0,2,1,2,2,1,0,2,1,2,1\n",
      " 2,2,1,2,1,2,2,1,0,2,1,2,2,1,0,2,1,0\n",
      "3\n",
      " 2,2,1,0,2,2,1,0,2,1,2,2,1,0,2,1,2,2,1,0,2,1,2,1\n",
      " 2,2,1,2,1,2,2,1,0,2,1,2,2,1,0,2,1,2,2,1,0,2,1,0\n",
      "4\n",
      " 2,2,1,0,2,2,1,0,2,1,2,2,1,0,2,1,2,2,1,0,2,1,2,2,1,0,2,1,2,1\n",
      " 2,2,1,2,1,2,2,1,0,2,1,2,2,1,0,2,1,2,2,1,0,2,1,2,2,1,0,2,1,0\n",
      "5\n",
      " 2,2,1,0,2,2,1,0,2,1,2,2,1,0,2,1,2,2,1,0,2,1,2,2,1,0,2,1,2,2,1,0,2,1,2,1\n",
      " 2,2,1,2,1,2,2,1,0,2,1,2,2,1,0,2,1,2,2,1,0,2,1,2,2,1,0,2,1,2,2,1,0,2,1,0\n"
     ]
    }
   ],
   "source": [
    "index = 4\n",
    "print(str(G2perms[index].ordering))\n",
    "\n",
    "printByBaseWord(G2perms[index],G2perms[0].delta)"
   ]
  },
  {
   "cell_type": "markdown",
   "metadata": {},
   "source": [
    "## Type B"
   ]
  },
  {
   "cell_type": "code",
   "execution_count": 31,
   "metadata": {},
   "outputs": [
    {
     "name": "stderr",
     "output_type": "stream",
     "text": [
      "  0% (0 of 120) |                        | Elapsed Time: 0:00:00 ETA:  --:--:--\n"
     ]
    },
    {
     "name": "stderr",
     "output_type": "stream",
     "text": [
      "  0% (1 of 120) |                        | Elapsed Time: 0:02:13 ETA:   4:25:18\n",
      "  1% (2 of 120) |                        | Elapsed Time: 0:02:14 ETA:   2:11:53\n",
      "  2% (3 of 120) |                        | Elapsed Time: 0:02:14 ETA:   1:27:24\n",
      "  3% (4 of 120) |                        | Elapsed Time: 0:02:14 ETA:   1:05:10\n",
      "  4% (5 of 120) |#                       | Elapsed Time: 0:02:15 ETA:   0:51:49\n",
      "  5% (6 of 120) |#                       | Elapsed Time: 0:02:15 ETA:   0:42:55\n",
      "  5% (7 of 120) |#                       | Elapsed Time: 0:02:15 ETA:   0:36:34\n",
      "  6% (8 of 120) |#                       | Elapsed Time: 0:02:16 ETA:   0:31:47\n",
      "  7% (9 of 120) |#                       | Elapsed Time: 0:02:16 ETA:   0:28:05\n",
      "  8% (10 of 120) |#                      | Elapsed Time: 0:02:16 ETA:   0:25:06\n",
      "  9% (11 of 120) |##                     | Elapsed Time: 0:02:17 ETA:   0:22:40\n",
      " 10% (12 of 120) |##                     | Elapsed Time: 0:02:17 ETA:   0:20:39\n",
      " 10% (13 of 120) |##                     | Elapsed Time: 0:02:18 ETA:   0:18:56\n",
      " 11% (14 of 120) |##                     | Elapsed Time: 0:02:18 ETA:   0:17:27\n",
      " 12% (15 of 120) |##                     | Elapsed Time: 0:02:18 ETA:   0:16:11\n",
      " 13% (16 of 120) |###                    | Elapsed Time: 0:02:19 ETA:   0:15:04\n",
      " 14% (17 of 120) |###                    | Elapsed Time: 0:02:19 ETA:   0:14:04\n",
      " 15% (18 of 120) |###                    | Elapsed Time: 0:02:19 ETA:   0:13:12\n",
      " 15% (19 of 120) |###                    | Elapsed Time: 0:02:20 ETA:   0:12:25\n",
      " 16% (20 of 120) |###                    | Elapsed Time: 0:02:20 ETA:   0:11:42\n",
      " 17% (21 of 120) |####                   | Elapsed Time: 0:02:20 ETA:   0:11:04\n",
      " 18% (22 of 120) |####                   | Elapsed Time: 0:02:21 ETA:   0:10:29\n",
      " 19% (23 of 120) |####                   | Elapsed Time: 0:02:21 ETA:   0:09:57\n",
      " 20% (24 of 120) |####                   | Elapsed Time: 0:02:21 ETA:   0:09:27\n",
      " 20% (25 of 120) |####                   | Elapsed Time: 0:02:22 ETA:   0:09:00\n",
      " 21% (26 of 120) |####                   | Elapsed Time: 0:02:22 ETA:   0:08:35\n",
      " 22% (27 of 120) |#####                  | Elapsed Time: 0:02:23 ETA:   0:08:12\n",
      " 23% (28 of 120) |#####                  | Elapsed Time: 0:02:23 ETA:   0:07:51\n",
      " 24% (29 of 120) |#####                  | Elapsed Time: 0:02:23 ETA:   0:07:31\n",
      " 25% (30 of 120) |#####                  | Elapsed Time: 0:02:24 ETA:   0:07:12\n",
      " 25% (31 of 120) |#####                  | Elapsed Time: 0:02:24 ETA:   0:06:54\n",
      " 26% (32 of 120) |######                 | Elapsed Time: 0:02:24 ETA:   0:06:37\n",
      " 27% (33 of 120) |######                 | Elapsed Time: 0:02:24 ETA:   0:06:21\n",
      " 28% (34 of 120) |######                 | Elapsed Time: 0:02:24 ETA:   0:06:06\n",
      " 29% (35 of 120) |######                 | Elapsed Time: 0:02:25 ETA:   0:05:52\n",
      " 30% (36 of 120) |######                 | Elapsed Time: 0:02:25 ETA:   0:05:39\n",
      " 30% (37 of 120) |#######                | Elapsed Time: 0:02:25 ETA:   0:05:26\n",
      " 31% (38 of 120) |#######                | Elapsed Time: 0:02:25 ETA:   0:05:14\n",
      " 32% (39 of 120) |#######                | Elapsed Time: 0:02:26 ETA:   0:05:03\n",
      " 33% (40 of 120) |#######                | Elapsed Time: 0:02:26 ETA:   0:04:52\n",
      " 34% (41 of 120) |#######                | Elapsed Time: 0:02:26 ETA:   0:04:42\n",
      " 35% (42 of 120) |########               | Elapsed Time: 0:02:26 ETA:   0:04:32\n",
      " 35% (43 of 120) |########               | Elapsed Time: 0:02:26 ETA:   0:04:22\n",
      " 36% (44 of 120) |########               | Elapsed Time: 0:02:27 ETA:   0:04:14\n",
      " 37% (45 of 120) |########               | Elapsed Time: 0:02:27 ETA:   0:04:05\n",
      " 38% (46 of 120) |########               | Elapsed Time: 0:02:27 ETA:   0:03:57\n",
      " 39% (47 of 120) |#########              | Elapsed Time: 0:02:27 ETA:   0:03:49\n",
      " 40% (48 of 120) |#########              | Elapsed Time: 0:02:27 ETA:   0:03:41\n",
      " 40% (49 of 120) |#########              | Elapsed Time: 0:02:28 ETA:   0:03:34\n",
      " 41% (50 of 120) |#########              | Elapsed Time: 0:02:28 ETA:   0:03:27\n",
      " 42% (51 of 120) |#########              | Elapsed Time: 0:02:28 ETA:   0:03:21\n",
      " 43% (52 of 120) |#########              | Elapsed Time: 0:02:28 ETA:   0:03:14\n",
      " 44% (53 of 120) |##########             | Elapsed Time: 0:02:29 ETA:   0:03:08\n",
      " 45% (54 of 120) |##########             | Elapsed Time: 0:02:29 ETA:   0:03:02\n",
      " 45% (55 of 120) |##########             | Elapsed Time: 0:02:29 ETA:   0:02:56\n",
      " 46% (56 of 120) |##########             | Elapsed Time: 0:02:29 ETA:   0:02:51\n",
      " 47% (57 of 120) |##########             | Elapsed Time: 0:02:29 ETA:   0:02:45\n",
      " 48% (58 of 120) |###########            | Elapsed Time: 0:02:30 ETA:   0:02:40\n",
      " 49% (59 of 120) |###########            | Elapsed Time: 0:02:30 ETA:   0:02:35\n",
      " 50% (60 of 120) |###########            | Elapsed Time: 0:02:30 ETA:   0:02:30\n",
      " 50% (61 of 120) |###########            | Elapsed Time: 0:02:30 ETA:   0:02:25\n",
      " 51% (62 of 120) |###########            | Elapsed Time: 0:02:30 ETA:   0:02:21\n",
      " 52% (63 of 120) |############           | Elapsed Time: 0:02:31 ETA:   0:02:16\n",
      " 53% (64 of 120) |############           | Elapsed Time: 0:02:31 ETA:   0:02:12\n",
      " 54% (65 of 120) |############           | Elapsed Time: 0:02:31 ETA:   0:02:08\n",
      " 55% (66 of 120) |############           | Elapsed Time: 0:02:31 ETA:   0:02:04\n",
      " 55% (67 of 120) |############           | Elapsed Time: 0:02:31 ETA:   0:02:00\n",
      " 56% (68 of 120) |#############          | Elapsed Time: 0:02:32 ETA:   0:01:56\n",
      " 57% (69 of 120) |#############          | Elapsed Time: 0:02:32 ETA:   0:01:52\n",
      " 58% (70 of 120) |#############          | Elapsed Time: 0:02:32 ETA:   0:01:48\n",
      " 59% (71 of 120) |#############          | Elapsed Time: 0:02:32 ETA:   0:01:45\n",
      " 60% (72 of 120) |#############          | Elapsed Time: 0:02:33 ETA:   0:01:42\n",
      " 60% (73 of 120) |#############          | Elapsed Time: 0:02:33 ETA:   0:01:38\n",
      " 61% (74 of 120) |##############         | Elapsed Time: 0:02:33 ETA:   0:01:35\n",
      " 62% (75 of 120) |##############         | Elapsed Time: 0:02:33 ETA:   0:01:32\n",
      " 63% (76 of 120) |##############         | Elapsed Time: 0:02:33 ETA:   0:01:29\n",
      " 64% (77 of 120) |##############         | Elapsed Time: 0:02:34 ETA:   0:01:26\n",
      " 65% (78 of 120) |##############         | Elapsed Time: 0:02:34 ETA:   0:01:23\n",
      " 65% (79 of 120) |###############        | Elapsed Time: 0:02:34 ETA:   0:01:20\n",
      " 66% (80 of 120) |###############        | Elapsed Time: 0:02:34 ETA:   0:01:17\n",
      " 67% (81 of 120) |###############        | Elapsed Time: 0:02:34 ETA:   0:01:14\n",
      " 68% (82 of 120) |###############        | Elapsed Time: 0:02:35 ETA:   0:01:11\n",
      " 69% (83 of 120) |###############        | Elapsed Time: 0:02:35 ETA:   0:01:09\n",
      " 70% (84 of 120) |################       | Elapsed Time: 0:02:35 ETA:   0:01:06\n",
      " 70% (85 of 120) |################       | Elapsed Time: 0:02:35 ETA:   0:01:04\n",
      " 71% (86 of 120) |################       | Elapsed Time: 0:02:35 ETA:   0:01:01\n",
      " 72% (87 of 120) |################       | Elapsed Time: 0:02:36 ETA:   0:00:59\n",
      " 73% (88 of 120) |################       | Elapsed Time: 0:02:36 ETA:   0:00:56\n",
      " 74% (89 of 120) |#################      | Elapsed Time: 0:02:36 ETA:   0:00:54\n",
      " 75% (90 of 120) |#################      | Elapsed Time: 0:02:36 ETA:   0:00:52\n",
      " 75% (91 of 120) |#################      | Elapsed Time: 0:02:36 ETA:   0:00:50\n",
      " 76% (92 of 120) |#################      | Elapsed Time: 0:02:37 ETA:   0:00:47\n",
      " 77% (93 of 120) |#################      | Elapsed Time: 0:02:37 ETA:   0:00:45\n",
      " 78% (94 of 120) |##################     | Elapsed Time: 0:02:37 ETA:   0:00:43\n",
      " 79% (95 of 120) |##################     | Elapsed Time: 0:02:37 ETA:   0:00:41\n",
      " 80% (96 of 120) |##################     | Elapsed Time: 0:02:38 ETA:   0:00:39\n",
      " 80% (97 of 120) |##################     | Elapsed Time: 0:02:38 ETA:   0:00:37\n",
      " 81% (98 of 120) |##################     | Elapsed Time: 0:02:38 ETA:   0:00:35\n",
      " 82% (99 of 120) |##################     | Elapsed Time: 0:02:38 ETA:   0:00:33\n",
      " 83% (100 of 120) |##################    | Elapsed Time: 0:02:38 ETA:   0:00:31\n",
      " 84% (101 of 120) |##################    | Elapsed Time: 0:02:39 ETA:   0:00:29\n",
      " 85% (102 of 120) |##################    | Elapsed Time: 0:02:39 ETA:   0:00:28\n",
      " 85% (103 of 120) |##################    | Elapsed Time: 0:02:39 ETA:   0:00:26\n",
      " 86% (104 of 120) |###################   | Elapsed Time: 0:02:39 ETA:   0:00:24\n",
      " 87% (105 of 120) |###################   | Elapsed Time: 0:02:39 ETA:   0:00:22\n",
      " 88% (106 of 120) |###################   | Elapsed Time: 0:02:40 ETA:   0:00:21\n",
      " 89% (107 of 120) |###################   | Elapsed Time: 0:02:40 ETA:   0:00:19\n",
      " 90% (108 of 120) |###################   | Elapsed Time: 0:02:40 ETA:   0:00:17\n",
      " 90% (109 of 120) |###################   | Elapsed Time: 0:02:40 ETA:   0:00:16\n",
      " 91% (110 of 120) |####################  | Elapsed Time: 0:02:40 ETA:   0:00:14\n",
      " 92% (111 of 120) |####################  | Elapsed Time: 0:02:41 ETA:   0:00:13\n",
      " 93% (112 of 120) |####################  | Elapsed Time: 0:02:41 ETA:   0:00:11\n",
      " 94% (113 of 120) |####################  | Elapsed Time: 0:02:41 ETA:   0:00:10\n",
      " 95% (114 of 120) |####################  | Elapsed Time: 0:02:41 ETA:   0:00:08\n",
      " 95% (115 of 120) |##################### | Elapsed Time: 0:02:41 ETA:   0:00:07\n",
      " 96% (116 of 120) |##################### | Elapsed Time: 0:02:42 ETA:   0:00:05\n",
      " 97% (117 of 120) |##################### | Elapsed Time: 0:02:42 ETA:   0:00:04\n",
      " 98% (118 of 120) |##################### | Elapsed Time: 0:02:42 ETA:   0:00:02\n",
      " 99% (119 of 120) |##################### | Elapsed Time: 0:02:42 ETA:   0:00:01\n",
      "100% (120 of 120) |######################| Elapsed Time: 0:02:43 Time:  0:02:43\n"
     ]
    }
   ],
   "source": [
    "Bperms = genPermutations('B',4,3)"
   ]
  },
  {
   "cell_type": "code",
   "execution_count": 8,
   "metadata": {},
   "outputs": [
    {
     "data": {
      "text/plain": [
       "[]"
      ]
     },
     "execution_count": 8,
     "metadata": {},
     "output_type": "execute_result"
    }
   ],
   "source": [
    "checkDeltaStartImpMonotoneIncreasing(Bperms)"
   ]
  },
  {
   "cell_type": "code",
   "execution_count": 9,
   "metadata": {},
   "outputs": [
    {
     "data": {
      "text/plain": [
       "[]"
      ]
     },
     "execution_count": 9,
     "metadata": {},
     "output_type": "execute_result"
    }
   ],
   "source": [
    "checkMonotoneIncreasingImpDeltaStart(Bperms)"
   ]
  },
  {
   "cell_type": "code",
   "execution_count": 11,
   "metadata": {},
   "outputs": [],
   "source": [
    "for i in Bperms:\n",
    "   ex = i.checkConvexity()\n",
    "   if(len(ex) != 0):\n",
    "       print(\"Convexity doesn't hold\")"
   ]
  },
  {
   "cell_type": "code",
   "execution_count": 30,
   "metadata": {},
   "outputs": [
    {
     "name": "stdout",
     "output_type": "stream",
     "text": [
      "3<2<1<0<4\n",
      "0\n",
      " 3,4,2,1,3,4,2,0\n",
      " 3,4,2,3,4,2,0,1\n",
      " 3,4,3,4,2,0,1,2\n",
      " 3,2,0,1,2,3,4,4\n",
      "1\n",
      " 3,4,2,1,3,4,2,1,3,4,2,0,3,4,2,0\n",
      " 3,4,2,3,4,2,0,3,4,2,1,3,4,2,0,1\n",
      " 3,4,3,4,2,0,1,3,4,2,3,4,2,0,1,2\n",
      " 3,2,0,1,2,3,4,3,4,2,0,1,2,3,4,4\n",
      "2\n",
      " 3,4,2,1,3,4,2,1,3,4,2,0,3,4,2,1,3,4,2,0,3,4,2,0\n",
      " 3,4,2,3,4,2,0,3,4,2,1,3,4,2,0,3,4,2,1,3,4,2,0,1\n",
      " 3,4,3,4,2,0,1,3,4,2,3,4,2,0,1,3,4,2,3,4,2,0,1,2\n",
      " 3,2,0,1,2,3,4,3,4,2,0,1,2,3,4,3,4,2,0,1,2,3,4,4\n",
      "3\n",
      " 3,4,2,1,3,4,2,1,3,4,2,0,3,4,2,1,3,4,2,0,3,4,2,1,3,4,2,0,3,4,2,0\n",
      " 3,4,2,3,4,2,0,3,4,2,1,3,4,2,0,3,4,2,1,3,4,2,0,3,4,2,1,3,4,2,0,1\n",
      " 3,4,3,4,2,0,1,3,4,2,3,4,2,0,1,3,4,2,3,4,2,0,1,3,4,2,3,4,2,0,1,2\n",
      " 3,2,0,1,2,3,4,3,4,2,0,1,2,3,4,3,4,2,0,1,2,3,4,3,4,2,0,1,2,3,4,4\n"
     ]
    }
   ],
   "source": [
    "randomRootsys = np.random.choice(Bperms)\n",
    "print(str(randomRootsys.ordering))\n",
    "printByBaseWord(randomRootsys,randomRootsys.delta)"
   ]
  },
  {
   "cell_type": "code",
   "execution_count": 29,
   "metadata": {},
   "outputs": [
    {
     "data": {
      "text/plain": [
       "['[1 1 1 0 0]', '[0 0 0 1 0]', '[1 2 2 2 0]', '[0 0 1 0 0]']"
      ]
     },
     "execution_count": 29,
     "metadata": {},
     "output_type": "execute_result"
    }
   ],
   "source": [
    "[str(i.hs) for i in randomRootsys.getWords(randomRootsys.delta)]"
   ]
  }
 ],
 "metadata": {
  "kernelspec": {
   "display_name": "Python 3",
   "language": "python",
   "name": "python3"
  },
  "language_info": {
   "codemirror_mode": {
    "name": "ipython",
    "version": 3
   },
   "file_extension": ".py",
   "mimetype": "text/x-python",
   "name": "python",
   "nbconvert_exporter": "python",
   "pygments_lexer": "ipython3",
   "version": "3.11.0"
  }
 },
 "nbformat": 4,
 "nbformat_minor": 2
}
