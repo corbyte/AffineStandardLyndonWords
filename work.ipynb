{
 "cells": [
  {
   "cell_type": "markdown",
   "metadata": {},
   "source": [
    "## Functions"
   ]
  },
  {
   "cell_type": "code",
   "execution_count": 1,
   "metadata": {},
   "outputs": [],
   "source": [
    "import LyndonWords\n",
    "import importlib\n",
    "import AnalysisFuncs\n",
    "importlib.reload(LyndonWords)\n",
    "importlib.reload(AnalysisFuncs)\n",
    "from AnalysisFuncs import *\n",
    "from LyndonWords import *\n",
    "import itertools\n",
    "from functools import partial\n",
    "import multiprocessing as mp\n",
    "from tqdm.notebook import tqdm\n",
    "import math\n",
    "import numpy as np\n",
    "def gen_permutations(type,n):\n",
    "    for perm in itertools.permutations(np.array(range(n+1))):\n",
    "        yield rootSystem(perm,type)"
   ]
  },
  {
   "cell_type": "markdown",
   "metadata": {},
   "source": [
    "### Monotonicity Stuff"
   ]
  },
  {
   "cell_type": "code",
   "execution_count": 2,
   "metadata": {},
   "outputs": [],
   "source": [
    "def monotonicity_conj(rootsys:rootSystem,wordToCheck:word):\n",
    "    wordPlusDelta = rootsys.get_words(wordToCheck.weights + wordToCheck.delta)[0]\n",
    "    parsedFormat = rootsys.parse_to_delta_format(wordPlusDelta)\n",
    "    if(type(parsedFormat[0]) is list):\n",
    "        return True\n",
    "    return False\n",
    "#TODO: Updated bases on new claim on monotonicity\n",
    "def check_monotone_increasing_imp_cond(rootSystemPermutations):\n",
    "    rootsys:rootSystem\n",
    "    for rootsys in rootSystemPermutations:\n",
    "        returnArr = []\n",
    "        deltaWords = rootsys.get_words(rootsys.delta)\n",
    "        temp = rootsys.check_monotonicity(\"Increasing\")\n",
    "        monotoneIncreasing = [rootsys.get_words(i[0] + rootsys.delta)[0] for i in temp]\n",
    "        for i in monotoneIncreasing:\n",
    "            flag = False\n",
    "            for j in deltaWords:\n",
    "                if(not str(i).startswith(str(j)) and (i.weights - rootsys.delta)[rootsys.ordering[0].rootIndex] > 0):\n",
    "                    flag = True\n",
    "                    break\n",
    "            if(flag):\n",
    "                continue\n",
    "            returnArr.append((str(rootsys.ordering),(i.weights - rootsys.delta)))\n",
    "    return returnArr"
   ]
  },
  {
   "cell_type": "code",
   "execution_count": 3,
   "metadata": {},
   "outputs": [],
   "source": [
    "def check_cond_imp_monotone_increasing(rootSystemPermutations):\n",
    "    returnArr = []\n",
    "    rootsys:rootSystem\n",
    "    for rootsys in rootSystemPermutations:\n",
    "        deltaWords = rootsys.get_words(rootsys.delta)\n",
    "        deltaArrays = [i.string for i in deltaWords]\n",
    "        for base in rootsys.baseWeights[:-1]:\n",
    "            secondWord = rootsys.get_words(base + rootsys.delta)[0]\n",
    "            if(base[rootsys.ordering[0].rootIndex] == 0):\n",
    "                continue\n",
    "            deltaStart = False\n",
    "            for i in deltaArrays:\n",
    "                if(np.all(secondWord[:rootsys.deltaHeight] == i)):\n",
    "                    deltaStart = True\n",
    "                    break\n",
    "            if deltaStart:\n",
    "                continue\n",
    "            if(rootsys.get_monotonicity(base) != 1):\n",
    "                returnArr.append((str(rootsys.ordering),str(rootsys.get_words(base)[0])))\n",
    "    return returnArr"
   ]
  },
  {
   "cell_type": "markdown",
   "metadata": {},
   "source": [
    "### Printing and Exporting"
   ]
  },
  {
   "cell_type": "code",
   "execution_count": 4,
   "metadata": {},
   "outputs": [],
   "source": [
    "def print_by_length(rootSystem:rootSystem):\n",
    "    len = 0\n",
    "    for k in range(rootSystem.k + 1):\n",
    "        for i in rootSystem.baseWeights:\n",
    "            comb = i + rootSystem.delta * k\n",
    "            if(sum(comb) != len):\n",
    "                len = sum(comb)\n",
    "                print(len)\n",
    "            for i in rootSystem.get_words(comb):\n",
    "                print(\" \"+str(i))"
   ]
  },
  {
   "cell_type": "code",
   "execution_count": 5,
   "metadata": {},
   "outputs": [],
   "source": [
    "def print_by_base_word(rootSystem:rootSystem,comb):\n",
    "    k=0\n",
    "    is_imaginary = rootSystem.is_imaginary(comb)\n",
    "    for i in rootSystem.get_affine_words(comb):\n",
    "        if(is_imaginary and k % rootSystem.n == 0):\n",
    "            print(k //rootSystem.n)\n",
    "        if(not is_imaginary):\n",
    "            print(k)\n",
    "        print(\" \" + str(i))\n",
    "        k+=1"
   ]
  },
  {
   "cell_type": "code",
   "execution_count": 6,
   "metadata": {},
   "outputs": [],
   "source": [
    "def export_by_length(rootsys:rootSystem,quoteMarks=False):\n",
    "    file = open(\"out.txt\",'w')\n",
    "    file.write(str(rootsys.ordering)+\"\\n\")\n",
    "    for k in range(rootsys.k + 1):\n",
    "        for i in rootsys.baseWeights:\n",
    "            comb = i + rootsys.delta * k\n",
    "            for i in rootsys.get_words(comb):\n",
    "                if(quoteMarks):\n",
    "                    file.write(f\"'{str(i)}',\")\n",
    "                else:\n",
    "                    file.write(str(i) + '\\n')\n",
    "    file.close()"
   ]
  },
  {
   "cell_type": "markdown",
   "metadata": {},
   "source": [
    "### Delta Pattern Detection"
   ]
  },
  {
   "cell_type": "code",
   "execution_count": 7,
   "metadata": {},
   "outputs": [],
   "source": [
    "def write_delta_types_to_file(rootSystems,file=\"out.txt\",total=0,notOnlyAllLast=True):\n",
    "    fileobj = open(file,'w')\n",
    "    fileobj.write(\"imaginary index, bracketing, splitting type, inserted imaginary index, left factor, right factor\\n\")\n",
    "    deltaTypesCol:deltaTypesCollection\n",
    "    first:rootSystem\n",
    "    if(total == 0):\n",
    "        first = next(rootSystems)\n",
    "        total = math.factorial(first.n+1)-1\n",
    "        deltaTypesCol = generate_delta_types(first)\n",
    "        if(notOnlyAllLast):\n",
    "            if(deltaTypesCol.not_all_last()):\n",
    "                fileobj.write(deltaTypesCol.to_csv())\n",
    "    with mp.Pool() as p:\n",
    "        for deltaTypesCol in tqdm(p.imap_unordered(generate_delta_types,rootSystems),total=total):\n",
    "            if(notOnlyAllLast):\n",
    "                if(not deltaTypesCol.not_all_last()):\n",
    "                    continue\n",
    "            fileobj.write(deltaTypesCol.to_csv())\n",
    "    fileobj.close()"
   ]
  },
  {
   "cell_type": "code",
   "execution_count": null,
   "metadata": {},
   "outputs": [],
   "source": [
    "def check_standard_fac_same_parrallel(rootSystems,total=0,k=2):\n",
    "    results = []\n",
    "    if(total == 0):\n",
    "        first = next(rootSystems)\n",
    "        total = math.factorial(first.n+1)-1\n",
    "        result = check_standard_fac_same(first)\n",
    "        if(result != True):\n",
    "            yield result\n",
    "    with mp.Pool() as p:\n",
    "        for result in tqdm(p.imap_unordered(partial(check_standard_fac_same,k=k),rootSystems,chunksize=5),total=total):\n",
    "            if(result != True):\n",
    "                yield result\n",
    "    return results"
   ]
  },
  {
   "cell_type": "markdown",
   "metadata": {},
   "source": [
    "### SL Word Algorithm"
   ]
  },
  {
   "cell_type": "code",
   "execution_count": 9,
   "metadata": {},
   "outputs": [],
   "source": [
    "def check_SL_word_algo_perms(rootsyss,k,equal=False):\n",
    "    for rootsys in rootsyss:\n",
    "        for exc in check_SL_word_algo(rootsys,k,equal):\n",
    "            yield (str(rootsys.ordering),exc,rootsys.parse_to_delta_format(rootsys.get_words(exc)[0]),rootsys.parse_to_delta_format(rootsys.SL_word_algo(exc)))\n",
    "def check_SL_word_algo(rootsys:rootSystem,k,equal=False):\n",
    "    for kprime in range(k):\n",
    "        for baseWeight in rootsys.baseWeights[:-1]:\n",
    "            weight = baseWeight + kprime*rootsys.delta\n",
    "            if(equal):\n",
    "                if(word.letter_list_cmp(rootsys.get_words(weight)[0].string,rootsys.SL_word_algo(weight).string) != 0):\n",
    "                    yield weight\n",
    "            else:\n",
    "                if(word.letter_list_cmp(rootsys.get_words(weight)[0].string,rootsys.SL_word_algo(weight).string) > 0):\n",
    "                    yield weight "
   ]
  },
  {
   "cell_type": "markdown",
   "metadata": {},
   "source": [
    "### Imaginary Words Stuff"
   ]
  },
  {
   "cell_type": "code",
   "execution_count": 10,
   "metadata": {},
   "outputs": [],
   "source": [
    "def check_h_deltas_repeat(perms):\n",
    "    excepts = []\n",
    "    i:rootSystem\n",
    "    for i in perms:\n",
    "        hs = [j.hs for j in i.get_affine_words(i.delta)]\n",
    "        bases = hs[i.n:2*i.n]\n",
    "        for offset in range(0,i.n):\n",
    "            for k in range(2,len(hs)//i.n):\n",
    "                if(np.any(bases[offset] != hs[offset + k*i.n])):\n",
    "                    excepts.append((str(i.ordering),f\"SL_{offset+1}({k}\\delta)\"))\n",
    "    return excepts"
   ]
  },
  {
   "cell_type": "code",
   "execution_count": 11,
   "metadata": {},
   "outputs": [],
   "source": [
    "def check_one_smallest_last(perms):\n",
    "    rootsys:rootSystem\n",
    "    for rootsys in perms:\n",
    "        if(rootsys.delta[rootsys.ordering[0].rootIndex] == 1):\n",
    "            if(rootsys.get_words(rootsys.delta)[0][-1].rootIndex != rootsys.ordering[1].rootIndex):\n",
    "                yield (str(rootsys.ordering),rootsys.get_words(rootsys.delta)[0].noCommas(),rootsys.ordering[1].rootIndex)"
   ]
  },
  {
   "cell_type": "markdown",
   "metadata": {},
   "source": [
    "### Rootsystem equivalences"
   ]
  },
  {
   "cell_type": "code",
   "execution_count": 12,
   "metadata": {},
   "outputs": [],
   "source": [
    "def compare_rootsystems(r1,r2):\n",
    "    words = list(r1.weightToWordDictionary.values())\n",
    "    for i in words:\n",
    "        for j in range(len(i)):\n",
    "            if(str(i[j]) != str(r2.get_words(i[j].weights)[j])):\n",
    "                yield (i[j].weights,str(i[j]),str(r2.get_words(i[j].weights)[j]))"
   ]
  },
  {
   "cell_type": "code",
   "execution_count": 13,
   "metadata": {},
   "outputs": [],
   "source": [
    "def generate_equivalences(permutations):\n",
    "    equivalences = np.arange(len(permutations))\n",
    "    for i in range(len(permutations)):\n",
    "        for j in range(0,i):\n",
    "            if(equivalences[j] != j):\n",
    "                continue\n",
    "            flag = False\n",
    "            for k in compare_rootsystems(permutations[i],permutations[j]):\n",
    "                flag =True\n",
    "                break\n",
    "            if(not flag):\n",
    "                yield (permutations[i].ordering,permutations[j].ordering)"
   ]
  },
  {
   "cell_type": "markdown",
   "metadata": {},
   "source": [
    "### Periodicity"
   ]
  },
  {
   "cell_type": "code",
   "execution_count": 14,
   "metadata": {},
   "outputs": [],
   "source": [
    "def get_max_periodicity(rootSystems,total=0):\n",
    "    max = 0\n",
    "    maxOrdering = \"\"\n",
    "    maxRoot = []\n",
    "    rootsys:rootSystem\n",
    "    with mp.Pool() as p:\n",
    "        for result in tqdm(p.imap_unordered(max_periodicity_rootSystem,rootSystems),total=total):\n",
    "            if(result.periodicity > max):\n",
    "                max = result.periodicity\n",
    "                maxOrdering = result.ordering\n",
    "                maxRoot= result.maxRoot\n",
    "    return (max,maxOrdering,maxRoot)"
   ]
  },
  {
   "cell_type": "code",
   "execution_count": 15,
   "metadata": {},
   "outputs": [],
   "source": [
    "def periodicity_conj(rootsys:rootSystem,deltas, weights) -> int:\n",
    "    if(weights[rootsys.ordering[0].rootIndex] != 0):\n",
    "        return 1\n",
    "    for d in deltas:\n",
    "        hs = rootsys.cartan_matrix @ d.hs\n",
    "        f = False   \n",
    "        for v in range(len(weights)):\n",
    "            if(v == 0 and weights[v] > 0):\n",
    "                if(np.dot(rootsys.delta[1:],hs) != 0):\n",
    "                    f=True\n",
    "                    break\n",
    "            else:\n",
    "                if(weights[v] > 0 and hs[v-1] != 0):\n",
    "                    f=True\n",
    "                    break\n",
    "        if(f):\n",
    "            break\n",
    "    s = 0\n",
    "    for v in range(len(weights)):\n",
    "            if(v == 0 and weights[v] > 0):\n",
    "                if(np.dot(rootsys.delta[1:],hs) != 0):\n",
    "                    s+=1\n",
    "            else:\n",
    "                if(weights[v] > 0 and hs[v-1] != 0):\n",
    "                    s+=weights[v]\n",
    "    return s"
   ]
  },
  {
   "cell_type": "code",
   "execution_count": 16,
   "metadata": {},
   "outputs": [],
   "source": [
    "def periodicity_conj_root(rootsys:rootSystem, weights) :\n",
    "    return periodicity_conj(rootsys,rootsys.get_words(rootsys.delta),weights)"
   ]
  },
  {
   "cell_type": "code",
   "execution_count": 17,
   "metadata": {},
   "outputs": [],
   "source": [
    "def check_periodicity_conj_rootsystem(rootsys:rootSystem):\n",
    "    if(rootsys.delta[rootsys.ordering[0].rootIndex] == 1):\n",
    "        for l in rootsys.baseWeights[:-1]:\n",
    "            if(l[rootsys.ordering[0].rootIndex] == 0):\n",
    "                period = rootsys.get_periodicity(l)\n",
    "                conjperiod = periodicity_conj_root(rootsys,l)\n",
    "                if(period != conjperiod):\n",
    "                    yield (str(rootsys.ordering),l,period,conjperiod)"
   ]
  },
  {
   "cell_type": "code",
   "execution_count": 18,
   "metadata": {},
   "outputs": [],
   "source": [
    "def check_periodicity_conj_perms(perms):\n",
    "    for p in perms:\n",
    "        yield check_periodicity_conj_rootsystem(p)"
   ]
  },
  {
   "cell_type": "code",
   "execution_count": 19,
   "metadata": {},
   "outputs": [],
   "source": [
    "B4 = rootSystem([1,3,4,0,2],'B')\n",
    "B4.generate_up_to_delta(4)"
   ]
  },
  {
   "cell_type": "markdown",
   "metadata": {},
   "source": [
    "## Type A"
   ]
  },
  {
   "cell_type": "code",
   "execution_count": 136,
   "metadata": {},
   "outputs": [],
   "source": [
    "Aperms = list(gen_permutations('A',5))"
   ]
  },
  {
   "cell_type": "code",
   "execution_count": 137,
   "metadata": {},
   "outputs": [
    {
     "data": {
      "text/plain": [
       "1"
      ]
     },
     "execution_count": 137,
     "metadata": {},
     "output_type": "execute_result"
    }
   ],
   "source": [
    "periodicity_conj_root(rootSystem([0,1,2,3,4],'A'),[0,0,1,0,0])"
   ]
  },
  {
   "cell_type": "code",
   "execution_count": 138,
   "metadata": {},
   "outputs": [
    {
     "name": "stdout",
     "output_type": "stream",
     "text": [
      "<generator object check_periodicity_conj_rootsystem at 0x0000027390361990>\n",
      "<generator object check_periodicity_conj_rootsystem at 0x0000027390363E20>\n",
      "<generator object check_periodicity_conj_rootsystem at 0x0000027390361990>\n",
      "<generator object check_periodicity_conj_rootsystem at 0x0000027390363E20>\n",
      "<generator object check_periodicity_conj_rootsystem at 0x0000027390361990>\n",
      "<generator object check_periodicity_conj_rootsystem at 0x0000027390363E20>\n",
      "<generator object check_periodicity_conj_rootsystem at 0x0000027390361990>\n",
      "<generator object check_periodicity_conj_rootsystem at 0x0000027390363E20>\n",
      "<generator object check_periodicity_conj_rootsystem at 0x0000027390361990>\n",
      "<generator object check_periodicity_conj_rootsystem at 0x0000027390363E20>\n",
      "<generator object check_periodicity_conj_rootsystem at 0x0000027390361990>\n",
      "<generator object check_periodicity_conj_rootsystem at 0x0000027390363E20>\n",
      "<generator object check_periodicity_conj_rootsystem at 0x0000027390361990>\n",
      "<generator object check_periodicity_conj_rootsystem at 0x0000027390363E20>\n",
      "<generator object check_periodicity_conj_rootsystem at 0x0000027390361990>\n",
      "<generator object check_periodicity_conj_rootsystem at 0x0000027390363E20>\n",
      "<generator object check_periodicity_conj_rootsystem at 0x0000027390361990>\n",
      "<generator object check_periodicity_conj_rootsystem at 0x0000027390363E20>\n",
      "<generator object check_periodicity_conj_rootsystem at 0x0000027390361990>\n",
      "<generator object check_periodicity_conj_rootsystem at 0x0000027390363E20>\n",
      "<generator object check_periodicity_conj_rootsystem at 0x0000027390361990>\n",
      "<generator object check_periodicity_conj_rootsystem at 0x0000027390363E20>\n",
      "<generator object check_periodicity_conj_rootsystem at 0x0000027390361990>\n",
      "<generator object check_periodicity_conj_rootsystem at 0x0000027390363E20>\n",
      "<generator object check_periodicity_conj_rootsystem at 0x0000027390361990>\n",
      "<generator object check_periodicity_conj_rootsystem at 0x0000027390363E20>\n",
      "<generator object check_periodicity_conj_rootsystem at 0x0000027390361990>\n",
      "<generator object check_periodicity_conj_rootsystem at 0x0000027390363E20>\n",
      "<generator object check_periodicity_conj_rootsystem at 0x0000027390361990>\n",
      "<generator object check_periodicity_conj_rootsystem at 0x0000027390363E20>\n",
      "<generator object check_periodicity_conj_rootsystem at 0x0000027390361990>\n",
      "<generator object check_periodicity_conj_rootsystem at 0x0000027390363E20>\n",
      "<generator object check_periodicity_conj_rootsystem at 0x0000027390361990>\n",
      "<generator object check_periodicity_conj_rootsystem at 0x0000027390363E20>\n",
      "<generator object check_periodicity_conj_rootsystem at 0x0000027390361990>\n",
      "<generator object check_periodicity_conj_rootsystem at 0x0000027390363E20>\n",
      "<generator object check_periodicity_conj_rootsystem at 0x0000027390361990>\n",
      "<generator object check_periodicity_conj_rootsystem at 0x0000027390363E20>\n",
      "<generator object check_periodicity_conj_rootsystem at 0x0000027390361990>\n",
      "<generator object check_periodicity_conj_rootsystem at 0x0000027390363E20>\n",
      "<generator object check_periodicity_conj_rootsystem at 0x0000027390361990>\n",
      "<generator object check_periodicity_conj_rootsystem at 0x0000027390363E20>\n",
      "<generator object check_periodicity_conj_rootsystem at 0x0000027390361990>\n",
      "<generator object check_periodicity_conj_rootsystem at 0x0000027390363E20>\n",
      "<generator object check_periodicity_conj_rootsystem at 0x0000027390361990>\n",
      "<generator object check_periodicity_conj_rootsystem at 0x0000027390363E20>\n",
      "<generator object check_periodicity_conj_rootsystem at 0x0000027390361990>\n",
      "<generator object check_periodicity_conj_rootsystem at 0x0000027390363E20>\n",
      "<generator object check_periodicity_conj_rootsystem at 0x0000027390361990>\n",
      "<generator object check_periodicity_conj_rootsystem at 0x0000027390363E20>\n",
      "<generator object check_periodicity_conj_rootsystem at 0x0000027390361990>\n",
      "<generator object check_periodicity_conj_rootsystem at 0x0000027390363E20>\n",
      "<generator object check_periodicity_conj_rootsystem at 0x0000027390361990>\n",
      "<generator object check_periodicity_conj_rootsystem at 0x0000027390363E20>\n",
      "<generator object check_periodicity_conj_rootsystem at 0x0000027390361990>\n",
      "<generator object check_periodicity_conj_rootsystem at 0x0000027390363E20>\n",
      "<generator object check_periodicity_conj_rootsystem at 0x0000027390361990>\n",
      "<generator object check_periodicity_conj_rootsystem at 0x0000027390363E20>\n",
      "<generator object check_periodicity_conj_rootsystem at 0x0000027390361990>\n",
      "<generator object check_periodicity_conj_rootsystem at 0x0000027390363E20>\n",
      "<generator object check_periodicity_conj_rootsystem at 0x0000027390361990>\n",
      "<generator object check_periodicity_conj_rootsystem at 0x0000027390363E20>\n",
      "<generator object check_periodicity_conj_rootsystem at 0x0000027390361990>\n",
      "<generator object check_periodicity_conj_rootsystem at 0x0000027390363E20>\n",
      "<generator object check_periodicity_conj_rootsystem at 0x0000027390361990>\n",
      "<generator object check_periodicity_conj_rootsystem at 0x0000027390363E20>\n",
      "<generator object check_periodicity_conj_rootsystem at 0x0000027390361990>\n",
      "<generator object check_periodicity_conj_rootsystem at 0x0000027390363E20>\n",
      "<generator object check_periodicity_conj_rootsystem at 0x0000027390361990>\n",
      "<generator object check_periodicity_conj_rootsystem at 0x0000027390363E20>\n",
      "<generator object check_periodicity_conj_rootsystem at 0x0000027390361990>\n",
      "<generator object check_periodicity_conj_rootsystem at 0x0000027390363E20>\n",
      "<generator object check_periodicity_conj_rootsystem at 0x0000027390361990>\n",
      "<generator object check_periodicity_conj_rootsystem at 0x0000027390363E20>\n",
      "<generator object check_periodicity_conj_rootsystem at 0x0000027390361990>\n",
      "<generator object check_periodicity_conj_rootsystem at 0x0000027390363E20>\n",
      "<generator object check_periodicity_conj_rootsystem at 0x0000027390361990>\n",
      "<generator object check_periodicity_conj_rootsystem at 0x0000027390363E20>\n",
      "<generator object check_periodicity_conj_rootsystem at 0x0000027390361990>\n",
      "<generator object check_periodicity_conj_rootsystem at 0x0000027390363E20>\n",
      "<generator object check_periodicity_conj_rootsystem at 0x0000027390361990>\n",
      "<generator object check_periodicity_conj_rootsystem at 0x0000027390363E20>\n",
      "<generator object check_periodicity_conj_rootsystem at 0x0000027390361990>\n",
      "<generator object check_periodicity_conj_rootsystem at 0x0000027390363E20>\n",
      "<generator object check_periodicity_conj_rootsystem at 0x0000027390361990>\n",
      "<generator object check_periodicity_conj_rootsystem at 0x0000027390363E20>\n",
      "<generator object check_periodicity_conj_rootsystem at 0x0000027390361990>\n",
      "<generator object check_periodicity_conj_rootsystem at 0x0000027390363E20>\n",
      "<generator object check_periodicity_conj_rootsystem at 0x0000027390361990>\n",
      "<generator object check_periodicity_conj_rootsystem at 0x0000027390363E20>\n",
      "<generator object check_periodicity_conj_rootsystem at 0x0000027390361990>\n",
      "<generator object check_periodicity_conj_rootsystem at 0x0000027390363E20>\n",
      "<generator object check_periodicity_conj_rootsystem at 0x0000027390361990>\n",
      "<generator object check_periodicity_conj_rootsystem at 0x0000027390363E20>\n",
      "<generator object check_periodicity_conj_rootsystem at 0x0000027390361990>\n",
      "<generator object check_periodicity_conj_rootsystem at 0x0000027390363E20>\n",
      "<generator object check_periodicity_conj_rootsystem at 0x0000027390361990>\n",
      "<generator object check_periodicity_conj_rootsystem at 0x0000027390363E20>\n",
      "<generator object check_periodicity_conj_rootsystem at 0x0000027390361990>\n",
      "<generator object check_periodicity_conj_rootsystem at 0x0000027390363E20>\n",
      "<generator object check_periodicity_conj_rootsystem at 0x0000027390361990>\n",
      "<generator object check_periodicity_conj_rootsystem at 0x0000027390363E20>\n",
      "<generator object check_periodicity_conj_rootsystem at 0x0000027390361990>\n",
      "<generator object check_periodicity_conj_rootsystem at 0x0000027390363E20>\n",
      "<generator object check_periodicity_conj_rootsystem at 0x0000027390361990>\n",
      "<generator object check_periodicity_conj_rootsystem at 0x0000027390363E20>\n",
      "<generator object check_periodicity_conj_rootsystem at 0x0000027390361990>\n",
      "<generator object check_periodicity_conj_rootsystem at 0x0000027390363E20>\n",
      "<generator object check_periodicity_conj_rootsystem at 0x0000027390361990>\n",
      "<generator object check_periodicity_conj_rootsystem at 0x0000027390363E20>\n",
      "<generator object check_periodicity_conj_rootsystem at 0x0000027390361990>\n",
      "<generator object check_periodicity_conj_rootsystem at 0x0000027390363E20>\n",
      "<generator object check_periodicity_conj_rootsystem at 0x0000027390361990>\n",
      "<generator object check_periodicity_conj_rootsystem at 0x0000027390363E20>\n",
      "<generator object check_periodicity_conj_rootsystem at 0x0000027390361990>\n",
      "<generator object check_periodicity_conj_rootsystem at 0x0000027390363E20>\n",
      "<generator object check_periodicity_conj_rootsystem at 0x0000027390361990>\n",
      "<generator object check_periodicity_conj_rootsystem at 0x0000027390363E20>\n",
      "<generator object check_periodicity_conj_rootsystem at 0x0000027390361990>\n",
      "<generator object check_periodicity_conj_rootsystem at 0x0000027390363E20>\n",
      "<generator object check_periodicity_conj_rootsystem at 0x0000027390361990>\n",
      "<generator object check_periodicity_conj_rootsystem at 0x0000027390363E20>\n",
      "<generator object check_periodicity_conj_rootsystem at 0x0000027390361990>\n",
      "<generator object check_periodicity_conj_rootsystem at 0x0000027390363E20>\n",
      "<generator object check_periodicity_conj_rootsystem at 0x0000027390361990>\n",
      "<generator object check_periodicity_conj_rootsystem at 0x0000027390363E20>\n",
      "<generator object check_periodicity_conj_rootsystem at 0x0000027390361990>\n",
      "<generator object check_periodicity_conj_rootsystem at 0x0000027390363E20>\n",
      "<generator object check_periodicity_conj_rootsystem at 0x0000027390361990>\n",
      "<generator object check_periodicity_conj_rootsystem at 0x0000027390363E20>\n",
      "<generator object check_periodicity_conj_rootsystem at 0x0000027390361990>\n",
      "<generator object check_periodicity_conj_rootsystem at 0x0000027390363E20>\n",
      "<generator object check_periodicity_conj_rootsystem at 0x0000027390361990>\n",
      "<generator object check_periodicity_conj_rootsystem at 0x0000027390363E20>\n",
      "<generator object check_periodicity_conj_rootsystem at 0x0000027390361990>\n",
      "<generator object check_periodicity_conj_rootsystem at 0x0000027390363E20>\n",
      "<generator object check_periodicity_conj_rootsystem at 0x0000027390361990>\n",
      "<generator object check_periodicity_conj_rootsystem at 0x0000027390363E20>\n",
      "<generator object check_periodicity_conj_rootsystem at 0x0000027390361990>\n",
      "<generator object check_periodicity_conj_rootsystem at 0x0000027390363E20>\n",
      "<generator object check_periodicity_conj_rootsystem at 0x0000027390361990>\n",
      "<generator object check_periodicity_conj_rootsystem at 0x0000027390363E20>\n",
      "<generator object check_periodicity_conj_rootsystem at 0x0000027390361990>\n",
      "<generator object check_periodicity_conj_rootsystem at 0x0000027390363E20>\n",
      "<generator object check_periodicity_conj_rootsystem at 0x0000027390361990>\n",
      "<generator object check_periodicity_conj_rootsystem at 0x0000027390363E20>\n",
      "<generator object check_periodicity_conj_rootsystem at 0x0000027390361990>\n",
      "<generator object check_periodicity_conj_rootsystem at 0x0000027390363E20>\n",
      "<generator object check_periodicity_conj_rootsystem at 0x0000027390361990>\n",
      "<generator object check_periodicity_conj_rootsystem at 0x0000027390363E20>\n",
      "<generator object check_periodicity_conj_rootsystem at 0x0000027390361990>\n",
      "<generator object check_periodicity_conj_rootsystem at 0x0000027390363E20>\n",
      "<generator object check_periodicity_conj_rootsystem at 0x0000027390361990>\n",
      "<generator object check_periodicity_conj_rootsystem at 0x0000027390363E20>\n",
      "<generator object check_periodicity_conj_rootsystem at 0x0000027390361990>\n",
      "<generator object check_periodicity_conj_rootsystem at 0x0000027390363E20>\n",
      "<generator object check_periodicity_conj_rootsystem at 0x0000027390361990>\n",
      "<generator object check_periodicity_conj_rootsystem at 0x0000027390363E20>\n",
      "<generator object check_periodicity_conj_rootsystem at 0x0000027390361990>\n",
      "<generator object check_periodicity_conj_rootsystem at 0x0000027390363E20>\n",
      "<generator object check_periodicity_conj_rootsystem at 0x0000027390361990>\n",
      "<generator object check_periodicity_conj_rootsystem at 0x0000027390363E20>\n",
      "<generator object check_periodicity_conj_rootsystem at 0x0000027390361990>\n",
      "<generator object check_periodicity_conj_rootsystem at 0x0000027390363E20>\n",
      "<generator object check_periodicity_conj_rootsystem at 0x0000027390361990>\n",
      "<generator object check_periodicity_conj_rootsystem at 0x0000027390363E20>\n",
      "<generator object check_periodicity_conj_rootsystem at 0x0000027390361990>\n",
      "<generator object check_periodicity_conj_rootsystem at 0x0000027390363E20>\n",
      "<generator object check_periodicity_conj_rootsystem at 0x0000027390361990>\n",
      "<generator object check_periodicity_conj_rootsystem at 0x0000027390363E20>\n",
      "<generator object check_periodicity_conj_rootsystem at 0x0000027390361990>\n",
      "<generator object check_periodicity_conj_rootsystem at 0x0000027390363E20>\n",
      "<generator object check_periodicity_conj_rootsystem at 0x0000027390361990>\n",
      "<generator object check_periodicity_conj_rootsystem at 0x0000027390363E20>\n",
      "<generator object check_periodicity_conj_rootsystem at 0x0000027390361990>\n",
      "<generator object check_periodicity_conj_rootsystem at 0x0000027390363E20>\n",
      "<generator object check_periodicity_conj_rootsystem at 0x0000027390361990>\n",
      "<generator object check_periodicity_conj_rootsystem at 0x0000027390363E20>\n",
      "<generator object check_periodicity_conj_rootsystem at 0x0000027390361990>\n",
      "<generator object check_periodicity_conj_rootsystem at 0x0000027390363E20>\n",
      "<generator object check_periodicity_conj_rootsystem at 0x0000027390361990>\n",
      "<generator object check_periodicity_conj_rootsystem at 0x0000027390363E20>\n",
      "<generator object check_periodicity_conj_rootsystem at 0x0000027390361990>\n",
      "<generator object check_periodicity_conj_rootsystem at 0x0000027390363E20>\n",
      "<generator object check_periodicity_conj_rootsystem at 0x0000027390361990>\n",
      "<generator object check_periodicity_conj_rootsystem at 0x0000027390363E20>\n",
      "<generator object check_periodicity_conj_rootsystem at 0x0000027390361990>\n",
      "<generator object check_periodicity_conj_rootsystem at 0x0000027390363E20>\n",
      "<generator object check_periodicity_conj_rootsystem at 0x0000027390361990>\n",
      "<generator object check_periodicity_conj_rootsystem at 0x0000027390363E20>\n",
      "<generator object check_periodicity_conj_rootsystem at 0x0000027390361990>\n",
      "<generator object check_periodicity_conj_rootsystem at 0x0000027390363E20>\n",
      "<generator object check_periodicity_conj_rootsystem at 0x0000027390361990>\n",
      "<generator object check_periodicity_conj_rootsystem at 0x0000027390363E20>\n",
      "<generator object check_periodicity_conj_rootsystem at 0x0000027390361990>\n",
      "<generator object check_periodicity_conj_rootsystem at 0x0000027390363E20>\n",
      "<generator object check_periodicity_conj_rootsystem at 0x0000027390361990>\n",
      "<generator object check_periodicity_conj_rootsystem at 0x0000027390363E20>\n",
      "<generator object check_periodicity_conj_rootsystem at 0x0000027390361990>\n",
      "<generator object check_periodicity_conj_rootsystem at 0x0000027390363E20>\n",
      "<generator object check_periodicity_conj_rootsystem at 0x0000027390361990>\n",
      "<generator object check_periodicity_conj_rootsystem at 0x0000027390363E20>\n",
      "<generator object check_periodicity_conj_rootsystem at 0x0000027390361990>\n",
      "<generator object check_periodicity_conj_rootsystem at 0x0000027390363E20>\n",
      "<generator object check_periodicity_conj_rootsystem at 0x0000027390361990>\n",
      "<generator object check_periodicity_conj_rootsystem at 0x0000027390363E20>\n",
      "<generator object check_periodicity_conj_rootsystem at 0x0000027390361990>\n",
      "<generator object check_periodicity_conj_rootsystem at 0x0000027390363E20>\n",
      "<generator object check_periodicity_conj_rootsystem at 0x0000027390361990>\n",
      "<generator object check_periodicity_conj_rootsystem at 0x0000027390363E20>\n",
      "<generator object check_periodicity_conj_rootsystem at 0x0000027390361990>\n",
      "<generator object check_periodicity_conj_rootsystem at 0x0000027390363E20>\n",
      "<generator object check_periodicity_conj_rootsystem at 0x0000027390361990>\n",
      "<generator object check_periodicity_conj_rootsystem at 0x0000027390363E20>\n",
      "<generator object check_periodicity_conj_rootsystem at 0x0000027390361990>\n",
      "<generator object check_periodicity_conj_rootsystem at 0x0000027390363E20>\n",
      "<generator object check_periodicity_conj_rootsystem at 0x0000027390361990>\n",
      "<generator object check_periodicity_conj_rootsystem at 0x0000027390363E20>\n",
      "<generator object check_periodicity_conj_rootsystem at 0x0000027390361990>\n",
      "<generator object check_periodicity_conj_rootsystem at 0x0000027390363E20>\n",
      "<generator object check_periodicity_conj_rootsystem at 0x0000027390361990>\n",
      "<generator object check_periodicity_conj_rootsystem at 0x0000027390363E20>\n",
      "<generator object check_periodicity_conj_rootsystem at 0x0000027390361990>\n",
      "<generator object check_periodicity_conj_rootsystem at 0x0000027390363E20>\n",
      "<generator object check_periodicity_conj_rootsystem at 0x0000027390361990>\n",
      "<generator object check_periodicity_conj_rootsystem at 0x0000027390363E20>\n",
      "<generator object check_periodicity_conj_rootsystem at 0x0000027390361990>\n",
      "<generator object check_periodicity_conj_rootsystem at 0x0000027390363E20>\n",
      "<generator object check_periodicity_conj_rootsystem at 0x0000027390361990>\n",
      "<generator object check_periodicity_conj_rootsystem at 0x0000027390363E20>\n",
      "<generator object check_periodicity_conj_rootsystem at 0x0000027390361990>\n",
      "<generator object check_periodicity_conj_rootsystem at 0x0000027390363E20>\n",
      "<generator object check_periodicity_conj_rootsystem at 0x0000027390361990>\n",
      "<generator object check_periodicity_conj_rootsystem at 0x0000027390363E20>\n",
      "<generator object check_periodicity_conj_rootsystem at 0x0000027390361990>\n",
      "<generator object check_periodicity_conj_rootsystem at 0x0000027390363E20>\n",
      "<generator object check_periodicity_conj_rootsystem at 0x0000027390361990>\n",
      "<generator object check_periodicity_conj_rootsystem at 0x0000027390363E20>\n",
      "<generator object check_periodicity_conj_rootsystem at 0x0000027390361990>\n",
      "<generator object check_periodicity_conj_rootsystem at 0x0000027390363E20>\n",
      "<generator object check_periodicity_conj_rootsystem at 0x0000027390361990>\n",
      "<generator object check_periodicity_conj_rootsystem at 0x0000027390363E20>\n",
      "<generator object check_periodicity_conj_rootsystem at 0x0000027390361990>\n",
      "<generator object check_periodicity_conj_rootsystem at 0x0000027390363E20>\n",
      "<generator object check_periodicity_conj_rootsystem at 0x0000027390361990>\n",
      "<generator object check_periodicity_conj_rootsystem at 0x0000027390363E20>\n",
      "<generator object check_periodicity_conj_rootsystem at 0x0000027390361990>\n",
      "<generator object check_periodicity_conj_rootsystem at 0x0000027390363E20>\n",
      "<generator object check_periodicity_conj_rootsystem at 0x0000027390361990>\n",
      "<generator object check_periodicity_conj_rootsystem at 0x0000027390363E20>\n",
      "<generator object check_periodicity_conj_rootsystem at 0x0000027390361990>\n",
      "<generator object check_periodicity_conj_rootsystem at 0x0000027390363E20>\n",
      "<generator object check_periodicity_conj_rootsystem at 0x0000027390361990>\n",
      "<generator object check_periodicity_conj_rootsystem at 0x0000027390363E20>\n",
      "<generator object check_periodicity_conj_rootsystem at 0x0000027390361990>\n",
      "<generator object check_periodicity_conj_rootsystem at 0x0000027390363E20>\n",
      "<generator object check_periodicity_conj_rootsystem at 0x0000027390361990>\n",
      "<generator object check_periodicity_conj_rootsystem at 0x0000027390363E20>\n",
      "<generator object check_periodicity_conj_rootsystem at 0x0000027390361990>\n",
      "<generator object check_periodicity_conj_rootsystem at 0x0000027390363E20>\n",
      "<generator object check_periodicity_conj_rootsystem at 0x0000027390361990>\n",
      "<generator object check_periodicity_conj_rootsystem at 0x0000027390363E20>\n",
      "<generator object check_periodicity_conj_rootsystem at 0x0000027390361990>\n",
      "<generator object check_periodicity_conj_rootsystem at 0x0000027390363E20>\n",
      "<generator object check_periodicity_conj_rootsystem at 0x0000027390361990>\n",
      "<generator object check_periodicity_conj_rootsystem at 0x0000027390363E20>\n",
      "<generator object check_periodicity_conj_rootsystem at 0x0000027390361990>\n",
      "<generator object check_periodicity_conj_rootsystem at 0x0000027390363E20>\n",
      "<generator object check_periodicity_conj_rootsystem at 0x0000027390361990>\n",
      "<generator object check_periodicity_conj_rootsystem at 0x0000027390363E20>\n",
      "<generator object check_periodicity_conj_rootsystem at 0x0000027390361990>\n",
      "<generator object check_periodicity_conj_rootsystem at 0x0000027390363E20>\n",
      "<generator object check_periodicity_conj_rootsystem at 0x0000027390361990>\n",
      "<generator object check_periodicity_conj_rootsystem at 0x0000027390363E20>\n",
      "<generator object check_periodicity_conj_rootsystem at 0x0000027390361990>\n",
      "<generator object check_periodicity_conj_rootsystem at 0x0000027390363E20>\n",
      "<generator object check_periodicity_conj_rootsystem at 0x0000027390361990>\n",
      "<generator object check_periodicity_conj_rootsystem at 0x0000027390363E20>\n",
      "<generator object check_periodicity_conj_rootsystem at 0x0000027390361990>\n",
      "<generator object check_periodicity_conj_rootsystem at 0x0000027390363E20>\n",
      "<generator object check_periodicity_conj_rootsystem at 0x0000027390361990>\n",
      "<generator object check_periodicity_conj_rootsystem at 0x0000027390363E20>\n",
      "<generator object check_periodicity_conj_rootsystem at 0x0000027390361990>\n",
      "<generator object check_periodicity_conj_rootsystem at 0x0000027390363E20>\n",
      "<generator object check_periodicity_conj_rootsystem at 0x0000027390361990>\n",
      "<generator object check_periodicity_conj_rootsystem at 0x0000027390363E20>\n",
      "<generator object check_periodicity_conj_rootsystem at 0x0000027390361990>\n",
      "<generator object check_periodicity_conj_rootsystem at 0x0000027390363E20>\n",
      "<generator object check_periodicity_conj_rootsystem at 0x0000027390361990>\n",
      "<generator object check_periodicity_conj_rootsystem at 0x0000027390363E20>\n",
      "<generator object check_periodicity_conj_rootsystem at 0x0000027390361990>\n",
      "<generator object check_periodicity_conj_rootsystem at 0x0000027390363E20>\n",
      "<generator object check_periodicity_conj_rootsystem at 0x0000027390361990>\n",
      "<generator object check_periodicity_conj_rootsystem at 0x0000027390363E20>\n",
      "<generator object check_periodicity_conj_rootsystem at 0x0000027390361990>\n",
      "<generator object check_periodicity_conj_rootsystem at 0x0000027390363E20>\n",
      "<generator object check_periodicity_conj_rootsystem at 0x0000027390361990>\n",
      "<generator object check_periodicity_conj_rootsystem at 0x0000027390363E20>\n",
      "<generator object check_periodicity_conj_rootsystem at 0x0000027390361990>\n",
      "<generator object check_periodicity_conj_rootsystem at 0x0000027390363E20>\n",
      "<generator object check_periodicity_conj_rootsystem at 0x0000027390361990>\n",
      "<generator object check_periodicity_conj_rootsystem at 0x0000027390363E20>\n",
      "<generator object check_periodicity_conj_rootsystem at 0x0000027390361990>\n",
      "<generator object check_periodicity_conj_rootsystem at 0x0000027390363E20>\n",
      "<generator object check_periodicity_conj_rootsystem at 0x0000027390361990>\n",
      "<generator object check_periodicity_conj_rootsystem at 0x0000027390363E20>\n",
      "<generator object check_periodicity_conj_rootsystem at 0x0000027390361990>\n",
      "<generator object check_periodicity_conj_rootsystem at 0x0000027390363E20>\n",
      "<generator object check_periodicity_conj_rootsystem at 0x0000027390361990>\n",
      "<generator object check_periodicity_conj_rootsystem at 0x0000027390363E20>\n",
      "<generator object check_periodicity_conj_rootsystem at 0x0000027390361990>\n",
      "<generator object check_periodicity_conj_rootsystem at 0x0000027390363E20>\n",
      "<generator object check_periodicity_conj_rootsystem at 0x0000027390361990>\n",
      "<generator object check_periodicity_conj_rootsystem at 0x0000027390363E20>\n",
      "<generator object check_periodicity_conj_rootsystem at 0x0000027390361990>\n",
      "<generator object check_periodicity_conj_rootsystem at 0x0000027390363E20>\n",
      "<generator object check_periodicity_conj_rootsystem at 0x0000027390361990>\n",
      "<generator object check_periodicity_conj_rootsystem at 0x0000027390363E20>\n",
      "<generator object check_periodicity_conj_rootsystem at 0x0000027390361990>\n",
      "<generator object check_periodicity_conj_rootsystem at 0x0000027390363E20>\n",
      "<generator object check_periodicity_conj_rootsystem at 0x0000027390361990>\n",
      "<generator object check_periodicity_conj_rootsystem at 0x0000027390363E20>\n",
      "<generator object check_periodicity_conj_rootsystem at 0x0000027390361990>\n",
      "<generator object check_periodicity_conj_rootsystem at 0x0000027390363E20>\n",
      "<generator object check_periodicity_conj_rootsystem at 0x0000027390361990>\n",
      "<generator object check_periodicity_conj_rootsystem at 0x0000027390363E20>\n",
      "<generator object check_periodicity_conj_rootsystem at 0x0000027390361990>\n",
      "<generator object check_periodicity_conj_rootsystem at 0x0000027390363E20>\n",
      "<generator object check_periodicity_conj_rootsystem at 0x0000027390361990>\n",
      "<generator object check_periodicity_conj_rootsystem at 0x0000027390363E20>\n",
      "<generator object check_periodicity_conj_rootsystem at 0x0000027390361990>\n",
      "<generator object check_periodicity_conj_rootsystem at 0x0000027390363E20>\n",
      "<generator object check_periodicity_conj_rootsystem at 0x0000027390361990>\n",
      "<generator object check_periodicity_conj_rootsystem at 0x0000027390363E20>\n",
      "<generator object check_periodicity_conj_rootsystem at 0x0000027390361990>\n",
      "<generator object check_periodicity_conj_rootsystem at 0x0000027390363E20>\n",
      "<generator object check_periodicity_conj_rootsystem at 0x0000027390361990>\n",
      "<generator object check_periodicity_conj_rootsystem at 0x0000027390363E20>\n",
      "<generator object check_periodicity_conj_rootsystem at 0x0000027390361990>\n",
      "<generator object check_periodicity_conj_rootsystem at 0x0000027390363E20>\n",
      "<generator object check_periodicity_conj_rootsystem at 0x0000027390361990>\n",
      "<generator object check_periodicity_conj_rootsystem at 0x0000027390363E20>\n",
      "<generator object check_periodicity_conj_rootsystem at 0x0000027390361990>\n",
      "<generator object check_periodicity_conj_rootsystem at 0x0000027390363E20>\n",
      "<generator object check_periodicity_conj_rootsystem at 0x0000027390361990>\n",
      "<generator object check_periodicity_conj_rootsystem at 0x0000027390363E20>\n",
      "<generator object check_periodicity_conj_rootsystem at 0x0000027390361990>\n",
      "<generator object check_periodicity_conj_rootsystem at 0x0000027390363E20>\n",
      "<generator object check_periodicity_conj_rootsystem at 0x0000027390361990>\n",
      "<generator object check_periodicity_conj_rootsystem at 0x0000027390363E20>\n",
      "<generator object check_periodicity_conj_rootsystem at 0x0000027390361990>\n",
      "<generator object check_periodicity_conj_rootsystem at 0x0000027390363E20>\n",
      "<generator object check_periodicity_conj_rootsystem at 0x0000027390361990>\n",
      "<generator object check_periodicity_conj_rootsystem at 0x0000027390363E20>\n",
      "<generator object check_periodicity_conj_rootsystem at 0x0000027390361990>\n",
      "<generator object check_periodicity_conj_rootsystem at 0x0000027390363E20>\n",
      "<generator object check_periodicity_conj_rootsystem at 0x0000027390361990>\n",
      "<generator object check_periodicity_conj_rootsystem at 0x0000027390363E20>\n",
      "<generator object check_periodicity_conj_rootsystem at 0x0000027390361990>\n",
      "<generator object check_periodicity_conj_rootsystem at 0x0000027390363E20>\n",
      "<generator object check_periodicity_conj_rootsystem at 0x0000027390361990>\n",
      "<generator object check_periodicity_conj_rootsystem at 0x0000027390363E20>\n",
      "<generator object check_periodicity_conj_rootsystem at 0x0000027390361990>\n",
      "<generator object check_periodicity_conj_rootsystem at 0x0000027390363E20>\n",
      "<generator object check_periodicity_conj_rootsystem at 0x0000027390361990>\n",
      "<generator object check_periodicity_conj_rootsystem at 0x0000027390363E20>\n",
      "<generator object check_periodicity_conj_rootsystem at 0x0000027390361990>\n",
      "<generator object check_periodicity_conj_rootsystem at 0x0000027390363E20>\n",
      "<generator object check_periodicity_conj_rootsystem at 0x0000027390361990>\n",
      "<generator object check_periodicity_conj_rootsystem at 0x0000027390363E20>\n",
      "<generator object check_periodicity_conj_rootsystem at 0x0000027390361990>\n",
      "<generator object check_periodicity_conj_rootsystem at 0x0000027390363E20>\n",
      "<generator object check_periodicity_conj_rootsystem at 0x0000027390361990>\n",
      "<generator object check_periodicity_conj_rootsystem at 0x0000027390363E20>\n",
      "<generator object check_periodicity_conj_rootsystem at 0x0000027390361990>\n",
      "<generator object check_periodicity_conj_rootsystem at 0x0000027390363E20>\n",
      "<generator object check_periodicity_conj_rootsystem at 0x0000027390361990>\n",
      "<generator object check_periodicity_conj_rootsystem at 0x0000027390363E20>\n",
      "<generator object check_periodicity_conj_rootsystem at 0x0000027390361990>\n",
      "<generator object check_periodicity_conj_rootsystem at 0x0000027390363E20>\n",
      "<generator object check_periodicity_conj_rootsystem at 0x0000027390361990>\n",
      "<generator object check_periodicity_conj_rootsystem at 0x0000027390363E20>\n",
      "<generator object check_periodicity_conj_rootsystem at 0x0000027390361990>\n",
      "<generator object check_periodicity_conj_rootsystem at 0x0000027390363E20>\n",
      "<generator object check_periodicity_conj_rootsystem at 0x0000027390361990>\n",
      "<generator object check_periodicity_conj_rootsystem at 0x0000027390363E20>\n",
      "<generator object check_periodicity_conj_rootsystem at 0x0000027390361990>\n",
      "<generator object check_periodicity_conj_rootsystem at 0x0000027390363E20>\n",
      "<generator object check_periodicity_conj_rootsystem at 0x0000027390361990>\n",
      "<generator object check_periodicity_conj_rootsystem at 0x0000027390363E20>\n",
      "<generator object check_periodicity_conj_rootsystem at 0x0000027390361990>\n",
      "<generator object check_periodicity_conj_rootsystem at 0x0000027390363E20>\n",
      "<generator object check_periodicity_conj_rootsystem at 0x0000027390361990>\n",
      "<generator object check_periodicity_conj_rootsystem at 0x0000027390363E20>\n",
      "<generator object check_periodicity_conj_rootsystem at 0x0000027390361990>\n",
      "<generator object check_periodicity_conj_rootsystem at 0x0000027390363E20>\n",
      "<generator object check_periodicity_conj_rootsystem at 0x0000027390361990>\n",
      "<generator object check_periodicity_conj_rootsystem at 0x0000027390363E20>\n",
      "<generator object check_periodicity_conj_rootsystem at 0x0000027390361990>\n",
      "<generator object check_periodicity_conj_rootsystem at 0x0000027390363E20>\n",
      "<generator object check_periodicity_conj_rootsystem at 0x0000027390361990>\n",
      "<generator object check_periodicity_conj_rootsystem at 0x0000027390363E20>\n",
      "<generator object check_periodicity_conj_rootsystem at 0x0000027390361990>\n",
      "<generator object check_periodicity_conj_rootsystem at 0x0000027390363E20>\n",
      "<generator object check_periodicity_conj_rootsystem at 0x0000027390361990>\n",
      "<generator object check_periodicity_conj_rootsystem at 0x0000027390363E20>\n",
      "<generator object check_periodicity_conj_rootsystem at 0x0000027390361990>\n",
      "<generator object check_periodicity_conj_rootsystem at 0x0000027390363E20>\n",
      "<generator object check_periodicity_conj_rootsystem at 0x0000027390361990>\n",
      "<generator object check_periodicity_conj_rootsystem at 0x0000027390363E20>\n",
      "<generator object check_periodicity_conj_rootsystem at 0x0000027390361990>\n",
      "<generator object check_periodicity_conj_rootsystem at 0x0000027390363E20>\n",
      "<generator object check_periodicity_conj_rootsystem at 0x0000027390361990>\n",
      "<generator object check_periodicity_conj_rootsystem at 0x0000027390363E20>\n",
      "<generator object check_periodicity_conj_rootsystem at 0x0000027390361990>\n",
      "<generator object check_periodicity_conj_rootsystem at 0x0000027390363E20>\n",
      "<generator object check_periodicity_conj_rootsystem at 0x0000027390361990>\n",
      "<generator object check_periodicity_conj_rootsystem at 0x0000027390363E20>\n",
      "<generator object check_periodicity_conj_rootsystem at 0x0000027390361990>\n",
      "<generator object check_periodicity_conj_rootsystem at 0x0000027390363E20>\n",
      "<generator object check_periodicity_conj_rootsystem at 0x0000027390361990>\n",
      "<generator object check_periodicity_conj_rootsystem at 0x0000027390363E20>\n",
      "<generator object check_periodicity_conj_rootsystem at 0x0000027390361990>\n",
      "<generator object check_periodicity_conj_rootsystem at 0x0000027390363E20>\n",
      "<generator object check_periodicity_conj_rootsystem at 0x0000027390361990>\n",
      "<generator object check_periodicity_conj_rootsystem at 0x0000027390363E20>\n",
      "<generator object check_periodicity_conj_rootsystem at 0x0000027390361990>\n",
      "<generator object check_periodicity_conj_rootsystem at 0x0000027390363E20>\n",
      "<generator object check_periodicity_conj_rootsystem at 0x0000027390361990>\n",
      "<generator object check_periodicity_conj_rootsystem at 0x0000027390363E20>\n",
      "<generator object check_periodicity_conj_rootsystem at 0x0000027390361990>\n",
      "<generator object check_periodicity_conj_rootsystem at 0x0000027390363E20>\n",
      "<generator object check_periodicity_conj_rootsystem at 0x0000027390361990>\n",
      "<generator object check_periodicity_conj_rootsystem at 0x0000027390363E20>\n",
      "<generator object check_periodicity_conj_rootsystem at 0x0000027390361990>\n",
      "<generator object check_periodicity_conj_rootsystem at 0x0000027390363E20>\n",
      "<generator object check_periodicity_conj_rootsystem at 0x0000027390361990>\n",
      "<generator object check_periodicity_conj_rootsystem at 0x0000027390363E20>\n",
      "<generator object check_periodicity_conj_rootsystem at 0x0000027390361990>\n",
      "<generator object check_periodicity_conj_rootsystem at 0x0000027390363E20>\n",
      "<generator object check_periodicity_conj_rootsystem at 0x0000027390361990>\n",
      "<generator object check_periodicity_conj_rootsystem at 0x0000027390363E20>\n",
      "<generator object check_periodicity_conj_rootsystem at 0x0000027390361990>\n",
      "<generator object check_periodicity_conj_rootsystem at 0x0000027390363E20>\n",
      "<generator object check_periodicity_conj_rootsystem at 0x0000027390361990>\n",
      "<generator object check_periodicity_conj_rootsystem at 0x0000027390363E20>\n",
      "<generator object check_periodicity_conj_rootsystem at 0x0000027390361990>\n",
      "<generator object check_periodicity_conj_rootsystem at 0x0000027390363E20>\n",
      "<generator object check_periodicity_conj_rootsystem at 0x0000027390361990>\n",
      "<generator object check_periodicity_conj_rootsystem at 0x0000027390363E20>\n",
      "<generator object check_periodicity_conj_rootsystem at 0x0000027390361990>\n",
      "<generator object check_periodicity_conj_rootsystem at 0x0000027390363E20>\n",
      "<generator object check_periodicity_conj_rootsystem at 0x0000027390361990>\n",
      "<generator object check_periodicity_conj_rootsystem at 0x0000027390363E20>\n",
      "<generator object check_periodicity_conj_rootsystem at 0x0000027390361990>\n",
      "<generator object check_periodicity_conj_rootsystem at 0x0000027390363E20>\n",
      "<generator object check_periodicity_conj_rootsystem at 0x0000027390361990>\n",
      "<generator object check_periodicity_conj_rootsystem at 0x0000027390363E20>\n",
      "<generator object check_periodicity_conj_rootsystem at 0x0000027390361990>\n",
      "<generator object check_periodicity_conj_rootsystem at 0x0000027390363E20>\n",
      "<generator object check_periodicity_conj_rootsystem at 0x0000027390361990>\n",
      "<generator object check_periodicity_conj_rootsystem at 0x0000027390363E20>\n",
      "<generator object check_periodicity_conj_rootsystem at 0x0000027390361990>\n",
      "<generator object check_periodicity_conj_rootsystem at 0x0000027390363E20>\n",
      "<generator object check_periodicity_conj_rootsystem at 0x0000027390361990>\n",
      "<generator object check_periodicity_conj_rootsystem at 0x0000027390363E20>\n",
      "<generator object check_periodicity_conj_rootsystem at 0x0000027390361990>\n",
      "<generator object check_periodicity_conj_rootsystem at 0x0000027390363E20>\n",
      "<generator object check_periodicity_conj_rootsystem at 0x0000027390361990>\n",
      "<generator object check_periodicity_conj_rootsystem at 0x0000027390363E20>\n",
      "<generator object check_periodicity_conj_rootsystem at 0x0000027390361990>\n",
      "<generator object check_periodicity_conj_rootsystem at 0x0000027390363E20>\n",
      "<generator object check_periodicity_conj_rootsystem at 0x0000027390361990>\n",
      "<generator object check_periodicity_conj_rootsystem at 0x0000027390363E20>\n",
      "<generator object check_periodicity_conj_rootsystem at 0x0000027390361990>\n",
      "<generator object check_periodicity_conj_rootsystem at 0x0000027390363E20>\n",
      "<generator object check_periodicity_conj_rootsystem at 0x0000027390361990>\n",
      "<generator object check_periodicity_conj_rootsystem at 0x0000027390363E20>\n",
      "<generator object check_periodicity_conj_rootsystem at 0x0000027390361990>\n",
      "<generator object check_periodicity_conj_rootsystem at 0x0000027390363E20>\n",
      "<generator object check_periodicity_conj_rootsystem at 0x0000027390361990>\n",
      "<generator object check_periodicity_conj_rootsystem at 0x0000027390363E20>\n",
      "<generator object check_periodicity_conj_rootsystem at 0x0000027390361990>\n",
      "<generator object check_periodicity_conj_rootsystem at 0x0000027390363E20>\n",
      "<generator object check_periodicity_conj_rootsystem at 0x0000027390361990>\n",
      "<generator object check_periodicity_conj_rootsystem at 0x0000027390363E20>\n",
      "<generator object check_periodicity_conj_rootsystem at 0x0000027390361990>\n",
      "<generator object check_periodicity_conj_rootsystem at 0x0000027390363E20>\n",
      "<generator object check_periodicity_conj_rootsystem at 0x0000027390361990>\n",
      "<generator object check_periodicity_conj_rootsystem at 0x0000027390363E20>\n",
      "<generator object check_periodicity_conj_rootsystem at 0x0000027390361990>\n",
      "<generator object check_periodicity_conj_rootsystem at 0x0000027390363E20>\n",
      "<generator object check_periodicity_conj_rootsystem at 0x0000027390361990>\n",
      "<generator object check_periodicity_conj_rootsystem at 0x0000027390363E20>\n",
      "<generator object check_periodicity_conj_rootsystem at 0x0000027390361990>\n",
      "<generator object check_periodicity_conj_rootsystem at 0x0000027390363E20>\n",
      "<generator object check_periodicity_conj_rootsystem at 0x0000027390361990>\n",
      "<generator object check_periodicity_conj_rootsystem at 0x0000027390363E20>\n",
      "<generator object check_periodicity_conj_rootsystem at 0x0000027390361990>\n",
      "<generator object check_periodicity_conj_rootsystem at 0x0000027390363E20>\n",
      "<generator object check_periodicity_conj_rootsystem at 0x0000027390361990>\n",
      "<generator object check_periodicity_conj_rootsystem at 0x0000027390363E20>\n",
      "<generator object check_periodicity_conj_rootsystem at 0x0000027390361990>\n",
      "<generator object check_periodicity_conj_rootsystem at 0x0000027390363E20>\n",
      "<generator object check_periodicity_conj_rootsystem at 0x0000027390361990>\n",
      "<generator object check_periodicity_conj_rootsystem at 0x0000027390363E20>\n",
      "<generator object check_periodicity_conj_rootsystem at 0x0000027390361990>\n",
      "<generator object check_periodicity_conj_rootsystem at 0x0000027390363E20>\n",
      "<generator object check_periodicity_conj_rootsystem at 0x0000027390361990>\n",
      "<generator object check_periodicity_conj_rootsystem at 0x0000027390363E20>\n",
      "<generator object check_periodicity_conj_rootsystem at 0x0000027390361990>\n",
      "<generator object check_periodicity_conj_rootsystem at 0x0000027390363E20>\n",
      "<generator object check_periodicity_conj_rootsystem at 0x0000027390361990>\n",
      "<generator object check_periodicity_conj_rootsystem at 0x0000027390363E20>\n",
      "<generator object check_periodicity_conj_rootsystem at 0x0000027390361990>\n",
      "<generator object check_periodicity_conj_rootsystem at 0x0000027390363E20>\n",
      "<generator object check_periodicity_conj_rootsystem at 0x0000027390361990>\n",
      "<generator object check_periodicity_conj_rootsystem at 0x0000027390363E20>\n",
      "<generator object check_periodicity_conj_rootsystem at 0x0000027390361990>\n",
      "<generator object check_periodicity_conj_rootsystem at 0x0000027390363E20>\n",
      "<generator object check_periodicity_conj_rootsystem at 0x0000027390361990>\n",
      "<generator object check_periodicity_conj_rootsystem at 0x0000027390363E20>\n",
      "<generator object check_periodicity_conj_rootsystem at 0x0000027390361990>\n",
      "<generator object check_periodicity_conj_rootsystem at 0x0000027390363E20>\n",
      "<generator object check_periodicity_conj_rootsystem at 0x0000027390361990>\n",
      "<generator object check_periodicity_conj_rootsystem at 0x0000027390363E20>\n",
      "<generator object check_periodicity_conj_rootsystem at 0x0000027390361990>\n",
      "<generator object check_periodicity_conj_rootsystem at 0x0000027390363E20>\n",
      "<generator object check_periodicity_conj_rootsystem at 0x0000027390361990>\n",
      "<generator object check_periodicity_conj_rootsystem at 0x0000027390363E20>\n",
      "<generator object check_periodicity_conj_rootsystem at 0x0000027390361990>\n",
      "<generator object check_periodicity_conj_rootsystem at 0x0000027390363E20>\n",
      "<generator object check_periodicity_conj_rootsystem at 0x0000027390361990>\n",
      "<generator object check_periodicity_conj_rootsystem at 0x0000027390363E20>\n",
      "<generator object check_periodicity_conj_rootsystem at 0x0000027390361990>\n",
      "<generator object check_periodicity_conj_rootsystem at 0x0000027390363E20>\n",
      "<generator object check_periodicity_conj_rootsystem at 0x0000027390361990>\n",
      "<generator object check_periodicity_conj_rootsystem at 0x0000027390363E20>\n",
      "<generator object check_periodicity_conj_rootsystem at 0x0000027390361990>\n",
      "<generator object check_periodicity_conj_rootsystem at 0x0000027390363E20>\n",
      "<generator object check_periodicity_conj_rootsystem at 0x0000027390361990>\n",
      "<generator object check_periodicity_conj_rootsystem at 0x0000027390363E20>\n",
      "<generator object check_periodicity_conj_rootsystem at 0x0000027390361990>\n",
      "<generator object check_periodicity_conj_rootsystem at 0x0000027390363E20>\n",
      "<generator object check_periodicity_conj_rootsystem at 0x0000027390361990>\n",
      "<generator object check_periodicity_conj_rootsystem at 0x0000027390363E20>\n",
      "<generator object check_periodicity_conj_rootsystem at 0x0000027390361990>\n",
      "<generator object check_periodicity_conj_rootsystem at 0x0000027390363E20>\n",
      "<generator object check_periodicity_conj_rootsystem at 0x0000027390361990>\n",
      "<generator object check_periodicity_conj_rootsystem at 0x0000027390363E20>\n",
      "<generator object check_periodicity_conj_rootsystem at 0x0000027390361990>\n",
      "<generator object check_periodicity_conj_rootsystem at 0x0000027390363E20>\n",
      "<generator object check_periodicity_conj_rootsystem at 0x0000027390361990>\n",
      "<generator object check_periodicity_conj_rootsystem at 0x0000027390363E20>\n",
      "<generator object check_periodicity_conj_rootsystem at 0x0000027390361990>\n",
      "<generator object check_periodicity_conj_rootsystem at 0x0000027390363E20>\n",
      "<generator object check_periodicity_conj_rootsystem at 0x0000027390361990>\n",
      "<generator object check_periodicity_conj_rootsystem at 0x0000027390363E20>\n",
      "<generator object check_periodicity_conj_rootsystem at 0x0000027390361990>\n",
      "<generator object check_periodicity_conj_rootsystem at 0x0000027390363E20>\n",
      "<generator object check_periodicity_conj_rootsystem at 0x0000027390361990>\n",
      "<generator object check_periodicity_conj_rootsystem at 0x0000027390363E20>\n",
      "<generator object check_periodicity_conj_rootsystem at 0x0000027390361990>\n",
      "<generator object check_periodicity_conj_rootsystem at 0x0000027390363E20>\n",
      "<generator object check_periodicity_conj_rootsystem at 0x0000027390361990>\n",
      "<generator object check_periodicity_conj_rootsystem at 0x0000027390363E20>\n",
      "<generator object check_periodicity_conj_rootsystem at 0x0000027390361990>\n",
      "<generator object check_periodicity_conj_rootsystem at 0x0000027390363E20>\n",
      "<generator object check_periodicity_conj_rootsystem at 0x0000027390361990>\n",
      "<generator object check_periodicity_conj_rootsystem at 0x0000027390363E20>\n",
      "<generator object check_periodicity_conj_rootsystem at 0x0000027390361990>\n",
      "<generator object check_periodicity_conj_rootsystem at 0x0000027390363E20>\n",
      "<generator object check_periodicity_conj_rootsystem at 0x0000027390361990>\n",
      "<generator object check_periodicity_conj_rootsystem at 0x0000027390363E20>\n",
      "<generator object check_periodicity_conj_rootsystem at 0x0000027390361990>\n",
      "<generator object check_periodicity_conj_rootsystem at 0x0000027390363E20>\n",
      "<generator object check_periodicity_conj_rootsystem at 0x0000027390361990>\n",
      "<generator object check_periodicity_conj_rootsystem at 0x0000027390363E20>\n",
      "<generator object check_periodicity_conj_rootsystem at 0x0000027390361990>\n",
      "<generator object check_periodicity_conj_rootsystem at 0x0000027390363E20>\n",
      "<generator object check_periodicity_conj_rootsystem at 0x0000027390361990>\n",
      "<generator object check_periodicity_conj_rootsystem at 0x0000027390363E20>\n",
      "<generator object check_periodicity_conj_rootsystem at 0x0000027390361990>\n",
      "<generator object check_periodicity_conj_rootsystem at 0x0000027390363E20>\n",
      "<generator object check_periodicity_conj_rootsystem at 0x0000027390361990>\n",
      "<generator object check_periodicity_conj_rootsystem at 0x0000027390363E20>\n",
      "<generator object check_periodicity_conj_rootsystem at 0x0000027390361990>\n",
      "<generator object check_periodicity_conj_rootsystem at 0x0000027390363E20>\n",
      "<generator object check_periodicity_conj_rootsystem at 0x0000027390361990>\n",
      "<generator object check_periodicity_conj_rootsystem at 0x0000027390363E20>\n",
      "<generator object check_periodicity_conj_rootsystem at 0x0000027390361990>\n",
      "<generator object check_periodicity_conj_rootsystem at 0x0000027390363E20>\n",
      "<generator object check_periodicity_conj_rootsystem at 0x0000027390361990>\n",
      "<generator object check_periodicity_conj_rootsystem at 0x0000027390363E20>\n",
      "<generator object check_periodicity_conj_rootsystem at 0x0000027390361990>\n",
      "<generator object check_periodicity_conj_rootsystem at 0x0000027390363E20>\n",
      "<generator object check_periodicity_conj_rootsystem at 0x0000027390361990>\n",
      "<generator object check_periodicity_conj_rootsystem at 0x0000027390363E20>\n",
      "<generator object check_periodicity_conj_rootsystem at 0x0000027390361990>\n",
      "<generator object check_periodicity_conj_rootsystem at 0x0000027390363E20>\n",
      "<generator object check_periodicity_conj_rootsystem at 0x0000027390361990>\n",
      "<generator object check_periodicity_conj_rootsystem at 0x0000027390363E20>\n",
      "<generator object check_periodicity_conj_rootsystem at 0x0000027390361990>\n",
      "<generator object check_periodicity_conj_rootsystem at 0x0000027390363E20>\n",
      "<generator object check_periodicity_conj_rootsystem at 0x0000027390361990>\n",
      "<generator object check_periodicity_conj_rootsystem at 0x0000027390363E20>\n",
      "<generator object check_periodicity_conj_rootsystem at 0x0000027390361990>\n",
      "<generator object check_periodicity_conj_rootsystem at 0x0000027390363E20>\n",
      "<generator object check_periodicity_conj_rootsystem at 0x0000027390361990>\n",
      "<generator object check_periodicity_conj_rootsystem at 0x0000027390363E20>\n",
      "<generator object check_periodicity_conj_rootsystem at 0x0000027390361990>\n",
      "<generator object check_periodicity_conj_rootsystem at 0x0000027390363E20>\n",
      "<generator object check_periodicity_conj_rootsystem at 0x0000027390361990>\n",
      "<generator object check_periodicity_conj_rootsystem at 0x0000027390363E20>\n",
      "<generator object check_periodicity_conj_rootsystem at 0x0000027390361990>\n",
      "<generator object check_periodicity_conj_rootsystem at 0x0000027390363E20>\n",
      "<generator object check_periodicity_conj_rootsystem at 0x0000027390361990>\n",
      "<generator object check_periodicity_conj_rootsystem at 0x0000027390363E20>\n",
      "<generator object check_periodicity_conj_rootsystem at 0x0000027390361990>\n",
      "<generator object check_periodicity_conj_rootsystem at 0x0000027390363E20>\n",
      "<generator object check_periodicity_conj_rootsystem at 0x0000027390361990>\n",
      "<generator object check_periodicity_conj_rootsystem at 0x0000027390363E20>\n",
      "<generator object check_periodicity_conj_rootsystem at 0x0000027390361990>\n",
      "<generator object check_periodicity_conj_rootsystem at 0x0000027390363E20>\n",
      "<generator object check_periodicity_conj_rootsystem at 0x0000027390361990>\n",
      "<generator object check_periodicity_conj_rootsystem at 0x0000027390363E20>\n",
      "<generator object check_periodicity_conj_rootsystem at 0x0000027390361990>\n",
      "<generator object check_periodicity_conj_rootsystem at 0x0000027390363E20>\n",
      "<generator object check_periodicity_conj_rootsystem at 0x0000027390361990>\n",
      "<generator object check_periodicity_conj_rootsystem at 0x0000027390363E20>\n",
      "<generator object check_periodicity_conj_rootsystem at 0x0000027390361990>\n",
      "<generator object check_periodicity_conj_rootsystem at 0x0000027390363E20>\n",
      "<generator object check_periodicity_conj_rootsystem at 0x0000027390361990>\n",
      "<generator object check_periodicity_conj_rootsystem at 0x0000027390363E20>\n",
      "<generator object check_periodicity_conj_rootsystem at 0x0000027390361990>\n",
      "<generator object check_periodicity_conj_rootsystem at 0x0000027390363E20>\n",
      "<generator object check_periodicity_conj_rootsystem at 0x0000027390361990>\n",
      "<generator object check_periodicity_conj_rootsystem at 0x0000027390363E20>\n",
      "<generator object check_periodicity_conj_rootsystem at 0x0000027390361990>\n",
      "<generator object check_periodicity_conj_rootsystem at 0x0000027390363E20>\n",
      "<generator object check_periodicity_conj_rootsystem at 0x0000027390361990>\n",
      "<generator object check_periodicity_conj_rootsystem at 0x0000027390363E20>\n",
      "<generator object check_periodicity_conj_rootsystem at 0x0000027390361990>\n",
      "<generator object check_periodicity_conj_rootsystem at 0x0000027390363E20>\n",
      "<generator object check_periodicity_conj_rootsystem at 0x0000027390361990>\n",
      "<generator object check_periodicity_conj_rootsystem at 0x0000027390363E20>\n",
      "<generator object check_periodicity_conj_rootsystem at 0x0000027390361990>\n",
      "<generator object check_periodicity_conj_rootsystem at 0x0000027390363E20>\n",
      "<generator object check_periodicity_conj_rootsystem at 0x0000027390361990>\n",
      "<generator object check_periodicity_conj_rootsystem at 0x0000027390363E20>\n",
      "<generator object check_periodicity_conj_rootsystem at 0x0000027390361990>\n",
      "<generator object check_periodicity_conj_rootsystem at 0x0000027390363E20>\n",
      "<generator object check_periodicity_conj_rootsystem at 0x0000027390361990>\n",
      "<generator object check_periodicity_conj_rootsystem at 0x0000027390363E20>\n",
      "<generator object check_periodicity_conj_rootsystem at 0x0000027390361990>\n",
      "<generator object check_periodicity_conj_rootsystem at 0x0000027390363E20>\n",
      "<generator object check_periodicity_conj_rootsystem at 0x0000027390361990>\n",
      "<generator object check_periodicity_conj_rootsystem at 0x0000027390363E20>\n",
      "<generator object check_periodicity_conj_rootsystem at 0x0000027390361990>\n",
      "<generator object check_periodicity_conj_rootsystem at 0x0000027390363E20>\n",
      "<generator object check_periodicity_conj_rootsystem at 0x0000027390361990>\n",
      "<generator object check_periodicity_conj_rootsystem at 0x0000027390363E20>\n",
      "<generator object check_periodicity_conj_rootsystem at 0x0000027390361990>\n",
      "<generator object check_periodicity_conj_rootsystem at 0x0000027390363E20>\n",
      "<generator object check_periodicity_conj_rootsystem at 0x0000027390361990>\n",
      "<generator object check_periodicity_conj_rootsystem at 0x0000027390363E20>\n",
      "<generator object check_periodicity_conj_rootsystem at 0x0000027390361990>\n",
      "<generator object check_periodicity_conj_rootsystem at 0x0000027390363E20>\n",
      "<generator object check_periodicity_conj_rootsystem at 0x0000027390361990>\n",
      "<generator object check_periodicity_conj_rootsystem at 0x0000027390363E20>\n",
      "<generator object check_periodicity_conj_rootsystem at 0x0000027390361990>\n",
      "<generator object check_periodicity_conj_rootsystem at 0x0000027390363E20>\n",
      "<generator object check_periodicity_conj_rootsystem at 0x0000027390361990>\n",
      "<generator object check_periodicity_conj_rootsystem at 0x0000027390363E20>\n",
      "<generator object check_periodicity_conj_rootsystem at 0x0000027390361990>\n",
      "<generator object check_periodicity_conj_rootsystem at 0x0000027390363E20>\n",
      "<generator object check_periodicity_conj_rootsystem at 0x0000027390361990>\n",
      "<generator object check_periodicity_conj_rootsystem at 0x0000027390363E20>\n",
      "<generator object check_periodicity_conj_rootsystem at 0x0000027390361990>\n",
      "<generator object check_periodicity_conj_rootsystem at 0x0000027390363E20>\n",
      "<generator object check_periodicity_conj_rootsystem at 0x0000027390361990>\n",
      "<generator object check_periodicity_conj_rootsystem at 0x0000027390363E20>\n",
      "<generator object check_periodicity_conj_rootsystem at 0x0000027390361990>\n",
      "<generator object check_periodicity_conj_rootsystem at 0x0000027390363E20>\n",
      "<generator object check_periodicity_conj_rootsystem at 0x0000027390361990>\n",
      "<generator object check_periodicity_conj_rootsystem at 0x0000027390363E20>\n",
      "<generator object check_periodicity_conj_rootsystem at 0x0000027390361990>\n",
      "<generator object check_periodicity_conj_rootsystem at 0x0000027390363E20>\n",
      "<generator object check_periodicity_conj_rootsystem at 0x0000027390361990>\n",
      "<generator object check_periodicity_conj_rootsystem at 0x0000027390363E20>\n",
      "<generator object check_periodicity_conj_rootsystem at 0x0000027390361990>\n",
      "<generator object check_periodicity_conj_rootsystem at 0x0000027390363E20>\n",
      "<generator object check_periodicity_conj_rootsystem at 0x0000027390361990>\n",
      "<generator object check_periodicity_conj_rootsystem at 0x0000027390363E20>\n",
      "<generator object check_periodicity_conj_rootsystem at 0x0000027390361990>\n",
      "<generator object check_periodicity_conj_rootsystem at 0x0000027390363E20>\n",
      "<generator object check_periodicity_conj_rootsystem at 0x0000027390361990>\n",
      "<generator object check_periodicity_conj_rootsystem at 0x0000027390363E20>\n",
      "<generator object check_periodicity_conj_rootsystem at 0x0000027390361990>\n",
      "<generator object check_periodicity_conj_rootsystem at 0x0000027390363E20>\n",
      "<generator object check_periodicity_conj_rootsystem at 0x0000027390361990>\n",
      "<generator object check_periodicity_conj_rootsystem at 0x0000027390363E20>\n",
      "<generator object check_periodicity_conj_rootsystem at 0x0000027390361990>\n",
      "<generator object check_periodicity_conj_rootsystem at 0x0000027390363E20>\n",
      "<generator object check_periodicity_conj_rootsystem at 0x0000027390361990>\n",
      "<generator object check_periodicity_conj_rootsystem at 0x0000027390363E20>\n",
      "<generator object check_periodicity_conj_rootsystem at 0x0000027390361990>\n",
      "<generator object check_periodicity_conj_rootsystem at 0x0000027390363E20>\n",
      "<generator object check_periodicity_conj_rootsystem at 0x0000027390361990>\n",
      "<generator object check_periodicity_conj_rootsystem at 0x0000027390363E20>\n",
      "<generator object check_periodicity_conj_rootsystem at 0x0000027390361990>\n",
      "<generator object check_periodicity_conj_rootsystem at 0x0000027390363E20>\n",
      "<generator object check_periodicity_conj_rootsystem at 0x0000027390361990>\n",
      "<generator object check_periodicity_conj_rootsystem at 0x0000027390363E20>\n",
      "<generator object check_periodicity_conj_rootsystem at 0x0000027390361990>\n",
      "<generator object check_periodicity_conj_rootsystem at 0x0000027390363E20>\n",
      "<generator object check_periodicity_conj_rootsystem at 0x0000027390361990>\n",
      "<generator object check_periodicity_conj_rootsystem at 0x0000027390363E20>\n",
      "<generator object check_periodicity_conj_rootsystem at 0x0000027390361990>\n",
      "<generator object check_periodicity_conj_rootsystem at 0x0000027390363E20>\n"
     ]
    }
   ],
   "source": [
    "for i in check_periodicity_conj_perms(Aperms):\n",
    "    print(i)"
   ]
  },
  {
   "cell_type": "code",
   "execution_count": null,
   "metadata": {},
   "outputs": [],
   "source": [
    "for i in check_SL_word_algo_perms(Aperms,3,True):\n",
    "    print(i)"
   ]
  },
  {
   "cell_type": "code",
   "execution_count": null,
   "metadata": {},
   "outputs": [],
   "source": [
    "for i in check_delta_type_prediction_perms(Aperms):\n",
    "    print(i)"
   ]
  },
  {
   "cell_type": "code",
   "execution_count": null,
   "metadata": {},
   "outputs": [],
   "source": [
    "write_delta_types_to_file(Aperms,\"ADeltaTypes.csv\")"
   ]
  },
  {
   "cell_type": "code",
   "execution_count": null,
   "metadata": {},
   "outputs": [
    {
     "data": {
      "application/vnd.jupyter.widget-view+json": {
       "model_id": "7864fcb9ab5141db9dc044d79b507edb",
       "version_major": 2,
       "version_minor": 0
      },
      "text/plain": [
       "0it [00:00, ?it/s]"
      ]
     },
     "metadata": {},
     "output_type": "display_data"
    },
    {
     "ename": "KeyboardInterrupt",
     "evalue": "",
     "output_type": "error",
     "traceback": [
      "\u001b[1;31m---------------------------------------------------------------------------\u001b[0m",
      "\u001b[1;31mIndexError\u001b[0m                                Traceback (most recent call last)",
      "File \u001b[1;32mc:\\Users\\Corbe\\AppData\\Local\\Programs\\Python\\Python311\\Lib\\multiprocessing\\pool.py:856\u001b[0m, in \u001b[0;36mIMapIterator.next\u001b[1;34m(self, timeout)\u001b[0m\n\u001b[0;32m    855\u001b[0m \u001b[38;5;28;01mtry\u001b[39;00m:\n\u001b[1;32m--> 856\u001b[0m     item \u001b[38;5;241m=\u001b[39m \u001b[38;5;28mself\u001b[39m\u001b[38;5;241m.\u001b[39m_items\u001b[38;5;241m.\u001b[39mpopleft()\n\u001b[0;32m    857\u001b[0m \u001b[38;5;28;01mexcept\u001b[39;00m \u001b[38;5;167;01mIndexError\u001b[39;00m:\n",
      "\u001b[1;31mIndexError\u001b[0m: pop from an empty deque",
      "\nDuring handling of the above exception, another exception occurred:\n",
      "\u001b[1;31mKeyboardInterrupt\u001b[0m                         Traceback (most recent call last)",
      "Cell \u001b[1;32mIn[24], line 1\u001b[0m\n\u001b[1;32m----> 1\u001b[0m \u001b[43mget_max_periodicity\u001b[49m\u001b[43m(\u001b[49m\u001b[43mAperms\u001b[49m\u001b[43m)\u001b[49m\n",
      "Cell \u001b[1;32mIn[14], line 7\u001b[0m, in \u001b[0;36mget_max_periodicity\u001b[1;34m(rootSystems, total)\u001b[0m\n\u001b[0;32m      5\u001b[0m rootsys:rootSystem\n\u001b[0;32m      6\u001b[0m \u001b[38;5;28;01mwith\u001b[39;00m mp\u001b[38;5;241m.\u001b[39mPool() \u001b[38;5;28;01mas\u001b[39;00m p:\n\u001b[1;32m----> 7\u001b[0m \u001b[43m    \u001b[49m\u001b[38;5;28;43;01mfor\u001b[39;49;00m\u001b[43m \u001b[49m\u001b[43mresult\u001b[49m\u001b[43m \u001b[49m\u001b[38;5;129;43;01min\u001b[39;49;00m\u001b[43m \u001b[49m\u001b[43mtqdm\u001b[49m\u001b[43m(\u001b[49m\u001b[43mp\u001b[49m\u001b[38;5;241;43m.\u001b[39;49m\u001b[43mimap_unordered\u001b[49m\u001b[43m(\u001b[49m\u001b[43mmax_periodicity_rootSystem\u001b[49m\u001b[43m,\u001b[49m\u001b[43mrootSystems\u001b[49m\u001b[43m)\u001b[49m\u001b[43m,\u001b[49m\u001b[43mtotal\u001b[49m\u001b[38;5;241;43m=\u001b[39;49m\u001b[43mtotal\u001b[49m\u001b[43m)\u001b[49m\u001b[43m:\u001b[49m\n\u001b[0;32m      8\u001b[0m \u001b[43m        \u001b[49m\u001b[38;5;28;43;01mif\u001b[39;49;00m\u001b[43m(\u001b[49m\u001b[43mresult\u001b[49m\u001b[38;5;241;43m.\u001b[39;49m\u001b[43mperiodicity\u001b[49m\u001b[43m \u001b[49m\u001b[38;5;241;43m>\u001b[39;49m\u001b[43m \u001b[49m\u001b[38;5;28;43mmax\u001b[39;49m\u001b[43m)\u001b[49m\u001b[43m:\u001b[49m\n\u001b[0;32m      9\u001b[0m \u001b[43m            \u001b[49m\u001b[38;5;28;43mmax\u001b[39;49m\u001b[43m \u001b[49m\u001b[38;5;241;43m=\u001b[39;49m\u001b[43m \u001b[49m\u001b[43mresult\u001b[49m\u001b[38;5;241;43m.\u001b[39;49m\u001b[43mperiodicity\u001b[49m\n",
      "File \u001b[1;32mc:\\Users\\Corbe\\AppData\\Local\\Programs\\Python\\Python311\\Lib\\site-packages\\tqdm\\notebook.py:250\u001b[0m, in \u001b[0;36mtqdm_notebook.__iter__\u001b[1;34m(self)\u001b[0m\n\u001b[0;32m    248\u001b[0m \u001b[38;5;28;01mtry\u001b[39;00m:\n\u001b[0;32m    249\u001b[0m     it \u001b[38;5;241m=\u001b[39m \u001b[38;5;28msuper\u001b[39m()\u001b[38;5;241m.\u001b[39m\u001b[38;5;21m__iter__\u001b[39m()\n\u001b[1;32m--> 250\u001b[0m \u001b[43m    \u001b[49m\u001b[38;5;28;43;01mfor\u001b[39;49;00m\u001b[43m \u001b[49m\u001b[43mobj\u001b[49m\u001b[43m \u001b[49m\u001b[38;5;129;43;01min\u001b[39;49;00m\u001b[43m \u001b[49m\u001b[43mit\u001b[49m\u001b[43m:\u001b[49m\n\u001b[0;32m    251\u001b[0m \u001b[43m        \u001b[49m\u001b[38;5;66;43;03m# return super(tqdm...) will not catch exception\u001b[39;49;00m\n\u001b[0;32m    252\u001b[0m \u001b[43m        \u001b[49m\u001b[38;5;28;43;01myield\u001b[39;49;00m\u001b[43m \u001b[49m\u001b[43mobj\u001b[49m\n\u001b[0;32m    253\u001b[0m \u001b[38;5;66;03m# NB: except ... [ as ...] breaks IPython async KeyboardInterrupt\u001b[39;00m\n",
      "File \u001b[1;32mc:\\Users\\Corbe\\AppData\\Local\\Programs\\Python\\Python311\\Lib\\site-packages\\tqdm\\std.py:1181\u001b[0m, in \u001b[0;36mtqdm.__iter__\u001b[1;34m(self)\u001b[0m\n\u001b[0;32m   1178\u001b[0m time \u001b[38;5;241m=\u001b[39m \u001b[38;5;28mself\u001b[39m\u001b[38;5;241m.\u001b[39m_time\n\u001b[0;32m   1180\u001b[0m \u001b[38;5;28;01mtry\u001b[39;00m:\n\u001b[1;32m-> 1181\u001b[0m \u001b[43m    \u001b[49m\u001b[38;5;28;43;01mfor\u001b[39;49;00m\u001b[43m \u001b[49m\u001b[43mobj\u001b[49m\u001b[43m \u001b[49m\u001b[38;5;129;43;01min\u001b[39;49;00m\u001b[43m \u001b[49m\u001b[43miterable\u001b[49m\u001b[43m:\u001b[49m\n\u001b[0;32m   1182\u001b[0m \u001b[43m        \u001b[49m\u001b[38;5;28;43;01myield\u001b[39;49;00m\u001b[43m \u001b[49m\u001b[43mobj\u001b[49m\n\u001b[0;32m   1183\u001b[0m \u001b[43m        \u001b[49m\u001b[38;5;66;43;03m# Update and possibly print the progressbar.\u001b[39;49;00m\n\u001b[0;32m   1184\u001b[0m \u001b[43m        \u001b[49m\u001b[38;5;66;43;03m# Note: does not call self.update(1) for speed optimisation.\u001b[39;49;00m\n",
      "File \u001b[1;32mc:\\Users\\Corbe\\AppData\\Local\\Programs\\Python\\Python311\\Lib\\multiprocessing\\pool.py:861\u001b[0m, in \u001b[0;36mIMapIterator.next\u001b[1;34m(self, timeout)\u001b[0m\n\u001b[0;32m    859\u001b[0m     \u001b[38;5;28mself\u001b[39m\u001b[38;5;241m.\u001b[39m_pool \u001b[38;5;241m=\u001b[39m \u001b[38;5;28;01mNone\u001b[39;00m\n\u001b[0;32m    860\u001b[0m     \u001b[38;5;28;01mraise\u001b[39;00m \u001b[38;5;167;01mStopIteration\u001b[39;00m \u001b[38;5;28;01mfrom\u001b[39;00m \u001b[38;5;28;01mNone\u001b[39;00m\n\u001b[1;32m--> 861\u001b[0m \u001b[38;5;28;43mself\u001b[39;49m\u001b[38;5;241;43m.\u001b[39;49m\u001b[43m_cond\u001b[49m\u001b[38;5;241;43m.\u001b[39;49m\u001b[43mwait\u001b[49m\u001b[43m(\u001b[49m\u001b[43mtimeout\u001b[49m\u001b[43m)\u001b[49m\n\u001b[0;32m    862\u001b[0m \u001b[38;5;28;01mtry\u001b[39;00m:\n\u001b[0;32m    863\u001b[0m     item \u001b[38;5;241m=\u001b[39m \u001b[38;5;28mself\u001b[39m\u001b[38;5;241m.\u001b[39m_items\u001b[38;5;241m.\u001b[39mpopleft()\n",
      "File \u001b[1;32mc:\\Users\\Corbe\\AppData\\Local\\Programs\\Python\\Python311\\Lib\\threading.py:320\u001b[0m, in \u001b[0;36mCondition.wait\u001b[1;34m(self, timeout)\u001b[0m\n\u001b[0;32m    318\u001b[0m \u001b[38;5;28;01mtry\u001b[39;00m:    \u001b[38;5;66;03m# restore state no matter what (e.g., KeyboardInterrupt)\u001b[39;00m\n\u001b[0;32m    319\u001b[0m     \u001b[38;5;28;01mif\u001b[39;00m timeout \u001b[38;5;129;01mis\u001b[39;00m \u001b[38;5;28;01mNone\u001b[39;00m:\n\u001b[1;32m--> 320\u001b[0m         \u001b[43mwaiter\u001b[49m\u001b[38;5;241;43m.\u001b[39;49m\u001b[43macquire\u001b[49m\u001b[43m(\u001b[49m\u001b[43m)\u001b[49m\n\u001b[0;32m    321\u001b[0m         gotit \u001b[38;5;241m=\u001b[39m \u001b[38;5;28;01mTrue\u001b[39;00m\n\u001b[0;32m    322\u001b[0m     \u001b[38;5;28;01melse\u001b[39;00m:\n",
      "\u001b[1;31mKeyboardInterrupt\u001b[0m: "
     ]
    }
   ],
   "source": [
    "get_max_periodicity(Aperms)"
   ]
  },
  {
   "cell_type": "markdown",
   "metadata": {},
   "source": [
    "## Type C"
   ]
  },
  {
   "cell_type": "code",
   "execution_count": null,
   "metadata": {},
   "outputs": [],
   "source": [
    "Cperms = gen_permutations('C',5)"
   ]
  },
  {
   "cell_type": "code",
   "execution_count": null,
   "metadata": {},
   "outputs": [],
   "source": [
    "for i in check_periodicity_conj_perms(Cperms):\n",
    "    print(i)"
   ]
  },
  {
   "cell_type": "code",
   "execution_count": null,
   "metadata": {},
   "outputs": [],
   "source": [
    "for i in check_SL_word_algo_perms(Cperms,3,True):\n",
    "    print(i)"
   ]
  },
  {
   "cell_type": "code",
   "execution_count": null,
   "metadata": {},
   "outputs": [],
   "source": [
    "for i in check_delta_type_prediction_perms(Cperms):\n",
    "    print(i)"
   ]
  },
  {
   "cell_type": "code",
   "execution_count": null,
   "metadata": {},
   "outputs": [
    {
     "data": {
      "application/vnd.jupyter.widget-view+json": {
       "model_id": "d6fba522044148088befb782a541c989",
       "version_major": 2,
       "version_minor": 0
      },
      "text/plain": [
       "  0%|          | 0/719 [00:00<?, ?it/s]"
      ]
     },
     "metadata": {},
     "output_type": "display_data"
    }
   ],
   "source": [
    "write_delta_types_to_file(Cperms,\"CDeltaTypes.csv\")"
   ]
  },
  {
   "cell_type": "code",
   "execution_count": null,
   "metadata": {},
   "outputs": [
    {
     "name": "stdout",
     "output_type": "stream",
     "text": [
      "5<4<3<2<1<0: [0 0 0 0 0 1]\n",
      " 5<4<3<2<1<0: [1 0 0 0 0 1]\n",
      " 5<4<3<2<1<0: [1 1 0 0 0 1]\n",
      " 5<4<3<2<1<0: [2 0 0 0 0 1]\n",
      " 5<4<3<2<1<0: [2 1 0 0 0 1]\n",
      " 5<4<3<2<1<0: [2 2 0 0 0 1]\n",
      "\n"
     ]
    }
   ],
   "source": [
    "print(*[f\"{str(i[0])}: {i[1]}\\n\" for i in check_monotone_increasing_imp_cond(Cperms)])"
   ]
  },
  {
   "cell_type": "code",
   "execution_count": null,
   "metadata": {},
   "outputs": [],
   "source": [
    "check_cond_imp_monotone_increasing(Cperms)"
   ]
  },
  {
   "cell_type": "code",
   "execution_count": null,
   "metadata": {},
   "outputs": [
    {
     "data": {
      "text/plain": [
       "[]"
      ]
     },
     "execution_count": 25,
     "metadata": {},
     "output_type": "execute_result"
    }
   ],
   "source": [
    "check_h_deltas_repeat(Cperms)"
   ]
  },
  {
   "cell_type": "code",
   "execution_count": null,
   "metadata": {},
   "outputs": [],
   "source": [
    "for i in generate_equivalences(Cperms):\n",
    "    print(f\"{i[0]} = {i[1]}\")"
   ]
  },
  {
   "cell_type": "code",
   "execution_count": null,
   "metadata": {},
   "outputs": [
    {
     "data": {
      "text/plain": [
       "(5, '0<3<1<4<2', array([0, 0, 2, 2, 1]))"
      ]
     },
     "execution_count": 79,
     "metadata": {},
     "output_type": "execute_result"
    }
   ],
   "source": [
    "get_max_periodicity(Cperms)"
   ]
  },
  {
   "cell_type": "markdown",
   "metadata": {},
   "source": [
    "## Type G"
   ]
  },
  {
   "cell_type": "code",
   "execution_count": 165,
   "metadata": {},
   "outputs": [],
   "source": [
    "G2perms = gen_permutations('G',2)"
   ]
  },
  {
   "cell_type": "code",
   "execution_count": 166,
   "metadata": {},
   "outputs": [
    {
     "data": {
      "application/vnd.jupyter.widget-view+json": {
       "model_id": "7e05de8693e445c2bdc4691cbe8465bd",
       "version_major": 2,
       "version_minor": 0
      },
      "text/plain": [
       "  0%|          | 0/5 [00:00<?, ?it/s]"
      ]
     },
     "metadata": {},
     "output_type": "display_data"
    },
    {
     "data": {
      "text/plain": [
       "[]"
      ]
     },
     "execution_count": 166,
     "metadata": {},
     "output_type": "execute_result"
    }
   ],
   "source": [
    "check_standard_fac_same_parrallel(G2perms,k=3)"
   ]
  },
  {
   "cell_type": "code",
   "execution_count": null,
   "metadata": {},
   "outputs": [],
   "source": [
    "for i in check_periodicity_conj_perms(G2perms):\n",
    "    print(i)"
   ]
  },
  {
   "cell_type": "code",
   "execution_count": null,
   "metadata": {},
   "outputs": [
    {
     "data": {
      "text/plain": [
       "(5, '1<0<2', array([1, 1, 3]))"
      ]
     },
     "execution_count": 19,
     "metadata": {},
     "output_type": "execute_result"
    }
   ],
   "source": [
    "get_max_periodicity(G2perms)"
   ]
  },
  {
   "cell_type": "code",
   "execution_count": null,
   "metadata": {},
   "outputs": [
    {
     "name": "stdout",
     "output_type": "stream",
     "text": [
      "('2<0<1', array([1, 3, 4]), [[2, 1], '21'], [[1, 1]])\n",
      "('2<0<1', array([2, 3, 5]), [[2, 1], '2210'], ['2210', [1, 1]])\n",
      "('2<0<1', array([2, 5, 7]), [[2, 2], '21'], [[1, 1]])\n",
      "('2<0<1', array([3, 5, 8]), [[2, 2], '2210'], ['2210', [1, 2]])\n",
      "('2<0<1', array([ 3,  7, 10]), [[2, 3], '21'], [[1, 1]])\n",
      "('2<0<1', array([ 4,  7, 11]), [[2, 3], '2210'], ['2210', [1, 3]])\n",
      "('2<0<1', array([ 4,  9, 13]), [[2, 4], '21'], [[1, 1]])\n",
      "('2<0<1', array([ 5,  9, 14]), [[2, 4], '2210'], ['2210', [1, 4]])\n",
      "('2<1<0', array([1, 3, 4]), [[2, 1], '21'], [[1, 1]])\n",
      "('2<1<0', array([2, 3, 5]), [[2, 1], '2210'], ['2210', [1, 1]])\n",
      "('2<1<0', array([2, 5, 7]), [[2, 2], '21'], [[1, 1]])\n",
      "('2<1<0', array([3, 5, 8]), [[2, 2], '2210'], ['2210', [1, 2]])\n",
      "('2<1<0', array([ 3,  7, 10]), [[2, 3], '21'], [[1, 1]])\n",
      "('2<1<0', array([ 4,  7, 11]), [[2, 3], '2210'], ['2210', [1, 3]])\n",
      "('2<1<0', array([ 4,  9, 13]), [[2, 4], '21'], [[1, 1]])\n",
      "('2<1<0', array([ 5,  9, 14]), [[2, 4], '2210'], ['2210', [1, 4]])\n"
     ]
    }
   ],
   "source": [
    "for i in check_SL_word_algo_perms(G2perms,5,equal=True):\n",
    "    print(i)"
   ]
  },
  {
   "cell_type": "code",
   "execution_count": null,
   "metadata": {},
   "outputs": [],
   "source": [
    "for i in check_delta_type_prediction_perms(G2perms):\n",
    "    print(i)"
   ]
  },
  {
   "cell_type": "code",
   "execution_count": null,
   "metadata": {},
   "outputs": [
    {
     "data": {
      "application/vnd.jupyter.widget-view+json": {
       "model_id": "a36bb7f782cd48ed94eba942f4d38e13",
       "version_major": 2,
       "version_minor": 0
      },
      "text/plain": [
       "  0%|          | 0/5 [00:00<?, ?it/s]"
      ]
     },
     "metadata": {},
     "output_type": "display_data"
    }
   ],
   "source": [
    "write_delta_types_to_file(G2perms,\"GDeltaTypes.csv\",False)"
   ]
  },
  {
   "cell_type": "code",
   "execution_count": null,
   "metadata": {},
   "outputs": [
    {
     "data": {
      "text/plain": [
       "[('1<0<2', '1,2,2,2'), ('1<0<2', '1,2,2,2,0')]"
      ]
     },
     "execution_count": 144,
     "metadata": {},
     "output_type": "execute_result"
    }
   ],
   "source": [
    "check_cond_imp_monotone_increasing(G2perms)"
   ]
  },
  {
   "cell_type": "code",
   "execution_count": null,
   "metadata": {},
   "outputs": [
    {
     "data": {
      "text/plain": [
       "[]"
      ]
     },
     "execution_count": 145,
     "metadata": {},
     "output_type": "execute_result"
    }
   ],
   "source": [
    "check_monotone_increasing_imp_cond(G2perms)"
   ]
  },
  {
   "cell_type": "code",
   "execution_count": null,
   "metadata": {},
   "outputs": [],
   "source": [
    "for i in G2perms:\n",
    "   ex = i.checkConvexity()\n",
    "   if(len(ex) != 0):\n",
    "       print(\"Convexity doesn't hold\")"
   ]
  },
  {
   "cell_type": "code",
   "execution_count": null,
   "metadata": {},
   "outputs": [
    {
     "data": {
      "text/plain": [
       "[]"
      ]
     },
     "execution_count": 148,
     "metadata": {},
     "output_type": "execute_result"
    }
   ],
   "source": [
    "check_h_deltas_repeat(G2perms)"
   ]
  },
  {
   "cell_type": "code",
   "execution_count": null,
   "metadata": {},
   "outputs": [],
   "source": [
    "for i in generate_equivalences(G2perms):\n",
    "    print(f\"{i[0]} = {i[1]}\")"
   ]
  },
  {
   "cell_type": "markdown",
   "metadata": {},
   "source": [
    "## Type B"
   ]
  },
  {
   "cell_type": "code",
   "execution_count": null,
   "metadata": {},
   "outputs": [],
   "source": [
    "Bperms = gen_permutations('B',5)"
   ]
  },
  {
   "cell_type": "code",
   "execution_count": null,
   "metadata": {},
   "outputs": [],
   "source": [
    "for i in check_SL_word_algo_perms(Bperms,4):\n",
    "    print(i)"
   ]
  },
  {
   "cell_type": "code",
   "execution_count": null,
   "metadata": {},
   "outputs": [
    {
     "ename": "TypeError",
     "evalue": "check_SL_word_algo_perms() missing 1 required positional argument: 'k'",
     "output_type": "error",
     "traceback": [
      "\u001b[1;31m---------------------------------------------------------------------------\u001b[0m",
      "\u001b[1;31mTypeError\u001b[0m                                 Traceback (most recent call last)",
      "Cell \u001b[1;32mIn[70], line 1\u001b[0m\n\u001b[1;32m----> 1\u001b[0m \u001b[38;5;28;01mfor\u001b[39;00m i \u001b[38;5;129;01min\u001b[39;00m \u001b[43mcheck_SL_word_algo_perms\u001b[49m\u001b[43m(\u001b[49m\u001b[43mBperms\u001b[49m\u001b[43m)\u001b[49m:\n\u001b[0;32m      2\u001b[0m     \u001b[38;5;28mprint\u001b[39m(i)\n",
      "\u001b[1;31mTypeError\u001b[0m: check_SL_word_algo_perms() missing 1 required positional argument: 'k'"
     ]
    }
   ],
   "source": [
    "for i in check_SL_word_algo_perms(Bperms):\n",
    "    print(i)"
   ]
  },
  {
   "cell_type": "code",
   "execution_count": null,
   "metadata": {},
   "outputs": [],
   "source": [
    "for i in check_delta_type_prediction_perms(Bperms):\n",
    "    print(i)"
   ]
  },
  {
   "cell_type": "code",
   "execution_count": null,
   "metadata": {},
   "outputs": [
    {
     "data": {
      "application/vnd.jupyter.widget-view+json": {
       "model_id": "55e98c71a2724d2eaf83462b943d11cb",
       "version_major": 2,
       "version_minor": 0
      },
      "text/plain": [
       "  0%|          | 0/719 [00:00<?, ?it/s]"
      ]
     },
     "metadata": {},
     "output_type": "display_data"
    }
   ],
   "source": [
    "write_delta_types_to_file(Bperms,\"BDeltaTypes.csv\")"
   ]
  },
  {
   "cell_type": "code",
   "execution_count": null,
   "metadata": {},
   "outputs": [],
   "source": [
    "check_cond_imp_monotone_increasing(Bperms)"
   ]
  },
  {
   "cell_type": "code",
   "execution_count": null,
   "metadata": {},
   "outputs": [
    {
     "data": {
      "text/plain": [
       "[]"
      ]
     },
     "execution_count": 22,
     "metadata": {},
     "output_type": "execute_result"
    }
   ],
   "source": [
    "check_monotone_increasing_imp_cond(Bperms)"
   ]
  },
  {
   "cell_type": "code",
   "execution_count": null,
   "metadata": {},
   "outputs": [],
   "source": [
    "for i in Bperms:\n",
    "   ex = i.checkConvexity()\n",
    "   if(len(ex) != 0):\n",
    "       print(\"Convexity doesn't hold\")"
   ]
  },
  {
   "cell_type": "code",
   "execution_count": null,
   "metadata": {},
   "outputs": [
    {
     "data": {
      "text/plain": [
       "[]"
      ]
     },
     "execution_count": 118,
     "metadata": {},
     "output_type": "execute_result"
    }
   ],
   "source": [
    "check_h_deltas_repeat(Bperms)"
   ]
  },
  {
   "cell_type": "code",
   "execution_count": null,
   "metadata": {},
   "outputs": [],
   "source": [
    "for i in generate_equivalences(Bperms):\n",
    "    print(f\"{i[0]} = {i[1]}\")"
   ]
  },
  {
   "cell_type": "markdown",
   "metadata": {},
   "source": [
    "## Type D"
   ]
  },
  {
   "cell_type": "code",
   "execution_count": null,
   "metadata": {},
   "outputs": [],
   "source": [
    "Dperms = gen_permutations('D',6)"
   ]
  },
  {
   "cell_type": "code",
   "execution_count": null,
   "metadata": {},
   "outputs": [],
   "source": [
    "for i in check_SL_word_algo_perms(Dperms,3):\n",
    "    print(i)"
   ]
  },
  {
   "cell_type": "code",
   "execution_count": null,
   "metadata": {},
   "outputs": [],
   "source": [
    "for i in check_delta_type_prediction_perms(Dperms):\n",
    "    print(i)"
   ]
  },
  {
   "cell_type": "code",
   "execution_count": null,
   "metadata": {},
   "outputs": [
    {
     "data": {
      "application/vnd.jupyter.widget-view+json": {
       "model_id": "6dbef1a5e4ef432e9c66365a228eb360",
       "version_major": 2,
       "version_minor": 0
      },
      "text/plain": [
       "  0%|          | 0/5039 [00:00<?, ?it/s]"
      ]
     },
     "metadata": {},
     "output_type": "display_data"
    }
   ],
   "source": [
    "write_delta_types_to_file(Dperms,\"DDeltaTypes.csv\")"
   ]
  },
  {
   "cell_type": "code",
   "execution_count": null,
   "metadata": {},
   "outputs": [
    {
     "data": {
      "text/plain": [
       "[('5<4<3<2<1<0', array([0, 0, 0, 0, 0, 1])),\n",
       " ('5<4<3<2<1<0', array([0, 1, 0, 0, 0, 1])),\n",
       " ('5<4<3<2<1<0', array([1, 1, 0, 0, 0, 1]))]"
      ]
     },
     "execution_count": 130,
     "metadata": {},
     "output_type": "execute_result"
    }
   ],
   "source": [
    "check_monotone_increasing_imp_cond(Dperms)"
   ]
  },
  {
   "cell_type": "code",
   "execution_count": null,
   "metadata": {},
   "outputs": [
    {
     "data": {
      "text/plain": [
       "[('2<0<4<5<1<3', '2,3,1,5,4,3'),\n",
       " ('2<0<4<5<1<3', '2,3,1,5,4,3,0'),\n",
       " ('2<0<5<4<1<3', '2,3,1,4,5,3'),\n",
       " ('2<0<5<4<1<3', '2,3,1,4,5,3,0'),\n",
       " ('2<1<4<5<0<3', '2,3,0,5,4,3'),\n",
       " ('2<1<4<5<0<3', '2,3,0,5,4,3,1'),\n",
       " ('2<1<5<4<0<3', '2,3,0,4,5,3'),\n",
       " ('2<1<5<4<0<3', '2,3,0,4,5,3,1'),\n",
       " ('2<4<0<5<1<3', '2,3,1,5,4,3'),\n",
       " ('2<4<0<5<1<3', '2,3,1,5,0,4,3'),\n",
       " ('2<4<1<5<0<3', '2,3,0,5,4,3'),\n",
       " ('2<4<1<5<0<3', '2,3,0,5,1,4,3'),\n",
       " ('2<4<5<0<1<3', '2,3,1,5,4,3'),\n",
       " ('2<4<5<0<1<3', '2,3,1,0,5,4,3'),\n",
       " ('2<4<5<1<0<3', '2,3,0,5,4,3'),\n",
       " ('2<4<5<1<0<3', '2,3,0,1,5,4,3'),\n",
       " ('2<5<0<4<1<3', '2,3,1,4,5,3'),\n",
       " ('2<5<0<4<1<3', '2,3,1,4,0,5,3'),\n",
       " ('2<5<1<4<0<3', '2,3,0,4,5,3'),\n",
       " ('2<5<1<4<0<3', '2,3,0,4,1,5,3'),\n",
       " ('2<5<4<0<1<3', '2,3,1,4,5,3'),\n",
       " ('2<5<4<0<1<3', '2,3,1,0,4,5,3'),\n",
       " ('2<5<4<1<0<3', '2,3,0,4,5,3'),\n",
       " ('2<5<4<1<0<3', '2,3,0,1,4,5,3'),\n",
       " ('3<0<1<4<5<2', '3,2,5,1,0,2'),\n",
       " ('3<0<1<4<5<2', '3,2,5,4,1,0,2'),\n",
       " ('3<0<1<5<4<2', '3,2,4,1,0,2'),\n",
       " ('3<0<1<5<4<2', '3,2,4,5,1,0,2'),\n",
       " ('3<0<4<1<5<2', '3,2,5,1,0,2'),\n",
       " ('3<0<4<1<5<2', '3,2,5,1,4,0,2'),\n",
       " ('3<0<5<1<4<2', '3,2,4,1,0,2'),\n",
       " ('3<0<5<1<4<2', '3,2,4,1,5,0,2'),\n",
       " ('3<1<0<4<5<2', '3,2,5,0,1,2'),\n",
       " ('3<1<0<4<5<2', '3,2,5,4,0,1,2'),\n",
       " ('3<1<0<5<4<2', '3,2,4,0,1,2'),\n",
       " ('3<1<0<5<4<2', '3,2,4,5,0,1,2'),\n",
       " ('3<1<4<0<5<2', '3,2,5,0,1,2'),\n",
       " ('3<1<4<0<5<2', '3,2,5,0,4,1,2'),\n",
       " ('3<1<5<0<4<2', '3,2,4,0,1,2'),\n",
       " ('3<1<5<0<4<2', '3,2,4,0,5,1,2'),\n",
       " ('3<4<0<1<5<2', '3,2,5,1,0,2'),\n",
       " ('3<4<0<1<5<2', '3,2,5,1,0,2,4'),\n",
       " ('3<4<1<0<5<2', '3,2,5,0,1,2'),\n",
       " ('3<4<1<0<5<2', '3,2,5,0,1,2,4'),\n",
       " ('3<5<0<1<4<2', '3,2,4,1,0,2'),\n",
       " ('3<5<0<1<4<2', '3,2,4,1,0,2,5'),\n",
       " ('3<5<1<0<4<2', '3,2,4,0,1,2'),\n",
       " ('3<5<1<0<4<2', '3,2,4,0,1,2,5')]"
      ]
     },
     "execution_count": 131,
     "metadata": {},
     "output_type": "execute_result"
    }
   ],
   "source": [
    "check_cond_imp_monotone_increasing(Dperms)"
   ]
  },
  {
   "cell_type": "code",
   "execution_count": null,
   "metadata": {},
   "outputs": [],
   "source": [
    "for i in Dperms:\n",
    "   ex = i.checkConvexity()\n",
    "   if(len(ex) != 0):\n",
    "       print(\"Convexity doesn't hold\")"
   ]
  },
  {
   "cell_type": "code",
   "execution_count": null,
   "metadata": {},
   "outputs": [
    {
     "data": {
      "text/plain": [
       "[]"
      ]
     },
     "execution_count": 134,
     "metadata": {},
     "output_type": "execute_result"
    }
   ],
   "source": [
    "check_h_deltas_repeat(Dperms)"
   ]
  },
  {
   "cell_type": "code",
   "execution_count": null,
   "metadata": {},
   "outputs": [],
   "source": [
    "for i in generate_equivalences(Dperms):\n",
    "    print(f\"{i[0]} = {i[1]}\")"
   ]
  },
  {
   "cell_type": "markdown",
   "metadata": {},
   "source": [
    "## Type E"
   ]
  },
  {
   "cell_type": "code",
   "execution_count": 21,
   "metadata": {},
   "outputs": [],
   "source": [
    "Eperms = gen_permutations('E',7)"
   ]
  },
  {
   "cell_type": "code",
   "execution_count": 22,
   "metadata": {},
   "outputs": [
    {
     "data": {
      "application/vnd.jupyter.widget-view+json": {
       "model_id": "6c2ff8dc6d074bf8ad4e8d9d5644a724",
       "version_major": 2,
       "version_minor": 0
      },
      "text/plain": [
       "  0%|          | 0/40319 [00:00<?, ?it/s]"
      ]
     },
     "metadata": {},
     "output_type": "display_data"
    },
    {
     "ename": "KeyboardInterrupt",
     "evalue": "",
     "output_type": "error",
     "traceback": [
      "\u001b[1;31m---------------------------------------------------------------------------\u001b[0m",
      "\u001b[1;31mIndexError\u001b[0m                                Traceback (most recent call last)",
      "File \u001b[1;32mc:\\Users\\Corbe\\AppData\\Local\\Programs\\Python\\Python311\\Lib\\multiprocessing\\pool.py:856\u001b[0m, in \u001b[0;36mIMapIterator.next\u001b[1;34m(self, timeout)\u001b[0m\n\u001b[0;32m    855\u001b[0m \u001b[38;5;28;01mtry\u001b[39;00m:\n\u001b[1;32m--> 856\u001b[0m     item \u001b[38;5;241m=\u001b[39m \u001b[38;5;28mself\u001b[39m\u001b[38;5;241m.\u001b[39m_items\u001b[38;5;241m.\u001b[39mpopleft()\n\u001b[0;32m    857\u001b[0m \u001b[38;5;28;01mexcept\u001b[39;00m \u001b[38;5;167;01mIndexError\u001b[39;00m:\n",
      "\u001b[1;31mIndexError\u001b[0m: pop from an empty deque",
      "\nDuring handling of the above exception, another exception occurred:\n",
      "\u001b[1;31mKeyboardInterrupt\u001b[0m                         Traceback (most recent call last)",
      "Cell \u001b[1;32mIn[22], line 1\u001b[0m\n\u001b[1;32m----> 1\u001b[0m \u001b[38;5;28;43;01mfor\u001b[39;49;00m\u001b[43m \u001b[49m\u001b[43mi\u001b[49m\u001b[43m \u001b[49m\u001b[38;5;129;43;01min\u001b[39;49;00m\u001b[43m \u001b[49m\u001b[43mcheck_standard_fac_same_parrallel\u001b[49m\u001b[43m(\u001b[49m\u001b[43mEperms\u001b[49m\u001b[43m,\u001b[49m\u001b[43mk\u001b[49m\u001b[38;5;241;43m=\u001b[39;49m\u001b[38;5;241;43m3\u001b[39;49m\u001b[43m)\u001b[49m\u001b[43m:\u001b[49m\n\u001b[0;32m      2\u001b[0m \u001b[43m    \u001b[49m\u001b[38;5;28;43mprint\u001b[39;49m\u001b[43m(\u001b[49m\u001b[43mi\u001b[49m\u001b[43m)\u001b[49m\n",
      "Cell \u001b[1;32mIn[8], line 10\u001b[0m, in \u001b[0;36mcheck_standard_fac_same_parrallel\u001b[1;34m(rootSystems, total, k)\u001b[0m\n\u001b[0;32m      8\u001b[0m         \u001b[38;5;28;01myield\u001b[39;00m result\n\u001b[0;32m      9\u001b[0m \u001b[38;5;28;01mwith\u001b[39;00m mp\u001b[38;5;241m.\u001b[39mPool() \u001b[38;5;28;01mas\u001b[39;00m p:\n\u001b[1;32m---> 10\u001b[0m \u001b[43m    \u001b[49m\u001b[38;5;28;43;01mfor\u001b[39;49;00m\u001b[43m \u001b[49m\u001b[43mresult\u001b[49m\u001b[43m \u001b[49m\u001b[38;5;129;43;01min\u001b[39;49;00m\u001b[43m \u001b[49m\u001b[43mtqdm\u001b[49m\u001b[43m(\u001b[49m\u001b[43mp\u001b[49m\u001b[38;5;241;43m.\u001b[39;49m\u001b[43mimap_unordered\u001b[49m\u001b[43m(\u001b[49m\u001b[43mpartial\u001b[49m\u001b[43m(\u001b[49m\u001b[43mcheck_standard_fac_same\u001b[49m\u001b[43m,\u001b[49m\u001b[43mk\u001b[49m\u001b[38;5;241;43m=\u001b[39;49m\u001b[43mk\u001b[49m\u001b[43m)\u001b[49m\u001b[43m,\u001b[49m\u001b[43mrootSystems\u001b[49m\u001b[43m,\u001b[49m\u001b[43mchunksize\u001b[49m\u001b[38;5;241;43m=\u001b[39;49m\u001b[38;5;241;43m10\u001b[39;49m\u001b[43m)\u001b[49m\u001b[43m,\u001b[49m\u001b[43mtotal\u001b[49m\u001b[38;5;241;43m=\u001b[39;49m\u001b[43mtotal\u001b[49m\u001b[43m)\u001b[49m\u001b[43m:\u001b[49m\n\u001b[0;32m     11\u001b[0m \u001b[43m        \u001b[49m\u001b[38;5;28;43;01mif\u001b[39;49;00m\u001b[43m(\u001b[49m\u001b[43mresult\u001b[49m\u001b[43m \u001b[49m\u001b[38;5;241;43m!=\u001b[39;49m\u001b[43m \u001b[49m\u001b[38;5;28;43;01mTrue\u001b[39;49;00m\u001b[43m)\u001b[49m\u001b[43m:\u001b[49m\n\u001b[0;32m     12\u001b[0m \u001b[43m            \u001b[49m\u001b[38;5;28;43;01myield\u001b[39;49;00m\u001b[43m \u001b[49m\u001b[43mresult\u001b[49m\n",
      "File \u001b[1;32mc:\\Users\\Corbe\\AppData\\Local\\Programs\\Python\\Python311\\Lib\\site-packages\\tqdm\\notebook.py:250\u001b[0m, in \u001b[0;36mtqdm_notebook.__iter__\u001b[1;34m(self)\u001b[0m\n\u001b[0;32m    248\u001b[0m \u001b[38;5;28;01mtry\u001b[39;00m:\n\u001b[0;32m    249\u001b[0m     it \u001b[38;5;241m=\u001b[39m \u001b[38;5;28msuper\u001b[39m()\u001b[38;5;241m.\u001b[39m\u001b[38;5;21m__iter__\u001b[39m()\n\u001b[1;32m--> 250\u001b[0m \u001b[43m    \u001b[49m\u001b[38;5;28;43;01mfor\u001b[39;49;00m\u001b[43m \u001b[49m\u001b[43mobj\u001b[49m\u001b[43m \u001b[49m\u001b[38;5;129;43;01min\u001b[39;49;00m\u001b[43m \u001b[49m\u001b[43mit\u001b[49m\u001b[43m:\u001b[49m\n\u001b[0;32m    251\u001b[0m \u001b[43m        \u001b[49m\u001b[38;5;66;43;03m# return super(tqdm...) will not catch exception\u001b[39;49;00m\n\u001b[0;32m    252\u001b[0m \u001b[43m        \u001b[49m\u001b[38;5;28;43;01myield\u001b[39;49;00m\u001b[43m \u001b[49m\u001b[43mobj\u001b[49m\n\u001b[0;32m    253\u001b[0m \u001b[38;5;66;03m# NB: except ... [ as ...] breaks IPython async KeyboardInterrupt\u001b[39;00m\n",
      "File \u001b[1;32mc:\\Users\\Corbe\\AppData\\Local\\Programs\\Python\\Python311\\Lib\\site-packages\\tqdm\\std.py:1181\u001b[0m, in \u001b[0;36mtqdm.__iter__\u001b[1;34m(self)\u001b[0m\n\u001b[0;32m   1178\u001b[0m time \u001b[38;5;241m=\u001b[39m \u001b[38;5;28mself\u001b[39m\u001b[38;5;241m.\u001b[39m_time\n\u001b[0;32m   1180\u001b[0m \u001b[38;5;28;01mtry\u001b[39;00m:\n\u001b[1;32m-> 1181\u001b[0m \u001b[43m    \u001b[49m\u001b[38;5;28;43;01mfor\u001b[39;49;00m\u001b[43m \u001b[49m\u001b[43mobj\u001b[49m\u001b[43m \u001b[49m\u001b[38;5;129;43;01min\u001b[39;49;00m\u001b[43m \u001b[49m\u001b[43miterable\u001b[49m\u001b[43m:\u001b[49m\n\u001b[0;32m   1182\u001b[0m \u001b[43m        \u001b[49m\u001b[38;5;28;43;01myield\u001b[39;49;00m\u001b[43m \u001b[49m\u001b[43mobj\u001b[49m\n\u001b[0;32m   1183\u001b[0m \u001b[43m        \u001b[49m\u001b[38;5;66;43;03m# Update and possibly print the progressbar.\u001b[39;49;00m\n\u001b[0;32m   1184\u001b[0m \u001b[43m        \u001b[49m\u001b[38;5;66;43;03m# Note: does not call self.update(1) for speed optimisation.\u001b[39;49;00m\n",
      "File \u001b[1;32mc:\\Users\\Corbe\\AppData\\Local\\Programs\\Python\\Python311\\Lib\\multiprocessing\\pool.py:451\u001b[0m, in \u001b[0;36m<genexpr>\u001b[1;34m(.0)\u001b[0m\n\u001b[0;32m    443\u001b[0m result \u001b[38;5;241m=\u001b[39m IMapUnorderedIterator(\u001b[38;5;28mself\u001b[39m)\n\u001b[0;32m    444\u001b[0m \u001b[38;5;28mself\u001b[39m\u001b[38;5;241m.\u001b[39m_taskqueue\u001b[38;5;241m.\u001b[39mput(\n\u001b[0;32m    445\u001b[0m     (\n\u001b[0;32m    446\u001b[0m         \u001b[38;5;28mself\u001b[39m\u001b[38;5;241m.\u001b[39m_guarded_task_generation(result\u001b[38;5;241m.\u001b[39m_job,\n\u001b[1;32m   (...)\u001b[0m\n\u001b[0;32m    449\u001b[0m         result\u001b[38;5;241m.\u001b[39m_set_length\n\u001b[0;32m    450\u001b[0m     ))\n\u001b[1;32m--> 451\u001b[0m \u001b[38;5;28;01mreturn\u001b[39;00m \u001b[43m(\u001b[49m\u001b[43mitem\u001b[49m\u001b[43m \u001b[49m\u001b[38;5;28;43;01mfor\u001b[39;49;00m\u001b[43m \u001b[49m\u001b[43mchunk\u001b[49m\u001b[43m \u001b[49m\u001b[38;5;129;43;01min\u001b[39;49;00m\u001b[43m \u001b[49m\u001b[43mresult\u001b[49m\u001b[43m \u001b[49m\u001b[38;5;28;43;01mfor\u001b[39;49;00m\u001b[43m \u001b[49m\u001b[43mitem\u001b[49m\u001b[43m \u001b[49m\u001b[38;5;129;43;01min\u001b[39;49;00m\u001b[43m \u001b[49m\u001b[43mchunk\u001b[49m\u001b[43m)\u001b[49m\n",
      "File \u001b[1;32mc:\\Users\\Corbe\\AppData\\Local\\Programs\\Python\\Python311\\Lib\\multiprocessing\\pool.py:861\u001b[0m, in \u001b[0;36mIMapIterator.next\u001b[1;34m(self, timeout)\u001b[0m\n\u001b[0;32m    859\u001b[0m     \u001b[38;5;28mself\u001b[39m\u001b[38;5;241m.\u001b[39m_pool \u001b[38;5;241m=\u001b[39m \u001b[38;5;28;01mNone\u001b[39;00m\n\u001b[0;32m    860\u001b[0m     \u001b[38;5;28;01mraise\u001b[39;00m \u001b[38;5;167;01mStopIteration\u001b[39;00m \u001b[38;5;28;01mfrom\u001b[39;00m \u001b[38;5;28;01mNone\u001b[39;00m\n\u001b[1;32m--> 861\u001b[0m \u001b[38;5;28;43mself\u001b[39;49m\u001b[38;5;241;43m.\u001b[39;49m\u001b[43m_cond\u001b[49m\u001b[38;5;241;43m.\u001b[39;49m\u001b[43mwait\u001b[49m\u001b[43m(\u001b[49m\u001b[43mtimeout\u001b[49m\u001b[43m)\u001b[49m\n\u001b[0;32m    862\u001b[0m \u001b[38;5;28;01mtry\u001b[39;00m:\n\u001b[0;32m    863\u001b[0m     item \u001b[38;5;241m=\u001b[39m \u001b[38;5;28mself\u001b[39m\u001b[38;5;241m.\u001b[39m_items\u001b[38;5;241m.\u001b[39mpopleft()\n",
      "File \u001b[1;32mc:\\Users\\Corbe\\AppData\\Local\\Programs\\Python\\Python311\\Lib\\threading.py:320\u001b[0m, in \u001b[0;36mCondition.wait\u001b[1;34m(self, timeout)\u001b[0m\n\u001b[0;32m    318\u001b[0m \u001b[38;5;28;01mtry\u001b[39;00m:    \u001b[38;5;66;03m# restore state no matter what (e.g., KeyboardInterrupt)\u001b[39;00m\n\u001b[0;32m    319\u001b[0m     \u001b[38;5;28;01mif\u001b[39;00m timeout \u001b[38;5;129;01mis\u001b[39;00m \u001b[38;5;28;01mNone\u001b[39;00m:\n\u001b[1;32m--> 320\u001b[0m         \u001b[43mwaiter\u001b[49m\u001b[38;5;241;43m.\u001b[39;49m\u001b[43macquire\u001b[49m\u001b[43m(\u001b[49m\u001b[43m)\u001b[49m\n\u001b[0;32m    321\u001b[0m         gotit \u001b[38;5;241m=\u001b[39m \u001b[38;5;28;01mTrue\u001b[39;00m\n\u001b[0;32m    322\u001b[0m     \u001b[38;5;28;01melse\u001b[39;00m:\n",
      "\u001b[1;31mKeyboardInterrupt\u001b[0m: "
     ]
    }
   ],
   "source": [
    "for i in check_standard_fac_same_parrallel(Eperms,k=3):\n",
    "    print(i)"
   ]
  },
  {
   "cell_type": "code",
   "execution_count": null,
   "metadata": {},
   "outputs": [
    {
     "data": {
      "application/vnd.jupyter.widget-view+json": {
       "model_id": "aff654216e694d339102e31db3a6976a",
       "version_major": 2,
       "version_minor": 0
      },
      "text/plain": [
       "  0%|          | 0/40319 [00:00<?, ?it/s]"
      ]
     },
     "metadata": {},
     "output_type": "display_data"
    }
   ],
   "source": [
    "write_delta_types_to_file(Eperms,'E7DeltaTypes.csv')"
   ]
  },
  {
   "cell_type": "code",
   "execution_count": null,
   "metadata": {},
   "outputs": [],
   "source": [
    "for i in check_periodicity_conj_perms(Eperms):\n",
    "    print(i)"
   ]
  },
  {
   "cell_type": "code",
   "execution_count": null,
   "metadata": {},
   "outputs": [],
   "source": [
    "for i in check_one_smallest_last(Eperms):\n",
    "    print(i)"
   ]
  },
  {
   "cell_type": "code",
   "execution_count": null,
   "metadata": {},
   "outputs": [
    {
     "ename": "KeyboardInterrupt",
     "evalue": "",
     "output_type": "error",
     "traceback": [
      "\u001b[1;31m---------------------------------------------------------------------------\u001b[0m",
      "\u001b[1;31mKeyboardInterrupt\u001b[0m                         Traceback (most recent call last)",
      "Cell \u001b[1;32mIn[59], line 1\u001b[0m\n\u001b[1;32m----> 1\u001b[0m \u001b[38;5;28;43;01mfor\u001b[39;49;00m\u001b[43m \u001b[49m\u001b[43mi\u001b[49m\u001b[43m \u001b[49m\u001b[38;5;129;43;01min\u001b[39;49;00m\u001b[43m \u001b[49m\u001b[43mcheckSLWordAlgoPerms\u001b[49m\u001b[43m(\u001b[49m\u001b[43mEperms\u001b[49m\u001b[43m,\u001b[49m\u001b[38;5;241;43m3\u001b[39;49m\u001b[43m)\u001b[49m\u001b[43m:\u001b[49m\n\u001b[0;32m      2\u001b[0m \u001b[43m    \u001b[49m\u001b[38;5;28;43mprint\u001b[39;49m\u001b[43m(\u001b[49m\u001b[43mi\u001b[49m\u001b[43m)\u001b[49m\n",
      "Cell \u001b[1;32mIn[50], line 3\u001b[0m, in \u001b[0;36mcheckSLWordAlgoPerms\u001b[1;34m(rootsyss, k)\u001b[0m\n\u001b[0;32m      1\u001b[0m \u001b[38;5;28;01mdef\u001b[39;00m \u001b[38;5;21mcheckSLWordAlgoPerms\u001b[39m(rootsyss,k):\n\u001b[0;32m      2\u001b[0m     \u001b[38;5;28;01mfor\u001b[39;00m rootsys \u001b[38;5;129;01min\u001b[39;00m rootsyss:\n\u001b[1;32m----> 3\u001b[0m \u001b[43m        \u001b[49m\u001b[38;5;28;43;01mfor\u001b[39;49;00m\u001b[43m \u001b[49m\u001b[43mexc\u001b[49m\u001b[43m \u001b[49m\u001b[38;5;129;43;01min\u001b[39;49;00m\u001b[43m \u001b[49m\u001b[43mcheckSLWordAlgo\u001b[49m\u001b[43m(\u001b[49m\u001b[43mrootsys\u001b[49m\u001b[43m,\u001b[49m\u001b[43mk\u001b[49m\u001b[43m)\u001b[49m\u001b[43m:\u001b[49m\n\u001b[0;32m      4\u001b[0m \u001b[43m            \u001b[49m\u001b[38;5;28;43;01myield\u001b[39;49;00m\u001b[43m \u001b[49m\u001b[43m(\u001b[49m\u001b[38;5;28;43mstr\u001b[39;49m\u001b[43m(\u001b[49m\u001b[43mrootsys\u001b[49m\u001b[38;5;241;43m.\u001b[39;49m\u001b[43mordering\u001b[49m\u001b[43m)\u001b[49m\u001b[43m,\u001b[49m\u001b[43mexc\u001b[49m\u001b[43m,\u001b[49m\u001b[43mrootsys\u001b[49m\u001b[38;5;241;43m.\u001b[39;49m\u001b[43mparseToDeltaFormat\u001b[49m\u001b[43m(\u001b[49m\u001b[43mrootsys\u001b[49m\u001b[38;5;241;43m.\u001b[39;49m\u001b[43mgetWords\u001b[49m\u001b[43m(\u001b[49m\u001b[43mexc\u001b[49m\u001b[43m)\u001b[49m\u001b[43m[\u001b[49m\u001b[38;5;241;43m0\u001b[39;49m\u001b[43m]\u001b[49m\u001b[43m)\u001b[49m\u001b[43m,\u001b[49m\u001b[43mrootsys\u001b[49m\u001b[38;5;241;43m.\u001b[39;49m\u001b[43mparseToDeltaFormat\u001b[49m\u001b[43m(\u001b[49m\u001b[43mrootsys\u001b[49m\u001b[38;5;241;43m.\u001b[39;49m\u001b[43mSLWordAlgo\u001b[49m\u001b[43m(\u001b[49m\u001b[43mexc\u001b[49m\u001b[43m)\u001b[49m\u001b[43m)\u001b[49m\u001b[43m)\u001b[49m\n",
      "Cell \u001b[1;32mIn[50], line 9\u001b[0m, in \u001b[0;36mcheckSLWordAlgo\u001b[1;34m(rootsys, k)\u001b[0m\n\u001b[0;32m      7\u001b[0m \u001b[38;5;28;01mfor\u001b[39;00m baseWeight \u001b[38;5;129;01min\u001b[39;00m rootsys\u001b[38;5;241m.\u001b[39mbaseWeights[:\u001b[38;5;241m-\u001b[39m\u001b[38;5;241m1\u001b[39m]:\n\u001b[0;32m      8\u001b[0m     weight \u001b[38;5;241m=\u001b[39m baseWeight \u001b[38;5;241m+\u001b[39m kprime\u001b[38;5;241m*\u001b[39mrootsys\u001b[38;5;241m.\u001b[39mdelta\n\u001b[1;32m----> 9\u001b[0m     \u001b[38;5;28;01mif\u001b[39;00m(word\u001b[38;5;241m.\u001b[39mletterListCmp(rootsys\u001b[38;5;241m.\u001b[39mgetWords(weight)[\u001b[38;5;241m0\u001b[39m]\u001b[38;5;241m.\u001b[39mstring,\u001b[43mrootsys\u001b[49m\u001b[38;5;241;43m.\u001b[39;49m\u001b[43mSLWordAlgo\u001b[49m\u001b[43m(\u001b[49m\u001b[43mweight\u001b[49m\u001b[43m)\u001b[49m\u001b[38;5;241m.\u001b[39mstring) \u001b[38;5;241m>\u001b[39m \u001b[38;5;241m0\u001b[39m):\n\u001b[0;32m     10\u001b[0m         \u001b[38;5;28;01myield\u001b[39;00m weight\n",
      "File \u001b[1;32mc:\\Users\\Corbe\\Documents\\GitHub\\LyndonWords\\LyndonWords.py:897\u001b[0m, in \u001b[0;36mrootSystem.SLWordAlgo\u001b[1;34m(self, weightsToGenerate)\u001b[0m\n\u001b[0;32m    895\u001b[0m foundFlag \u001b[38;5;241m=\u001b[39m \u001b[38;5;28;01mFalse\u001b[39;00m\n\u001b[0;32m    896\u001b[0m \u001b[38;5;28;01mfor\u001b[39;00m possibleAppendInd \u001b[38;5;129;01min\u001b[39;00m \u001b[38;5;28mrange\u001b[39m(\u001b[38;5;28mlen\u001b[39m(currentWords)):\n\u001b[1;32m--> 897\u001b[0m     \u001b[38;5;28;01mif\u001b[39;00m(\u001b[38;5;28;43mself\u001b[39;49m\u001b[38;5;241;43m.\u001b[39;49m\u001b[43mcontainsWeight\u001b[49m\u001b[43m(\u001b[49m\u001b[43mcurrentWords\u001b[49m\u001b[43m[\u001b[49m\u001b[38;5;241;43m-\u001b[39;49m\u001b[38;5;241;43m1\u001b[39;49m\u001b[43m]\u001b[49m\u001b[43m[\u001b[49m\u001b[38;5;241;43m0\u001b[39;49m\u001b[43m]\u001b[49m\u001b[38;5;241;43m.\u001b[39;49m\u001b[43mweights\u001b[49m\u001b[43m \u001b[49m\u001b[38;5;241;43m+\u001b[39;49m\u001b[43m \u001b[49m\u001b[43mcurrentWords\u001b[49m\u001b[43m[\u001b[49m\u001b[43mpossibleAppendInd\u001b[49m\u001b[43m]\u001b[49m\u001b[43m[\u001b[49m\u001b[38;5;241;43m0\u001b[39;49m\u001b[43m]\u001b[49m\u001b[38;5;241;43m.\u001b[39;49m\u001b[43mweights\u001b[49m\u001b[43m)\u001b[49m):\n\u001b[0;32m    898\u001b[0m         \u001b[38;5;28;01mif\u001b[39;00m(possibleAppendInd \u001b[38;5;241m==\u001b[39m \u001b[38;5;28mlen\u001b[39m(currentWords)\u001b[38;5;241m-\u001b[39m\u001b[38;5;241m2\u001b[39m):\n\u001b[0;32m    899\u001b[0m             availableCofac \u001b[38;5;241m=\u001b[39m \u001b[38;5;28;01mTrue\u001b[39;00m\n",
      "File \u001b[1;32mc:\\Users\\Corbe\\Documents\\GitHub\\LyndonWords\\LyndonWords.py:808\u001b[0m, in \u001b[0;36mrootSystem.containsWeight\u001b[1;34m(self, weights)\u001b[0m\n\u001b[0;32m    806\u001b[0m weights \u001b[38;5;241m=\u001b[39m np\u001b[38;5;241m.\u001b[39marray(weights,dtype\u001b[38;5;241m=\u001b[39m\u001b[38;5;28mint\u001b[39m)\n\u001b[0;32m    807\u001b[0m weights \u001b[38;5;241m-\u001b[39m\u001b[38;5;241m=\u001b[39m ((\u001b[38;5;28msum\u001b[39m(weights)\u001b[38;5;241m-\u001b[39m\u001b[38;5;241m1\u001b[39m)\u001b[38;5;241m/\u001b[39m\u001b[38;5;241m/\u001b[39m\u001b[38;5;28mself\u001b[39m\u001b[38;5;241m.\u001b[39mdeltaHeight) \u001b[38;5;241m*\u001b[39m \u001b[38;5;28mself\u001b[39m\u001b[38;5;241m.\u001b[39mdelta\n\u001b[1;32m--> 808\u001b[0m \u001b[38;5;28;01mreturn\u001b[39;00m np\u001b[38;5;241m.\u001b[39many(\u001b[43mnp\u001b[49m\u001b[38;5;241;43m.\u001b[39;49m\u001b[43mall\u001b[49m\u001b[43m(\u001b[49m\u001b[38;5;28;43mself\u001b[39;49m\u001b[38;5;241;43m.\u001b[39;49m\u001b[43mbaseWeights\u001b[49m\u001b[43m[\u001b[49m\u001b[43m:\u001b[49m\u001b[43m]\u001b[49m\u001b[43m \u001b[49m\u001b[38;5;241;43m==\u001b[39;49m\u001b[43m \u001b[49m\u001b[43mweights\u001b[49m\u001b[43m,\u001b[49m\u001b[43maxis\u001b[49m\u001b[38;5;241;43m=\u001b[39;49m\u001b[38;5;241;43m1\u001b[39;49m\u001b[43m)\u001b[49m)\n",
      "File \u001b[1;32m<__array_function__ internals>:180\u001b[0m, in \u001b[0;36mall\u001b[1;34m(*args, **kwargs)\u001b[0m\n",
      "File \u001b[1;32mc:\\Users\\Corbe\\AppData\\Local\\Programs\\Python\\Python311\\Lib\\site-packages\\numpy\\core\\fromnumeric.py:2489\u001b[0m, in \u001b[0;36mall\u001b[1;34m(a, axis, out, keepdims, where)\u001b[0m\n\u001b[0;32m   2406\u001b[0m \u001b[38;5;129m@array_function_dispatch\u001b[39m(_all_dispatcher)\n\u001b[0;32m   2407\u001b[0m \u001b[38;5;28;01mdef\u001b[39;00m \u001b[38;5;21mall\u001b[39m(a, axis\u001b[38;5;241m=\u001b[39m\u001b[38;5;28;01mNone\u001b[39;00m, out\u001b[38;5;241m=\u001b[39m\u001b[38;5;28;01mNone\u001b[39;00m, keepdims\u001b[38;5;241m=\u001b[39mnp\u001b[38;5;241m.\u001b[39m_NoValue, \u001b[38;5;241m*\u001b[39m, where\u001b[38;5;241m=\u001b[39mnp\u001b[38;5;241m.\u001b[39m_NoValue):\n\u001b[0;32m   2408\u001b[0m \u001b[38;5;250m    \u001b[39m\u001b[38;5;124;03m\"\"\"\u001b[39;00m\n\u001b[0;32m   2409\u001b[0m \u001b[38;5;124;03m    Test whether all array elements along a given axis evaluate to True.\u001b[39;00m\n\u001b[0;32m   2410\u001b[0m \n\u001b[1;32m   (...)\u001b[0m\n\u001b[0;32m   2487\u001b[0m \n\u001b[0;32m   2488\u001b[0m \u001b[38;5;124;03m    \"\"\"\u001b[39;00m\n\u001b[1;32m-> 2489\u001b[0m     \u001b[38;5;28;01mreturn\u001b[39;00m \u001b[43m_wrapreduction\u001b[49m\u001b[43m(\u001b[49m\u001b[43ma\u001b[49m\u001b[43m,\u001b[49m\u001b[43m \u001b[49m\u001b[43mnp\u001b[49m\u001b[38;5;241;43m.\u001b[39;49m\u001b[43mlogical_and\u001b[49m\u001b[43m,\u001b[49m\u001b[43m \u001b[49m\u001b[38;5;124;43m'\u001b[39;49m\u001b[38;5;124;43mall\u001b[39;49m\u001b[38;5;124;43m'\u001b[39;49m\u001b[43m,\u001b[49m\u001b[43m \u001b[49m\u001b[43maxis\u001b[49m\u001b[43m,\u001b[49m\u001b[43m \u001b[49m\u001b[38;5;28;43;01mNone\u001b[39;49;00m\u001b[43m,\u001b[49m\u001b[43m \u001b[49m\u001b[43mout\u001b[49m\u001b[43m,\u001b[49m\n\u001b[0;32m   2490\u001b[0m \u001b[43m                          \u001b[49m\u001b[43mkeepdims\u001b[49m\u001b[38;5;241;43m=\u001b[39;49m\u001b[43mkeepdims\u001b[49m\u001b[43m,\u001b[49m\u001b[43m \u001b[49m\u001b[43mwhere\u001b[49m\u001b[38;5;241;43m=\u001b[39;49m\u001b[43mwhere\u001b[49m\u001b[43m)\u001b[49m\n",
      "File \u001b[1;32mc:\\Users\\Corbe\\AppData\\Local\\Programs\\Python\\Python311\\Lib\\site-packages\\numpy\\core\\fromnumeric.py:86\u001b[0m, in \u001b[0;36m_wrapreduction\u001b[1;34m(obj, ufunc, method, axis, dtype, out, **kwargs)\u001b[0m\n\u001b[0;32m     83\u001b[0m         \u001b[38;5;28;01melse\u001b[39;00m:\n\u001b[0;32m     84\u001b[0m             \u001b[38;5;28;01mreturn\u001b[39;00m reduction(axis\u001b[38;5;241m=\u001b[39maxis, out\u001b[38;5;241m=\u001b[39mout, \u001b[38;5;241m*\u001b[39m\u001b[38;5;241m*\u001b[39mpasskwargs)\n\u001b[1;32m---> 86\u001b[0m \u001b[38;5;28;01mreturn\u001b[39;00m \u001b[43mufunc\u001b[49m\u001b[38;5;241;43m.\u001b[39;49m\u001b[43mreduce\u001b[49m\u001b[43m(\u001b[49m\u001b[43mobj\u001b[49m\u001b[43m,\u001b[49m\u001b[43m \u001b[49m\u001b[43maxis\u001b[49m\u001b[43m,\u001b[49m\u001b[43m \u001b[49m\u001b[43mdtype\u001b[49m\u001b[43m,\u001b[49m\u001b[43m \u001b[49m\u001b[43mout\u001b[49m\u001b[43m,\u001b[49m\u001b[43m \u001b[49m\u001b[38;5;241;43m*\u001b[39;49m\u001b[38;5;241;43m*\u001b[39;49m\u001b[43mpasskwargs\u001b[49m\u001b[43m)\u001b[49m\n",
      "\u001b[1;31mKeyboardInterrupt\u001b[0m: "
     ]
    }
   ],
   "source": [
    "for i in check_SL_word_algo_perms(Eperms,3):\n",
    "    print(i)"
   ]
  },
  {
   "cell_type": "code",
   "execution_count": null,
   "metadata": {},
   "outputs": [
    {
     "data": {
      "application/vnd.jupyter.widget-view+json": {
       "model_id": "6930d7e0043e459781fcaca0e55dc8f5",
       "version_major": 2,
       "version_minor": 0
      },
      "text/plain": [
       "  0%|          | 0/5040 [00:00<?, ?it/s]"
      ]
     },
     "metadata": {},
     "output_type": "display_data"
    },
    {
     "ename": "KeyboardInterrupt",
     "evalue": "",
     "output_type": "error",
     "traceback": [
      "\u001b[1;31m---------------------------------------------------------------------------\u001b[0m",
      "\u001b[1;31mIndexError\u001b[0m                                Traceback (most recent call last)",
      "File \u001b[1;32mc:\\Users\\Corbe\\AppData\\Local\\Programs\\Python\\Python311\\Lib\\multiprocessing\\pool.py:856\u001b[0m, in \u001b[0;36mIMapIterator.next\u001b[1;34m(self, timeout)\u001b[0m\n\u001b[0;32m    855\u001b[0m \u001b[38;5;28;01mtry\u001b[39;00m:\n\u001b[1;32m--> 856\u001b[0m     item \u001b[38;5;241m=\u001b[39m \u001b[38;5;28;43mself\u001b[39;49m\u001b[38;5;241;43m.\u001b[39;49m\u001b[43m_items\u001b[49m\u001b[38;5;241;43m.\u001b[39;49m\u001b[43mpopleft\u001b[49m\u001b[43m(\u001b[49m\u001b[43m)\u001b[49m\n\u001b[0;32m    857\u001b[0m \u001b[38;5;28;01mexcept\u001b[39;00m \u001b[38;5;167;01mIndexError\u001b[39;00m:\n",
      "\u001b[1;31mIndexError\u001b[0m: pop from an empty deque",
      "\nDuring handling of the above exception, another exception occurred:\n",
      "\u001b[1;31mKeyboardInterrupt\u001b[0m                         Traceback (most recent call last)",
      "Cell \u001b[1;32mIn[393], line 1\u001b[0m\n\u001b[1;32m----> 1\u001b[0m \u001b[38;5;28;43;01mfor\u001b[39;49;00m\u001b[43m \u001b[49m\u001b[43mi\u001b[49m\u001b[43m \u001b[49m\u001b[38;5;129;43;01min\u001b[39;49;00m\u001b[43m \u001b[49m\u001b[43mcheckDeltaTypePrectionPerms\u001b[49m\u001b[43m(\u001b[49m\u001b[43mEperms\u001b[49m\u001b[43m)\u001b[49m\u001b[43m:\u001b[49m\n\u001b[0;32m      2\u001b[0m \u001b[43m    \u001b[49m\u001b[38;5;28;43mprint\u001b[39;49m\u001b[43m(\u001b[49m\u001b[43mi\u001b[49m\u001b[43m)\u001b[49m\n",
      "Cell \u001b[1;32mIn[386], line 56\u001b[0m, in \u001b[0;36mcheckDeltaTypePrectionPerms\u001b[1;34m(rootsystems, k)\u001b[0m\n\u001b[0;32m     54\u001b[0m \u001b[38;5;28;01mdef\u001b[39;00m \u001b[38;5;21mcheckDeltaTypePrectionPerms\u001b[39m(rootsystems,k\u001b[38;5;241m=\u001b[39m\u001b[38;5;241m2\u001b[39m):\n\u001b[0;32m     55\u001b[0m     exceptions \u001b[38;5;241m=\u001b[39m []\n\u001b[1;32m---> 56\u001b[0m \u001b[43m    \u001b[49m\u001b[38;5;28;43;01mfor\u001b[39;49;00m\u001b[43m \u001b[49m\u001b[43mrootsys\u001b[49m\u001b[43m \u001b[49m\u001b[38;5;129;43;01min\u001b[39;49;00m\u001b[43m \u001b[49m\u001b[43mrootsystems\u001b[49m\u001b[43m:\u001b[49m\n\u001b[0;32m     57\u001b[0m \u001b[43m        \u001b[49m\u001b[38;5;28;43;01mfor\u001b[39;49;00m\u001b[43m \u001b[49m\u001b[43mi\u001b[49m\u001b[43m \u001b[49m\u001b[38;5;129;43;01min\u001b[39;49;00m\u001b[43m \u001b[49m\u001b[43mcheckDeltaTypePrediction\u001b[49m\u001b[43m(\u001b[49m\u001b[43mrootsys\u001b[49m\u001b[43m,\u001b[49m\u001b[43mk\u001b[49m\u001b[43m)\u001b[49m\u001b[43m:\u001b[49m\n\u001b[0;32m     58\u001b[0m \u001b[43m            \u001b[49m\u001b[38;5;28;43;01myield\u001b[39;49;00m\u001b[43m \u001b[49m\u001b[43mi\u001b[49m\n",
      "Cell \u001b[1;32mIn[370], line 13\u001b[0m, in \u001b[0;36mgenPermutations\u001b[1;34m(type, n, k)\u001b[0m\n\u001b[0;32m     11\u001b[0m \u001b[38;5;28;01mdef\u001b[39;00m \u001b[38;5;21mgenPermutations\u001b[39m(\u001b[38;5;28mtype\u001b[39m,n,k):\n\u001b[0;32m     12\u001b[0m     \u001b[38;5;28;01mwith\u001b[39;00m mp\u001b[38;5;241m.\u001b[39mPool() \u001b[38;5;28;01mas\u001b[39;00m pool:\n\u001b[1;32m---> 13\u001b[0m \u001b[43m        \u001b[49m\u001b[38;5;28;43;01mfor\u001b[39;49;00m\u001b[43m \u001b[49m\u001b[43mi\u001b[49m\u001b[43m \u001b[49m\u001b[38;5;129;43;01min\u001b[39;49;00m\u001b[43m \u001b[49m\u001b[43mtqdm\u001b[49m\u001b[43m(\u001b[49m\u001b[43mpool\u001b[49m\u001b[38;5;241;43m.\u001b[39;49m\u001b[43mimap_unordered\u001b[49m\u001b[43m(\u001b[49m\u001b[43mpartial\u001b[49m\u001b[43m(\u001b[49m\u001b[43mrootSystem\u001b[49m\u001b[43m,\u001b[49m\u001b[38;5;28;43mtype\u001b[39;49m\u001b[38;5;241;43m=\u001b[39;49m\u001b[38;5;28;43mtype\u001b[39;49m\u001b[43m,\u001b[49m\u001b[43mk\u001b[49m\u001b[38;5;241;43m=\u001b[39;49m\u001b[43mk\u001b[49m\u001b[43m)\u001b[49m\u001b[43m,\u001b[49m\u001b[43mitertools\u001b[49m\u001b[38;5;241;43m.\u001b[39;49m\u001b[43mpermutations\u001b[49m\u001b[43m(\u001b[49m\u001b[43mnp\u001b[49m\u001b[38;5;241;43m.\u001b[39;49m\u001b[43marray\u001b[49m\u001b[43m(\u001b[49m\u001b[38;5;28;43mrange\u001b[39;49m\u001b[43m(\u001b[49m\u001b[43mn\u001b[49m\u001b[38;5;241;43m+\u001b[39;49m\u001b[38;5;241;43m1\u001b[39;49m\u001b[43m)\u001b[49m\u001b[43m)\u001b[49m\u001b[43m)\u001b[49m\u001b[43m)\u001b[49m\u001b[43m,\u001b[49m\u001b[43mtotal\u001b[49m\u001b[38;5;241;43m=\u001b[39;49m\u001b[43mmath\u001b[49m\u001b[38;5;241;43m.\u001b[39;49m\u001b[43mfactorial\u001b[49m\u001b[43m(\u001b[49m\u001b[43mn\u001b[49m\u001b[38;5;241;43m+\u001b[39;49m\u001b[38;5;241;43m1\u001b[39;49m\u001b[43m)\u001b[49m\u001b[43m)\u001b[49m\u001b[43m:\u001b[49m\n\u001b[0;32m     14\u001b[0m \u001b[43m            \u001b[49m\u001b[38;5;28;43;01myield\u001b[39;49;00m\u001b[43m \u001b[49m\u001b[43mi\u001b[49m\n",
      "File \u001b[1;32mc:\\Users\\Corbe\\AppData\\Local\\Programs\\Python\\Python311\\Lib\\site-packages\\tqdm\\notebook.py:250\u001b[0m, in \u001b[0;36mtqdm_notebook.__iter__\u001b[1;34m(self)\u001b[0m\n\u001b[0;32m    248\u001b[0m \u001b[38;5;28;01mtry\u001b[39;00m:\n\u001b[0;32m    249\u001b[0m     it \u001b[38;5;241m=\u001b[39m \u001b[38;5;28msuper\u001b[39m()\u001b[38;5;241m.\u001b[39m\u001b[38;5;21m__iter__\u001b[39m()\n\u001b[1;32m--> 250\u001b[0m \u001b[43m    \u001b[49m\u001b[38;5;28;43;01mfor\u001b[39;49;00m\u001b[43m \u001b[49m\u001b[43mobj\u001b[49m\u001b[43m \u001b[49m\u001b[38;5;129;43;01min\u001b[39;49;00m\u001b[43m \u001b[49m\u001b[43mit\u001b[49m\u001b[43m:\u001b[49m\n\u001b[0;32m    251\u001b[0m \u001b[43m        \u001b[49m\u001b[38;5;66;43;03m# return super(tqdm...) will not catch exception\u001b[39;49;00m\n\u001b[0;32m    252\u001b[0m \u001b[43m        \u001b[49m\u001b[38;5;28;43;01myield\u001b[39;49;00m\u001b[43m \u001b[49m\u001b[43mobj\u001b[49m\n\u001b[0;32m    253\u001b[0m \u001b[38;5;66;03m# NB: except ... [ as ...] breaks IPython async KeyboardInterrupt\u001b[39;00m\n",
      "File \u001b[1;32mc:\\Users\\Corbe\\AppData\\Local\\Programs\\Python\\Python311\\Lib\\site-packages\\tqdm\\std.py:1181\u001b[0m, in \u001b[0;36mtqdm.__iter__\u001b[1;34m(self)\u001b[0m\n\u001b[0;32m   1178\u001b[0m time \u001b[38;5;241m=\u001b[39m \u001b[38;5;28mself\u001b[39m\u001b[38;5;241m.\u001b[39m_time\n\u001b[0;32m   1180\u001b[0m \u001b[38;5;28;01mtry\u001b[39;00m:\n\u001b[1;32m-> 1181\u001b[0m \u001b[43m    \u001b[49m\u001b[38;5;28;43;01mfor\u001b[39;49;00m\u001b[43m \u001b[49m\u001b[43mobj\u001b[49m\u001b[43m \u001b[49m\u001b[38;5;129;43;01min\u001b[39;49;00m\u001b[43m \u001b[49m\u001b[43miterable\u001b[49m\u001b[43m:\u001b[49m\n\u001b[0;32m   1182\u001b[0m \u001b[43m        \u001b[49m\u001b[38;5;28;43;01myield\u001b[39;49;00m\u001b[43m \u001b[49m\u001b[43mobj\u001b[49m\n\u001b[0;32m   1183\u001b[0m \u001b[43m        \u001b[49m\u001b[38;5;66;43;03m# Update and possibly print the progressbar.\u001b[39;49;00m\n\u001b[0;32m   1184\u001b[0m \u001b[43m        \u001b[49m\u001b[38;5;66;43;03m# Note: does not call self.update(1) for speed optimisation.\u001b[39;49;00m\n",
      "File \u001b[1;32mc:\\Users\\Corbe\\AppData\\Local\\Programs\\Python\\Python311\\Lib\\multiprocessing\\pool.py:861\u001b[0m, in \u001b[0;36mIMapIterator.next\u001b[1;34m(self, timeout)\u001b[0m\n\u001b[0;32m    859\u001b[0m     \u001b[38;5;28mself\u001b[39m\u001b[38;5;241m.\u001b[39m_pool \u001b[38;5;241m=\u001b[39m \u001b[38;5;28;01mNone\u001b[39;00m\n\u001b[0;32m    860\u001b[0m     \u001b[38;5;28;01mraise\u001b[39;00m \u001b[38;5;167;01mStopIteration\u001b[39;00m \u001b[38;5;28;01mfrom\u001b[39;00m \u001b[38;5;28;01mNone\u001b[39;00m\n\u001b[1;32m--> 861\u001b[0m \u001b[38;5;28;43mself\u001b[39;49m\u001b[38;5;241;43m.\u001b[39;49m\u001b[43m_cond\u001b[49m\u001b[38;5;241;43m.\u001b[39;49m\u001b[43mwait\u001b[49m\u001b[43m(\u001b[49m\u001b[43mtimeout\u001b[49m\u001b[43m)\u001b[49m\n\u001b[0;32m    862\u001b[0m \u001b[38;5;28;01mtry\u001b[39;00m:\n\u001b[0;32m    863\u001b[0m     item \u001b[38;5;241m=\u001b[39m \u001b[38;5;28mself\u001b[39m\u001b[38;5;241m.\u001b[39m_items\u001b[38;5;241m.\u001b[39mpopleft()\n",
      "File \u001b[1;32mc:\\Users\\Corbe\\AppData\\Local\\Programs\\Python\\Python311\\Lib\\threading.py:320\u001b[0m, in \u001b[0;36mCondition.wait\u001b[1;34m(self, timeout)\u001b[0m\n\u001b[0;32m    318\u001b[0m \u001b[38;5;28;01mtry\u001b[39;00m:    \u001b[38;5;66;03m# restore state no matter what (e.g., KeyboardInterrupt)\u001b[39;00m\n\u001b[0;32m    319\u001b[0m     \u001b[38;5;28;01mif\u001b[39;00m timeout \u001b[38;5;129;01mis\u001b[39;00m \u001b[38;5;28;01mNone\u001b[39;00m:\n\u001b[1;32m--> 320\u001b[0m         \u001b[43mwaiter\u001b[49m\u001b[38;5;241;43m.\u001b[39;49m\u001b[43macquire\u001b[49m\u001b[43m(\u001b[49m\u001b[43m)\u001b[49m\n\u001b[0;32m    321\u001b[0m         gotit \u001b[38;5;241m=\u001b[39m \u001b[38;5;28;01mTrue\u001b[39;00m\n\u001b[0;32m    322\u001b[0m     \u001b[38;5;28;01melse\u001b[39;00m:\n",
      "\u001b[1;31mKeyboardInterrupt\u001b[0m: "
     ]
    }
   ],
   "source": [
    "for i in check_delta_type_prediction_perms(Eperms):\n",
    "    print(i)"
   ]
  },
  {
   "cell_type": "code",
   "execution_count": null,
   "metadata": {},
   "outputs": [
    {
     "data": {
      "application/vnd.jupyter.widget-view+json": {
       "model_id": "c801c9d28b4444a58245b8bc5f1231da",
       "version_major": 2,
       "version_minor": 0
      },
      "text/plain": [
       "  0%|          | 0/5040 [00:00<?, ?it/s]"
      ]
     },
     "metadata": {},
     "output_type": "display_data"
    },
    {
     "data": {
      "text/plain": [
       "[]"
      ]
     },
     "execution_count": 21,
     "metadata": {},
     "output_type": "execute_result"
    }
   ],
   "source": [
    "check_h_deltas_repeat(Eperms)"
   ]
  },
  {
   "cell_type": "code",
   "execution_count": null,
   "metadata": {},
   "outputs": [],
   "source": [
    "for i in Eperms:\n",
    "   ex = i.checkConvexity()\n",
    "   if(len(ex) != 0):\n",
    "       print(\"Convexity doesn't hold\")"
   ]
  },
  {
   "cell_type": "code",
   "execution_count": null,
   "metadata": {},
   "outputs": [
    {
     "data": {
      "application/vnd.jupyter.widget-view+json": {
       "model_id": "1abf1b9e098c41898d14f700412481eb",
       "version_major": 2,
       "version_minor": 0
      },
      "text/plain": [
       "  0%|          | 0/5040 [00:00<?, ?it/s]"
      ]
     },
     "metadata": {},
     "output_type": "display_data"
    }
   ],
   "source": [
    "write_delta_types_to_file(Eperms,\"E6DeltaTypes.csv\")"
   ]
  },
  {
   "cell_type": "code",
   "execution_count": null,
   "metadata": {},
   "outputs": [
    {
     "name": "stdout",
     "output_type": "stream",
     "text": [
      "0<1<2<4<5<6<3 = 0<1<2<4<5<3<6\n",
      "0<1<2<5<4<6<3 = 0<1<2<5<4<3<6\n",
      "0<1<3<4<5<6<2 = 0<1<3<4<5<2<6\n",
      "0<1<3<5<4<6<2 = 0<1<3<5<4<2<6\n",
      "0<1<4<2<5<6<3 = 0<1<4<2<5<3<6\n",
      "0<1<4<3<5<6<2 = 0<1<4<3<5<2<6\n",
      "0<1<4<5<2<6<3 = 0<1<4<5<2<3<6\n",
      "0<1<4<5<3<6<2 = 0<1<4<5<3<2<6\n",
      "0<1<4<5<6<2<3 = 0<1<4<5<2<3<6\n",
      "0<1<4<5<6<2<3 = 0<1<4<5<2<6<3\n",
      "0<1<4<5<6<3<2 = 0<1<4<5<3<2<6\n",
      "0<1<4<5<6<3<2 = 0<1<4<5<3<6<2\n",
      "0<1<5<2<4<6<3 = 0<1<5<2<4<3<6\n",
      "0<1<5<3<4<6<2 = 0<1<5<3<4<2<6\n",
      "0<1<5<4<2<6<3 = 0<1<5<4<2<3<6\n",
      "0<1<5<4<3<6<2 = 0<1<5<4<3<2<6\n",
      "0<1<5<4<6<2<3 = 0<1<5<4<2<3<6\n",
      "0<1<5<4<6<2<3 = 0<1<5<4<2<6<3\n",
      "0<1<5<4<6<3<2 = 0<1<5<4<3<2<6\n",
      "0<1<5<4<6<3<2 = 0<1<5<4<3<6<2\n",
      "0<2<1<4<5<6<3 = 0<2<1<4<5<3<6\n",
      "0<2<1<5<4<6<3 = 0<2<1<5<4<3<6\n",
      "0<2<3<4<5<1<6 = 0<2<3<4<1<5<6\n",
      "0<2<3<4<5<6<1 = 0<2<3<4<1<5<6\n",
      "0<2<3<4<5<6<1 = 0<2<3<4<5<1<6\n",
      "0<2<3<4<6<1<5 = 0<2<3<4<1<6<5\n",
      "0<2<3<4<6<5<1 = 0<2<3<4<1<6<5\n",
      "0<2<3<4<6<5<1 = 0<2<3<4<6<1<5\n",
      "0<2<3<5<4<6<1 = 0<2<3<5<4<1<6\n",
      "0<2<3<5<6<1<4 = 0<2<3<5<1<6<4\n",
      "0<2<3<6<4<5<1 = 0<2<3<6<4<1<5\n",
      "0<2<4<1<5<6<3 = 0<2<4<1<5<3<6\n",
      "0<2<4<3<5<1<6 = 0<2<4<3<1<5<6\n",
      "0<2<4<3<5<6<1 = 0<2<4<3<1<5<6\n",
      "0<2<4<3<5<6<1 = 0<2<4<3<5<1<6\n",
      "0<2<4<3<6<1<5 = 0<2<4<3<1<6<5\n",
      "0<2<4<3<6<5<1 = 0<2<4<3<1<6<5\n",
      "0<2<4<3<6<5<1 = 0<2<4<3<6<1<5\n",
      "0<2<4<5<1<6<3 = 0<2<4<5<1<3<6\n",
      "0<2<4<5<3<6<1 = 0<2<4<5<3<1<6\n",
      "0<2<4<5<6<1<3 = 0<2<4<5<1<3<6\n",
      "0<2<4<5<6<1<3 = 0<2<4<5<1<6<3\n",
      "0<2<4<5<6<3<1 = 0<2<4<5<3<1<6\n",
      "0<2<4<5<6<3<1 = 0<2<4<5<3<6<1\n",
      "0<2<4<6<3<5<1 = 0<2<4<6<3<1<5\n",
      "0<2<5<1<4<6<3 = 0<2<5<1<4<3<6\n",
      "0<2<5<3<4<6<1 = 0<2<5<3<4<1<6\n",
      "0<2<5<3<6<1<4 = 0<2<5<3<1<6<4\n",
      "0<2<5<4<1<6<3 = 0<2<5<4<1<3<6\n",
      "0<2<5<4<3<6<1 = 0<2<5<4<3<1<6\n",
      "0<2<5<4<6<1<3 = 0<2<5<4<1<3<6\n",
      "0<2<5<4<6<1<3 = 0<2<5<4<1<6<3\n",
      "0<2<5<4<6<3<1 = 0<2<5<4<3<1<6\n",
      "0<2<5<4<6<3<1 = 0<2<5<4<3<6<1\n",
      "0<2<6<3<4<5<1 = 0<2<6<3<4<1<5\n",
      "0<2<6<4<3<5<1 = 0<2<6<4<3<1<5\n",
      "0<3<1<4<5<6<2 = 0<3<1<4<5<2<6\n",
      "0<3<1<5<4<6<2 = 0<3<1<5<4<2<6\n",
      "0<3<2<4<5<1<6 = 0<3<2<4<1<5<6\n",
      "0<3<2<4<5<6<1 = 0<3<2<4<1<5<6\n",
      "0<3<2<4<5<6<1 = 0<3<2<4<5<1<6\n",
      "0<3<2<4<6<1<5 = 0<3<2<4<1<6<5\n",
      "0<3<2<4<6<5<1 = 0<3<2<4<1<6<5\n",
      "0<3<2<4<6<5<1 = 0<3<2<4<6<1<5\n",
      "0<3<2<5<4<6<1 = 0<3<2<5<4<1<6\n",
      "0<3<2<5<6<1<4 = 0<3<2<5<1<6<4\n",
      "0<3<2<6<4<5<1 = 0<3<2<6<4<1<5\n",
      "0<3<4<1<5<6<2 = 0<3<4<1<5<2<6\n",
      "0<3<4<2<1<5<6 = 0<3<4<1<2<5<6\n",
      "0<3<4<2<1<6<5 = 0<3<4<1<2<6<5\n",
      "0<3<4<2<5<1<6 = 0<3<4<1<2<5<6\n",
      "0<3<4<2<5<1<6 = 0<3<4<2<1<5<6\n",
      "0<3<4<2<5<6<1 = 0<3<4<1<2<5<6\n",
      "0<3<4<2<5<6<1 = 0<3<4<2<1<5<6\n",
      "0<3<4<2<5<6<1 = 0<3<4<2<5<1<6\n",
      "0<3<4<2<6<1<5 = 0<3<4<1<2<6<5\n",
      "0<3<4<2<6<1<5 = 0<3<4<2<1<6<5\n",
      "0<3<4<2<6<5<1 = 0<3<4<1<2<6<5\n",
      "0<3<4<2<6<5<1 = 0<3<4<2<1<6<5\n",
      "0<3<4<2<6<5<1 = 0<3<4<2<6<1<5\n",
      "0<3<4<5<1<2<6 = 0<3<4<1<5<2<6\n",
      "0<3<4<5<1<2<6 = 0<3<4<1<5<6<2\n",
      "0<3<4<5<1<6<2 = 0<3<4<1<5<2<6\n",
      "0<3<4<5<1<6<2 = 0<3<4<1<5<6<2\n",
      "0<3<4<5<1<6<2 = 0<3<4<5<1<2<6\n",
      "0<3<4<5<2<1<6 = 0<3<4<1<5<2<6\n",
      "0<3<4<5<2<1<6 = 0<3<4<1<5<6<2\n",
      "0<3<4<5<2<1<6 = 0<3<4<5<1<2<6\n",
      "0<3<4<5<2<1<6 = 0<3<4<5<1<6<2\n",
      "0<3<4<5<2<6<1 = 0<3<4<1<5<2<6\n",
      "0<3<4<5<2<6<1 = 0<3<4<1<5<6<2\n",
      "0<3<4<5<2<6<1 = 0<3<4<5<1<2<6\n",
      "0<3<4<5<2<6<1 = 0<3<4<5<1<6<2\n",
      "0<3<4<5<2<6<1 = 0<3<4<5<2<1<6\n",
      "0<3<4<5<6<1<2 = 0<3<4<1<5<2<6\n",
      "0<3<4<5<6<1<2 = 0<3<4<1<5<6<2\n",
      "0<3<4<5<6<1<2 = 0<3<4<5<1<2<6\n",
      "0<3<4<5<6<1<2 = 0<3<4<5<1<6<2\n",
      "0<3<4<5<6<1<2 = 0<3<4<5<2<1<6\n",
      "0<3<4<5<6<1<2 = 0<3<4<5<2<6<1\n",
      "0<3<4<5<6<2<1 = 0<3<4<1<5<2<6\n",
      "0<3<4<5<6<2<1 = 0<3<4<1<5<6<2\n",
      "0<3<4<5<6<2<1 = 0<3<4<5<1<2<6\n",
      "0<3<4<5<6<2<1 = 0<3<4<5<1<6<2\n",
      "0<3<4<5<6<2<1 = 0<3<4<5<2<1<6\n",
      "0<3<4<5<6<2<1 = 0<3<4<5<2<6<1\n",
      "0<3<4<5<6<2<1 = 0<3<4<5<6<1<2\n",
      "0<3<4<6<1<2<5 = 0<3<4<1<6<2<5\n",
      "0<3<4<6<1<5<2 = 0<3<4<1<6<5<2\n",
      "0<3<4<6<2<1<5 = 0<3<4<1<6<2<5\n",
      "0<3<4<6<2<1<5 = 0<3<4<6<1<2<5\n",
      "0<3<4<6<2<5<1 = 0<3<4<1<6<2<5\n",
      "0<3<4<6<2<5<1 = 0<3<4<6<1<2<5\n",
      "0<3<4<6<2<5<1 = 0<3<4<6<2<1<5\n",
      "0<3<4<6<5<1<2 = 0<3<4<1<6<5<2\n",
      "0<3<4<6<5<1<2 = 0<3<4<6<1<5<2\n",
      "0<3<4<6<5<2<1 = 0<3<4<1<6<5<2\n",
      "0<3<4<6<5<2<1 = 0<3<4<6<1<5<2\n",
      "0<3<4<6<5<2<1 = 0<3<4<6<5<1<2\n",
      "0<3<5<1<4<6<2 = 0<3<5<1<4<2<6\n",
      "0<3<5<2<4<6<1 = 0<3<5<2<4<1<6\n",
      "0<3<5<2<6<1<4 = 0<3<5<2<1<6<4\n",
      "0<3<5<4<1<6<2 = 0<3<5<4<1<2<6\n",
      "0<3<5<4<2<1<6 = 0<3<5<4<1<2<6\n",
      "0<3<5<4<2<1<6 = 0<3<5<4<1<6<2\n",
      "0<3<5<4<2<6<1 = 0<3<5<4<1<2<6\n",
      "0<3<5<4<2<6<1 = 0<3<5<4<1<6<2\n",
      "0<3<5<4<2<6<1 = 0<3<5<4<2<1<6\n",
      "0<3<5<4<6<1<2 = 0<3<5<4<1<2<6\n",
      "0<3<5<4<6<1<2 = 0<3<5<4<1<6<2\n",
      "0<3<5<4<6<1<2 = 0<3<5<4<2<1<6\n",
      "0<3<5<4<6<1<2 = 0<3<5<4<2<6<1\n",
      "0<3<5<4<6<2<1 = 0<3<5<4<1<2<6\n",
      "0<3<5<4<6<2<1 = 0<3<5<4<1<6<2\n",
      "0<3<5<4<6<2<1 = 0<3<5<4<2<1<6\n",
      "0<3<5<4<6<2<1 = 0<3<5<4<2<6<1\n",
      "0<3<5<4<6<2<1 = 0<3<5<4<6<1<2\n",
      "0<3<5<6<1<2<4 = 0<3<5<1<6<2<4\n",
      "0<3<5<6<1<4<2 = 0<3<5<1<6<4<2\n",
      "0<3<5<6<4<2<1 = 0<3<5<6<4<1<2\n",
      "0<3<6<2<4<5<1 = 0<3<6<2<4<1<5\n",
      "0<3<6<4<2<1<5 = 0<3<6<4<1<2<5\n",
      "0<3<6<4<2<5<1 = 0<3<6<4<1<2<5\n",
      "0<3<6<4<2<5<1 = 0<3<6<4<2<1<5\n",
      "0<3<6<4<5<1<2 = 0<3<6<4<1<5<2\n",
      "0<3<6<4<5<2<1 = 0<3<6<4<1<5<2\n",
      "0<3<6<4<5<2<1 = 0<3<6<4<5<1<2\n",
      "0<3<6<5<4<2<1 = 0<3<6<5<4<1<2\n",
      "0<4<1<2<5<6<3 = 0<4<1<2<5<3<6\n",
      "0<4<1<3<5<6<2 = 0<4<1<3<5<2<6\n",
      "0<4<1<5<2<6<3 = 0<4<1<5<2<3<6\n",
      "0<4<1<5<3<6<2 = 0<4<1<5<3<2<6\n",
      "0<4<1<5<6<2<3 = 0<4<1<5<2<3<6\n",
      "0<4<1<5<6<2<3 = 0<4<1<5<2<6<3\n",
      "0<4<1<5<6<3<2 = 0<4<1<5<3<2<6\n",
      "0<4<1<5<6<3<2 = 0<4<1<5<3<6<2\n",
      "0<4<2<1<5<6<3 = 0<4<2<1<5<3<6\n",
      "0<4<2<3<5<1<6 = 0<4<2<3<1<5<6\n",
      "0<4<2<3<5<6<1 = 0<4<2<3<1<5<6\n",
      "0<4<2<3<5<6<1 = 0<4<2<3<5<1<6\n",
      "0<4<2<3<6<1<5 = 0<4<2<3<1<6<5\n",
      "0<4<2<3<6<5<1 = 0<4<2<3<1<6<5\n",
      "0<4<2<3<6<5<1 = 0<4<2<3<6<1<5\n",
      "0<4<2<5<1<6<3 = 0<4<2<5<1<3<6\n",
      "0<4<2<5<3<6<1 = 0<4<2<5<3<1<6\n",
      "0<4<2<5<6<1<3 = 0<4<2<5<1<3<6\n",
      "0<4<2<5<6<1<3 = 0<4<2<5<1<6<3\n",
      "0<4<2<5<6<3<1 = 0<4<2<5<3<1<6\n",
      "0<4<2<5<6<3<1 = 0<4<2<5<3<6<1\n",
      "0<4<2<6<3<5<1 = 0<4<2<6<3<1<5\n",
      "0<4<3<1<5<6<2 = 0<4<3<1<5<2<6\n",
      "0<4<3<2<1<5<6 = 0<4<3<1<2<5<6\n",
      "0<4<3<2<1<6<5 = 0<4<3<1<2<6<5\n",
      "0<4<3<2<5<1<6 = 0<4<3<1<2<5<6\n",
      "0<4<3<2<5<1<6 = 0<4<3<2<1<5<6\n",
      "0<4<3<2<5<6<1 = 0<4<3<1<2<5<6\n",
      "0<4<3<2<5<6<1 = 0<4<3<2<1<5<6\n",
      "0<4<3<2<5<6<1 = 0<4<3<2<5<1<6\n",
      "0<4<3<2<6<1<5 = 0<4<3<1<2<6<5\n",
      "0<4<3<2<6<1<5 = 0<4<3<2<1<6<5\n",
      "0<4<3<2<6<5<1 = 0<4<3<1<2<6<5\n",
      "0<4<3<2<6<5<1 = 0<4<3<2<1<6<5\n",
      "0<4<3<2<6<5<1 = 0<4<3<2<6<1<5\n",
      "0<4<3<5<1<2<6 = 0<4<3<1<5<2<6\n",
      "0<4<3<5<1<2<6 = 0<4<3<1<5<6<2\n",
      "0<4<3<5<1<6<2 = 0<4<3<1<5<2<6\n",
      "0<4<3<5<1<6<2 = 0<4<3<1<5<6<2\n",
      "0<4<3<5<1<6<2 = 0<4<3<5<1<2<6\n",
      "0<4<3<5<2<1<6 = 0<4<3<1<5<2<6\n",
      "0<4<3<5<2<1<6 = 0<4<3<1<5<6<2\n",
      "0<4<3<5<2<1<6 = 0<4<3<5<1<2<6\n",
      "0<4<3<5<2<1<6 = 0<4<3<5<1<6<2\n",
      "0<4<3<5<2<6<1 = 0<4<3<1<5<2<6\n",
      "0<4<3<5<2<6<1 = 0<4<3<1<5<6<2\n",
      "0<4<3<5<2<6<1 = 0<4<3<5<1<2<6\n",
      "0<4<3<5<2<6<1 = 0<4<3<5<1<6<2\n",
      "0<4<3<5<2<6<1 = 0<4<3<5<2<1<6\n",
      "0<4<3<5<6<1<2 = 0<4<3<1<5<2<6\n",
      "0<4<3<5<6<1<2 = 0<4<3<1<5<6<2\n",
      "0<4<3<5<6<1<2 = 0<4<3<5<1<2<6\n",
      "0<4<3<5<6<1<2 = 0<4<3<5<1<6<2\n",
      "0<4<3<5<6<1<2 = 0<4<3<5<2<1<6\n",
      "0<4<3<5<6<1<2 = 0<4<3<5<2<6<1\n",
      "0<4<3<5<6<2<1 = 0<4<3<1<5<2<6\n",
      "0<4<3<5<6<2<1 = 0<4<3<1<5<6<2\n",
      "0<4<3<5<6<2<1 = 0<4<3<5<1<2<6\n",
      "0<4<3<5<6<2<1 = 0<4<3<5<1<6<2\n",
      "0<4<3<5<6<2<1 = 0<4<3<5<2<1<6\n",
      "0<4<3<5<6<2<1 = 0<4<3<5<2<6<1\n",
      "0<4<3<5<6<2<1 = 0<4<3<5<6<1<2\n",
      "0<4<3<6<1<2<5 = 0<4<3<1<6<2<5\n",
      "0<4<3<6<1<5<2 = 0<4<3<1<6<5<2\n",
      "0<4<3<6<2<1<5 = 0<4<3<1<6<2<5\n",
      "0<4<3<6<2<1<5 = 0<4<3<6<1<2<5\n",
      "0<4<3<6<2<5<1 = 0<4<3<1<6<2<5\n",
      "0<4<3<6<2<5<1 = 0<4<3<6<1<2<5\n",
      "0<4<3<6<2<5<1 = 0<4<3<6<2<1<5\n",
      "0<4<3<6<5<1<2 = 0<4<3<1<6<5<2\n",
      "0<4<3<6<5<1<2 = 0<4<3<6<1<5<2\n",
      "0<4<3<6<5<2<1 = 0<4<3<1<6<5<2\n",
      "0<4<3<6<5<2<1 = 0<4<3<6<1<5<2\n",
      "0<4<3<6<5<2<1 = 0<4<3<6<5<1<2\n",
      "0<4<5<1<2<6<3 = 0<4<5<1<2<3<6\n",
      "0<4<5<1<3<6<2 = 0<4<5<1<3<2<6\n",
      "0<4<5<1<6<2<3 = 0<4<5<1<2<3<6\n",
      "0<4<5<1<6<2<3 = 0<4<5<1<2<6<3\n",
      "0<4<5<1<6<3<2 = 0<4<5<1<3<2<6\n",
      "0<4<5<1<6<3<2 = 0<4<5<1<3<6<2\n",
      "0<4<5<2<1<6<3 = 0<4<5<2<1<3<6\n",
      "0<4<5<2<3<6<1 = 0<4<5<2<3<1<6\n",
      "0<4<5<2<6<1<3 = 0<4<5<2<1<3<6\n",
      "0<4<5<2<6<1<3 = 0<4<5<2<1<6<3\n",
      "0<4<5<2<6<3<1 = 0<4<5<2<3<1<6\n",
      "0<4<5<2<6<3<1 = 0<4<5<2<3<6<1\n",
      "0<4<5<3<1<6<2 = 0<4<5<3<1<2<6\n",
      "0<4<5<3<2<1<6 = 0<4<5<3<1<2<6\n",
      "0<4<5<3<2<1<6 = 0<4<5<3<1<6<2\n",
      "0<4<5<3<2<6<1 = 0<4<5<3<1<2<6\n",
      "0<4<5<3<2<6<1 = 0<4<5<3<1<6<2\n",
      "0<4<5<3<2<6<1 = 0<4<5<3<2<1<6\n",
      "0<4<5<3<6<1<2 = 0<4<5<3<1<2<6\n",
      "0<4<5<3<6<1<2 = 0<4<5<3<1<6<2\n",
      "0<4<5<3<6<1<2 = 0<4<5<3<2<1<6\n",
      "0<4<5<3<6<1<2 = 0<4<5<3<2<6<1\n",
      "0<4<5<3<6<2<1 = 0<4<5<3<1<2<6\n",
      "0<4<5<3<6<2<1 = 0<4<5<3<1<6<2\n",
      "0<4<5<3<6<2<1 = 0<4<5<3<2<1<6\n",
      "0<4<5<3<6<2<1 = 0<4<5<3<2<6<1\n",
      "0<4<5<3<6<2<1 = 0<4<5<3<6<1<2\n",
      "0<4<5<6<1<2<3 = 0<4<5<1<2<3<6\n",
      "0<4<5<6<1<2<3 = 0<4<5<1<2<6<3\n",
      "0<4<5<6<1<2<3 = 0<4<5<1<6<2<3\n",
      "0<4<5<6<1<3<2 = 0<4<5<1<3<2<6\n",
      "0<4<5<6<1<3<2 = 0<4<5<1<3<6<2\n",
      "0<4<5<6<1<3<2 = 0<4<5<1<6<3<2\n",
      "0<4<5<6<2<1<3 = 0<4<5<2<1<3<6\n",
      "0<4<5<6<2<1<3 = 0<4<5<2<1<6<3\n",
      "0<4<5<6<2<1<3 = 0<4<5<2<6<1<3\n",
      "0<4<5<6<2<3<1 = 0<4<5<2<3<1<6\n",
      "0<4<5<6<2<3<1 = 0<4<5<2<3<6<1\n",
      "0<4<5<6<2<3<1 = 0<4<5<2<6<3<1\n",
      "0<4<5<6<3<1<2 = 0<4<5<3<1<2<6\n",
      "0<4<5<6<3<1<2 = 0<4<5<3<1<6<2\n",
      "0<4<5<6<3<1<2 = 0<4<5<3<2<1<6\n",
      "0<4<5<6<3<1<2 = 0<4<5<3<2<6<1\n",
      "0<4<5<6<3<1<2 = 0<4<5<3<6<1<2\n",
      "0<4<5<6<3<1<2 = 0<4<5<3<6<2<1\n",
      "0<4<5<6<3<2<1 = 0<4<5<3<1<2<6\n",
      "0<4<5<6<3<2<1 = 0<4<5<3<1<6<2\n",
      "0<4<5<6<3<2<1 = 0<4<5<3<2<1<6\n",
      "0<4<5<6<3<2<1 = 0<4<5<3<2<6<1\n",
      "0<4<5<6<3<2<1 = 0<4<5<3<6<1<2\n",
      "0<4<5<6<3<2<1 = 0<4<5<3<6<2<1\n",
      "0<4<5<6<3<2<1 = 0<4<5<6<3<1<2\n",
      "0<4<6<2<3<5<1 = 0<4<6<2<3<1<5\n",
      "0<4<6<3<2<1<5 = 0<4<6<3<1<2<5\n",
      "0<4<6<3<2<5<1 = 0<4<6<3<1<2<5\n",
      "0<4<6<3<2<5<1 = 0<4<6<3<2<1<5\n",
      "0<4<6<3<5<1<2 = 0<4<6<3<1<5<2\n",
      "0<4<6<3<5<2<1 = 0<4<6<3<1<5<2\n",
      "0<4<6<3<5<2<1 = 0<4<6<3<5<1<2\n",
      "0<4<6<5<3<2<1 = 0<4<6<5<3<1<2\n",
      "0<5<1<2<4<6<3 = 0<5<1<2<4<3<6\n",
      "0<5<1<3<4<6<2 = 0<5<1<3<4<2<6\n",
      "0<5<1<4<2<6<3 = 0<5<1<4<2<3<6\n",
      "0<5<1<4<3<6<2 = 0<5<1<4<3<2<6\n",
      "0<5<1<4<6<2<3 = 0<5<1<4<2<3<6\n",
      "0<5<1<4<6<2<3 = 0<5<1<4<2<6<3\n",
      "0<5<1<4<6<3<2 = 0<5<1<4<3<2<6\n",
      "0<5<1<4<6<3<2 = 0<5<1<4<3<6<2\n",
      "0<5<2<1<4<6<3 = 0<5<2<1<4<3<6\n",
      "0<5<2<3<4<6<1 = 0<5<2<3<4<1<6\n",
      "0<5<2<3<6<1<4 = 0<5<2<3<1<6<4\n",
      "0<5<2<4<1<6<3 = 0<5<2<4<1<3<6\n",
      "0<5<2<4<3<6<1 = 0<5<2<4<3<1<6\n",
      "0<5<2<4<6<1<3 = 0<5<2<4<1<3<6\n",
      "0<5<2<4<6<1<3 = 0<5<2<4<1<6<3\n",
      "0<5<2<4<6<3<1 = 0<5<2<4<3<1<6\n",
      "0<5<2<4<6<3<1 = 0<5<2<4<3<6<1\n",
      "0<5<3<1<4<6<2 = 0<5<3<1<4<2<6\n",
      "0<5<3<2<4<6<1 = 0<5<3<2<4<1<6\n",
      "0<5<3<2<6<1<4 = 0<5<3<2<1<6<4\n",
      "0<5<3<4<1<6<2 = 0<5<3<4<1<2<6\n",
      "0<5<3<4<2<1<6 = 0<5<3<4<1<2<6\n",
      "0<5<3<4<2<1<6 = 0<5<3<4<1<6<2\n",
      "0<5<3<4<2<6<1 = 0<5<3<4<1<2<6\n",
      "0<5<3<4<2<6<1 = 0<5<3<4<1<6<2\n",
      "0<5<3<4<2<6<1 = 0<5<3<4<2<1<6\n",
      "0<5<3<4<6<1<2 = 0<5<3<4<1<2<6\n",
      "0<5<3<4<6<1<2 = 0<5<3<4<1<6<2\n",
      "0<5<3<4<6<1<2 = 0<5<3<4<2<1<6\n",
      "0<5<3<4<6<1<2 = 0<5<3<4<2<6<1\n",
      "0<5<3<4<6<2<1 = 0<5<3<4<1<2<6\n",
      "0<5<3<4<6<2<1 = 0<5<3<4<1<6<2\n",
      "0<5<3<4<6<2<1 = 0<5<3<4<2<1<6\n",
      "0<5<3<4<6<2<1 = 0<5<3<4<2<6<1\n",
      "0<5<3<4<6<2<1 = 0<5<3<4<6<1<2\n",
      "0<5<3<6<1<2<4 = 0<5<3<1<6<2<4\n",
      "0<5<3<6<1<4<2 = 0<5<3<1<6<4<2\n",
      "0<5<3<6<4<2<1 = 0<5<3<6<4<1<2\n",
      "0<5<4<1<2<6<3 = 0<5<4<1<2<3<6\n",
      "0<5<4<1<3<6<2 = 0<5<4<1<3<2<6\n",
      "0<5<4<1<6<2<3 = 0<5<4<1<2<3<6\n",
      "0<5<4<1<6<2<3 = 0<5<4<1<2<6<3\n",
      "0<5<4<1<6<3<2 = 0<5<4<1<3<2<6\n",
      "0<5<4<1<6<3<2 = 0<5<4<1<3<6<2\n",
      "0<5<4<2<1<6<3 = 0<5<4<2<1<3<6\n",
      "0<5<4<2<3<6<1 = 0<5<4<2<3<1<6\n",
      "0<5<4<2<6<1<3 = 0<5<4<2<1<3<6\n",
      "0<5<4<2<6<1<3 = 0<5<4<2<1<6<3\n",
      "0<5<4<2<6<3<1 = 0<5<4<2<3<1<6\n",
      "0<5<4<2<6<3<1 = 0<5<4<2<3<6<1\n",
      "0<5<4<3<1<6<2 = 0<5<4<3<1<2<6\n",
      "0<5<4<3<2<1<6 = 0<5<4<3<1<2<6\n",
      "0<5<4<3<2<1<6 = 0<5<4<3<1<6<2\n",
      "0<5<4<3<2<6<1 = 0<5<4<3<1<2<6\n",
      "0<5<4<3<2<6<1 = 0<5<4<3<1<6<2\n",
      "0<5<4<3<2<6<1 = 0<5<4<3<2<1<6\n",
      "0<5<4<3<6<1<2 = 0<5<4<3<1<2<6\n",
      "0<5<4<3<6<1<2 = 0<5<4<3<1<6<2\n",
      "0<5<4<3<6<1<2 = 0<5<4<3<2<1<6\n",
      "0<5<4<3<6<1<2 = 0<5<4<3<2<6<1\n",
      "0<5<4<3<6<2<1 = 0<5<4<3<1<2<6\n",
      "0<5<4<3<6<2<1 = 0<5<4<3<1<6<2\n",
      "0<5<4<3<6<2<1 = 0<5<4<3<2<1<6\n",
      "0<5<4<3<6<2<1 = 0<5<4<3<2<6<1\n",
      "0<5<4<3<6<2<1 = 0<5<4<3<6<1<2\n",
      "0<5<4<6<1<2<3 = 0<5<4<1<2<3<6\n",
      "0<5<4<6<1<2<3 = 0<5<4<1<2<6<3\n",
      "0<5<4<6<1<2<3 = 0<5<4<1<6<2<3\n",
      "0<5<4<6<1<3<2 = 0<5<4<1<3<2<6\n",
      "0<5<4<6<1<3<2 = 0<5<4<1<3<6<2\n",
      "0<5<4<6<1<3<2 = 0<5<4<1<6<3<2\n",
      "0<5<4<6<2<1<3 = 0<5<4<2<1<3<6\n",
      "0<5<4<6<2<1<3 = 0<5<4<2<1<6<3\n",
      "0<5<4<6<2<1<3 = 0<5<4<2<6<1<3\n",
      "0<5<4<6<2<3<1 = 0<5<4<2<3<1<6\n",
      "0<5<4<6<2<3<1 = 0<5<4<2<3<6<1\n",
      "0<5<4<6<2<3<1 = 0<5<4<2<6<3<1\n",
      "0<5<4<6<3<1<2 = 0<5<4<3<1<2<6\n",
      "0<5<4<6<3<1<2 = 0<5<4<3<1<6<2\n",
      "0<5<4<6<3<1<2 = 0<5<4<3<2<1<6\n",
      "0<5<4<6<3<1<2 = 0<5<4<3<2<6<1\n",
      "0<5<4<6<3<1<2 = 0<5<4<3<6<1<2\n",
      "0<5<4<6<3<1<2 = 0<5<4<3<6<2<1\n",
      "0<5<4<6<3<2<1 = 0<5<4<3<1<2<6\n",
      "0<5<4<6<3<2<1 = 0<5<4<3<1<6<2\n",
      "0<5<4<6<3<2<1 = 0<5<4<3<2<1<6\n",
      "0<5<4<6<3<2<1 = 0<5<4<3<2<6<1\n",
      "0<5<4<6<3<2<1 = 0<5<4<3<6<1<2\n",
      "0<5<4<6<3<2<1 = 0<5<4<3<6<2<1\n",
      "0<5<4<6<3<2<1 = 0<5<4<6<3<1<2\n",
      "0<5<6<3<4<2<1 = 0<5<6<3<4<1<2\n",
      "0<5<6<4<3<2<1 = 0<5<6<4<3<1<2\n",
      "0<6<2<3<4<5<1 = 0<6<2<3<4<1<5\n",
      "0<6<2<4<3<5<1 = 0<6<2<4<3<1<5\n",
      "0<6<3<2<4<5<1 = 0<6<3<2<4<1<5\n",
      "0<6<3<4<2<1<5 = 0<6<3<4<1<2<5\n",
      "0<6<3<4<2<5<1 = 0<6<3<4<1<2<5\n",
      "0<6<3<4<2<5<1 = 0<6<3<4<2<1<5\n",
      "0<6<3<4<5<1<2 = 0<6<3<4<1<5<2\n",
      "0<6<3<4<5<2<1 = 0<6<3<4<1<5<2\n",
      "0<6<3<4<5<2<1 = 0<6<3<4<5<1<2\n",
      "0<6<3<5<4<2<1 = 0<6<3<5<4<1<2\n",
      "0<6<4<2<3<5<1 = 0<6<4<2<3<1<5\n",
      "0<6<4<3<2<1<5 = 0<6<4<3<1<2<5\n",
      "0<6<4<3<2<5<1 = 0<6<4<3<1<2<5\n",
      "0<6<4<3<2<5<1 = 0<6<4<3<2<1<5\n",
      "0<6<4<3<5<1<2 = 0<6<4<3<1<5<2\n",
      "0<6<4<3<5<2<1 = 0<6<4<3<1<5<2\n",
      "0<6<4<3<5<2<1 = 0<6<4<3<5<1<2\n",
      "0<6<4<5<3<2<1 = 0<6<4<5<3<1<2\n",
      "0<6<5<3<4<2<1 = 0<6<5<3<4<1<2\n",
      "0<6<5<4<3<2<1 = 0<6<5<4<3<1<2\n",
      "1<0<2<4<5<6<3 = 1<0<2<4<5<3<6\n",
      "1<0<2<5<4<6<3 = 1<0<2<5<4<3<6\n",
      "1<0<3<4<5<6<2 = 1<0<3<4<5<2<6\n",
      "1<0<3<5<4<6<2 = 1<0<3<5<4<2<6\n",
      "1<0<4<2<5<6<3 = 1<0<4<2<5<3<6\n",
      "1<0<4<3<5<6<2 = 1<0<4<3<5<2<6\n",
      "1<0<4<5<2<6<3 = 1<0<4<5<2<3<6\n",
      "1<0<4<5<3<6<2 = 1<0<4<5<3<2<6\n",
      "1<0<4<5<6<2<3 = 1<0<4<5<2<3<6\n",
      "1<0<4<5<6<2<3 = 1<0<4<5<2<6<3\n",
      "1<0<4<5<6<3<2 = 1<0<4<5<3<2<6\n",
      "1<0<4<5<6<3<2 = 1<0<4<5<3<6<2\n",
      "1<0<5<2<4<6<3 = 1<0<5<2<4<3<6\n",
      "1<0<5<3<4<6<2 = 1<0<5<3<4<2<6\n",
      "1<0<5<4<2<6<3 = 1<0<5<4<2<3<6\n",
      "1<0<5<4<3<6<2 = 1<0<5<4<3<2<6\n",
      "1<0<5<4<6<2<3 = 1<0<5<4<2<3<6\n",
      "1<0<5<4<6<2<3 = 1<0<5<4<2<6<3\n",
      "1<0<5<4<6<3<2 = 1<0<5<4<3<2<6\n",
      "1<0<5<4<6<3<2 = 1<0<5<4<3<6<2\n",
      "1<2<0<4<5<6<3 = 1<2<0<4<5<3<6\n",
      "1<2<0<5<4<6<3 = 1<2<0<5<4<3<6\n",
      "1<2<3<4<5<0<6 = 1<2<3<4<0<5<6\n",
      "1<2<3<4<5<6<0 = 1<2<3<4<0<5<6\n",
      "1<2<3<4<5<6<0 = 1<2<3<4<5<0<6\n",
      "1<2<3<4<6<0<5 = 1<2<3<4<0<6<5\n",
      "1<2<3<4<6<5<0 = 1<2<3<4<0<6<5\n",
      "1<2<3<4<6<5<0 = 1<2<3<4<6<0<5\n",
      "1<2<3<5<4<6<0 = 1<2<3<5<4<0<6\n",
      "1<2<3<5<6<0<4 = 1<2<3<5<0<6<4\n",
      "1<2<3<6<4<5<0 = 1<2<3<6<4<0<5\n",
      "1<2<4<0<5<6<3 = 1<2<4<0<5<3<6\n",
      "1<2<4<3<0<5<6 = 1<2<4<0<3<5<6\n",
      "1<2<4<3<0<6<5 = 1<2<4<0<3<6<5\n",
      "1<2<4<3<5<0<6 = 1<2<4<0<3<5<6\n",
      "1<2<4<3<5<0<6 = 1<2<4<3<0<5<6\n",
      "1<2<4<3<5<6<0 = 1<2<4<0<3<5<6\n",
      "1<2<4<3<5<6<0 = 1<2<4<3<0<5<6\n",
      "1<2<4<3<5<6<0 = 1<2<4<3<5<0<6\n",
      "1<2<4<3<6<0<5 = 1<2<4<0<3<6<5\n",
      "1<2<4<3<6<0<5 = 1<2<4<3<0<6<5\n",
      "1<2<4<3<6<5<0 = 1<2<4<0<3<6<5\n",
      "1<2<4<3<6<5<0 = 1<2<4<3<0<6<5\n",
      "1<2<4<3<6<5<0 = 1<2<4<3<6<0<5\n",
      "1<2<4<5<0<3<6 = 1<2<4<0<5<3<6\n",
      "1<2<4<5<0<3<6 = 1<2<4<0<5<6<3\n",
      "1<2<4<5<0<6<3 = 1<2<4<0<5<3<6\n",
      "1<2<4<5<0<6<3 = 1<2<4<0<5<6<3\n",
      "1<2<4<5<0<6<3 = 1<2<4<5<0<3<6\n",
      "1<2<4<5<3<0<6 = 1<2<4<0<5<3<6\n",
      "1<2<4<5<3<0<6 = 1<2<4<0<5<6<3\n",
      "1<2<4<5<3<0<6 = 1<2<4<5<0<3<6\n",
      "1<2<4<5<3<0<6 = 1<2<4<5<0<6<3\n",
      "1<2<4<5<3<6<0 = 1<2<4<0<5<3<6\n",
      "1<2<4<5<3<6<0 = 1<2<4<0<5<6<3\n",
      "1<2<4<5<3<6<0 = 1<2<4<5<0<3<6\n",
      "1<2<4<5<3<6<0 = 1<2<4<5<0<6<3\n",
      "1<2<4<5<3<6<0 = 1<2<4<5<3<0<6\n",
      "1<2<4<5<6<0<3 = 1<2<4<0<5<3<6\n",
      "1<2<4<5<6<0<3 = 1<2<4<0<5<6<3\n",
      "1<2<4<5<6<0<3 = 1<2<4<5<0<3<6\n",
      "1<2<4<5<6<0<3 = 1<2<4<5<0<6<3\n",
      "1<2<4<5<6<0<3 = 1<2<4<5<3<0<6\n",
      "1<2<4<5<6<0<3 = 1<2<4<5<3<6<0\n",
      "1<2<4<5<6<3<0 = 1<2<4<0<5<3<6\n",
      "1<2<4<5<6<3<0 = 1<2<4<0<5<6<3\n",
      "1<2<4<5<6<3<0 = 1<2<4<5<0<3<6\n",
      "1<2<4<5<6<3<0 = 1<2<4<5<0<6<3\n",
      "1<2<4<5<6<3<0 = 1<2<4<5<3<0<6\n",
      "1<2<4<5<6<3<0 = 1<2<4<5<3<6<0\n",
      "1<2<4<5<6<3<0 = 1<2<4<5<6<0<3\n",
      "1<2<4<6<0<3<5 = 1<2<4<0<6<3<5\n",
      "1<2<4<6<0<5<3 = 1<2<4<0<6<5<3\n",
      "1<2<4<6<3<0<5 = 1<2<4<0<6<3<5\n",
      "1<2<4<6<3<0<5 = 1<2<4<6<0<3<5\n",
      "1<2<4<6<3<5<0 = 1<2<4<0<6<3<5\n",
      "1<2<4<6<3<5<0 = 1<2<4<6<0<3<5\n",
      "1<2<4<6<3<5<0 = 1<2<4<6<3<0<5\n",
      "1<2<4<6<5<0<3 = 1<2<4<0<6<5<3\n",
      "1<2<4<6<5<0<3 = 1<2<4<6<0<5<3\n",
      "1<2<4<6<5<3<0 = 1<2<4<0<6<5<3\n",
      "1<2<4<6<5<3<0 = 1<2<4<6<0<5<3\n",
      "1<2<4<6<5<3<0 = 1<2<4<6<5<0<3\n",
      "1<2<5<0<4<6<3 = 1<2<5<0<4<3<6\n",
      "1<2<5<3<4<6<0 = 1<2<5<3<4<0<6\n",
      "1<2<5<3<6<0<4 = 1<2<5<3<0<6<4\n",
      "1<2<5<4<0<6<3 = 1<2<5<4<0<3<6\n",
      "1<2<5<4<3<0<6 = 1<2<5<4<0<3<6\n",
      "1<2<5<4<3<0<6 = 1<2<5<4<0<6<3\n",
      "1<2<5<4<3<6<0 = 1<2<5<4<0<3<6\n",
      "1<2<5<4<3<6<0 = 1<2<5<4<0<6<3\n",
      "1<2<5<4<3<6<0 = 1<2<5<4<3<0<6\n",
      "1<2<5<4<6<0<3 = 1<2<5<4<0<3<6\n",
      "1<2<5<4<6<0<3 = 1<2<5<4<0<6<3\n",
      "1<2<5<4<6<0<3 = 1<2<5<4<3<0<6\n",
      "1<2<5<4<6<0<3 = 1<2<5<4<3<6<0\n",
      "1<2<5<4<6<3<0 = 1<2<5<4<0<3<6\n",
      "1<2<5<4<6<3<0 = 1<2<5<4<0<6<3\n",
      "1<2<5<4<6<3<0 = 1<2<5<4<3<0<6\n",
      "1<2<5<4<6<3<0 = 1<2<5<4<3<6<0\n",
      "1<2<5<4<6<3<0 = 1<2<5<4<6<0<3\n",
      "1<2<5<6<0<3<4 = 1<2<5<0<6<3<4\n",
      "1<2<5<6<0<4<3 = 1<2<5<0<6<4<3\n",
      "1<2<5<6<4<3<0 = 1<2<5<6<4<0<3\n",
      "1<2<6<3<4<5<0 = 1<2<6<3<4<0<5\n",
      "1<2<6<4<3<0<5 = 1<2<6<4<0<3<5\n",
      "1<2<6<4<3<5<0 = 1<2<6<4<0<3<5\n",
      "1<2<6<4<3<5<0 = 1<2<6<4<3<0<5\n",
      "1<2<6<4<5<0<3 = 1<2<6<4<0<5<3\n",
      "1<2<6<4<5<3<0 = 1<2<6<4<0<5<3\n",
      "1<2<6<4<5<3<0 = 1<2<6<4<5<0<3\n",
      "1<2<6<5<4<3<0 = 1<2<6<5<4<0<3\n",
      "1<3<0<4<5<6<2 = 1<3<0<4<5<2<6\n",
      "1<3<0<5<4<6<2 = 1<3<0<5<4<2<6\n",
      "1<3<2<4<5<0<6 = 1<3<2<4<0<5<6\n",
      "1<3<2<4<5<6<0 = 1<3<2<4<0<5<6\n",
      "1<3<2<4<5<6<0 = 1<3<2<4<5<0<6\n",
      "1<3<2<4<6<0<5 = 1<3<2<4<0<6<5\n",
      "1<3<2<4<6<5<0 = 1<3<2<4<0<6<5\n",
      "1<3<2<4<6<5<0 = 1<3<2<4<6<0<5\n",
      "1<3<2<5<4<6<0 = 1<3<2<5<4<0<6\n",
      "1<3<2<5<6<0<4 = 1<3<2<5<0<6<4\n",
      "1<3<2<6<4<5<0 = 1<3<2<6<4<0<5\n",
      "1<3<4<0<5<6<2 = 1<3<4<0<5<2<6\n",
      "1<3<4<2<5<0<6 = 1<3<4<2<0<5<6\n",
      "1<3<4<2<5<6<0 = 1<3<4<2<0<5<6\n",
      "1<3<4<2<5<6<0 = 1<3<4<2<5<0<6\n",
      "1<3<4<2<6<0<5 = 1<3<4<2<0<6<5\n",
      "1<3<4<2<6<5<0 = 1<3<4<2<0<6<5\n",
      "1<3<4<2<6<5<0 = 1<3<4<2<6<0<5\n",
      "1<3<4<5<0<6<2 = 1<3<4<5<0<2<6\n",
      "1<3<4<5<2<6<0 = 1<3<4<5<2<0<6\n",
      "1<3<4<5<6<0<2 = 1<3<4<5<0<2<6\n",
      "1<3<4<5<6<0<2 = 1<3<4<5<0<6<2\n",
      "1<3<4<5<6<2<0 = 1<3<4<5<2<0<6\n",
      "1<3<4<5<6<2<0 = 1<3<4<5<2<6<0\n",
      "1<3<4<6<2<5<0 = 1<3<4<6<2<0<5\n",
      "1<3<5<0<4<6<2 = 1<3<5<0<4<2<6\n",
      "1<3<5<2<4<6<0 = 1<3<5<2<4<0<6\n",
      "1<3<5<2<6<0<4 = 1<3<5<2<0<6<4\n",
      "1<3<5<4<0<6<2 = 1<3<5<4<0<2<6\n",
      "1<3<5<4<2<6<0 = 1<3<5<4<2<0<6\n",
      "1<3<5<4<6<0<2 = 1<3<5<4<0<2<6\n",
      "1<3<5<4<6<0<2 = 1<3<5<4<0<6<2\n",
      "1<3<5<4<6<2<0 = 1<3<5<4<2<0<6\n",
      "1<3<5<4<6<2<0 = 1<3<5<4<2<6<0\n",
      "1<3<6<2<4<5<0 = 1<3<6<2<4<0<5\n",
      "1<3<6<4<2<5<0 = 1<3<6<4<2<0<5\n",
      "1<4<0<2<5<6<3 = 1<4<0<2<5<3<6\n",
      "1<4<0<3<5<6<2 = 1<4<0<3<5<2<6\n",
      "1<4<0<5<2<6<3 = 1<4<0<5<2<3<6\n",
      "1<4<0<5<3<6<2 = 1<4<0<5<3<2<6\n",
      "1<4<0<5<6<2<3 = 1<4<0<5<2<3<6\n",
      "1<4<0<5<6<2<3 = 1<4<0<5<2<6<3\n",
      "1<4<0<5<6<3<2 = 1<4<0<5<3<2<6\n",
      "1<4<0<5<6<3<2 = 1<4<0<5<3<6<2\n",
      "1<4<2<0<5<6<3 = 1<4<2<0<5<3<6\n",
      "1<4<2<3<0<5<6 = 1<4<2<0<3<5<6\n",
      "1<4<2<3<0<6<5 = 1<4<2<0<3<6<5\n",
      "1<4<2<3<5<0<6 = 1<4<2<0<3<5<6\n",
      "1<4<2<3<5<0<6 = 1<4<2<3<0<5<6\n",
      "1<4<2<3<5<6<0 = 1<4<2<0<3<5<6\n",
      "1<4<2<3<5<6<0 = 1<4<2<3<0<5<6\n",
      "1<4<2<3<5<6<0 = 1<4<2<3<5<0<6\n",
      "1<4<2<3<6<0<5 = 1<4<2<0<3<6<5\n",
      "1<4<2<3<6<0<5 = 1<4<2<3<0<6<5\n",
      "1<4<2<3<6<5<0 = 1<4<2<0<3<6<5\n",
      "1<4<2<3<6<5<0 = 1<4<2<3<0<6<5\n",
      "1<4<2<3<6<5<0 = 1<4<2<3<6<0<5\n",
      "1<4<2<5<0<3<6 = 1<4<2<0<5<3<6\n",
      "1<4<2<5<0<3<6 = 1<4<2<0<5<6<3\n",
      "1<4<2<5<0<6<3 = 1<4<2<0<5<3<6\n",
      "1<4<2<5<0<6<3 = 1<4<2<0<5<6<3\n",
      "1<4<2<5<0<6<3 = 1<4<2<5<0<3<6\n",
      "1<4<2<5<3<0<6 = 1<4<2<0<5<3<6\n",
      "1<4<2<5<3<0<6 = 1<4<2<0<5<6<3\n",
      "1<4<2<5<3<0<6 = 1<4<2<5<0<3<6\n",
      "1<4<2<5<3<0<6 = 1<4<2<5<0<6<3\n",
      "1<4<2<5<3<6<0 = 1<4<2<0<5<3<6\n",
      "1<4<2<5<3<6<0 = 1<4<2<0<5<6<3\n",
      "1<4<2<5<3<6<0 = 1<4<2<5<0<3<6\n",
      "1<4<2<5<3<6<0 = 1<4<2<5<0<6<3\n",
      "1<4<2<5<3<6<0 = 1<4<2<5<3<0<6\n",
      "1<4<2<5<6<0<3 = 1<4<2<0<5<3<6\n",
      "1<4<2<5<6<0<3 = 1<4<2<0<5<6<3\n",
      "1<4<2<5<6<0<3 = 1<4<2<5<0<3<6\n",
      "1<4<2<5<6<0<3 = 1<4<2<5<0<6<3\n",
      "1<4<2<5<6<0<3 = 1<4<2<5<3<0<6\n",
      "1<4<2<5<6<0<3 = 1<4<2<5<3<6<0\n",
      "1<4<2<5<6<3<0 = 1<4<2<0<5<3<6\n",
      "1<4<2<5<6<3<0 = 1<4<2<0<5<6<3\n",
      "1<4<2<5<6<3<0 = 1<4<2<5<0<3<6\n",
      "1<4<2<5<6<3<0 = 1<4<2<5<0<6<3\n",
      "1<4<2<5<6<3<0 = 1<4<2<5<3<0<6\n",
      "1<4<2<5<6<3<0 = 1<4<2<5<3<6<0\n",
      "1<4<2<5<6<3<0 = 1<4<2<5<6<0<3\n",
      "1<4<2<6<0<3<5 = 1<4<2<0<6<3<5\n",
      "1<4<2<6<0<5<3 = 1<4<2<0<6<5<3\n",
      "1<4<2<6<3<0<5 = 1<4<2<0<6<3<5\n",
      "1<4<2<6<3<0<5 = 1<4<2<6<0<3<5\n",
      "1<4<2<6<3<5<0 = 1<4<2<0<6<3<5\n",
      "1<4<2<6<3<5<0 = 1<4<2<6<0<3<5\n",
      "1<4<2<6<3<5<0 = 1<4<2<6<3<0<5\n",
      "1<4<2<6<5<0<3 = 1<4<2<0<6<5<3\n",
      "1<4<2<6<5<0<3 = 1<4<2<6<0<5<3\n",
      "1<4<2<6<5<3<0 = 1<4<2<0<6<5<3\n",
      "1<4<2<6<5<3<0 = 1<4<2<6<0<5<3\n",
      "1<4<2<6<5<3<0 = 1<4<2<6<5<0<3\n",
      "1<4<3<0<5<6<2 = 1<4<3<0<5<2<6\n",
      "1<4<3<2<5<0<6 = 1<4<3<2<0<5<6\n",
      "1<4<3<2<5<6<0 = 1<4<3<2<0<5<6\n",
      "1<4<3<2<5<6<0 = 1<4<3<2<5<0<6\n",
      "1<4<3<2<6<0<5 = 1<4<3<2<0<6<5\n",
      "1<4<3<2<6<5<0 = 1<4<3<2<0<6<5\n",
      "1<4<3<2<6<5<0 = 1<4<3<2<6<0<5\n",
      "1<4<3<5<0<6<2 = 1<4<3<5<0<2<6\n",
      "1<4<3<5<2<6<0 = 1<4<3<5<2<0<6\n",
      "1<4<3<5<6<0<2 = 1<4<3<5<0<2<6\n",
      "1<4<3<5<6<0<2 = 1<4<3<5<0<6<2\n",
      "1<4<3<5<6<2<0 = 1<4<3<5<2<0<6\n",
      "1<4<3<5<6<2<0 = 1<4<3<5<2<6<0\n",
      "1<4<3<6<2<5<0 = 1<4<3<6<2<0<5\n",
      "1<4<5<0<2<6<3 = 1<4<5<0<2<3<6\n",
      "1<4<5<0<3<6<2 = 1<4<5<0<3<2<6\n",
      "1<4<5<0<6<2<3 = 1<4<5<0<2<3<6\n",
      "1<4<5<0<6<2<3 = 1<4<5<0<2<6<3\n",
      "1<4<5<0<6<3<2 = 1<4<5<0<3<2<6\n",
      "1<4<5<0<6<3<2 = 1<4<5<0<3<6<2\n",
      "1<4<5<2<0<6<3 = 1<4<5<2<0<3<6\n",
      "1<4<5<2<3<0<6 = 1<4<5<2<0<3<6\n",
      "1<4<5<2<3<0<6 = 1<4<5<2<0<6<3\n",
      "1<4<5<2<3<6<0 = 1<4<5<2<0<3<6\n",
      "1<4<5<2<3<6<0 = 1<4<5<2<0<6<3\n",
      "1<4<5<2<3<6<0 = 1<4<5<2<3<0<6\n",
      "1<4<5<2<6<0<3 = 1<4<5<2<0<3<6\n",
      "1<4<5<2<6<0<3 = 1<4<5<2<0<6<3\n",
      "1<4<5<2<6<0<3 = 1<4<5<2<3<0<6\n",
      "1<4<5<2<6<0<3 = 1<4<5<2<3<6<0\n",
      "1<4<5<2<6<3<0 = 1<4<5<2<0<3<6\n",
      "1<4<5<2<6<3<0 = 1<4<5<2<0<6<3\n",
      "1<4<5<2<6<3<0 = 1<4<5<2<3<0<6\n",
      "1<4<5<2<6<3<0 = 1<4<5<2<3<6<0\n",
      "1<4<5<2<6<3<0 = 1<4<5<2<6<0<3\n",
      "1<4<5<3<0<6<2 = 1<4<5<3<0<2<6\n",
      "1<4<5<3<2<6<0 = 1<4<5<3<2<0<6\n",
      "1<4<5<3<6<0<2 = 1<4<5<3<0<2<6\n",
      "1<4<5<3<6<0<2 = 1<4<5<3<0<6<2\n",
      "1<4<5<3<6<2<0 = 1<4<5<3<2<0<6\n",
      "1<4<5<3<6<2<0 = 1<4<5<3<2<6<0\n",
      "1<4<5<6<0<2<3 = 1<4<5<0<2<3<6\n",
      "1<4<5<6<0<2<3 = 1<4<5<0<2<6<3\n",
      "1<4<5<6<0<2<3 = 1<4<5<0<6<2<3\n",
      "1<4<5<6<0<3<2 = 1<4<5<0<3<2<6\n",
      "1<4<5<6<0<3<2 = 1<4<5<0<3<6<2\n",
      "1<4<5<6<0<3<2 = 1<4<5<0<6<3<2\n",
      "1<4<5<6<2<0<3 = 1<4<5<2<0<3<6\n",
      "1<4<5<6<2<0<3 = 1<4<5<2<0<6<3\n",
      "1<4<5<6<2<0<3 = 1<4<5<2<3<0<6\n",
      "1<4<5<6<2<0<3 = 1<4<5<2<3<6<0\n",
      "1<4<5<6<2<0<3 = 1<4<5<2<6<0<3\n",
      "1<4<5<6<2<0<3 = 1<4<5<2<6<3<0\n",
      "1<4<5<6<2<3<0 = 1<4<5<2<0<3<6\n",
      "1<4<5<6<2<3<0 = 1<4<5<2<0<6<3\n",
      "1<4<5<6<2<3<0 = 1<4<5<2<3<0<6\n",
      "1<4<5<6<2<3<0 = 1<4<5<2<3<6<0\n",
      "1<4<5<6<2<3<0 = 1<4<5<2<6<0<3\n",
      "1<4<5<6<2<3<0 = 1<4<5<2<6<3<0\n",
      "1<4<5<6<2<3<0 = 1<4<5<6<2<0<3\n",
      "1<4<5<6<3<0<2 = 1<4<5<3<0<2<6\n",
      "1<4<5<6<3<0<2 = 1<4<5<3<0<6<2\n",
      "1<4<5<6<3<0<2 = 1<4<5<3<6<0<2\n",
      "1<4<5<6<3<2<0 = 1<4<5<3<2<0<6\n",
      "1<4<5<6<3<2<0 = 1<4<5<3<2<6<0\n",
      "1<4<5<6<3<2<0 = 1<4<5<3<6<2<0\n",
      "1<4<6<2<3<0<5 = 1<4<6<2<0<3<5\n",
      "1<4<6<2<3<5<0 = 1<4<6<2<0<3<5\n",
      "1<4<6<2<3<5<0 = 1<4<6<2<3<0<5\n",
      "1<4<6<2<5<0<3 = 1<4<6<2<0<5<3\n",
      "1<4<6<2<5<3<0 = 1<4<6<2<0<5<3\n",
      "1<4<6<2<5<3<0 = 1<4<6<2<5<0<3\n",
      "1<4<6<3<2<5<0 = 1<4<6<3<2<0<5\n",
      "1<4<6<5<2<3<0 = 1<4<6<5<2<0<3\n",
      "1<5<0<2<4<6<3 = 1<5<0<2<4<3<6\n",
      "1<5<0<3<4<6<2 = 1<5<0<3<4<2<6\n",
      "1<5<0<4<2<6<3 = 1<5<0<4<2<3<6\n",
      "1<5<0<4<3<6<2 = 1<5<0<4<3<2<6\n",
      "1<5<0<4<6<2<3 = 1<5<0<4<2<3<6\n",
      "1<5<0<4<6<2<3 = 1<5<0<4<2<6<3\n",
      "1<5<0<4<6<3<2 = 1<5<0<4<3<2<6\n",
      "1<5<0<4<6<3<2 = 1<5<0<4<3<6<2\n",
      "1<5<2<0<4<6<3 = 1<5<2<0<4<3<6\n",
      "1<5<2<3<4<6<0 = 1<5<2<3<4<0<6\n",
      "1<5<2<3<6<0<4 = 1<5<2<3<0<6<4\n",
      "1<5<2<4<0<6<3 = 1<5<2<4<0<3<6\n",
      "1<5<2<4<3<0<6 = 1<5<2<4<0<3<6\n",
      "1<5<2<4<3<0<6 = 1<5<2<4<0<6<3\n",
      "1<5<2<4<3<6<0 = 1<5<2<4<0<3<6\n",
      "1<5<2<4<3<6<0 = 1<5<2<4<0<6<3\n",
      "1<5<2<4<3<6<0 = 1<5<2<4<3<0<6\n",
      "1<5<2<4<6<0<3 = 1<5<2<4<0<3<6\n",
      "1<5<2<4<6<0<3 = 1<5<2<4<0<6<3\n",
      "1<5<2<4<6<0<3 = 1<5<2<4<3<0<6\n",
      "1<5<2<4<6<0<3 = 1<5<2<4<3<6<0\n",
      "1<5<2<4<6<3<0 = 1<5<2<4<0<3<6\n",
      "1<5<2<4<6<3<0 = 1<5<2<4<0<6<3\n",
      "1<5<2<4<6<3<0 = 1<5<2<4<3<0<6\n",
      "1<5<2<4<6<3<0 = 1<5<2<4<3<6<0\n",
      "1<5<2<4<6<3<0 = 1<5<2<4<6<0<3\n",
      "1<5<2<6<0<3<4 = 1<5<2<0<6<3<4\n",
      "1<5<2<6<0<4<3 = 1<5<2<0<6<4<3\n",
      "1<5<2<6<4<3<0 = 1<5<2<6<4<0<3\n",
      "1<5<3<0<4<6<2 = 1<5<3<0<4<2<6\n",
      "1<5<3<2<4<6<0 = 1<5<3<2<4<0<6\n",
      "1<5<3<2<6<0<4 = 1<5<3<2<0<6<4\n",
      "1<5<3<4<0<6<2 = 1<5<3<4<0<2<6\n",
      "1<5<3<4<2<6<0 = 1<5<3<4<2<0<6\n",
      "1<5<3<4<6<0<2 = 1<5<3<4<0<2<6\n",
      "1<5<3<4<6<0<2 = 1<5<3<4<0<6<2\n",
      "1<5<3<4<6<2<0 = 1<5<3<4<2<0<6\n",
      "1<5<3<4<6<2<0 = 1<5<3<4<2<6<0\n",
      "1<5<4<0<2<6<3 = 1<5<4<0<2<3<6\n",
      "1<5<4<0<3<6<2 = 1<5<4<0<3<2<6\n",
      "1<5<4<0<6<2<3 = 1<5<4<0<2<3<6\n",
      "1<5<4<0<6<2<3 = 1<5<4<0<2<6<3\n",
      "1<5<4<0<6<3<2 = 1<5<4<0<3<2<6\n",
      "1<5<4<0<6<3<2 = 1<5<4<0<3<6<2\n",
      "1<5<4<2<0<6<3 = 1<5<4<2<0<3<6\n",
      "1<5<4<2<3<0<6 = 1<5<4<2<0<3<6\n",
      "1<5<4<2<3<0<6 = 1<5<4<2<0<6<3\n",
      "1<5<4<2<3<6<0 = 1<5<4<2<0<3<6\n",
      "1<5<4<2<3<6<0 = 1<5<4<2<0<6<3\n",
      "1<5<4<2<3<6<0 = 1<5<4<2<3<0<6\n",
      "1<5<4<2<6<0<3 = 1<5<4<2<0<3<6\n",
      "1<5<4<2<6<0<3 = 1<5<4<2<0<6<3\n",
      "1<5<4<2<6<0<3 = 1<5<4<2<3<0<6\n",
      "1<5<4<2<6<0<3 = 1<5<4<2<3<6<0\n",
      "1<5<4<2<6<3<0 = 1<5<4<2<0<3<6\n",
      "1<5<4<2<6<3<0 = 1<5<4<2<0<6<3\n",
      "1<5<4<2<6<3<0 = 1<5<4<2<3<0<6\n",
      "1<5<4<2<6<3<0 = 1<5<4<2<3<6<0\n",
      "1<5<4<2<6<3<0 = 1<5<4<2<6<0<3\n",
      "1<5<4<3<0<6<2 = 1<5<4<3<0<2<6\n",
      "1<5<4<3<2<6<0 = 1<5<4<3<2<0<6\n",
      "1<5<4<3<6<0<2 = 1<5<4<3<0<2<6\n",
      "1<5<4<3<6<0<2 = 1<5<4<3<0<6<2\n",
      "1<5<4<3<6<2<0 = 1<5<4<3<2<0<6\n",
      "1<5<4<3<6<2<0 = 1<5<4<3<2<6<0\n",
      "1<5<4<6<0<2<3 = 1<5<4<0<2<3<6\n",
      "1<5<4<6<0<2<3 = 1<5<4<0<2<6<3\n",
      "1<5<4<6<0<2<3 = 1<5<4<0<6<2<3\n",
      "1<5<4<6<0<3<2 = 1<5<4<0<3<2<6\n",
      "1<5<4<6<0<3<2 = 1<5<4<0<3<6<2\n",
      "1<5<4<6<0<3<2 = 1<5<4<0<6<3<2\n",
      "1<5<4<6<2<0<3 = 1<5<4<2<0<3<6\n",
      "1<5<4<6<2<0<3 = 1<5<4<2<0<6<3\n",
      "1<5<4<6<2<0<3 = 1<5<4<2<3<0<6\n",
      "1<5<4<6<2<0<3 = 1<5<4<2<3<6<0\n",
      "1<5<4<6<2<0<3 = 1<5<4<2<6<0<3\n",
      "1<5<4<6<2<0<3 = 1<5<4<2<6<3<0\n",
      "1<5<4<6<2<3<0 = 1<5<4<2<0<3<6\n",
      "1<5<4<6<2<3<0 = 1<5<4<2<0<6<3\n",
      "1<5<4<6<2<3<0 = 1<5<4<2<3<0<6\n",
      "1<5<4<6<2<3<0 = 1<5<4<2<3<6<0\n",
      "1<5<4<6<2<3<0 = 1<5<4<2<6<0<3\n",
      "1<5<4<6<2<3<0 = 1<5<4<2<6<3<0\n",
      "1<5<4<6<2<3<0 = 1<5<4<6<2<0<3\n",
      "1<5<4<6<3<0<2 = 1<5<4<3<0<2<6\n",
      "1<5<4<6<3<0<2 = 1<5<4<3<0<6<2\n",
      "1<5<4<6<3<0<2 = 1<5<4<3<6<0<2\n",
      "1<5<4<6<3<2<0 = 1<5<4<3<2<0<6\n",
      "1<5<4<6<3<2<0 = 1<5<4<3<2<6<0\n",
      "1<5<4<6<3<2<0 = 1<5<4<3<6<2<0\n",
      "1<5<6<2<4<3<0 = 1<5<6<2<4<0<3\n",
      "1<5<6<4<2<3<0 = 1<5<6<4<2<0<3\n",
      "1<6<2<3<4<5<0 = 1<6<2<3<4<0<5\n",
      "1<6<2<4<3<0<5 = 1<6<2<4<0<3<5\n",
      "1<6<2<4<3<5<0 = 1<6<2<4<0<3<5\n",
      "1<6<2<4<3<5<0 = 1<6<2<4<3<0<5\n",
      "1<6<2<4<5<0<3 = 1<6<2<4<0<5<3\n",
      "1<6<2<4<5<3<0 = 1<6<2<4<0<5<3\n",
      "1<6<2<4<5<3<0 = 1<6<2<4<5<0<3\n",
      "1<6<2<5<4<3<0 = 1<6<2<5<4<0<3\n",
      "1<6<3<2<4<5<0 = 1<6<3<2<4<0<5\n",
      "1<6<3<4<2<5<0 = 1<6<3<4<2<0<5\n",
      "1<6<4<2<3<0<5 = 1<6<4<2<0<3<5\n",
      "1<6<4<2<3<5<0 = 1<6<4<2<0<3<5\n",
      "1<6<4<2<3<5<0 = 1<6<4<2<3<0<5\n",
      "1<6<4<2<5<0<3 = 1<6<4<2<0<5<3\n",
      "1<6<4<2<5<3<0 = 1<6<4<2<0<5<3\n",
      "1<6<4<2<5<3<0 = 1<6<4<2<5<0<3\n",
      "1<6<4<3<2<5<0 = 1<6<4<3<2<0<5\n",
      "1<6<4<5<2<3<0 = 1<6<4<5<2<0<3\n",
      "1<6<5<2<4<3<0 = 1<6<5<2<4<0<3\n",
      "1<6<5<4<2<3<0 = 1<6<5<4<2<0<3\n",
      "2<0<1<4<5<6<3 = 2<0<1<4<5<3<6\n",
      "2<0<1<5<4<6<3 = 2<0<1<5<4<3<6\n",
      "2<0<3<4<5<1<6 = 2<0<3<4<1<5<6\n",
      "2<0<3<4<5<6<1 = 2<0<3<4<1<5<6\n",
      "2<0<3<4<5<6<1 = 2<0<3<4<5<1<6\n",
      "2<0<3<4<6<1<5 = 2<0<3<4<1<6<5\n",
      "2<0<3<4<6<5<1 = 2<0<3<4<1<6<5\n",
      "2<0<3<4<6<5<1 = 2<0<3<4<6<1<5\n",
      "2<0<3<5<4<6<1 = 2<0<3<5<4<1<6\n",
      "2<0<3<5<6<1<4 = 2<0<3<5<1<6<4\n",
      "2<0<3<6<4<5<1 = 2<0<3<6<4<1<5\n",
      "2<0<4<1<5<6<3 = 2<0<4<1<5<3<6\n",
      "2<0<4<3<5<1<6 = 2<0<4<3<1<5<6\n",
      "2<0<4<3<5<6<1 = 2<0<4<3<1<5<6\n",
      "2<0<4<3<5<6<1 = 2<0<4<3<5<1<6\n",
      "2<0<4<3<6<1<5 = 2<0<4<3<1<6<5\n",
      "2<0<4<3<6<5<1 = 2<0<4<3<1<6<5\n",
      "2<0<4<3<6<5<1 = 2<0<4<3<6<1<5\n",
      "2<0<4<5<1<6<3 = 2<0<4<5<1<3<6\n",
      "2<0<4<5<3<6<1 = 2<0<4<5<3<1<6\n",
      "2<0<4<5<6<1<3 = 2<0<4<5<1<3<6\n",
      "2<0<4<5<6<1<3 = 2<0<4<5<1<6<3\n",
      "2<0<4<5<6<3<1 = 2<0<4<5<3<1<6\n",
      "2<0<4<5<6<3<1 = 2<0<4<5<3<6<1\n",
      "2<0<4<6<3<5<1 = 2<0<4<6<3<1<5\n",
      "2<0<5<1<4<6<3 = 2<0<5<1<4<3<6\n",
      "2<0<5<3<4<6<1 = 2<0<5<3<4<1<6\n",
      "2<0<5<3<6<1<4 = 2<0<5<3<1<6<4\n",
      "2<0<5<4<1<6<3 = 2<0<5<4<1<3<6\n",
      "2<0<5<4<3<6<1 = 2<0<5<4<3<1<6\n",
      "2<0<5<4<6<1<3 = 2<0<5<4<1<3<6\n",
      "2<0<5<4<6<1<3 = 2<0<5<4<1<6<3\n",
      "2<0<5<4<6<3<1 = 2<0<5<4<3<1<6\n",
      "2<0<5<4<6<3<1 = 2<0<5<4<3<6<1\n",
      "2<0<6<3<4<5<1 = 2<0<6<3<4<1<5\n",
      "2<0<6<4<3<5<1 = 2<0<6<4<3<1<5\n",
      "2<1<0<4<5<6<3 = 2<1<0<4<5<3<6\n",
      "2<1<0<5<4<6<3 = 2<1<0<5<4<3<6\n",
      "2<1<3<4<5<0<6 = 2<1<3<4<0<5<6\n",
      "2<1<3<4<5<6<0 = 2<1<3<4<0<5<6\n",
      "2<1<3<4<5<6<0 = 2<1<3<4<5<0<6\n",
      "2<1<3<4<6<0<5 = 2<1<3<4<0<6<5\n",
      "2<1<3<4<6<5<0 = 2<1<3<4<0<6<5\n",
      "2<1<3<4<6<5<0 = 2<1<3<4<6<0<5\n",
      "2<1<3<5<4<6<0 = 2<1<3<5<4<0<6\n",
      "2<1<3<5<6<0<4 = 2<1<3<5<0<6<4\n",
      "2<1<3<6<4<5<0 = 2<1<3<6<4<0<5\n",
      "2<1<4<0<5<6<3 = 2<1<4<0<5<3<6\n",
      "2<1<4<3<0<5<6 = 2<1<4<0<3<5<6\n",
      "2<1<4<3<0<6<5 = 2<1<4<0<3<6<5\n",
      "2<1<4<3<5<0<6 = 2<1<4<0<3<5<6\n",
      "2<1<4<3<5<0<6 = 2<1<4<3<0<5<6\n",
      "2<1<4<3<5<6<0 = 2<1<4<0<3<5<6\n",
      "2<1<4<3<5<6<0 = 2<1<4<3<0<5<6\n",
      "2<1<4<3<5<6<0 = 2<1<4<3<5<0<6\n",
      "2<1<4<3<6<0<5 = 2<1<4<0<3<6<5\n",
      "2<1<4<3<6<0<5 = 2<1<4<3<0<6<5\n",
      "2<1<4<3<6<5<0 = 2<1<4<0<3<6<5\n",
      "2<1<4<3<6<5<0 = 2<1<4<3<0<6<5\n",
      "2<1<4<3<6<5<0 = 2<1<4<3<6<0<5\n",
      "2<1<4<5<0<3<6 = 2<1<4<0<5<3<6\n",
      "2<1<4<5<0<3<6 = 2<1<4<0<5<6<3\n",
      "2<1<4<5<0<6<3 = 2<1<4<0<5<3<6\n",
      "2<1<4<5<0<6<3 = 2<1<4<0<5<6<3\n",
      "2<1<4<5<0<6<3 = 2<1<4<5<0<3<6\n",
      "2<1<4<5<3<0<6 = 2<1<4<0<5<3<6\n",
      "2<1<4<5<3<0<6 = 2<1<4<0<5<6<3\n",
      "2<1<4<5<3<0<6 = 2<1<4<5<0<3<6\n",
      "2<1<4<5<3<0<6 = 2<1<4<5<0<6<3\n",
      "2<1<4<5<3<6<0 = 2<1<4<0<5<3<6\n",
      "2<1<4<5<3<6<0 = 2<1<4<0<5<6<3\n",
      "2<1<4<5<3<6<0 = 2<1<4<5<0<3<6\n",
      "2<1<4<5<3<6<0 = 2<1<4<5<0<6<3\n",
      "2<1<4<5<3<6<0 = 2<1<4<5<3<0<6\n",
      "2<1<4<5<6<0<3 = 2<1<4<0<5<3<6\n",
      "2<1<4<5<6<0<3 = 2<1<4<0<5<6<3\n",
      "2<1<4<5<6<0<3 = 2<1<4<5<0<3<6\n",
      "2<1<4<5<6<0<3 = 2<1<4<5<0<6<3\n",
      "2<1<4<5<6<0<3 = 2<1<4<5<3<0<6\n",
      "2<1<4<5<6<0<3 = 2<1<4<5<3<6<0\n",
      "2<1<4<5<6<3<0 = 2<1<4<0<5<3<6\n",
      "2<1<4<5<6<3<0 = 2<1<4<0<5<6<3\n",
      "2<1<4<5<6<3<0 = 2<1<4<5<0<3<6\n",
      "2<1<4<5<6<3<0 = 2<1<4<5<0<6<3\n",
      "2<1<4<5<6<3<0 = 2<1<4<5<3<0<6\n",
      "2<1<4<5<6<3<0 = 2<1<4<5<3<6<0\n",
      "2<1<4<5<6<3<0 = 2<1<4<5<6<0<3\n",
      "2<1<4<6<0<3<5 = 2<1<4<0<6<3<5\n",
      "2<1<4<6<0<5<3 = 2<1<4<0<6<5<3\n",
      "2<1<4<6<3<0<5 = 2<1<4<0<6<3<5\n",
      "2<1<4<6<3<0<5 = 2<1<4<6<0<3<5\n",
      "2<1<4<6<3<5<0 = 2<1<4<0<6<3<5\n",
      "2<1<4<6<3<5<0 = 2<1<4<6<0<3<5\n",
      "2<1<4<6<3<5<0 = 2<1<4<6<3<0<5\n",
      "2<1<4<6<5<0<3 = 2<1<4<0<6<5<3\n",
      "2<1<4<6<5<0<3 = 2<1<4<6<0<5<3\n",
      "2<1<4<6<5<3<0 = 2<1<4<0<6<5<3\n",
      "2<1<4<6<5<3<0 = 2<1<4<6<0<5<3\n",
      "2<1<4<6<5<3<0 = 2<1<4<6<5<0<3\n",
      "2<1<5<0<4<6<3 = 2<1<5<0<4<3<6\n",
      "2<1<5<3<4<6<0 = 2<1<5<3<4<0<6\n",
      "2<1<5<3<6<0<4 = 2<1<5<3<0<6<4\n",
      "2<1<5<4<0<6<3 = 2<1<5<4<0<3<6\n",
      "2<1<5<4<3<0<6 = 2<1<5<4<0<3<6\n",
      "2<1<5<4<3<0<6 = 2<1<5<4<0<6<3\n",
      "2<1<5<4<3<6<0 = 2<1<5<4<0<3<6\n",
      "2<1<5<4<3<6<0 = 2<1<5<4<0<6<3\n",
      "2<1<5<4<3<6<0 = 2<1<5<4<3<0<6\n",
      "2<1<5<4<6<0<3 = 2<1<5<4<0<3<6\n",
      "2<1<5<4<6<0<3 = 2<1<5<4<0<6<3\n",
      "2<1<5<4<6<0<3 = 2<1<5<4<3<0<6\n",
      "2<1<5<4<6<0<3 = 2<1<5<4<3<6<0\n",
      "2<1<5<4<6<3<0 = 2<1<5<4<0<3<6\n",
      "2<1<5<4<6<3<0 = 2<1<5<4<0<6<3\n",
      "2<1<5<4<6<3<0 = 2<1<5<4<3<0<6\n",
      "2<1<5<4<6<3<0 = 2<1<5<4<3<6<0\n",
      "2<1<5<4<6<3<0 = 2<1<5<4<6<0<3\n",
      "2<1<5<6<0<3<4 = 2<1<5<0<6<3<4\n",
      "2<1<5<6<0<4<3 = 2<1<5<0<6<4<3\n",
      "2<1<5<6<4<3<0 = 2<1<5<6<4<0<3\n",
      "2<1<6<3<4<5<0 = 2<1<6<3<4<0<5\n"
     ]
    },
    {
     "ename": "KeyboardInterrupt",
     "evalue": "",
     "output_type": "error",
     "traceback": [
      "\u001b[1;31m---------------------------------------------------------------------------\u001b[0m",
      "\u001b[1;31mKeyboardInterrupt\u001b[0m                         Traceback (most recent call last)",
      "Cell \u001b[1;32mIn[46], line 1\u001b[0m\n\u001b[1;32m----> 1\u001b[0m \u001b[38;5;28;43;01mfor\u001b[39;49;00m\u001b[43m \u001b[49m\u001b[43mi\u001b[49m\u001b[43m \u001b[49m\u001b[38;5;129;43;01min\u001b[39;49;00m\u001b[43m \u001b[49m\u001b[43mgenerateEquivalence\u001b[49m\u001b[43m(\u001b[49m\u001b[43mEperms\u001b[49m\u001b[43m)\u001b[49m\u001b[43m:\u001b[49m\n\u001b[0;32m      2\u001b[0m \u001b[43m    \u001b[49m\u001b[38;5;28;43mprint\u001b[39;49m\u001b[43m(\u001b[49m\u001b[38;5;124;43mf\u001b[39;49m\u001b[38;5;124;43m\"\u001b[39;49m\u001b[38;5;132;43;01m{\u001b[39;49;00m\u001b[43mi\u001b[49m\u001b[43m[\u001b[49m\u001b[38;5;241;43m0\u001b[39;49m\u001b[43m]\u001b[49m\u001b[38;5;132;43;01m}\u001b[39;49;00m\u001b[38;5;124;43m = \u001b[39;49m\u001b[38;5;132;43;01m{\u001b[39;49;00m\u001b[43mi\u001b[49m\u001b[43m[\u001b[49m\u001b[38;5;241;43m1\u001b[39;49m\u001b[43m]\u001b[49m\u001b[38;5;132;43;01m}\u001b[39;49;00m\u001b[38;5;124;43m\"\u001b[39;49m\u001b[43m)\u001b[49m\n",
      "Cell \u001b[1;32mIn[31], line 8\u001b[0m, in \u001b[0;36mgenerateEquivalence\u001b[1;34m(permutations)\u001b[0m\n\u001b[0;32m      6\u001b[0m     \u001b[38;5;28;01mcontinue\u001b[39;00m\n\u001b[0;32m      7\u001b[0m flag \u001b[38;5;241m=\u001b[39m \u001b[38;5;28;01mFalse\u001b[39;00m\n\u001b[1;32m----> 8\u001b[0m \u001b[43m\u001b[49m\u001b[38;5;28;43;01mfor\u001b[39;49;00m\u001b[43m \u001b[49m\u001b[43mk\u001b[49m\u001b[43m \u001b[49m\u001b[38;5;129;43;01min\u001b[39;49;00m\u001b[43m \u001b[49m\u001b[43mcompareRootSystems\u001b[49m\u001b[43m(\u001b[49m\u001b[43mpermutations\u001b[49m\u001b[43m[\u001b[49m\u001b[43mi\u001b[49m\u001b[43m]\u001b[49m\u001b[43m,\u001b[49m\u001b[43mpermutations\u001b[49m\u001b[43m[\u001b[49m\u001b[43mj\u001b[49m\u001b[43m]\u001b[49m\u001b[43m)\u001b[49m\u001b[43m:\u001b[49m\n\u001b[0;32m      9\u001b[0m \u001b[43m    \u001b[49m\u001b[43mflag\u001b[49m\u001b[43m \u001b[49m\u001b[38;5;241;43m=\u001b[39;49m\u001b[38;5;28;43;01mTrue\u001b[39;49;00m\n\u001b[0;32m     10\u001b[0m \u001b[43m    \u001b[49m\u001b[38;5;28;43;01mbreak\u001b[39;49;00m\n",
      "Cell \u001b[1;32mIn[30], line 4\u001b[0m, in \u001b[0;36mcompareRootSystems\u001b[1;34m(r1, r2)\u001b[0m\n\u001b[0;32m      2\u001b[0m words \u001b[38;5;241m=\u001b[39m \u001b[38;5;28mlist\u001b[39m(r1\u001b[38;5;241m.\u001b[39mweightToWordDictionary\u001b[38;5;241m.\u001b[39mvalues())\n\u001b[0;32m      3\u001b[0m \u001b[38;5;28;01mfor\u001b[39;00m i \u001b[38;5;129;01min\u001b[39;00m words:\n\u001b[1;32m----> 4\u001b[0m     \u001b[38;5;28;01mfor\u001b[39;00m j \u001b[38;5;129;01min\u001b[39;00m \u001b[38;5;28mrange\u001b[39m(\u001b[38;5;28mlen\u001b[39m(i)):\n\u001b[0;32m      5\u001b[0m         \u001b[38;5;28;01mif\u001b[39;00m(\u001b[38;5;28mstr\u001b[39m(i[j]) \u001b[38;5;241m!=\u001b[39m \u001b[38;5;28mstr\u001b[39m(r2\u001b[38;5;241m.\u001b[39mgetWords(i[j]\u001b[38;5;241m.\u001b[39mweights)[j])):\n\u001b[0;32m      6\u001b[0m             \u001b[38;5;28;01myield\u001b[39;00m (i[j]\u001b[38;5;241m.\u001b[39mweights,\u001b[38;5;28mstr\u001b[39m(i[j]),\u001b[38;5;28mstr\u001b[39m(r2\u001b[38;5;241m.\u001b[39mgetWords(i[j]\u001b[38;5;241m.\u001b[39mweights)[j]))\n",
      "\u001b[1;31mKeyboardInterrupt\u001b[0m: "
     ]
    }
   ],
   "source": [
    "for i in generate_equivalences(Eperms):\n",
    "    print(f\"{i[0]} = {i[1]}\")"
   ]
  },
  {
   "cell_type": "code",
   "execution_count": null,
   "metadata": {},
   "outputs": [
    {
     "data": {
      "application/vnd.jupyter.widget-view+json": {
       "model_id": "801c14fcbc3440d4be077c3eeac5676c",
       "version_major": 2,
       "version_minor": 0
      },
      "text/plain": [
       "  0%|          | 0/5040 [00:00<?, ?it/s]"
      ]
     },
     "metadata": {},
     "output_type": "display_data"
    },
    {
     "data": {
      "text/plain": [
       "(10, '2<0<1<4<6<5<3', array([1, 0, 1, 1, 1, 1, 0]))"
      ]
     },
     "execution_count": 19,
     "metadata": {},
     "output_type": "execute_result"
    }
   ],
   "source": [
    "get_max_periodicity(Eperms)"
   ]
  },
  {
   "cell_type": "markdown",
   "metadata": {},
   "source": [
    "## Type F"
   ]
  },
  {
   "cell_type": "code",
   "execution_count": 167,
   "metadata": {},
   "outputs": [],
   "source": [
    "Fperms = gen_permutations('F',4)"
   ]
  },
  {
   "cell_type": "code",
   "execution_count": 168,
   "metadata": {},
   "outputs": [
    {
     "data": {
      "application/vnd.jupyter.widget-view+json": {
       "model_id": "3c64095c167c454087d8a6a2862ab5c7",
       "version_major": 2,
       "version_minor": 0
      },
      "text/plain": [
       "  0%|          | 0/119 [00:00<?, ?it/s]"
      ]
     },
     "metadata": {},
     "output_type": "display_data"
    },
    {
     "data": {
      "text/plain": [
       "[]"
      ]
     },
     "execution_count": 168,
     "metadata": {},
     "output_type": "execute_result"
    }
   ],
   "source": [
    "check_standard_fac_same_parrallel(Fperms,k=3)"
   ]
  },
  {
   "cell_type": "code",
   "execution_count": null,
   "metadata": {},
   "outputs": [],
   "source": [
    "for i in check_periodicity_conj_perms(Fperms):\n",
    "    print(i)"
   ]
  },
  {
   "cell_type": "code",
   "execution_count": null,
   "metadata": {},
   "outputs": [],
   "source": [
    "for i in check_SL_word_algo_perms(Fperms,3,True):\n",
    "    print(i)"
   ]
  },
  {
   "cell_type": "code",
   "execution_count": null,
   "metadata": {},
   "outputs": [
    {
     "name": "stdout",
     "output_type": "stream",
     "text": [
      "('F', '1<0<2<3<4', 1, 'cofac', 'k3start')\n",
      "('F', '1<0<2<4<3', 1, 'cofac', 'k3start')\n",
      "('F', '1<0<3<2<4', 1, 'cofac', 'k3start')\n",
      "('F', '1<0<3<4<2', 1, 'cofac', 'k3start')\n",
      "('F', '1<0<4<2<3', 1, 'cofac', 'k3start')\n",
      "('F', '1<0<4<3<2', 1, 'cofac', 'k3start')\n",
      "('F', '1<2<0<3<4', 1, 'cofac', 'k3start')\n",
      "('F', '1<2<0<4<3', 1, 'cofac', 'k3start')\n",
      "('F', '1<2<3<0<4', 1, 'cofac', 'k3start')\n",
      "('F', '1<2<3<4<0', 1, 'cofac', 'k3start')\n",
      "('F', '1<2<4<0<3', 1, 'cofac', 'k3start')\n",
      "('F', '1<2<4<3<0', 1, 'cofac', 'k3start')\n",
      "('F', '1<3<0<2<4', 1, 'cofac', 'k3start')\n",
      "('F', '1<3<0<2<4', 3, 'k3start', 'k3start')\n",
      "('F', '1<3<0<4<2', 1, 'cofac', 'k3start')\n",
      "('F', '1<3<0<4<2', 4, 'k3start', 'k3start')\n",
      "('F', '1<3<2<0<4', 1, 'cofac', 'k3start')\n",
      "('F', '1<3<2<4<0', 1, 'cofac', 'k3start')\n",
      "('F', '1<3<4<0<2', 1, 'cofac', 'k3start')\n",
      "('F', '1<3<4<0<2', 4, 'k3start', 'k3start')\n",
      "('F', '1<3<4<2<0', 1, 'cofac', 'k3start')\n",
      "('F', '1<4<0<2<3', 1, 'cofac', 'k3start')\n",
      "('F', '1<4<0<3<2', 1, 'cofac', 'k3start')\n",
      "('F', '1<4<2<0<3', 1, 'cofac', 'k3start')\n",
      "('F', '1<4<2<3<0', 1, 'cofac', 'k3start')\n",
      "('F', '1<4<3<0<2', 1, 'cofac', 'k3start')\n",
      "('F', '1<4<3<0<2', 4, 'k3start', 'k3start')\n",
      "('F', '1<4<3<2<0', 1, 'cofac', 'k3start')\n",
      "('F', '2<0<1<3<4', 1, 'cofac', 'k3start')\n",
      "('F', '2<0<1<4<3', 1, 'cofac', 'k3start')\n",
      "('F', '2<0<1<4<3', 2, 'lastSmallest', 'cofac')\n"
     ]
    },
    {
     "ename": "IndexError",
     "evalue": "index 4 is out of bounds for axis 0 with size 4",
     "output_type": "error",
     "traceback": [
      "\u001b[1;31m---------------------------------------------------------------------------\u001b[0m",
      "\u001b[1;31mIndexError\u001b[0m                                Traceback (most recent call last)",
      "Cell \u001b[1;32mIn[100], line 1\u001b[0m\n\u001b[1;32m----> 1\u001b[0m \u001b[38;5;28;43;01mfor\u001b[39;49;00m\u001b[43m \u001b[49m\u001b[43mi\u001b[49m\u001b[43m \u001b[49m\u001b[38;5;129;43;01min\u001b[39;49;00m\u001b[43m \u001b[49m\u001b[43mcheck_delta_type_prediction_perms\u001b[49m\u001b[43m(\u001b[49m\u001b[43mFperms\u001b[49m\u001b[43m)\u001b[49m\u001b[43m:\u001b[49m\n\u001b[0;32m      2\u001b[0m \u001b[43m    \u001b[49m\u001b[38;5;28;43mprint\u001b[39;49m\u001b[43m(\u001b[49m\u001b[43mi\u001b[49m\u001b[43m)\u001b[49m\n",
      "File \u001b[1;32mc:\\Users\\Corbe\\Documents\\GitHub\\LyndonWords\\AnalysisFuncs.py:165\u001b[0m, in \u001b[0;36mcheck_delta_type_prediction_perms\u001b[1;34m(rootsystems, k)\u001b[0m\n\u001b[0;32m    163\u001b[0m rootsys:rootSystem\n\u001b[0;32m    164\u001b[0m \u001b[38;5;28;01mfor\u001b[39;00m rootsys \u001b[38;5;129;01min\u001b[39;00m rootsystems:\n\u001b[1;32m--> 165\u001b[0m \u001b[43m    \u001b[49m\u001b[38;5;28;43;01mfor\u001b[39;49;00m\u001b[43m \u001b[49m\u001b[43mi\u001b[49m\u001b[43m \u001b[49m\u001b[38;5;129;43;01min\u001b[39;49;00m\u001b[43m \u001b[49m\u001b[43mcheck_delta_type_prediction\u001b[49m\u001b[43m(\u001b[49m\u001b[43mrootsys\u001b[49m\u001b[43m,\u001b[49m\u001b[43mk\u001b[49m\u001b[43m)\u001b[49m\u001b[43m:\u001b[49m\n\u001b[0;32m    166\u001b[0m \u001b[43m        \u001b[49m\u001b[38;5;28;43;01myield\u001b[39;49;00m\u001b[43m \u001b[49m\u001b[43mi\u001b[49m\n",
      "File \u001b[1;32mc:\\Users\\Corbe\\Documents\\GitHub\\LyndonWords\\AnalysisFuncs.py:160\u001b[0m, in \u001b[0;36mcheck_delta_type_prediction\u001b[1;34m(rootsys, k)\u001b[0m\n\u001b[0;32m    157\u001b[0m     \u001b[38;5;28;01myield\u001b[39;00m (rootsys\u001b[38;5;241m.\u001b[39mtype, \u001b[38;5;28mstr\u001b[39m(rootsys\u001b[38;5;241m.\u001b[39mordering),i\u001b[38;5;241m+\u001b[39m\u001b[38;5;241m1\u001b[39m,result\u001b[38;5;241m.\u001b[39mdeltaTypes[i]\u001b[38;5;241m.\u001b[39mtype,\u001b[38;5;124m\"\u001b[39m\u001b[38;5;124mcofac\u001b[39m\u001b[38;5;124m\"\u001b[39m)\n\u001b[0;32m    158\u001b[0m \u001b[38;5;66;03m#if((result.deltaTypes[i].type == \"last\") != lastSplitDeltaTypeConditionsMet(rootsys,deltaWords,i)):\u001b[39;00m\n\u001b[0;32m    159\u001b[0m \u001b[38;5;66;03m#    exceptions.append((rootsys.type, str(rootsys.ordering),i+1,result.deltaTypes[i].type,\"last\"))\u001b[39;00m\n\u001b[1;32m--> 160\u001b[0m \u001b[38;5;28;01mif\u001b[39;00m((result\u001b[38;5;241m.\u001b[39mdeltaTypes[i]\u001b[38;5;241m.\u001b[39mtype \u001b[38;5;241m==\u001b[39m \u001b[38;5;124m\"\u001b[39m\u001b[38;5;124mk3start\u001b[39m\u001b[38;5;124m\"\u001b[39m) \u001b[38;5;241m!=\u001b[39m \u001b[43mk3_start_delta_type_conditions_met\u001b[49m\u001b[43m(\u001b[49m\u001b[43mrootsys\u001b[49m\u001b[43m,\u001b[49m\u001b[43mi\u001b[49m\u001b[43m)\u001b[49m):\n\u001b[0;32m    161\u001b[0m    \u001b[38;5;28;01myield\u001b[39;00m (rootsys\u001b[38;5;241m.\u001b[39mtype, \u001b[38;5;28mstr\u001b[39m(rootsys\u001b[38;5;241m.\u001b[39mordering),i\u001b[38;5;241m+\u001b[39m\u001b[38;5;241m1\u001b[39m,result\u001b[38;5;241m.\u001b[39mdeltaTypes[i]\u001b[38;5;241m.\u001b[39mtype,\u001b[38;5;124m\"\u001b[39m\u001b[38;5;124mk3start\u001b[39m\u001b[38;5;124m\"\u001b[39m)\n",
      "File \u001b[1;32mc:\\Users\\Corbe\\Documents\\GitHub\\LyndonWords\\AnalysisFuncs.py:149\u001b[0m, in \u001b[0;36mk3_start_delta_type_conditions_met\u001b[1;34m(rootsys, index)\u001b[0m\n\u001b[0;32m    147\u001b[0m leftfac,rightfac \u001b[38;5;241m=\u001b[39m rootsys\u001b[38;5;241m.\u001b[39mcostfac(SLi)\n\u001b[0;32m    148\u001b[0m \u001b[38;5;28;01mfor\u001b[39;00m i \u001b[38;5;129;01min\u001b[39;00m \u001b[38;5;28mrange\u001b[39m(\u001b[38;5;28mlen\u001b[39m(rightfac)\u001b[38;5;241m-\u001b[39m\u001b[38;5;241m1\u001b[39m):\n\u001b[1;32m--> 149\u001b[0m     \u001b[38;5;28;01mif\u001b[39;00m(\u001b[43mleftfac\u001b[49m\u001b[43m[\u001b[49m\u001b[43mi\u001b[49m\u001b[43m]\u001b[49m \u001b[38;5;241m!=\u001b[39m rightfac[i]):\n\u001b[0;32m    150\u001b[0m         \u001b[38;5;28;01mreturn\u001b[39;00m \u001b[38;5;28;01mFalse\u001b[39;00m\n\u001b[0;32m    151\u001b[0m \u001b[38;5;28;01mreturn\u001b[39;00m \u001b[38;5;28;01mTrue\u001b[39;00m\n",
      "File \u001b[1;32mc:\\Users\\Corbe\\Documents\\GitHub\\LyndonWords\\LyndonWords.py:45\u001b[0m, in \u001b[0;36mword.__getitem__\u001b[1;34m(self, i)\u001b[0m\n\u001b[0;32m     44\u001b[0m \u001b[38;5;28;01mdef\u001b[39;00m \u001b[38;5;21m__getitem__\u001b[39m(\u001b[38;5;28mself\u001b[39m,i):\n\u001b[1;32m---> 45\u001b[0m     \u001b[38;5;28;01mreturn\u001b[39;00m \u001b[38;5;28;43mself\u001b[39;49m\u001b[38;5;241;43m.\u001b[39;49m\u001b[43mstring\u001b[49m\u001b[43m[\u001b[49m\u001b[43mi\u001b[49m\u001b[43m]\u001b[49m\n",
      "\u001b[1;31mIndexError\u001b[0m: index 4 is out of bounds for axis 0 with size 4"
     ]
    }
   ],
   "source": [
    "for i in check_delta_type_prediction_perms(Fperms):\n",
    "    print(i)"
   ]
  },
  {
   "cell_type": "code",
   "execution_count": null,
   "metadata": {},
   "outputs": [
    {
     "data": {
      "application/vnd.jupyter.widget-view+json": {
       "model_id": "4e0236c6e9e3479fb63d2b97adcf6977",
       "version_major": 2,
       "version_minor": 0
      },
      "text/plain": [
       "  0%|          | 0/119 [00:00<?, ?it/s]"
      ]
     },
     "metadata": {},
     "output_type": "display_data"
    }
   ],
   "source": [
    "write_delta_types_to_file(Fperms,\"FDeltaTypes.csv\",notOnlyAllLast=False)"
   ]
  },
  {
   "cell_type": "code",
   "execution_count": null,
   "metadata": {},
   "outputs": [
    {
     "ename": "UnboundLocalError",
     "evalue": "cannot access local variable 'returnArr' where it is not associated with a value",
     "output_type": "error",
     "traceback": [
      "\u001b[1;31m---------------------------------------------------------------------------\u001b[0m",
      "\u001b[1;31mUnboundLocalError\u001b[0m                         Traceback (most recent call last)",
      "Cell \u001b[1;32mIn[22], line 1\u001b[0m\n\u001b[1;32m----> 1\u001b[0m \u001b[43mcheckMonotoneIncreasingImpCond\u001b[49m\u001b[43m(\u001b[49m\u001b[43mFperms\u001b[49m\u001b[43m)\u001b[49m\n",
      "Cell \u001b[1;32mIn[2], line 24\u001b[0m, in \u001b[0;36mcheckMonotoneIncreasingImpCond\u001b[1;34m(rootSystemPermutations)\u001b[0m\n\u001b[0;32m     22\u001b[0m             \u001b[38;5;28;01mcontinue\u001b[39;00m\n\u001b[0;32m     23\u001b[0m         returnArr\u001b[38;5;241m.\u001b[39mappend((\u001b[38;5;28mstr\u001b[39m(rootsys\u001b[38;5;241m.\u001b[39mordering),(i\u001b[38;5;241m.\u001b[39mweights \u001b[38;5;241m-\u001b[39m rootsys\u001b[38;5;241m.\u001b[39mdelta)))\n\u001b[1;32m---> 24\u001b[0m \u001b[38;5;28;01mreturn\u001b[39;00m \u001b[43mreturnArr\u001b[49m\n",
      "\u001b[1;31mUnboundLocalError\u001b[0m: cannot access local variable 'returnArr' where it is not associated with a value"
     ]
    }
   ],
   "source": [
    "check_monotone_increasing_imp_cond(Fperms)"
   ]
  },
  {
   "cell_type": "code",
   "execution_count": null,
   "metadata": {},
   "outputs": [],
   "source": [
    "check_cond_imp_monotone_increasing(Fperms)"
   ]
  },
  {
   "cell_type": "code",
   "execution_count": null,
   "metadata": {},
   "outputs": [],
   "source": [
    "for i in Fperms:\n",
    "   ex = i.checkConvexity()\n",
    "   if(len(ex) != 0):\n",
    "       print(\"Convexity doesn't hold\")"
   ]
  },
  {
   "cell_type": "code",
   "execution_count": null,
   "metadata": {},
   "outputs": [
    {
     "data": {
      "text/plain": [
       "[]"
      ]
     },
     "execution_count": 79,
     "metadata": {},
     "output_type": "execute_result"
    }
   ],
   "source": [
    "check_h_deltas_repeat(Fperms)"
   ]
  },
  {
   "cell_type": "code",
   "execution_count": null,
   "metadata": {},
   "outputs": [
    {
     "data": {
      "application/vnd.jupyter.widget-view+json": {
       "model_id": "97ef090e31cf410185c19fbc5ae77152",
       "version_major": 2,
       "version_minor": 0
      },
      "text/plain": [
       "  0%|          | 0/120 [00:00<?, ?it/s]"
      ]
     },
     "metadata": {},
     "output_type": "display_data"
    },
    {
     "data": {
      "text/plain": [
       "(9, '0<2<3<1<4', array([0, 2, 3, 4, 2]))"
      ]
     },
     "execution_count": 22,
     "metadata": {},
     "output_type": "execute_result"
    }
   ],
   "source": [
    "get_max_periodicity(Fperms,math.factorial(5))"
   ]
  },
  {
   "cell_type": "code",
   "execution_count": null,
   "metadata": {},
   "outputs": [
    {
     "name": "stdout",
     "output_type": "stream",
     "text": [
      "(12, '0<4<3<2<1<6<5<7', array([0, 1, 2, 3, 4, 3, 1, 2]))\n"
     ]
    }
   ],
   "source": [
    "E6 = rootSystem([0,4,3,2,1,6,5,7],'E')\n",
    "E6.generate_up_to_delta(25)\n",
    "print(get_max_periodicity([E6]))"
   ]
  },
  {
   "cell_type": "code",
   "execution_count": null,
   "metadata": {},
   "outputs": [],
   "source": [
    "for i in generate_equivalences(Fperms):\n",
    "    print(f\"{i[0]} = {i[1]}\")"
   ]
  }
 ],
 "metadata": {
  "kernelspec": {
   "display_name": "Python 3",
   "language": "python",
   "name": "python3"
  },
  "language_info": {
   "codemirror_mode": {
    "name": "ipython",
    "version": 3
   },
   "file_extension": ".py",
   "mimetype": "text/x-python",
   "name": "python",
   "nbconvert_exporter": "python",
   "pygments_lexer": "ipython3",
   "version": "3.11.0"
  }
 },
 "nbformat": 4,
 "nbformat_minor": 2
}
