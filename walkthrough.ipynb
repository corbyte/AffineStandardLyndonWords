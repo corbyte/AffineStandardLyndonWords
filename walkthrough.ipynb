{
 "cells": [
  {
   "cell_type": "markdown",
   "id": "d2595ded",
   "metadata": {},
   "source": [
    "# Walkthrough"
   ]
  },
  {
   "cell_type": "markdown",
   "id": "06158087",
   "metadata": {},
   "source": [
    "### Imports"
   ]
  },
  {
   "cell_type": "code",
   "execution_count": 75,
   "id": "794a318a",
   "metadata": {},
   "outputs": [],
   "source": [
    "from LyndonWords import *\n",
    "import numpy as np"
   ]
  },
  {
   "cell_type": "markdown",
   "id": "5b30a454",
   "metadata": {},
   "source": [
    "## Basics"
   ]
  },
  {
   "cell_type": "code",
   "execution_count": 76,
   "id": "34c33f80",
   "metadata": {},
   "outputs": [],
   "source": [
    "'''\n",
    "    Most things are done through the Rootsystem object \n",
    "    \n",
    "    initialization requires an ordering given as an iterable and a string signifying type\n",
    "    which is from A-G\n",
    "'''\n",
    "\n",
    "#This generates the rootSystem correspond to F_4^{(1)} with the ordering 1<0<2<3<4\n",
    "rootsys = rootSystem(np.array([1,0,2,3,4]),'F')"
   ]
  },
  {
   "cell_type": "code",
   "execution_count": 77,
   "id": "52bd793b",
   "metadata": {},
   "outputs": [
    {
     "name": "stdout",
     "output_type": "stream",
     "text": [
      "1\n",
      "0\n",
      "1<0<2<3<4\n",
      "True\n"
     ]
    }
   ],
   "source": [
    "'''\n",
    "    The other primary object you will encounter is the word object\n",
    "    \n",
    "    initialization of words is done through the rootSystem object \n",
    "'''\n",
    "\n",
    "#Gets the standard lyndon word associated with root \n",
    "# \\alpha_0 + \\alpha_1 + 2\\alpha_2 + 4\\alpha_3 + 2 \\alpha_4\n",
    "\n",
    "w = rootsys.SL([1, 1, 2, 4, 2])[0]\n",
    "\n",
    "'''\n",
    "    Additionally, one can compare words easily with the standard operators\n",
    "'''\n",
    "\n",
    "w1 = rootsys.SL([0,1,0,0,0])[0]\n",
    "w2 = rootsys.SL([1,0,0,0,0])[0]\n",
    "\n",
    "print(w1)\n",
    "print(w2)\n",
    "print(rootsys.ordering)\n",
    "print(w1 < w2)"
   ]
  },
  {
   "cell_type": "code",
   "execution_count": 78,
   "id": "edcf92b4",
   "metadata": {},
   "outputs": [
    {
     "name": "stdout",
     "output_type": "stream",
     "text": [
      "1234342330\n"
     ]
    }
   ],
   "source": [
    "'''\n",
    "    To print words, you will generally want to call \n",
    "    word.no_commas() to convert to a easier to read string\n",
    "'''\n",
    "\n",
    "print(w.no_commas())"
   ]
  },
  {
   "cell_type": "code",
   "execution_count": 79,
   "id": "9aa9702d",
   "metadata": {},
   "outputs": [
    {
     "name": "stdout",
     "output_type": "stream",
     "text": [
      "123430123432\n",
      "123431234320\n",
      "123401234323\n",
      "123320123434\n"
     ]
    }
   ],
   "source": [
    "'''\n",
    "Since there are multiple imaginary standard Lyndon words, rootSystem.SL() will always return a list\n",
    "'''\n",
    "\n",
    "#The following prints all imaginary words of height |\\delta| \n",
    "for i in rootsys.SL(rootsys.delta):\n",
    "    print(i.no_commas())"
   ]
  },
  {
   "cell_type": "code",
   "execution_count": 80,
   "id": "1fee3e89",
   "metadata": {},
   "outputs": [
    {
     "name": "stdout",
     "output_type": "stream",
     "text": [
      "[1 2 3 4 2]\n",
      "[[0 1 0 0 0]\n",
      " [0 0 1 0 0]\n",
      " [0 0 0 1 0]\n",
      " [0 0 0 0 1]\n",
      " [1 0 0 0 0]]\n"
     ]
    }
   ],
   "source": [
    "'''\n",
    "The rootSystem object will automatically initialize the appropriate \\delta\n",
    "This can be used to quickly find the standard Lyndon words associated with roots of large height\n",
    "'''\n",
    "\n",
    "print(rootsys.delta)\n",
    "\n",
    "#The following generates the standard Lyndon word associated with 10*\\delta + \\alpha_1\n",
    "rootsys.SL(rootsys.delta * 10 + [0,1,0,0,0])\n",
    "\n",
    "'''\n",
    "    In addition rootSystem.baseRoots is also automatically generated which is the set of\n",
    "    all roots of heights <= |\\delta|\n",
    "'''\n",
    "\n",
    "print(rootsys.baseRoots[:5])"
   ]
  },
  {
   "cell_type": "code",
   "execution_count": 81,
   "id": "b0cadbdb",
   "metadata": {},
   "outputs": [],
   "source": [
    "'''\n",
    "    Generation of standard Lyndon words is cached so as soon as a \n",
    "    given height is computed it can be accessed quickly.\n",
    "    \n",
    "    In addition there are several optimizations which take place when generating words,\n",
    "    making even E8 take only seconds to generate words of sufficient height\n",
    "'''\n",
    "\n",
    "#Creates E8 rootSystem with the given ordering\n",
    "E8 = rootSystem([2,4,8,7,0,1,6,5,3],'E')\n",
    "\n",
    "#Generates all words of height less than or equal to 5|\\delta|\n",
    "E8.generate_up_to_delta(5)"
   ]
  },
  {
   "cell_type": "code",
   "execution_count": 82,
   "id": "7ecb39b0",
   "metadata": {},
   "outputs": [
    {
     "name": "stdout",
     "output_type": "stream",
     "text": [
      "0\n",
      "1234301234320\n",
      "1234301234321234301234320\n",
      "1234301234321234301234321234301234320\n"
     ]
    }
   ],
   "source": [
    "'''\n",
    "    Chains are of particular interest, calling rootSystem.get_chain(root,min_delta=0)\n",
    "    will return the chain associated with that root for all words which have been generated,\n",
    "    if you would like there to be at least some number of words, specify that in min_delta\n",
    "'''\n",
    "\n",
    "for i in rootsys.get_chain([1,0,0,0,0],4)[:4]:\n",
    "    print(i.no_commas())"
   ]
  },
  {
   "cell_type": "code",
   "execution_count": 83,
   "id": "7ee1debf",
   "metadata": {},
   "outputs": [
    {
     "name": "stdout",
     "output_type": "stream",
     "text": [
      "['12343123432', [1, 4], '0']\n"
     ]
    }
   ],
   "source": [
    "'''\n",
    "    Additionally, covering words to 'delta format' can greatly ease readability \n",
    "    \n",
    "    The conversion is done greedily from left to right\n",
    "'''\n",
    "\n",
    "#Parses \\SL_2(5\\delta) into delta format \n",
    "parsed = rootsys.parse_to_delta_format(rootsys.SL(rootsys.delta*5)[1])\n",
    "\n",
    "#The quotes are read as expected, the block [i,j] is read as \\SL_i(\\delta) repeated j times\n",
    "print(parsed)"
   ]
  },
  {
   "cell_type": "code",
   "execution_count": 84,
   "id": "b4afbd4b",
   "metadata": {},
   "outputs": [
    {
     "name": "stdout",
     "output_type": "stream",
     "text": [
      "[[1, 2], '3', [1, 1], '123432', [1, 1], '0', [1, 1], '123432', [1, 2], '3', [1, 1], '123432', [1, 1], '0123434', [1, 1], '123432', [1, 1], '0']\n",
      "9\n"
     ]
    }
   ],
   "source": [
    "'''\n",
    "    Using this block format, we can find the periodicity of chains\n",
    "    \n",
    "    Be weary however, the periodicity function generates words until it is certain a chain\n",
    "    is of a given periodicity, so E7,E8 can take a while to run\n",
    "'''\n",
    "#Prints the delta form of the given root\n",
    "print(rootsys.parse_to_delta_format(rootsys.SL(rootsys.delta*13 + [1, 1, 3, 4, 2])[0]))\n",
    "\n",
    "#Prints the periodicity\n",
    "print(rootsys.periodicity([1, 1, 3, 4, 2]))"
   ]
  },
  {
   "cell_type": "code",
   "execution_count": 85,
   "id": "7624bdf3",
   "metadata": {},
   "outputs": [
    {
     "name": "stdout",
     "output_type": "stream",
     "text": [
      "[array([0, 1, 0, 0, 0]), array([0, 1, 1, 0, 0]), array([1, 1, 0, 0, 0])]\n",
      "[array([0, 0, 1, 0, 0]), array([0, 0, 0, 1, 0]), array([0, 0, 0, 0, 1])]\n"
     ]
    }
   ],
   "source": [
    "'''\n",
    "    Additionally, one can quickly get information related to monotonicity of a given chain\n",
    "    \n",
    "    -1 indicates decreasing\n",
    "    1 indicates increasing\n",
    "'''\n",
    "\n",
    "#returns monotonicity of chain(\\alpha_1)\n",
    "rootsys.get_monotonicity([0,1,0,0,0])\n",
    "\n",
    "'''\n",
    "    One can also get all increasing/decreasing chains \n",
    "'''\n",
    "\n",
    "#Prints monotone increasing chains\n",
    "print(rootsys.get_monotone_increasing()[:3])\n",
    "\n",
    "#Prints monotone decreasing chains\n",
    "print(rootsys.get_monotone_decreasing()[:3])"
   ]
  },
  {
   "cell_type": "code",
   "execution_count": 86,
   "id": "dcf767b3",
   "metadata": {},
   "outputs": [
    {
     "name": "stdout",
     "output_type": "stream",
     "text": [
      "4\n",
      "2\n"
     ]
    }
   ],
   "source": [
    "'''\n",
    "    m_k() and M_k() can also be computed by the rootSystem object\n",
    "    \n",
    "    The return will only be a single number since the flags are compatible, and is 1-indexed\n",
    "'''\n",
    "\n",
    "#Prints m_k\n",
    "print(rootsys.m_k([0,1,0,0,0]))\n",
    "\n",
    "#Prints M_k\n",
    "print(rootsys.M_k([0,1,0,0,0]))\n"
   ]
  },
  {
   "cell_type": "code",
   "execution_count": 87,
   "id": "f0a76905",
   "metadata": {},
   "outputs": [
    {
     "name": "stdout",
     "output_type": "stream",
     "text": [
      "['12340', '1234323']\n",
      "['12340123432', '3']\n"
     ]
    }
   ],
   "source": [
    "'''\n",
    "    Both costandard and standard factorization of words can be found via the rootSystem object\n",
    "'''\n",
    "\n",
    "#Prints costandard factorization \n",
    "print([i.no_commas() for i in rootsys.costfac(rootsys.SL(rootsys.delta)[2])])\n",
    "\n",
    "#Prints standard factorization\n",
    "print([i.no_commas() for i in rootsys.standfac(rootsys.SL(rootsys.delta)[2])])"
   ]
  },
  {
   "cell_type": "code",
   "execution_count": 88,
   "id": "2e01fb2e",
   "metadata": {},
   "outputs": [
    {
     "name": "stdout",
     "output_type": "stream",
     "text": [
      "(array([0, 1, 0, 0, 0]), array([1, 2, 3, 4, 2]))\n",
      "(array([0, 1, 1, 0, 0]), array([1, 2, 2, 4, 2]))\n",
      "(array([1, 1, 0, 0, 0]), array([0, 2, 3, 4, 2]))\n",
      "(array([0, 1, 1, 1, 0]), array([1, 2, 2, 3, 2]))\n",
      "(array([0, 1, 1, 1, 1]), array([1, 2, 2, 3, 1]))\n",
      "(array([0, 1, 1, 2, 0]), array([1, 2, 2, 2, 2]))\n",
      "(array([0, 1, 1, 2, 1]), array([1, 2, 2, 2, 1]))\n",
      "(array([0, 1, 1, 2, 2]), array([1, 2, 2, 2, 0]))\n",
      "(array([1, 2, 2, 2, 0]), array([0, 1, 1, 2, 2]))\n",
      "(array([1, 2, 2, 2, 1]), array([0, 1, 1, 2, 1]))\n",
      "(array([1, 2, 2, 3, 1]), array([0, 1, 1, 1, 1]))\n",
      "(array([1, 2, 2, 2, 2]), array([0, 1, 1, 2, 0]))\n",
      "(array([1, 2, 2, 3, 2]), array([0, 1, 1, 1, 0]))\n",
      "(array([0, 2, 3, 4, 2]), array([1, 1, 0, 0, 0]))\n",
      "(array([1, 2, 2, 4, 2]), array([0, 1, 1, 0, 0]))\n",
      "(array([1, 2, 3, 4, 2]), array([0, 1, 0, 0, 0]))\n"
     ]
    }
   ],
   "source": [
    "'''\n",
    "    Additionally one can find all \\beta, \\gamma such that \\beta + \\gamma = \\alpha\n",
    "'''\n",
    "\n",
    "#Prints all splittings of \\delta + \\alpha_1 into the sum of two roots\n",
    "print(*rootsys.get_decompositions(rootsys.delta + [0,1,0,0,0]),sep='\\n')"
   ]
  },
  {
   "cell_type": "code",
   "execution_count": 89,
   "id": "e1272c82",
   "metadata": {},
   "outputs": [
    {
     "name": "stdout",
     "output_type": "stream",
     "text": [
      "('123430', '123432')\n",
      "('12343', '1234320')\n",
      "('12343123432', '0')\n",
      "('12343123430', '2')\n",
      "('12340', '1234323')\n",
      "('1234012343', '23')\n",
      "('12340123432', '3')\n",
      "('1234', '12343230')\n",
      "('123412340', '233')\n",
      "('123320', '123434')\n",
      "('1233201234', '34')\n",
      "('12332012343', '4')\n",
      "('12332', '1234340')\n",
      "('12330', '1234342')\n",
      "('123301234', '234')\n",
      "('1233', '12343420')\n",
      "('1230', '12343423')\n",
      "('12301234', '2343')\n",
      "('123', '123434230')\n",
      "('1231230', '23434')\n",
      "('120', '123434233')\n",
      "('12', '1234342330')\n",
      "('10', '1234342332')\n",
      "('1', '12343423320')\n"
     ]
    }
   ],
   "source": [
    "'''\n",
    "    The last part of this is we can calculate the W set used in the paper, for imaginary heights\n",
    "'''\n",
    "\n",
    "#Prints the W set for \\delta\n",
    "print(*rootsys.text_W_set(1),sep='\\n')"
   ]
  },
  {
   "cell_type": "markdown",
   "id": "9b7446ab",
   "metadata": {},
   "source": [
    "This concludes the basics of the library"
   ]
  }
 ],
 "metadata": {
  "kernelspec": {
   "display_name": "Python 3",
   "language": "python",
   "name": "python3"
  },
  "language_info": {
   "codemirror_mode": {
    "name": "ipython",
    "version": 3
   },
   "file_extension": ".py",
   "mimetype": "text/x-python",
   "name": "python",
   "nbconvert_exporter": "python",
   "pygments_lexer": "ipython3",
   "version": "3.11.0"
  }
 },
 "nbformat": 4,
 "nbformat_minor": 5
}
